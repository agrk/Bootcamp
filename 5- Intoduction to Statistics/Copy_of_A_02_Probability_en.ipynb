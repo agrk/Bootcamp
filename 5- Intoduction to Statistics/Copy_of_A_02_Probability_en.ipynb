{
  "nbformat": 4,
  "nbformat_minor": 0,
  "metadata": {
    "kernelspec": {
      "display_name": "Python 3",
      "language": "python",
      "name": "python3"
    },
    "language_info": {
      "codemirror_mode": {
        "name": "ipython",
        "version": 3
      },
      "file_extension": ".py",
      "mimetype": "text/x-python",
      "name": "python",
      "nbconvert_exporter": "python",
      "pygments_lexer": "ipython3",
      "version": "3.8.7"
    },
    "colab": {
      "name": "Copy of A_02_Probability_en.ipynb",
      "provenance": []
    }
  },
  "cells": [
    {
      "cell_type": "markdown",
      "metadata": {
        "id": "LCkABGf-PNi6"
      },
      "source": [
        "It has been found that some of the computers sold by Company A are defective. Assuming that there are 3 computer-producing companies (A, B, and C), the amount of computer production of these companies and the probabilities of defective production are as follows:\n",
        "\n",
        "Total production percentage : <br>\n",
        "$P(A)=0.40$<br>\n",
        "$P(B)=0.40$ <br>\n",
        "$P(C)=0.20$<br>\n",
        "\n",
        "Possibility of defective production :<br>\n",
        "$P(D|A)=0.015$<br>\n",
        "$P(D|B)=0.020$<br>\n",
        "$P(D|C)=0.010$\n",
        "\n",
        "- What is the probability that a randomly selected defective computer will be produced by company B?"
      ]
    },
    {
      "cell_type": "code",
      "metadata": {
        "id": "rmTS2siaPNjI"
      },
      "source": [
        "𝑃𝐴=0.40 \n",
        "𝑃𝐵=0.40 \n",
        "𝑃𝐶=0.20 "
      ],
      "execution_count": null,
      "outputs": []
    },
    {
      "cell_type": "code",
      "metadata": {
        "id": "IgAd2KTnZrCa"
      },
      "source": [
        "PD_A=0.015\n",
        "PD_B=0.020\n",
        "PD_C=0.010"
      ],
      "execution_count": null,
      "outputs": []
    },
    {
      "cell_type": "code",
      "metadata": {
        "id": "Soc34sMMZt-Q"
      },
      "source": [
        "P_def = (PA * PD_A) + (PB * PD_B) + (PC * PD_C)"
      ],
      "execution_count": null,
      "outputs": []
    },
    {
      "cell_type": "code",
      "metadata": {
        "id": "sPNj1ZZkZvF4",
        "colab": {
          "base_uri": "https://localhost:8080/"
        },
        "outputId": "6494e3bb-3187-4ed5-fb76-ed9328751edb"
      },
      "source": [
        "PB_D = (PD_B * PB)/ (P_def)\n",
        "PB_D"
      ],
      "execution_count": null,
      "outputs": [
        {
          "output_type": "execute_result",
          "data": {
            "text/plain": [
              "0.5"
            ]
          },
          "metadata": {
            "tags": []
          },
          "execution_count": 4
        }
      ]
    },
    {
      "cell_type": "code",
      "metadata": {
        "id": "NSs7ZKzeZxL4"
      },
      "source": [
        ""
      ],
      "execution_count": null,
      "outputs": []
    }
  ]
}