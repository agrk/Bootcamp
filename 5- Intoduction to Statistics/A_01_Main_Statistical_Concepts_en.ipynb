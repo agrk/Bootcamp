{
 "cells": [
  {
   "cell_type": "markdown",
   "metadata": {
    "id": "28jDpHDKhnxQ"
   },
   "source": [
    "- Analyze the central tendency and distribution measurements with the mathematical formula given above and the built-in codes available in python through 3 different data that you will generate using the numpy library !!!"
   ]
  },
  {
   "cell_type": "code",
   "execution_count": 1,
   "metadata": {
    "id": "8seUIAGmhnxX"
   },
   "outputs": [],
   "source": [
    "# Import NumPy \n",
    "import pandas as pd\n",
    "import numpy as np\n",
    "\n",
    "df = pd.DataFrame()\n",
    "\n",
    "df['age'] = [28, 42, 27, 24, 35, 54, 35, 37]\n",
    "array_a = np. random.randint(100, size=50)\n",
    "rassal = np. random.randint(100, size=100)\n",
    "\n",
    "#random=np.append(np.random.normal(69, 8, 100), np.random.normal(64, 5, 100))\n",
    "#print(random)"
   ]
  },
  {
   "cell_type": "code",
   "execution_count": 2,
   "metadata": {},
   "outputs": [
    {
     "data": {
      "text/plain": [
       "array([99, 56, 26, 68, 58, 57, 39, 15, 12, 43, 17,  2, 84, 29, 61,  5, 46,\n",
       "       28, 13, 44, 58, 33, 78, 60, 28, 30, 36, 52, 49, 13, 49, 51, 26, 65,\n",
       "       64, 69, 94, 16, 91, 55, 20, 74, 93, 32, 10, 35, 94, 13, 46, 88])"
      ]
     },
     "execution_count": 2,
     "metadata": {},
     "output_type": "execute_result"
    }
   ],
   "source": [
    "array_a"
   ]
  },
  {
   "cell_type": "code",
   "execution_count": 3,
   "metadata": {},
   "outputs": [
    {
     "data": {
      "text/plain": [
       "array([70, 28, 55, 41, 63, 95, 44, 15, 69,  3, 41, 41, 76, 13, 44, 38, 70,\n",
       "       69, 19, 67, 58, 89, 15, 24, 67, 76,  2, 43, 18, 88, 46, 23, 34, 44,\n",
       "       30, 88, 92, 32, 23, 63, 57, 60, 63, 91, 79, 40, 91, 21, 43, 75, 40,\n",
       "       17, 58, 66, 63, 52, 39, 33, 91, 98,  3, 82, 63, 77, 14, 13,  1, 57,\n",
       "       14, 17, 80,  1, 82, 27, 64, 45, 90, 42, 39, 56, 74, 59, 57, 74, 92,\n",
       "       61, 45, 42, 87, 62, 63, 79, 97, 18, 66, 84,  9, 28, 21, 53])"
      ]
     },
     "execution_count": 3,
     "metadata": {},
     "output_type": "execute_result"
    }
   ],
   "source": [
    "rassal"
   ]
  },
  {
   "cell_type": "markdown",
   "metadata": {},
   "source": [
    "#### MEAN ####"
   ]
  },
  {
   "cell_type": "code",
   "execution_count": 4,
   "metadata": {},
   "outputs": [
    {
     "name": "stdout",
     "output_type": "stream",
     "text": [
      "35.25\n",
      "46.48\n",
      "51.31\n"
     ]
    }
   ],
   "source": [
    "### Built-in python\n",
    "print(sum(df['age']) / len(df['age']))\n",
    "print(sum(array_a) / len(array_a))\n",
    "print(sum(rassal) / len(rassal))"
   ]
  },
  {
   "cell_type": "code",
   "execution_count": 5,
   "metadata": {},
   "outputs": [
    {
     "name": "stdout",
     "output_type": "stream",
     "text": [
      "Mean (age)    : 35.25\n",
      "Mean (amount)    : 46.48\n",
      "Mean (rassal)    : 51.31\n"
     ]
    }
   ],
   "source": [
    "### numpy library \n",
    "print(\"Mean (age)    :\", np.mean(df['age']))\n",
    "print(\"Mean (amount)    :\", np.mean(array_a))\n",
    "print(\"Mean (rassal)    :\", np.mean(rassal))"
   ]
  },
  {
   "cell_type": "markdown",
   "metadata": {},
   "source": [
    "#### MEDIAN ####"
   ]
  },
  {
   "cell_type": "code",
   "execution_count": 6,
   "metadata": {},
   "outputs": [
    {
     "name": "stdout",
     "output_type": "stream",
     "text": [
      "Median (age)    : 35.0\n",
      "Median (amount)    : 46.0\n",
      "Median (rassal)    : 55.5\n"
     ]
    }
   ],
   "source": [
    "import statistics\n",
    "\n",
    "print(\"Median (age)    :\", statistics.median(df['age']))\n",
    "print(\"Median (amount)    :\", statistics.median(array_a))\n",
    "print(\"Median (rassal)    :\", statistics.median(rassal))\n",
    "\n"
   ]
  },
  {
   "cell_type": "code",
   "execution_count": 7,
   "metadata": {},
   "outputs": [],
   "source": [
    "def median(data):\n",
    "    n = len(data)\n",
    "    if n < 1:\n",
    "            return None\n",
    "    if n % 2 == 1:\n",
    "            return sorted(data)[n//2]\n",
    "    else:\n",
    "            return sum(sorted(data)[n//2-1:n//2+1])/2.0"
   ]
  },
  {
   "cell_type": "code",
   "execution_count": 8,
   "metadata": {},
   "outputs": [
    {
     "name": "stdout",
     "output_type": "stream",
     "text": [
      "35.0\n",
      "46.0\n",
      "55.5\n"
     ]
    }
   ],
   "source": [
    "print(median(df['age']))\n",
    "print(median(array_a))\n",
    "print(median(rassal))"
   ]
  },
  {
   "cell_type": "code",
   "execution_count": 9,
   "metadata": {},
   "outputs": [
    {
     "name": "stdout",
     "output_type": "stream",
     "text": [
      "Median (age)    : 35.0\n",
      "Median (amount)    : 46.0\n",
      "Median (grade)    : 55.5\n"
     ]
    }
   ],
   "source": [
    "# or with numpy\n",
    "\n",
    "print(\"Median (age)    :\", np.median(df['age']))\n",
    "print(\"Median (amount)    :\", np.median(array_a))\n",
    "print(\"Median (grade)    :\", np.median(rassal))"
   ]
  },
  {
   "cell_type": "markdown",
   "metadata": {},
   "source": [
    "#### MODE ####"
   ]
  },
  {
   "cell_type": "code",
   "execution_count": 10,
   "metadata": {},
   "outputs": [
    {
     "name": "stdout",
     "output_type": "stream",
     "text": [
      "35\n",
      "13\n",
      "63\n"
     ]
    }
   ],
   "source": [
    "print(statistics.mode(df['age']))\n",
    "print(statistics.mode(array_a))\n",
    "print(statistics.mode(rassal))"
   ]
  },
  {
   "cell_type": "code",
   "execution_count": 11,
   "metadata": {},
   "outputs": [
    {
     "name": "stdout",
     "output_type": "stream",
     "text": [
      "Mode :  35\n"
     ]
    }
   ],
   "source": [
    "# Finding the most repeated data point in dataset\n",
    "(values, counts) = np.unique(df['age'], return_counts=True)\n",
    "# List the most repeated one\n",
    "ind = np.argmax(counts)\n",
    "# The most frequent element.\n",
    "print(\"Mode : \", values[ind])"
   ]
  },
  {
   "cell_type": "code",
   "execution_count": 12,
   "metadata": {},
   "outputs": [
    {
     "name": "stdout",
     "output_type": "stream",
     "text": [
      "Mode :  13\n"
     ]
    }
   ],
   "source": [
    "# Finding the most repeated data point in dataset\n",
    "(values, counts)= np.unique(array_a, return_counts=True)\n",
    "# List the most repeated one\n",
    "ind = np.argmax(counts)\n",
    "# The most frequent element.\n",
    "print(\"Mode : \", values[ind])"
   ]
  },
  {
   "cell_type": "code",
   "execution_count": 13,
   "metadata": {},
   "outputs": [
    {
     "name": "stdout",
     "output_type": "stream",
     "text": [
      "Mode :  63\n"
     ]
    }
   ],
   "source": [
    "# Finding the most repeated data point in dataset\n",
    "(values, counts) = np.unique(rassal, return_counts=True)\n",
    "# List the most repeated one\n",
    "ind = np.argmax(counts)\n",
    "# The most frequent element.\n",
    "print(\"Mode : \", values[ind])"
   ]
  },
  {
   "cell_type": "code",
   "execution_count": null,
   "metadata": {},
   "outputs": [],
   "source": []
  },
  {
   "cell_type": "markdown",
   "metadata": {},
   "source": [
    "#### VARIANCE #### "
   ]
  },
  {
   "cell_type": "code",
   "execution_count": 14,
   "metadata": {},
   "outputs": [
    {
     "name": "stdout",
     "output_type": "stream",
     "text": [
      "92.5\n",
      "92.5\n",
      "--------------------\n",
      "710.1730612244899\n",
      "695.9696\n",
      "--------------------\n",
      "712.7211111111112\n",
      "705.5939000000002\n"
     ]
    }
   ],
   "source": [
    "# Calculating the varince via NumPy and Pandas \n",
    "\n",
    "print(np.var(df['age'], ddof=1))\n",
    "print(df['age'].var())\n",
    "\n",
    "print('--'*10)\n",
    "\n",
    "print(np.var(array_a, ddof=1))\n",
    "print(array_a.var())\n",
    "\n",
    "print('--'*10)\n",
    "\n",
    "print(np.var(rassal, ddof=1))\n",
    "print(rassal.var())"
   ]
  },
  {
   "cell_type": "code",
   "execution_count": 15,
   "metadata": {},
   "outputs": [
    {
     "name": "stdout",
     "output_type": "stream",
     "text": [
      "12043.96875\n",
      "1457.8456000000006\n",
      "705.5939000000003\n"
     ]
    }
   ],
   "source": [
    "print(sum((rassal-np.mean(df['age']))**2) / (len(df['age'])))\n",
    "\n",
    "print(sum((rassal-np.mean(array_a))**2) / (len(array_a)))\n",
    "\n",
    "print(sum((rassal-np.mean(rassal))**2) / (len(rassal)))"
   ]
  },
  {
   "cell_type": "code",
   "execution_count": null,
   "metadata": {},
   "outputs": [],
   "source": []
  },
  {
   "cell_type": "code",
   "execution_count": null,
   "metadata": {},
   "outputs": [],
   "source": []
  },
  {
   "cell_type": "markdown",
   "metadata": {},
   "source": [
    "#### STANDART DEVIATION ####"
   ]
  },
  {
   "cell_type": "code",
   "execution_count": 16,
   "metadata": {},
   "outputs": [
    {
     "name": "stdout",
     "output_type": "stream",
     "text": [
      "9.617692030835672\n",
      "26.649072427093778\n",
      "26.696837099385224\n"
     ]
    }
   ],
   "source": [
    "print(np.std(df['age'], ddof =1))\n",
    "print(np.std(array_a, ddof =1))\n",
    "print(np.std(rassal, ddof =1))"
   ]
  },
  {
   "cell_type": "code",
   "execution_count": 17,
   "metadata": {},
   "outputs": [
    {
     "name": "stdout",
     "output_type": "stream",
     "text": [
      "9.617692030835672\n",
      "26.38123575574124\n",
      "26.563017524370235\n"
     ]
    }
   ],
   "source": [
    "print(df['age'].std())\n",
    "print(array_a.std())\n",
    "print(rassal.std())"
   ]
  },
  {
   "cell_type": "markdown",
   "metadata": {},
   "source": [
    "#### STANDART ERROR ####"
   ]
  },
  {
   "cell_type": "code",
   "execution_count": 18,
   "metadata": {},
   "outputs": [
    {
     "name": "stdout",
     "output_type": "stream",
     "text": [
      "3.4003676271838605\n",
      "3.730870139793129\n",
      "2.6563017524370234\n"
     ]
    }
   ],
   "source": [
    "print(df['age'].std() / np.sqrt(len(df['age'])))\n",
    "print(np.std(array_a) / np.sqrt(len(array_a)))\n",
    "print(np.std(rassal) / np.sqrt(len(rassal)))"
   ]
  },
  {
   "cell_type": "code",
   "execution_count": null,
   "metadata": {},
   "outputs": [],
   "source": []
  }
 ],
 "metadata": {
  "colab": {
   "name": "A_01_Main_Statistical_Concepts_en.ipynb",
   "provenance": []
  },
  "kernelspec": {
   "display_name": "Python 3",
   "language": "python",
   "name": "python3"
  },
  "language_info": {
   "codemirror_mode": {
    "name": "ipython",
    "version": 3
   },
   "file_extension": ".py",
   "mimetype": "text/x-python",
   "name": "python",
   "nbconvert_exporter": "python",
   "pygments_lexer": "ipython3",
   "version": "3.8.3"
  }
 },
 "nbformat": 4,
 "nbformat_minor": 4
}
