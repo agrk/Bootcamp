{
  "nbformat": 4,
  "nbformat_minor": 0,
  "metadata": {
    "kernelspec": {
      "display_name": "Python 3",
      "language": "python",
      "name": "python3"
    },
    "language_info": {
      "codemirror_mode": {
        "name": "ipython",
        "version": 3
      },
      "file_extension": ".py",
      "mimetype": "text/x-python",
      "name": "python",
      "nbconvert_exporter": "python",
      "pygments_lexer": "ipython3",
      "version": "3.8.7"
    },
    "colab": {
      "name": "Copy of A_04_Population_Sampling_RelatedTheorem_en.ipynb",
      "provenance": []
    }
  },
  "cells": [
    {
      "cell_type": "markdown",
      "metadata": {
        "id": "w9cZ1v-Edqfs"
      },
      "source": [
        "**(1)** In this assignment, you test whether the central limit theorem works. You generate 1000 variables with two normal distributions. You can determine the mean and standard deviation of these variables yourself. All you have to do is generate the first variable 50 times and averaged it each time. Generate the second variable 1000 times and averages this variable each time. Then plot the histogram of the averages of the two variables. Which of the variables has a mean distribution closer to the normal distribution? Do you think the Central Limit Theorem seems to have worked?"
      ]
    },
    {
      "cell_type": "code",
      "metadata": {
        "id": "nCsI16Xndqfz"
      },
      "source": [
        "import numpy as np\n",
        "import matplotlib.pyplot as plt\n",
        "import warnings\n",
        "warnings.filterwarnings('ignore')\n",
        "\n",
        "%matplotlib inline"
      ],
      "execution_count": null,
      "outputs": []
    },
    {
      "cell_type": "code",
      "metadata": {
        "id": "FzG11GG7e1mJ"
      },
      "source": [
        "var1= np.random.normal(10, 0.2, 10000)  \n",
        "var2= np.random.normal(10, 0.2, 10000) \n"
      ],
      "execution_count": null,
      "outputs": []
    },
    {
      "cell_type": "code",
      "metadata": {
        "colab": {
          "base_uri": "https://localhost:8080/"
        },
        "id": "8SNfNJ76e5-Q",
        "outputId": "205bc550-32f9-4010-fde3-fd1679667131"
      },
      "source": [
        "print('Mean for var1: {}'.format(var1.mean()))\n",
        "print('Mean for var2: {}'.format(var2.mean()))"
      ],
      "execution_count": null,
      "outputs": [
        {
          "output_type": "stream",
          "text": [
            "Mean for var1: 10.003100768616433\n",
            "Mean for var2: 9.997416622992272\n"
          ],
          "name": "stdout"
        }
      ]
    },
    {
      "cell_type": "code",
      "metadata": {
        "colab": {
          "base_uri": "https://localhost:8080/"
        },
        "id": "Ca1Qs2qDe71Z",
        "outputId": "d5fde81f-426b-4891-b54d-aa93e0cc7aeb"
      },
      "source": [
        "print('Standard deviation for var1: {}'.format(var1.std()))\n",
        "print('Standard deviationfor var2: {}'.format(var2.std()))"
      ],
      "execution_count": null,
      "outputs": [
        {
          "output_type": "stream",
          "text": [
            "Standard deviation for var1: 0.20081363058299068\n",
            "Standard deviationfor var2: 0.19682242008395048\n"
          ],
          "name": "stdout"
        }
      ]
    },
    {
      "cell_type": "code",
      "metadata": {
        "id": "4JCTcxPqe90J"
      },
      "source": [
        "var1 = []\n",
        "var2 = []\n",
        "\n",
        "for i in range(50):\n",
        "  data = np.random.normal(10, 0.2, 1000)\n",
        "  var1.append(np.mean(data))\n",
        "\n",
        "for i in range(1000):\n",
        "  data = np.random.normal(10, 0.2, 1000)\n",
        "  var2.append(np.mean(data))"
      ],
      "execution_count": null,
      "outputs": []
    },
    {
      "cell_type": "code",
      "metadata": {
        "colab": {
          "base_uri": "https://localhost:8080/",
          "height": 483
        },
        "id": "4fDz5VKue_rh",
        "outputId": "ecbd9bd2-1c6f-4abf-b5d5-4daf070e4bde"
      },
      "source": [
        "plt.figure(figsize=(15, 8))\n",
        "plt.hist(var1, alpha=0.5, label='Average of Variable 1', density=True, bins=50) \n",
        "\n",
        "plt.hist(var2, alpha=0.5, label='Average of Variable 2', density = True, bins=50) \n",
        "plt.legend(loc='upper right') \n",
        "plt.show()"
      ],
      "execution_count": null,
      "outputs": [
        {
          "output_type": "display_data",
          "data": {
            "image/png": "[encoded data removed]",
            "text/plain": [
              "<Figure size 1080x576 with 1 Axes>"
            ]
          },
          "metadata": {
            "tags": [],
            "needs_background": "light"
          }
        }
      ]
    },
    {
      "cell_type": "code",
      "metadata": {
        "id": "O-l9oghxfC3x"
      },
      "source": [
        ""
      ],
      "execution_count": null,
      "outputs": []
    },
    {
      "cell_type": "markdown",
      "metadata": {
        "id": "yvbrrsd2fP3q"
      },
      "source": [
        "Histogramı incelediğimiz zaman örneklem sayısı fazla olan '*variable 2*' verisinin, '*variable 1*' verisine göre normal dağılıma daha çok benzediğini söyleyebiliriz.**Bu nedenle de örneklem sayısı arttıkça verinin normal dağılıma daha çok yaklaştığını söyleyebiliriz.** Sonuç olarak evet merkezi limit teoreminin işe yaradığını söyleyebiliriz."
      ]
    },
    {
      "cell_type": "code",
      "metadata": {
        "id": "LuRNClCnfYDR"
      },
      "source": [
        ""
      ],
      "execution_count": null,
      "outputs": []
    }
  ]
}