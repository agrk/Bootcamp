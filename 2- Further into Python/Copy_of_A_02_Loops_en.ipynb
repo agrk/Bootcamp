{
  "nbformat": 4,
  "nbformat_minor": 0,
  "metadata": {
    "kernelspec": {
      "display_name": "Python 3",
      "language": "python",
      "name": "python3"
    },
    "language_info": {
      "codemirror_mode": {
        "name": "ipython",
        "version": 3
      },
      "file_extension": ".py",
      "mimetype": "text/x-python",
      "name": "python",
      "nbconvert_exporter": "python",
      "pygments_lexer": "ipython3",
      "version": "3.8.2"
    },
    "colab": {
      "name": "Copy of A_02_Loops_en.ipynb",
      "provenance": [],
      "collapsed_sections": []
    }
  },
  "cells": [
    {
      "cell_type": "markdown",
      "metadata": {
        "id": "t4-I9ALrikUn"
      },
      "source": [
        "**(1)** Please form a multiplication table from user input.\n",
        "\n",
        "    Example :\n",
        "\n",
        "        Enter a number : 6\n",
        "        6 x 1 = 6                                                               \n",
        "        6 x 2 = 12                                                              \n",
        "        6 x 3 = 18                                                              \n",
        "        6 x 4 = 24                                                              \n",
        "        6 x 5 = 30                                                              \n",
        "        6 x 6 = 36                                                              \n",
        "        6 x 7 = 42                                                              \n",
        "        6 x 8 = 48                                                              \n",
        "        6 x 9 = 54                                                              \n",
        "        6 x 10 = 60 "
      ]
    },
    {
      "cell_type": "code",
      "metadata": {
        "id": "Z0sAI8XnikUw",
        "colab": {
          "base_uri": "https://localhost:8080/"
        },
        "outputId": "54822e08-3eeb-43b3-f67e-53a4c6a35943"
      },
      "source": [
        "num = int(input(\"Enter the number: \"))\n",
        "for i in range(1, 11):\n",
        "   print(num, 'x', i, '=', num*i)"
      ],
      "execution_count": null,
      "outputs": [
        {
          "output_type": "stream",
          "text": [
            "Enter the number: 6\n",
            "6 x 1 = 6\n",
            "6 x 2 = 12\n",
            "6 x 3 = 18\n",
            "6 x 4 = 24\n",
            "6 x 5 = 30\n",
            "6 x 6 = 36\n",
            "6 x 7 = 42\n",
            "6 x 8 = 48\n",
            "6 x 9 = 54\n",
            "6 x 10 = 60\n"
          ],
          "name": "stdout"
        }
      ]
    },
    {
      "cell_type": "markdown",
      "metadata": {
        "id": "MTr41tojikUx"
      },
      "source": [
        "**(2)** Simply by using list compherension, form a list by taking square of odds numbers and by calculating cube of even numbers from 1 to 20."
      ]
    },
    {
      "cell_type": "code",
      "metadata": {
        "colab": {
          "base_uri": "https://localhost:8080/"
        },
        "id": "j_Fx4XUp5tAY",
        "outputId": "5d515c1f-4ada-410c-c24b-b39ad093be91"
      },
      "source": [
        "numbers = [x**3 if x % 2 == 0 else x**2 for x in range(1,21)]\n",
        "print(numbers)"
      ],
      "execution_count": null,
      "outputs": [
        {
          "output_type": "stream",
          "text": [
            "[1, 8, 9, 64, 25, 216, 49, 512, 81, 1000, 121, 1728, 169, 2744, 225, 4096, 289, 5832, 361, 8000]\n"
          ],
          "name": "stdout"
        }
      ]
    },
    {
      "cell_type": "code",
      "metadata": {
        "id": "yvgfxYQ0ikUx",
        "colab": {
          "base_uri": "https://localhost:8080/"
        },
        "outputId": "3ee0c95f-5c5a-4cb2-ee8c-005ecb54ff7c"
      },
      "source": [
        "even_numbers = [x**3 for x in range(1,21) if x%2 == 0] \n",
        "odd_numbers = [x**2 for x in range(1,21) if x%2 != 0]\n",
        "print(even_numbers)\n",
        "print(odd_numbers)"
      ],
      "execution_count": null,
      "outputs": [
        {
          "output_type": "stream",
          "text": [
            "[8, 64, 216, 512, 1000, 1728, 2744, 4096, 5832, 8000]\n",
            "[1, 9, 25, 49, 81, 121, 169, 225, 289, 361]\n"
          ],
          "name": "stdout"
        }
      ]
    },
    {
      "cell_type": "markdown",
      "metadata": {
        "id": "vhOA3UT-ikUy"
      },
      "source": [
        "**(3)** Please type a code that inverts the initial user input.\n",
        "\n",
        "    Example : \"automobile\" --> \"elibomotua\""
      ]
    },
    {
      "cell_type": "code",
      "metadata": {
        "id": "ESIZT6exikUy",
        "colab": {
          "base_uri": "https://localhost:8080/"
        },
        "outputId": "cfc0102f-adcf-425f-f768-968386de5c8c"
      },
      "source": [
        "word = input(\"Enter the word: \")\n",
        "print(word,\"-->\",word[::-1])"
      ],
      "execution_count": null,
      "outputs": [
        {
          "output_type": "stream",
          "text": [
            "Enter the word: automobile\n",
            "automobile --> elibomotua\n"
          ],
          "name": "stdout"
        }
      ]
    },
    {
      "cell_type": "markdown",
      "metadata": {
        "id": "rFLC17bGikUz"
      },
      "source": [
        "**(4)** Using `range(1, 201)`, make two lists. One is containing all even numbers and the other containing all odd numbers."
      ]
    },
    {
      "cell_type": "code",
      "metadata": {
        "id": "VUbkaCzuikUz",
        "colab": {
          "base_uri": "https://localhost:8080/"
        },
        "outputId": "df7ae7d6-eacd-490a-d9f5-25e7e94b8a31"
      },
      "source": [
        "even_numbers = []\n",
        "odd_numbers = []\n",
        "\n",
        "for i in range(1,201):\n",
        "    if i % 2 == 0:\n",
        "        even_numbers.append(i)\n",
        "    else:\n",
        "        odd_numbers.append(i)\n",
        "\n",
        "print(even_numbers)\n",
        "print(odd_numbers)"
      ],
      "execution_count": null,
      "outputs": [
        {
          "output_type": "stream",
          "text": [
            "[2, 4, 6, 8, 10, 12, 14, 16, 18, 20, 22, 24, 26, 28, 30, 32, 34, 36, 38, 40, 42, 44, 46, 48, 50, 52, 54, 56, 58, 60, 62, 64, 66, 68, 70, 72, 74, 76, 78, 80, 82, 84, 86, 88, 90, 92, 94, 96, 98, 100, 102, 104, 106, 108, 110, 112, 114, 116, 118, 120, 122, 124, 126, 128, 130, 132, 134, 136, 138, 140, 142, 144, 146, 148, 150, 152, 154, 156, 158, 160, 162, 164, 166, 168, 170, 172, 174, 176, 178, 180, 182, 184, 186, 188, 190, 192, 194, 196, 198, 200]\n",
            "[1, 3, 5, 7, 9, 11, 13, 15, 17, 19, 21, 23, 25, 27, 29, 31, 33, 35, 37, 39, 41, 43, 45, 47, 49, 51, 53, 55, 57, 59, 61, 63, 65, 67, 69, 71, 73, 75, 77, 79, 81, 83, 85, 87, 89, 91, 93, 95, 97, 99, 101, 103, 105, 107, 109, 111, 113, 115, 117, 119, 121, 123, 125, 127, 129, 131, 133, 135, 137, 139, 141, 143, 145, 147, 149, 151, 153, 155, 157, 159, 161, 163, 165, 167, 169, 171, 173, 175, 177, 179, 181, 183, 185, 187, 189, 191, 193, 195, 197, 199]\n"
          ],
          "name": "stdout"
        }
      ]
    },
    {
      "cell_type": "markdown",
      "metadata": {
        "id": "bEpTuigBikUz"
      },
      "source": [
        "**(5)** Define a function called `count` that has two arguments called `sequence` and `item`. Return the number of times the item occurs in the list.<br>\n",
        "\n",
        "    Example:\n",
        "    ```python\n",
        "    count([1,2,1,1], 1)\n",
        "    ```\n",
        "    It should return 3. Because `1` appears 3 times in the list."
      ]
    },
    {
      "cell_type": "code",
      "metadata": {
        "id": "lpuLi6vvikU0",
        "colab": {
          "base_uri": "https://localhost:8080/"
        },
        "outputId": "7ded147e-7a6b-40f3-b748-a4079c33d857"
      },
      "source": [
        "def count(sequence, item):\n",
        "    cnt = 0\n",
        "    for i in sequence:\n",
        "        if i == item:\n",
        "            cnt += 1\n",
        "    print(\"It should return {}. Because '{}' appears {} times in the list\".format(cnt,item,cnt))\n",
        "\n",
        "count([1,2,1,1],1)\n"
      ],
      "execution_count": null,
      "outputs": [
        {
          "output_type": "stream",
          "text": [
            "It should return 3. Because '1' appears 3 times in the list\n"
          ],
          "name": "stdout"
        }
      ]
    },
    {
      "cell_type": "markdown",
      "metadata": {
        "id": "dy5zDkyuikU0"
      },
      "source": [
        "**(6)** Write a function called `digit_sum` that takes a positive integer n as input and returns the sum of all that number's digits as a single-digit number.\n",
        "\n",
        "    Example:\n",
        "        27684 --> 2 + 7 + 6 + 8 + 4 = 27 --> 2 + 7 = 9"
      ]
    },
    {
      "cell_type": "code",
      "metadata": {
        "id": "_rlYkK7eikU0",
        "colab": {
          "base_uri": "https://localhost:8080/"
        },
        "outputId": "1141ccea-e141-4ebb-a20e-dfaa0aac33e8"
      },
      "source": [
        "def digit_sum(n):  \n",
        "     \n",
        "    sum = 0\n",
        "    for digit in str(n):   \n",
        "      sum += int(digit)        \n",
        "    return sum\n",
        "    \n",
        "number = int(input(\"Enter the number: \"))\n",
        "\n",
        "first = digit_sum(number)\n",
        "second = digit_sum(digit_sum(number))\n",
        "print(number,\"-->\",first,\"-->\",second)"
      ],
      "execution_count": null,
      "outputs": [
        {
          "output_type": "stream",
          "text": [
            "Enter the number: 27684\n",
            "27684 --> 27 --> 9\n"
          ],
          "name": "stdout"
        }
      ]
    },
    {
      "cell_type": "markdown",
      "metadata": {
        "id": "-eFIkl1LikU1"
      },
      "source": [
        "**(7)** Write a program to find greatest common divisor (GCD) or highest common factor (HCF) of given two numbers."
      ]
    },
    {
      "cell_type": "code",
      "metadata": {
        "id": "mScW4vpxikU1",
        "colab": {
          "base_uri": "https://localhost:8080/"
        },
        "outputId": "1129b3cd-14c9-434d-b0b0-b0db58a4cdc1"
      },
      "source": [
        "def gcd(num1, num2):\n",
        "\n",
        "# choose the smaller number\n",
        "    if num1 > num2:\n",
        "        smaller = num2\n",
        "    else:\n",
        "        smaller = num1\n",
        "    for i in range(1, smaller+1):\n",
        "        if((num1 % i == 0) and (num2 % i == 0)):\n",
        "            gcd = i \n",
        "    return gcd\n",
        "\n",
        "number1 = 60 \n",
        "number2 = 48\n",
        "print(\"HCF or GCD of %d and %d is: %d\" %(number1, number2, gcd(number1, number2)))"
      ],
      "execution_count": null,
      "outputs": [
        {
          "output_type": "stream",
          "text": [
            "HCF or GCD of 60 and 48 is: 12\n"
          ],
          "name": "stdout"
        }
      ]
    },
    {
      "cell_type": "markdown",
      "metadata": {
        "id": "GYCp3nkxikU1"
      },
      "source": [
        "**(8)** Write a Python program that iterates integers from 1 to 50. For multiples of three print `fizz` instead of the number and for the multiples of five print `buzz`. For numbers which are multiples of both three and five print `fizzbuzz`."
      ]
    },
    {
      "cell_type": "code",
      "metadata": {
        "id": "FN0cOgsHikU2",
        "colab": {
          "base_uri": "https://localhost:8080/"
        },
        "outputId": "1ce354ee-da59-4086-f0fa-28e6cffa5458"
      },
      "source": [
        "for fizzbuzz in range(51):\n",
        "    if fizzbuzz % 3 == 0 and fizzbuzz % 5 == 0:\n",
        "        print(\"fizzbuzz\")\n",
        "        continue\n",
        "    elif fizzbuzz % 3 == 0:\n",
        "        print(\"fizz\")\n",
        "        continue\n",
        "    elif fizzbuzz % 5 == 0:\n",
        "        print(\"buzz\")\n",
        "        continue\n",
        "    print(fizzbuzz)"
      ],
      "execution_count": null,
      "outputs": [
        {
          "output_type": "stream",
          "text": [
            "fizzbuzz\n",
            "1\n",
            "2\n",
            "fizz\n",
            "4\n",
            "buzz\n",
            "fizz\n",
            "7\n",
            "8\n",
            "fizz\n",
            "buzz\n",
            "11\n",
            "fizz\n",
            "13\n",
            "14\n",
            "fizzbuzz\n",
            "16\n",
            "17\n",
            "fizz\n",
            "19\n",
            "buzz\n",
            "fizz\n",
            "22\n",
            "23\n",
            "fizz\n",
            "buzz\n",
            "26\n",
            "fizz\n",
            "28\n",
            "29\n",
            "fizzbuzz\n",
            "31\n",
            "32\n",
            "fizz\n",
            "34\n",
            "buzz\n",
            "fizz\n",
            "37\n",
            "38\n",
            "fizz\n",
            "buzz\n",
            "41\n",
            "fizz\n",
            "43\n",
            "44\n",
            "fizzbuzz\n",
            "46\n",
            "47\n",
            "fizz\n",
            "49\n",
            "buzz\n"
          ],
          "name": "stdout"
        }
      ]
    },
    {
      "cell_type": "markdown",
      "metadata": {
        "id": "FvnPr4nLikU2"
      },
      "source": [
        "**(9)** Please form a list out of Fibonacci numbers from 1 to 50. The first two Fibonacci numbers are 1. The next numbers are the sum of the previous two."
      ]
    },
    {
      "cell_type": "code",
      "metadata": {
        "id": "KFcZdICpikU2",
        "colab": {
          "base_uri": "https://localhost:8080/"
        },
        "outputId": "52e63554-3db4-40a3-92b4-ee4ddde04fce"
      },
      "source": [
        "def fib(n):\n",
        " a, b = 0, 1\n",
        " while b < n:\n",
        "  fl.append(b)\n",
        "  a, b = b, a+b\n",
        "\n",
        "fl=[]\n",
        "#last=int(input(\"Last number to list: \"))\n",
        "fib(50)\n",
        "print(fl)"
      ],
      "execution_count": null,
      "outputs": [
        {
          "output_type": "stream",
          "text": [
            "[1, 1, 2, 3, 5, 8, 13, 21, 34]\n"
          ],
          "name": "stdout"
        }
      ]
    },
    {
      "cell_type": "code",
      "metadata": {
        "colab": {
          "base_uri": "https://localhost:8080/"
        },
        "id": "dvSSrNXrd4oE",
        "outputId": "b123a961-bdc7-425a-a365-5ce621ac7a0e"
      },
      "source": [
        "def Fibonacci(Number):\n",
        "  if(Number == 0):\n",
        "    return 0\n",
        "  elif(Number == 1):\n",
        "    return 1\n",
        "  else:\n",
        "    return (Fibonacci(Number - 2) + Fibonacci(Number - 1))\n",
        "\n",
        "n = int(input(\"Enter the value of 'n': \"))\n",
        "fib=[]\n",
        "print(\"Fibonacci Series:\", end = ' ')\n",
        "for n in range(1, n):\n",
        "  fib.append(Fibonacci(n))\n",
        "\n",
        "print(fib)\n"
      ],
      "execution_count": null,
      "outputs": [
        {
          "output_type": "stream",
          "text": [
            "Enter the value of 'n': 30\n",
            "Fibonacci Series: [1, 1, 2, 3, 5, 8, 13, 21, 34, 55, 89, 144, 233, 377, 610, 987, 1597, 2584, 4181, 6765, 10946, 17711, 28657, 46368, 75025, 121393, 196418, 317811, 514229]\n"
          ],
          "name": "stdout"
        }
      ]
    },
    {
      "cell_type": "code",
      "metadata": {
        "id": "FMr59o2fpgy9"
      },
      "source": [
        ""
      ],
      "execution_count": null,
      "outputs": []
    }
  ]
}