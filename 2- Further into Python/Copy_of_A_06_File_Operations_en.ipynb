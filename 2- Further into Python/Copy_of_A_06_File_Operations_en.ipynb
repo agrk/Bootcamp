{
  "nbformat": 4,
  "nbformat_minor": 0,
  "metadata": {
    "kernelspec": {
      "display_name": "Python 3",
      "language": "python",
      "name": "python3"
    },
    "language_info": {
      "codemirror_mode": {
        "name": "ipython",
        "version": 3
      },
      "file_extension": ".py",
      "mimetype": "text/x-python",
      "name": "python",
      "nbconvert_exporter": "python",
      "pygments_lexer": "ipython3",
      "version": "3.8.2"
    },
    "colab": {
      "name": "Copy of A_06_File_Operations_en.ipynb",
      "provenance": []
    }
  },
  "cells": [
    {
      "cell_type": "markdown",
      "metadata": {
        "id": "uQWf9LWKtopz"
      },
      "source": [
        "**(1)** Please write a poem you wanted in a `.txt` file and save it to the disk."
      ]
    },
    {
      "cell_type": "code",
      "metadata": {
        "id": "8hbHFGqVtop8",
        "colab": {
          "base_uri": "https://localhost:8080/"
        },
        "outputId": "46ec834b-4414-418e-bf81-2cfcae6796f9"
      },
      "source": [
        "with open(\"poem.txt\",'w') as pm: \n",
        "    pm.write(\"\"\"Bakmaya kıyamazken gözlerine \n",
        "    Tutmaya cesaret edemezken ellerini.\n",
        "    Ve bütün cümlelerin sustuğu o yerde\n",
        "    Sessiz bir haykırıştı yüreğim\n",
        "    Eşsiz bir mutluluktu yaşadığım\n",
        "    Sen benim adını koyamadığımdın\n",
        "    Senin adın kavuşmak olsun. 1\\n\"\"\")\n",
        "    \n",
        "with open(\"poem.txt\", \"r\") as pm:\n",
        "    lines=pm.read()\n",
        "    \n",
        "print (lines)"
      ],
      "execution_count": null,
      "outputs": [
        {
          "output_type": "stream",
          "text": [
            "Bakmaya kıyamazken gözlerine \n",
            "    Tutmaya cesaret edemezken ellerini.\n",
            "    Ve bütün cümlelerin sustuğu o yerde\n",
            "    Sessiz bir haykırıştı yüreğim\n",
            "    Eşsiz bir mutluluktu yaşadığım\n",
            "    Sen benim adını koyamadığımdın\n",
            "    Senin adın kavuşmak olsun. 1\n",
            "\n"
          ],
          "name": "stdout"
        }
      ]
    },
    {
      "cell_type": "markdown",
      "metadata": {
        "id": "aVsGuz1Ptop9"
      },
      "source": [
        "**(2)** Append a new poem into the file you have created."
      ]
    },
    {
      "cell_type": "code",
      "metadata": {
        "id": "Rs3XBf76top-",
        "colab": {
          "base_uri": "https://localhost:8080/"
        },
        "outputId": "c9e56cd6-50bc-4bc9-f1cc-e20897c8f27b"
      },
      "source": [
        "with open(\"poem.txt\",'a') as pm: \n",
        "    pm.write(\"\"\"\\nNew Poem\\n\\nDağ çiçeğim yaban gülüm asi sevdam.\n",
        "Saçının bir teline bir ömür adadığım\n",
        "Gözündeki bir damla yaşına şehirleri yaktığım\n",
        "İsyanım feryadım kavuşulmazım\n",
        "Sen vazgeçemeyeceğim yasaklım\n",
        "Sen adını koyamadığım\n",
        "Senin adın kavuşmak olsun.\\n\"\"\")\n",
        "\n",
        "with open(\"poem.txt\", \"r\") as pm:\n",
        "    lines=pm.read()\n",
        "\n",
        "print (lines)"
      ],
      "execution_count": null,
      "outputs": [
        {
          "output_type": "stream",
          "text": [
            "Bakmaya kıyamazken gözlerine \n",
            "    Tutmaya cesaret edemezken ellerini.\n",
            "    Ve bütün cümlelerin sustuğu o yerde\n",
            "    Sessiz bir haykırıştı yüreğim\n",
            "    Eşsiz bir mutluluktu yaşadığım\n",
            "    Sen benim adını koyamadığımdın\n",
            "    Senin adın kavuşmak olsun. 1\n",
            "\n",
            "New Poem\n",
            "\n",
            "Dağ çiçeğim yaban gülüm asi sevdam.\n",
            "Saçının bir teline bir ömür adadığım\n",
            "Gözündeki bir damla yaşına şehirleri yaktığım\n",
            "İsyanım feryadım kavuşulmazım\n",
            "Sen vazgeçemeyeceğim yasaklım\n",
            "Sen adını koyamadığım\n",
            "Senin adın kavuşmak olsun.\n",
            "\n"
          ],
          "name": "stdout"
        }
      ]
    },
    {
      "cell_type": "markdown",
      "metadata": {
        "id": "IgTaa2d6top-"
      },
      "source": [
        "**(3)** Read and print all poems."
      ]
    },
    {
      "cell_type": "code",
      "metadata": {
        "id": "t3OOzWcctop_",
        "colab": {
          "base_uri": "https://localhost:8080/"
        },
        "outputId": "70b07bdb-53e9-4d1a-b4a8-ffd351d27c1c"
      },
      "source": [
        "with open(\"poem.txt\", \"r\") as pm:\n",
        "    lines=pm.read()\n",
        "print (lines)"
      ],
      "execution_count": null,
      "outputs": [
        {
          "output_type": "stream",
          "text": [
            "Bakmaya kıyamazken gözlerine \n",
            "    Tutmaya cesaret edemezken ellerini.\n",
            "    Ve bütün cümlelerin sustuğu o yerde\n",
            "    Sessiz bir haykırıştı yüreğim\n",
            "    Eşsiz bir mutluluktu yaşadığım\n",
            "    Sen benim adını koyamadığımdın\n",
            "    Senin adın kavuşmak olsun. 1\n",
            "\n",
            "New Poem\n",
            "\n",
            "Dağ çiçeğim yaban gülüm asi sevdam.\n",
            "Saçının bir teline bir ömür adadığım\n",
            "Gözündeki bir damla yaşına şehirleri yaktığım\n",
            "İsyanım feryadım kavuşulmazım\n",
            "Sen vazgeçemeyeceğim yasaklım\n",
            "Sen adını koyamadığım\n",
            "Senin adın kavuşmak olsun.\n",
            "\n"
          ],
          "name": "stdout"
        }
      ]
    },
    {
      "cell_type": "code",
      "metadata": {
        "id": "5_Vicin6v3XM"
      },
      "source": [
        ""
      ],
      "execution_count": null,
      "outputs": []
    }
  ]
}