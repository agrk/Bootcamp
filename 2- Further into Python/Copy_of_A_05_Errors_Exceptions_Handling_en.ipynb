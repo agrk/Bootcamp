{
  "nbformat": 4,
  "nbformat_minor": 0,
  "metadata": {
    "kernelspec": {
      "display_name": "Python 3",
      "language": "python",
      "name": "python3"
    },
    "language_info": {
      "codemirror_mode": {
        "name": "ipython",
        "version": 3
      },
      "file_extension": ".py",
      "mimetype": "text/x-python",
      "name": "python",
      "nbconvert_exporter": "python",
      "pygments_lexer": "ipython3",
      "version": "3.8.2"
    },
    "colab": {
      "name": "Copy of A_05_Errors_Exceptions_Handling_en.ipynb",
      "provenance": [],
      "collapsed_sections": []
    }
  },
  "cells": [
    {
      "cell_type": "markdown",
      "metadata": {
        "id": "dINLrc117vR2"
      },
      "source": [
        "**(1)** Let us define a division operation inside a function (using `def`) but to get an error, define the denominator as 0. So, type properly except statement."
      ]
    },
    {
      "cell_type": "code",
      "metadata": {
        "id": "h_wcL7777vSF",
        "colab": {
          "base_uri": "https://localhost:8080/"
        },
        "outputId": "499e0155-0095-4cc3-cc9b-fccca6fcc722"
      },
      "source": [
        "def division_error(x,y):\n",
        "  try:\n",
        "    z = x / y\n",
        "    return z\n",
        "  except ZeroDivisionError:\n",
        "    z = 0\n",
        "    return \"ZeroDivisionError occured\"\n",
        "\n",
        "print(division_error(2,0))"
      ],
      "execution_count": null,
      "outputs": [
        {
          "output_type": "stream",
          "text": [
            "ZeroDivisionError occured\n"
          ],
          "name": "stdout"
        }
      ]
    },
    {
      "cell_type": "markdown",
      "metadata": {
        "id": "l5fyij737vSH"
      },
      "source": [
        "**(2)** It is possible to get multiple errors after the execution of one try block. So, please define an error-exception issue with `NameError`."
      ]
    },
    {
      "cell_type": "code",
      "metadata": {
        "id": "oK1MNGAY7vSI",
        "colab": {
          "base_uri": "https://localhost:8080/"
        },
        "outputId": "84cecc49-eaad-4651-8146-b2aad605866f"
      },
      "source": [
        "def error_exception(): \n",
        "    try: \n",
        "        name = \"AsileGerek\"\n",
        "        return AsileGerek\n",
        "    except NameError: \n",
        "        return \"NameError occured.\"\n",
        "  \n",
        "print(error_exception())"
      ],
      "execution_count": null,
      "outputs": [
        {
          "output_type": "stream",
          "text": [
            "NameError occured.\n"
          ],
          "name": "stdout"
        }
      ]
    },
    {
      "cell_type": "markdown",
      "metadata": {
        "id": "K1TIGt2S7vSJ"
      },
      "source": [
        "**(3)** Please define a function and with this function, generate a `ValueError` exception simply by entering a string instead of numerical value."
      ]
    },
    {
      "cell_type": "code",
      "metadata": {
        "id": "xi6Z1HU07vSK",
        "colab": {
          "base_uri": "https://localhost:8080/"
        },
        "outputId": "76cc1bef-a6e5-4a91-f2ce-dd2752af251c"
      },
      "source": [
        "def value_exception():\n",
        "  while True:\n",
        "     try:\n",
        "         x = int(input(\"Please enter a number: \"))\n",
        "         break\n",
        "     except ValueError:\n",
        "         print(\"Oops!  That was no valid number.  Try again...\")\n",
        "\n",
        "value_exception()"
      ],
      "execution_count": null,
      "outputs": [
        {
          "output_type": "stream",
          "text": [
            "Please enter a number: asile\n",
            "Oops!  That was no valid number.  Try again...\n",
            "Please enter a number: 25\n"
          ],
          "name": "stdout"
        }
      ]
    },
    {
      "cell_type": "code",
      "metadata": {
        "id": "X2pti5MutSFH"
      },
      "source": [
        ""
      ],
      "execution_count": null,
      "outputs": []
    }
  ]
}