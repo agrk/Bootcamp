{
  "nbformat": 4,
  "nbformat_minor": 0,
  "metadata": {
    "kernelspec": {
      "display_name": "Python 3",
      "language": "python",
      "name": "python3"
    },
    "language_info": {
      "codemirror_mode": {
        "name": "ipython",
        "version": 3
      },
      "file_extension": ".py",
      "mimetype": "text/x-python",
      "name": "python",
      "nbconvert_exporter": "python",
      "pygments_lexer": "ipython3",
      "version": "3.8.2"
    },
    "colab": {
      "name": "Copy of A_01_ConditionalStatements_en.ipynb",
      "provenance": []
    }
  },
  "cells": [
    {
      "cell_type": "markdown",
      "metadata": {
        "id": "HyfZXtkgiaPK"
      },
      "source": [
        "**(1)** Please get Celcius or Fahrenheit degrees from users and type a code to convert these heat units to each other.  \n",
        "    \n",
        "    For conversion, please use this formula: C = (5/9) * (F - 32)\n",
        "    \n",
        "        Example : \"40C\" --> \"104F\"\n",
        "                  \"52F\" --> \"11.1C\""
      ]
    },
    {
      "cell_type": "code",
      "metadata": {
        "id": "ZWaBu5LCiaPd",
        "colab": {
          "base_uri": "https://localhost:8080/"
        },
        "outputId": "4e01e4a3-ed40-4f9a-dd35-d3f8a55fd4e4"
      },
      "source": [
        "temper = input(\" Enter the temperature to convert( like 40C, 52F): \")\n",
        "deg = int(temper[:-1])\n",
        "#print(deg)\n",
        "var = temper[-1]\n",
        "#print(var)\n",
        "\n",
        "if var.upper() == \"C\" :\n",
        "  sum = float((9 * deg) / 5 +32)\n",
        "  sum=str(sum)\n",
        "  print(temper + \"-->\"+sum +\"F\")\n",
        "elif var.upper() == \"F\":\n",
        "  sum = int((5/9)*(deg-32))\n",
        "  sum=str(sum)\n",
        "  print(temper + \"-->\"+sum+\"C\")\n",
        "else:\n",
        "  print(\"invalid variable\")\n"
      ],
      "execution_count": null,
      "outputs": [
        {
          "output_type": "stream",
          "text": [
            " Enter the temperature to convert( like 40C, 52F): 40C\n",
            "40C-->104.0F\n"
          ],
          "name": "stdout"
        }
      ]
    },
    {
      "cell_type": "markdown",
      "metadata": {
        "id": "vsBEF6e7iaPf"
      },
      "source": [
        "**(2)** A company decided to give a bonus of 5% to the employees if his/her year of service is more than 5 years.\n",
        "Ask the user for their salary and year of service and print the net bonus amount."
      ]
    },
    {
      "cell_type": "code",
      "metadata": {
        "id": "kpHdo09ciaPg",
        "colab": {
          "base_uri": "https://localhost:8080/"
        },
        "outputId": "5d887eaf-e5b0-49a2-f373-e3d4acfed9e2"
      },
      "source": [
        "u_salary = int(input(\"Enter the salary: \"))\n",
        "u_year = int(input(\"Enter the year: \"))\n",
        "if u_year > 5:\n",
        "  b_amount = (u_salary * 5) / 100\n",
        "  print(b_amount)\n",
        "else:\n",
        "  print(\"Your year less than 5!!\")"
      ],
      "execution_count": null,
      "outputs": [
        {
          "output_type": "stream",
          "text": [
            "Enter the salary: 1500\n",
            "Enter the year: 2\n",
            "Your year less than 5!!\n"
          ],
          "name": "stdout"
        }
      ]
    },
    {
      "cell_type": "markdown",
      "metadata": {
        "id": "wiBXImZjiaPh"
      },
      "source": [
        "**(3)** Take input of ages of 3 people by the user and determine the oldest and youngest among them."
      ]
    },
    {
      "cell_type": "code",
      "metadata": {
        "id": "8BR_p6aSiaPh",
        "colab": {
          "base_uri": "https://localhost:8080/"
        },
        "outputId": "c40a7d05-3cc5-455d-a6d9-5451694b193c"
      },
      "source": [
        "\n",
        "#people= int(input(\"Enter your people number: \"))\n",
        "age_list=[]\n",
        "for i in range(0,3):\n",
        "  age= int(input(\"Enter the age {}: \" .format(i+1)))\n",
        "  age_list.append(age)\n",
        "\n",
        "age_list.sort()\n",
        "\n",
        "oldest= age_list[-1]\n",
        "youngest = age_list[0]\n",
        "\n",
        "print(\"The oldest age: \",oldest)\n",
        "print(\"The youngest age: \",youngest)\n"
      ],
      "execution_count": null,
      "outputs": [
        {
          "output_type": "stream",
          "text": [
            "Enter the age 1: 16\n",
            "Enter the age 2: 58\n",
            "Enter the age 3: 47\n",
            "The oldest age:  58\n",
            "The youngest age:  16\n"
          ],
          "name": "stdout"
        }
      ]
    },
    {
      "cell_type": "markdown",
      "metadata": {
        "id": "6Jx4Vj7xiaPi"
      },
      "source": [
        "**(4)** A student will not be allowed to attend to the exam if his / her attendance to classes is less than 75%. Take followings input from the user:\n",
        "- Number of classes held,\n",
        "- Number of classes attended.\n",
        "   \n",
        "    Then, print the percentage of classes attended and whether the student is allowed to attend in an exam or not."
      ]
    },
    {
      "cell_type": "code",
      "metadata": {
        "id": "KqvpGDdLiaPj",
        "colab": {
          "base_uri": "https://localhost:8080/"
        },
        "outputId": "ac0d9dd9-60c6-4c1e-c7ed-449e8f7ca0c4"
      },
      "source": [
        "lesson = int(input(\"Number of classes held: \"))\n",
        "entered = int(input(\"Number of classes attended: \"))\n",
        "\n",
        "percentage = int((entered / lesson)*100)\n",
        "if percentage >= 75:\n",
        "  print(\"The student is allowed to attend in an exam\")\n",
        "else:\n",
        "  print(\"the student is not allowed to attend in an exam\")\n",
        "\n",
        "print(percentage,\"%\")"
      ],
      "execution_count": null,
      "outputs": [
        {
          "output_type": "stream",
          "text": [
            "Number of classes held: 5\n",
            "Number of classes attended: 2\n",
            "the student is not allowed to attend in an exam\n",
            "40 %\n"
          ],
          "name": "stdout"
        }
      ]
    },
    {
      "cell_type": "markdown",
      "metadata": {
        "id": "SkgDhAyIiaPj"
      },
      "source": [
        "**(5)** In this exercise, you will create a program that reads a letter of the alphabet from the user. According to the answer:\n",
        "\n",
        "- If the user enters `a, e, i, o, u`, then your program should display a message indicating that the entered letter is a vowel.\n",
        "- If the user enters `y`, then your program should display a message indicating that y is sometimes a vowel and sometimes a consonant.\n",
        "- Otherwise, your program should display a message indicating that the letter is a consonant."
      ]
    },
    {
      "cell_type": "code",
      "metadata": {
        "id": "YQbleCgTiaPk",
        "colab": {
          "base_uri": "https://localhost:8080/"
        },
        "outputId": "f67cd8bb-27e2-4a9e-9be0-2cc5df833980"
      },
      "source": [
        "letter = input(\"Enter letter: \")\n",
        "if (letter == \"a\" or letter == \"e\" or letter == \"i\" or letter == \"o\" or letter == \"u\" ):\n",
        "  print(\"Entered letter is a vowel\")\n",
        "elif letter==\"y\":\n",
        "  print(\"y is sometimes a vowel and sometimes a consonant\")\n",
        "else:\n",
        "  print(\"The letter is a consonant\")\n"
      ],
      "execution_count": null,
      "outputs": [
        {
          "output_type": "stream",
          "text": [
            "Enter letter: i\n",
            "Entered letter is a vowel\n"
          ],
          "name": "stdout"
        }
      ]
    },
    {
      "cell_type": "code",
      "metadata": {
        "id": "pV7Bl2sWrpnP"
      },
      "source": [
        ""
      ],
      "execution_count": null,
      "outputs": []
    }
  ]
}