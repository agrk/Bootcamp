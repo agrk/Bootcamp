{
  "nbformat": 4,
  "nbformat_minor": 0,
  "metadata": {
    "kernelspec": {
      "display_name": "Python 3",
      "language": "python",
      "name": "python3"
    },
    "language_info": {
      "codemirror_mode": {
        "name": "ipython",
        "version": 3
      },
      "file_extension": ".py",
      "mimetype": "text/x-python",
      "name": "python",
      "nbconvert_exporter": "python",
      "pygments_lexer": "ipython3",
      "version": "3.8.2"
    },
    "colab": {
      "name": "Copy of A_03_Functions_en.ipynb",
      "provenance": [],
      "collapsed_sections": []
    }
  },
  "cells": [
    {
      "cell_type": "markdown",
      "metadata": {
        "id": "8RoG-qzm4rcr"
      },
      "source": [
        "**(1)** A prime number is an integer greater than one that is only divisible by one and itself. Write a function that determines whether or not its parameter is prime, returns `True` if it is and `False` otherwise. Write a main program that reads an integer from the user and displays a message indicating whether or not it is prime. Ensure that the main program does not run if the file containing your solution is imported into another program."
      ]
    },
    {
      "cell_type": "code",
      "metadata": {
        "id": "YuksUFpt4rcw",
        "colab": {
          "base_uri": "https://localhost:8080/"
        },
        "outputId": "ee4eda84-a4c5-4282-fc9e-ead841dc7046"
      },
      "source": [
        "def is_prime(number):\n",
        "  if(number==2):\n",
        "      return True  \n",
        "  for i in range(2,number):\n",
        "    if(number%i==0):\n",
        "      return False\n",
        "    else:\n",
        "      return True\n",
        "def main():\n",
        "  sayi = int(input(\"Enter a Number: \"))\n",
        "  print(is_prime(sayi))\n",
        "\n",
        "main()"
      ],
      "execution_count": null,
      "outputs": [
        {
          "output_type": "stream",
          "text": [
            "Enter a Number: 23\n",
            "True\n"
          ],
          "name": "stdout"
        }
      ]
    },
    {
      "cell_type": "markdown",
      "metadata": {
        "id": "a_TYR4Vp4rcx"
      },
      "source": [
        "**(2)** Please write a function that passes each element of a list only once to a new list. We usually do this with the `set()` command, but let us not use this command this time.\n",
        "\n",
        "    Example:\n",
        "    \n",
        "        unique_list([1,2,2,3,3,4,4]) = [1,2,3,4]"
      ]
    },
    {
      "cell_type": "code",
      "metadata": {
        "id": "ig1EfV8R4rcx",
        "colab": {
          "base_uri": "https://localhost:8080/"
        },
        "outputId": "cd72b8f4-c236-460f-be78-b6b0dd7e030c"
      },
      "source": [
        "unique_list = [1,2,2,3,3,4,4]\n",
        "yeni_liste =[]\n",
        "for i in unique_list:\n",
        "  if i not in yeni_liste:\n",
        "    yeni_liste.append(i)\n",
        "  \n",
        "print(\"unique_list([1,2,2,3,3,4,4]) = \",yeni_liste)\n",
        "  "
      ],
      "execution_count": null,
      "outputs": [
        {
          "output_type": "stream",
          "text": [
            "unique_list([1,2,2,3,3,4,4]) =  [1, 2, 3, 4]\n"
          ],
          "name": "stdout"
        }
      ]
    },
    {
      "cell_type": "markdown",
      "metadata": {
        "id": "XSVJPubw4rcx"
      },
      "source": [
        "**(3)** There are many built-in modules in Python. By importing one of the modules on time, write a function that takes the date of birth as a parameter and returns the age."
      ]
    },
    {
      "cell_type": "code",
      "metadata": {
        "id": "t8B68mKf4rcy",
        "colab": {
          "base_uri": "https://localhost:8080/"
        },
        "outputId": "7984c8b7-d382-41fc-d149-d7714a559f4d"
      },
      "source": [
        "from datetime import date \n",
        "years=int(input(\"Enter the Birth Year: \"))\n",
        "months=int(input(\"Enter the Birth Month: \"))  \n",
        "days=int(input(\"Enter the Birth Day: \"))    \n",
        "def calculate(birthD): \n",
        "    today = date.today() \n",
        "    age = today.year - birthD.year - ((today.month, today.day) < (birthD.month, birthD.day)) \n",
        "  \n",
        "    return age  \n",
        "print(calculate(date(years, months, days)), \"years\") "
      ],
      "execution_count": null,
      "outputs": [
        {
          "output_type": "stream",
          "text": [
            "Enter the Birth Year: 1998\n",
            "Enter the Birth Month: 4\n",
            "Enter the Birth Day: 27\n",
            "22 years\n"
          ],
          "name": "stdout"
        }
      ]
    },
    {
      "cell_type": "markdown",
      "metadata": {
        "id": "xUweL0WO4rcy"
      },
      "source": [
        "**(4)** Get a number from the user and calculate the factorial of it by using a function."
      ]
    },
    {
      "cell_type": "code",
      "metadata": {
        "id": "96a2rEBe4rcy",
        "colab": {
          "base_uri": "https://localhost:8080/"
        },
        "outputId": "ade16775-5ebe-4bd2-80f9-7d37747bb228"
      },
      "source": [
        "number = int(input(\"Enter a Number: \"))\n",
        "\n",
        "def factorial(number):\n",
        "  if number==0:\n",
        "    return 1\n",
        "  else:\n",
        "    return number * factorial(number-1)\n",
        "\n",
        "print(factorial(number))"
      ],
      "execution_count": null,
      "outputs": [
        {
          "output_type": "stream",
          "text": [
            "Enter a Number: 5\n",
            "120\n"
          ],
          "name": "stdout"
        }
      ]
    },
    {
      "cell_type": "markdown",
      "metadata": {
        "id": "pq2kGBLk4rcy"
      },
      "source": [
        "**(5)** Write a function named `perfect()` that determines if the parameter number is a perfect number. Use this function in a program that determines and prints all the perfect numbers between 1 and 1000.\n",
        "\n",
        "    An integer number is said to be a `perfect number` if its factors (including 1, but not the number itself) sum to the number. \n",
        "\n",
        "        E.g.: 6 is a perfect number because 6 = 1 + 2 + 3."
      ]
    },
    {
      "cell_type": "code",
      "metadata": {
        "id": "q6p-xIB84rcz",
        "colab": {
          "base_uri": "https://localhost:8080/"
        },
        "outputId": "b095d3ac-a32b-4a83-b6d2-26a0d1bcf7af"
      },
      "source": [
        "top = int(input(\"enter top: \"))\n",
        "i = 1\n",
        "while i <= top:\n",
        "    sum = 0\n",
        "    div = 1\n",
        "    while div < i:\n",
        "        if not i % div:\n",
        "            sum += div\n",
        "        div = div + 1\n",
        "    if sum == i:\n",
        "        print(i, \"is a perfect number\")\n",
        "    i = i + 1"
      ],
      "execution_count": null,
      "outputs": [
        {
          "output_type": "stream",
          "text": [
            "enter top: 1000\n",
            "6 is a perfect number\n",
            "28 is a perfect number\n",
            "496 is a perfect number\n"
          ],
          "name": "stdout"
        }
      ]
    },
    {
      "cell_type": "markdown",
      "metadata": {
        "id": "HkB1UigB4rcz"
      },
      "source": [
        "**(6)** Write a Python function that prints out the first n rows of [Pascal's triangle](https://en.wikipedia.org/wiki/Pascal%27s_triangle). \n",
        "\n",
        "<div style=\"text-align:center;\">\n",
        "    <img src=\"https://bootrain-lms-assets.s3.eu-central-1.amazonaws.com/bootrain-lms-static/images/02_IntermediatePython/03_PascalsTriangle.gif\" width=\"200\">\n",
        "    <br>\n",
        "    In Pascal's triangle, each number is the sum of the two numbers directly above it.\n",
        "</div>"
      ]
    },
    {
      "cell_type": "code",
      "metadata": {
        "id": "Deroc0094rcz",
        "colab": {
          "base_uri": "https://localhost:8080/"
        },
        "outputId": "afdb8a38-0875-4a73-c2cf-bf1e1e593fc3"
      },
      "source": [
        "number=int(input(\"Enter iterate number: \"))\n",
        "  \n",
        "for i in range(number): \n",
        "    print(' '*(number-i), end='')     \n",
        "    print(' '.join(map(str, str(11**i)))) "
      ],
      "execution_count": null,
      "outputs": [
        {
          "output_type": "stream",
          "text": [
            "Enter iterate number: 6\n",
            "      1\n",
            "     1 1\n",
            "    1 2 1\n",
            "   1 3 3 1\n",
            "  1 4 6 4 1\n",
            " 1 6 1 0 5 1\n"
          ],
          "name": "stdout"
        }
      ]
    }
  ]
}