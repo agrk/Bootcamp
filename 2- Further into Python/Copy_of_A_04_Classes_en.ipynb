{
  "nbformat": 4,
  "nbformat_minor": 0,
  "metadata": {
    "kernelspec": {
      "display_name": "Python 3",
      "language": "python",
      "name": "python3"
    },
    "language_info": {
      "codemirror_mode": {
        "name": "ipython",
        "version": 3
      },
      "file_extension": ".py",
      "mimetype": "text/x-python",
      "name": "python",
      "nbconvert_exporter": "python",
      "pygments_lexer": "ipython3",
      "version": "3.8.2"
    },
    "colab": {
      "name": "Copy of A_04_Classes_en.ipynb",
      "provenance": []
    }
  },
  "cells": [
    {
      "cell_type": "markdown",
      "metadata": {
        "id": "sGFYN2xjO0Jt"
      },
      "source": [
        "In a retail application, many customers visit the retail outlet to purchase various items. The manager of the retail outlet now wants to keep track of all its items' and customers’ data. To achieve this purpose, please:\n",
        "\n",
        "**(1)** Define two classes named as `item` (with `item_name` and `price` attributes) and `customer` (with `customer_id`, `phone_number` attributes and `purchase` method). `purchase` method should calculate the total price with the given item name amount."
      ]
    },
    {
      "cell_type": "code",
      "metadata": {
        "id": "KoNLI7fMO0Ju"
      },
      "source": [
        "class Item:\n",
        "\n",
        "  def __init__(self, item_name, price):\n",
        "    self.item_name = item_name\n",
        "    self.price = price\n",
        "\n",
        "\n",
        "class Customer:\n",
        "\n",
        "  def __init__(self, customer_id, phone_number):\n",
        "    self.customer_id = customer_id\n",
        "    self.phone_number = phone_number\n",
        "    \n",
        "  def purchase(self, price, amount):\n",
        "    self.price = price\n",
        "    self.amount = amount\n",
        "    print(\"The total price of the item is {}$.\".format(self.price * self.amount))"
      ],
      "execution_count": null,
      "outputs": []
    },
    {
      "cell_type": "markdown",
      "metadata": {
        "id": "f3gaY0ItO0Ju"
      },
      "source": [
        "**(2)** Create an item."
      ]
    },
    {
      "cell_type": "code",
      "metadata": {
        "id": "oR_RP7RrO0Jv"
      },
      "source": [
        "\n",
        "item = Item(\"Computer\", 6000)"
      ],
      "execution_count": null,
      "outputs": []
    },
    {
      "cell_type": "markdown",
      "metadata": {
        "id": "K3iwYYT4O0Jv"
      },
      "source": [
        "**(3)** Create a customer with an arbitrary ID and number."
      ]
    },
    {
      "cell_type": "code",
      "metadata": {
        "id": "qkStZKVyO0Jv"
      },
      "source": [
        "customer = Customer(27498, 9876543210)"
      ],
      "execution_count": null,
      "outputs": []
    },
    {
      "cell_type": "markdown",
      "metadata": {
        "id": "Lf4ujJmEO0Jw"
      },
      "source": [
        "**(4)** Make customers buy an item with an arbitrary amount and then print the total price."
      ]
    },
    {
      "cell_type": "code",
      "metadata": {
        "id": "RjvMfQTFO0Jw",
        "colab": {
          "base_uri": "https://localhost:8080/"
        },
        "outputId": "adfc97e7-eb08-4e66-905d-8f26089eb4f9"
      },
      "source": [
        "customer.purchase(item.price, 4)"
      ],
      "execution_count": null,
      "outputs": [
        {
          "output_type": "stream",
          "text": [
            "The total price of the item is 24000$.\n"
          ],
          "name": "stdout"
        }
      ]
    },
    {
      "cell_type": "code",
      "metadata": {
        "id": "YYmoT3o4Q4Z6"
      },
      "source": [
        ""
      ],
      "execution_count": null,
      "outputs": []
    }
  ]
}