{
  "nbformat": 4,
  "nbformat_minor": 0,
  "metadata": {
    "colab": {
      "name": "Copy of A_02_BasicDataTypes_en.ipynb",
      "provenance": []
    },
    "kernelspec": {
      "display_name": "Python 3",
      "language": "python",
      "name": "python3"
    },
    "language_info": {
      "codemirror_mode": {
        "name": "ipython",
        "version": 3
      },
      "file_extension": ".py",
      "mimetype": "text/x-python",
      "name": "python",
      "nbconvert_exporter": "python",
      "pygments_lexer": "ipython3",
      "version": "3.8.7"
    }
  },
  "cells": [
    {
      "cell_type": "markdown",
      "metadata": {
        "id": "2MnBfHrhkY_W"
      },
      "source": [
        "**(1)** Suppose you invested in Bitcoin at the end of 2017 when Bitcoin gained a lot of value. What would be your money at the end of a week if you had invested \\$1000 with an average daily increase of 12\\% ? You can solve the problem using Python."
      ]
    },
    {
      "cell_type": "code",
      "metadata": {
        "id": "aTtCccM-kgVT",
        "colab": {
          "base_uri": "https://localhost:8080/"
        },
        "outputId": "9388993d-fe6d-4256-d3ae-1b79386c2f67"
      },
      "source": [
        "my_investment=1000\n",
        "for i in range(0,7):\n",
        "  my_investment+=(my_investment*12)/100\n",
        "print(my_investment)"
      ],
      "execution_count": null,
      "outputs": [
        {
          "output_type": "stream",
          "text": [
            "2210.6814074060803\n"
          ],
          "name": "stdout"
        }
      ]
    },
    {
      "cell_type": "markdown",
      "metadata": {
        "id": "Kk0vsyA9kY_X"
      },
      "source": [
        "**(2)**  Print the text in quotes with Python. However, you must get the numbers from variables using `.format()` notation. <br> Because the text is long, you might consider writing in two lines:\n",
        "\n",
        "        `\"When we buy bitcoin with 1000 USD at the beginning of the week, we would earn 1210.68 USD at the end of the week, with an average gain of 12\\%.\"`"
      ]
    },
    {
      "cell_type": "code",
      "metadata": {
        "id": "ef4X6oyEkgVW",
        "colab": {
          "base_uri": "https://localhost:8080/"
        },
        "outputId": "40799497-64eb-412f-d8c8-cc01d9f6258f"
      },
      "source": [
        "word= \"When we buy bitcoin with {} USD at the beginning of the week, we would earn {} USD at the end of the week, with an average gain of {}\\%.\"\n",
        "money=1000\n",
        "earn=1210.68\n",
        "gain=12\n",
        "print(word.format(money,earn,gain))"
      ],
      "execution_count": null,
      "outputs": [
        {
          "output_type": "stream",
          "text": [
            "When we buy bitcoin with 1000 USD at the beginning of the week, we would earn 1210.68 USD at the end of the week, with an average gain of 12\\%.\n"
          ],
          "name": "stdout"
        }
      ]
    },
    {
      "cell_type": "markdown",
      "metadata": {
        "id": "UifLXZilkY_Y"
      },
      "source": [
        "**(3)**  Get the temperature in Fahrenheit from user and write a code to convert it to Celcius. For conversion, you can use this formula: C = (5/9) * (F - 32)\n",
        "\n",
        "        Enter the temperature in Fahrenheit: \n",
        "        user --> 26\n",
        "        output --> Temperature (C) : -3.33"
      ]
    },
    {
      "cell_type": "code",
      "metadata": {
        "id": "YUT3EMNqkgVX",
        "colab": {
          "base_uri": "https://localhost:8080/"
        },
        "outputId": "a8101b9c-f13a-4168-e8ed-67c9d999fd01"
      },
      "source": [
        "temp=float(input(\"Enter the temperature in the Fahrenheit: \"))\n",
        "C = (5/9)* (temp-32)\n",
        "print(\"Temperature (C): %.2f \"%C)"
      ],
      "execution_count": null,
      "outputs": [
        {
          "output_type": "stream",
          "text": [
            "Enter the temperature in the Fahrenheit: 26\n",
            "Temperature (C): -3.33 \n"
          ],
          "name": "stdout"
        }
      ]
    },
    {
      "cell_type": "markdown",
      "metadata": {
        "id": "IJSruOwzkY_Y"
      },
      "source": [
        "**(4)**  Get a three digit number the from user and calculate the sum of the digits in the integer.\n",
        "\n",
        "        user --> 365\n",
        "        output --> \"The sum of digits in the number is 14"
      ]
    },
    {
      "cell_type": "code",
      "metadata": {
        "id": "ieRiyADGkgVY",
        "colab": {
          "base_uri": "https://localhost:8080/"
        },
        "outputId": "cc66897a-c340-4fef-b789-52803a5fa03d"
      },
      "source": [
        "digit=int(input(\"Bir sayı giriniz: \"))\n",
        "sum=0\n",
        "while (digit>=1):\n",
        "  sum+=digit%10\n",
        "  digit//=10\n",
        "print(\"The sum of digits in the number is\",sum)"
      ],
      "execution_count": null,
      "outputs": [
        {
          "output_type": "stream",
          "text": [
            "Bir sayı giriniz: 365\n",
            "The sum of digits in the number is 14\n"
          ],
          "name": "stdout"
        }
      ]
    },
    {
      "cell_type": "markdown",
      "metadata": {
        "id": "s4ncKZc1kY_Z"
      },
      "source": [
        "**(5)**  Write some code to calculate the hypotenuse of a right angled triangle. Get the side lengths from the user.\n",
        "\n",
        "        user --> first side lenth : 6\n",
        "        user --> first side lenth : 8\n",
        "        output --> \"The length of the hypotenuse is 10"
      ]
    },
    {
      "cell_type": "code",
      "metadata": {
        "id": "CyWwLW1CkgVZ",
        "colab": {
          "base_uri": "https://localhost:8080/"
        },
        "outputId": "ae791e84-0649-4619-d841-d84fb0cea364"
      },
      "source": [
        "first_length=int(input(\"Input length of first side: \"))\n",
        "second_length=int(input(\"Input length of sesond side: \"))\n",
        "hypotenuse=pow(((first_length)**2+(second_length)**2),1/2)\n",
        "print(\"The length of the hypotenuse is \",hypotenuse)"
      ],
      "execution_count": null,
      "outputs": [
        {
          "output_type": "stream",
          "text": [
            "Input length of first side: 6\n",
            "Input length of sesond side: 8\n",
            "The length of the hypotenuse is  10.0\n"
          ],
          "name": "stdout"
        }
      ]
    }
  ]
}