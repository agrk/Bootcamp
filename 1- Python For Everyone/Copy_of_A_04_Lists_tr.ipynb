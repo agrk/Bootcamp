{
  "nbformat": 4,
  "nbformat_minor": 0,
  "metadata": {
    "colab": {
      "name": "Copy of A_04_Lists_tr.ipynb",
      "provenance": [],
      "collapsed_sections": []
    },
    "kernelspec": {
      "display_name": "Python 3",
      "language": "python",
      "name": "python3"
    },
    "language_info": {
      "codemirror_mode": {
        "name": "ipython",
        "version": 3
      },
      "file_extension": ".py",
      "mimetype": "text/x-python",
      "name": "python",
      "nbconvert_exporter": "python",
      "pygments_lexer": "ipython3",
      "version": "3.8.7"
    }
  },
  "cells": [
    {
      "cell_type": "markdown",
      "metadata": {
        "id": "9PtltaUjQR9m"
      },
      "source": [
        "**(1)** Aşağıdaki listenin en küçük elemanı ile en büyük iki elemanının toplamını hesaklayın.\n",
        "\n",
        "`my_list = [34, 56, 76, 45, 2, 12, 67, 98, 37, 54, 66]`"
      ]
    },
    {
      "cell_type": "code",
      "metadata": {
        "id": "uZD4PLLZQ-F8",
        "colab": {
          "base_uri": "https://localhost:8080/"
        },
        "outputId": "f89db746-9a83-4b1c-f3a9-c69f402287c3"
      },
      "source": [
        "my_list = [34, 56, 76, 45, 2, 12, 67, 98, 37, 54, 66]\n",
        "a = max(my_list)\n",
        "b = min(my_list)\n",
        "print(a+b)"
      ],
      "execution_count": null,
      "outputs": [
        {
          "output_type": "stream",
          "text": [
            "100\n"
          ],
          "name": "stdout"
        }
      ]
    },
    {
      "cell_type": "markdown",
      "metadata": {
        "id": "JGBSV_cbQ-Ok"
      },
      "source": [
        "**(2)** Aşağıdaki listelerde öğrenci isimleri ve aldıkları notlar yer almakta. Kullanıcıdan öğrencinin adını alan ve bu öğrencinin aldığı notu ekrana yazdıran bir kod yazın.\n",
        "\n",
        "     names = [\"David\", \"Michael\", \"John\", \"James\", \"Greg\", \"Mark\", \"William\", \n",
        "              \"Richard\", \"Thomas\", \"Steven\", \"Mary\", \"Susan\", \"Maria\", \"Karen\", \n",
        "              \"Lisa\", \"Linda\", \"Donna\", \"Patricia\", \"Debra\", \"Eric\"]\n",
        "\n",
        "     scores = [99, 87, 78, 86, 68, 94, 76, 97, 56, 98, 76, 87, 79, 90, 73, 93, 82, 69, 97, 98]"
      ]
    },
    {
      "cell_type": "code",
      "metadata": {
        "id": "ea1iFk6hQ-Xv",
        "colab": {
          "base_uri": "https://localhost:8080/"
        },
        "outputId": "657d5c8b-e603-4601-ef1e-b5e0388714d9"
      },
      "source": [
        " names = [\"David\", \"Michael\", \"John\", \"James\", \"Greg\", \"Mark\", \"William\", \n",
        "          \"Richard\", \"Thomas\", \"Steven\", \"Mary\", \"Susan\", \"Maria\", \"Karen\", \n",
        "          \"Lisa\", \"Linda\", \"Donna\", \"Patricia\", \"Debra\", \"Eric\"]\n",
        " \n",
        " scores = [99, 87, 78, 86, 68, 94, 76, 97 ,56, 98, 76, 87, 79, 90, 73, 93, 82, 69, 97, 98]\n",
        "\n",
        " isim=str(input(\"Öğrencinin adını giriniz: \"))\n",
        " i_dx=names.index(isim)\n",
        " grade=scores[i_dx]\n",
        " print(\"{} isimli öğrencinin notu is: {}\".format(isim,grade))"
      ],
      "execution_count": null,
      "outputs": [
        {
          "output_type": "stream",
          "text": [
            "Öğrencinin adını giriniz: Susan\n",
            "Susan isimli öğrencinin notu is: 87\n"
          ],
          "name": "stdout"
        }
      ]
    },
    {
      "cell_type": "markdown",
      "metadata": {
        "id": "w35ObZoJQ-gP"
      },
      "source": [
        "**(3)** Aşağıdaki listede öğrencilerin aldığı notlar yer almaktadır. En yüksek not kaçtır ve kaç kişi bu notu almıştır?\n",
        "\n",
        "`scores = [99, 87, 78, 86, 68, 94, 76, 97 ,56, 98, 76, 87, 79, 90, 73, 93, 82, 69, 97, 98]`"
      ]
    },
    {
      "cell_type": "code",
      "metadata": {
        "id": "VRkecUJiQ-pE",
        "colab": {
          "base_uri": "https://localhost:8080/"
        },
        "outputId": "a1b7e5e4-eebc-4f5d-da13-a1830ba18b9f"
      },
      "source": [
        "scores = [95, 87, 78, 86, 68, 94, 76, 97 ,56, 98, 76, 87, 79, 90, 73, 93, 82, 69, 97, 98]\n",
        "max_grade=max(scores)\n",
        "count=0\n",
        "for i in scores:\n",
        "  if(max_grade==i):\n",
        "    count+=1\n",
        "print(\"En yüksek not \",max_grade)\n",
        "print(\"En yüksek notu alan kişi sayısı\",count)"
      ],
      "execution_count": null,
      "outputs": [
        {
          "output_type": "stream",
          "text": [
            "En yüksek not 98\n",
            "En yüksek notu alan kişi sayısı 2\n"
          ],
          "name": "stdout"
        }
      ]
    },
    {
      "cell_type": "markdown",
      "metadata": {
        "id": "DRLPH_P4Q-xc"
      },
      "source": [
        "**(4)** Ayların kaç gün çektiğini karıştırabiliyoruz. Bunun için bir liste oluşturun ancak listenizde ay isimleri ve gün sayıları beraber bulunsun (ipucu: listenizin içinde başka bir veri yapısı yer alacak!)."
      ]
    },
    {
      "cell_type": "code",
      "metadata": {
        "id": "tWUNhayRQ-5W",
        "colab": {
          "base_uri": "https://localhost:8080/"
        },
        "outputId": "e9b57cd4-607e-43b4-c2b3-b3c5095904d3"
      },
      "source": [
        "months=[\"January\",\"February\",\"March\",\"April\",\"May\",\"June\",\"July\",\"August\",\"September\",\"October\",\"November\",\"December\"]\n",
        "days=[31,28,31,30,31,30,31,31,30,31,30,31]\n",
        "new = []\n",
        "\n",
        "for months_day in zip(months,days):\n",
        "  new.append(months_day)\n",
        "print(list(new))\n",
        "\n"
      ],
      "execution_count": null,
      "outputs": [
        {
          "output_type": "stream",
          "text": [
            "[('January', 31), ('February', 28), ('March', 31), ('April', 30), ('May', 31), ('June', 30), ('July', 31), ('August', 31), ('September', 30), ('October', 31), ('November', 30), ('December', 31)]\n"
          ],
          "name": "stdout"
        }
      ]
    },
    {
      "cell_type": "code",
      "metadata": {
        "colab": {
          "base_uri": "https://localhost:8080/"
        },
        "id": "anATv5D0_PhR",
        "outputId": "26b517fa-8864-4b4c-a298-08ec064fe02d"
      },
      "source": [
        "months=[\"January\",\"February\",\"March\",\"April\",\"May\",\"June\",\"July\",\"August\",\"September\",\"October\",\"November\",\"December\"]\n",
        "days=[31,28,31,30,31,30,31,31,30,31,30,31]\n",
        "new = []\n",
        "for i in range(0,len(months)):\n",
        "  result = months[i] +','+ str(days[i])\n",
        "  new.append([result])\n",
        "\n",
        "print(new)\n"
      ],
      "execution_count": null,
      "outputs": [
        {
          "output_type": "stream",
          "text": [
            "[['January,31'], ['February,28'], ['March,31'], ['April,30'], ['May,31'], ['June,30'], ['July,31'], ['August,31'], ['September,30'], ['October,31'], ['November,30'], ['December,31']]\n"
          ],
          "name": "stdout"
        }
      ]
    },
    {
      "cell_type": "markdown",
      "metadata": {
        "id": "WgPHLQn0Q_by"
      },
      "source": [
        "**(5)** Şimdi ise mevsim mevsim ayrılmış ay listeleri oluşturun. Liste adlarına mevsimlerin adlarını verin."
      ]
    },
    {
      "cell_type": "code",
      "metadata": {
        "id": "X1U13tbSQ_kM",
        "colab": {
          "base_uri": "https://localhost:8080/"
        },
        "outputId": "1dbbce6e-7541-4e12-c24e-f611ba283c22"
      },
      "source": [
        "months = [['January', 31], ['February', 28], ['March', 31], ['April', 30], ['May', 31], ['June', 30], ['July', 31], ['August', 31], ['September', 30], ['October', 31], ['November', 30], ['December', 31]]\n",
        "winter = []\n",
        "spring = []\n",
        "summer = []\n",
        "autumn = []\n",
        "\n",
        "for i in range(0,len(months)):\n",
        "  if(months[i][0]==\"January\" or months[i][0]==\"February\" or months[i][0]==\"December\"):\n",
        "    winter.append(months[i])\n",
        "  elif(months[i][0]==\"March\" or months[i][0]==\"April\" or months[i][0]==\"May\"):\n",
        "    spring.append(months[i])\n",
        "  elif(months[i][0]==\"June\" or months[i][0]==\"July\" or months[i][0]==\"August\"):\n",
        "    summer.append(months[i])\n",
        "  else:\n",
        "    autumn.append(months[i])\n",
        "\n",
        "print(\"Winter: \",winter)\n",
        "print(\"Spring: \",spring)\n",
        "print(\"Summer: \",summer)\n",
        "print(\"Autumn: \",autumn)\n",
        "  \n"
      ],
      "execution_count": null,
      "outputs": [
        {
          "output_type": "stream",
          "text": [
            "Winter:  [['January', 31], ['February', 28], ['December', 31]]\n",
            "Spring:  [['March', 31], ['April', 30], ['May', 31]]\n",
            "Summer:  [['June', 30], ['July', 31], ['August', 31]]\n",
            "Autumn:  [['September', 30], ['October', 31], ['November', 30]]\n"
          ],
          "name": "stdout"
        }
      ]
    },
    {
      "cell_type": "code",
      "metadata": {
        "colab": {
          "base_uri": "https://localhost:8080/"
        },
        "id": "op2UNt5E7B_a",
        "outputId": "cb2a00a9-6bdf-460d-fa1b-de96df083170"
      },
      "source": [
        "Winter = ['December', 'January', 'February']\n",
        "Spring = ['March', 'April','May']\n",
        "Summer = ['June', 'July', 'August']\n",
        "Autumn = ['September', 'October', 'November']\n",
        "months = [Winter, Spring, Summer, Autumn]\n",
        "seasons=[\"Winter:\",\"Spring:\",\"Summer:\",\"Autumn:\"]\n",
        "for i in range(0,len(months)):\n",
        "  print(\"{}\".format(seasons[i]),months[i])\n"
      ],
      "execution_count": null,
      "outputs": [
        {
          "output_type": "stream",
          "text": [
            "Winter: ['December', 'January', 'February']\n",
            "Spring: ['March', 'April', 'May']\n",
            "Summer: ['June', 'July', 'August']\n",
            "Autumn: ['September', 'October', 'November']\n"
          ],
          "name": "stdout"
        }
      ]
    },
    {
      "cell_type": "markdown",
      "metadata": {
        "id": "qLfG_LbBQ_tF"
      },
      "source": [
        "**(6)** Son olarak, bir önceki sorudaki listeden yaz ayının kaç gün sürdüğünü hesaplayın."
      ]
    },
    {
      "cell_type": "code",
      "metadata": {
        "id": "zn-cx0t5RNeq",
        "colab": {
          "base_uri": "https://localhost:8080/"
        },
        "outputId": "2876510a-896f-46c7-91d6-169870c8dbd6"
      },
      "source": [
        "\n",
        "sum=0\n",
        "for i in range(0, len(summer)):\n",
        "  sum+=int(summer[i][1])\n",
        "print(\"Yaz ayı {} gün sürüyor\".format(sum))"
      ],
      "execution_count": null,
      "outputs": [
        {
          "output_type": "stream",
          "text": [
            "Yaz ayı 92 gün sürüyor\n"
          ],
          "name": "stdout"
        }
      ]
    }
  ]
}