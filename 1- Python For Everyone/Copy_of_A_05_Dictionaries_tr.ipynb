{
  "nbformat": 4,
  "nbformat_minor": 0,
  "metadata": {
    "colab": {
      "name": "Copy of A_05_Dictionaries_tr.ipynb",
      "provenance": [],
      "collapsed_sections": []
    },
    "kernelspec": {
      "display_name": "Python 3",
      "language": "python",
      "name": "python3"
    },
    "language_info": {
      "codemirror_mode": {
        "name": "ipython",
        "version": 3
      },
      "file_extension": ".py",
      "mimetype": "text/x-python",
      "name": "python",
      "nbconvert_exporter": "python",
      "pygments_lexer": "ipython3",
      "version": "3.8.7"
    }
  },
  "cells": [
    {
      "cell_type": "markdown",
      "metadata": {
        "id": "LIkO2709RTIu"
      },
      "source": [
        "**(1)** İçerisinde 7 günün bulunduğu bir sözlük oluşturun. Kullanıcıya günleri listeleyerek 2 farklı gün seçmesini isteyin (örneğin pazartesi ve salı için \"12\" gibi). Kullanıcının seçtiği günleri sözlükten silerek kalan 5 günü ekrana yazdırın."
      ]
    },
    {
      "cell_type": "code",
      "metadata": {
        "colab": {
          "base_uri": "https://localhost:8080/"
        },
        "id": "pilpJojorh2V",
        "outputId": "04193298-bb9f-4266-f70f-625c7516c4eb"
      },
      "source": [
        "days = {\n",
        "        1: 'Monday',\n",
        "        2: 'Tuesday',\n",
        "        3: 'Wednesday',\n",
        "        4: 'Thursday',\n",
        "        5: 'Friday', \n",
        "        6: 'Saturday',\n",
        "        7: 'Sunday' }\n",
        "item=0\n",
        "choice = int(input(\"\"\"Write two days to delete (e.g. \"25\" ): \"\"\"))\n",
        "while (choice>=1):\n",
        "  item=choice%10\n",
        "  del days[item]\n",
        "  choice//=10\n",
        "\n",
        "#print(item)\n",
        "print(days)"
      ],
      "execution_count": null,
      "outputs": [
        {
          "output_type": "stream",
          "text": [
            "Write two days to delete (e.g. \"25\" ): 64\n",
            "{1: 'Monday', 2: 'Tuesday', 3: 'Wednesday', 5: 'Friday', 7: 'Sunday'}\n"
          ],
          "name": "stdout"
        }
      ]
    },
    {
      "cell_type": "markdown",
      "metadata": {
        "id": "mF2PMX0sTOyv"
      },
      "source": [
        "**(2)** Aşağıdaki bilgiler içeren bir sözlük oluşturun. Anahtar olarak isimleri kullanın.\n",
        "\n",
        "|Name|Age|Sex|\n",
        "|-|-|-|\n",
        "|John|25|Male|\n",
        "|Lisa|28|Female|\n",
        "|Linda|32|Female|\n",
        "|Michael|41|Male|"
      ]
    },
    {
      "cell_type": "code",
      "metadata": {
        "id": "tkZDe8tfTO8x",
        "colab": {
          "base_uri": "https://localhost:8080/"
        },
        "outputId": "0325b21f-2f70-4edd-a1fb-17718b204356"
      },
      "source": [
        "\"\"\"people = {}\n",
        "number = int(input(\"How many people will be recorded: \"))\n",
        "for i in range(0,number):\n",
        "  \n",
        "  name = input(\"enter name: \")\n",
        "  age = input(\"enter age: \")\n",
        "  sex = input(\"enter sex: \")\n",
        "  people.update({\n",
        "      name: {\n",
        "          'age': age,\n",
        "          'sex': sex \n",
        "      }\n",
        "  })\n",
        "print(people)\n",
        "\n",
        "\n",
        "\"\"\""
      ],
      "execution_count": null,
      "outputs": [
        {
          "output_type": "stream",
          "text": [
            "How many people will be recorded: 4\n",
            "enter name: John\n",
            "enter age: 25\n",
            "enter sex: Male\n",
            "enter name: Lisa\n",
            "enter age: 28\n",
            "enter sex: Female\n",
            "enter name: Linda\n",
            "enter age: 32\n",
            "enter sex: Female\n",
            "enter name: Michael\n",
            "enter age: 41\n",
            "enter sex: Male\n",
            "{'John': {'age': '25', 'sex': 'Male'}, 'Lisa': {'age': '28', 'sex': 'Female'}, 'Linda': {'age': '32', 'sex': 'Female'}, 'Michael': {'age': '41', 'sex': 'Male'}}\n"
          ],
          "name": "stdout"
        }
      ]
    },
    {
      "cell_type": "code",
      "metadata": {
        "colab": {
          "base_uri": "https://localhost:8080/"
        },
        "id": "Wnnl3HC0SR3v",
        "outputId": "70d36bc0-beab-4b7d-9c26-614aa8fa0426"
      },
      "source": [
        "human= {\n",
        "    \"John\": {'Age':'25','Sex':'Male'},\n",
        "    \"Lisa\": {'Age':'28','Sex':'Female'},\n",
        "    \"Linda\": {'Age':'32','Sex':'Female'},\n",
        "    \"Michael\": {'Age':'41','Sex':'Male'},\n",
        "}\n",
        "print(human)"
      ],
      "execution_count": null,
      "outputs": [
        {
          "output_type": "stream",
          "text": [
            "{'John': {'Age': '25', 'Sex': 'Male'}, 'Lisa': {'Age': '28', 'Sex': 'Female'}, 'Linda': {'Age': '32', 'Sex': 'Female'}, 'Michael': {'Age': '41', 'Sex': 'Male'}}\n"
          ],
          "name": "stdout"
        }
      ]
    },
    {
      "cell_type": "markdown",
      "metadata": {
        "id": "Aj8f-84ETPF6"
      },
      "source": [
        "**(3)** Michael ve Linda'ya çocuk bilgisi ekleyin. Michael'in iki 12 yaşında Karen isminde bir kızı ve 7 yaşında Greg isminde bir oğlu, Linda'nın ise 6 yaşında Susan isminde bir kızı var. "
      ]
    },
    {
      "cell_type": "code",
      "metadata": {
        "id": "c7gQOZqXTPfT",
        "colab": {
          "base_uri": "https://localhost:8080/"
        },
        "outputId": "bd46fd8a-0d6f-4a1d-ec98-a2794f68a290"
      },
      "source": [
        "human[\"Michael\"][\"child\"] = dict(Karen= {\"age\": 12, \"sex\": \"Female\"}, Greg ={\"age\": 7, \"sex\": \"Male\"} )\n",
        "human[\"Linda\"][\"child\"] = dict(Susan= {\"age\": 6, \"sex\": \"Female\"} )\n",
        "print(human)"
      ],
      "execution_count": null,
      "outputs": [
        {
          "output_type": "stream",
          "text": [
            "{'John': {'Age': '25', 'Sex': 'Male'}, 'Lisa': {'Age': '28', 'Sex': 'Female'}, 'Linda': {'Age': '32', 'Sex': 'Female', 'child': {'Susan': {'age': 6, 'sex': 'Female'}}}, 'Michael': {'Age': '41', 'Sex': 'Male', 'child': {'Karen': {'age': 12, 'sex': 'Female'}, 'Greg': {'age': 7, 'sex': 'Male'}}}}\n"
          ],
          "name": "stdout"
        }
      ]
    },
    {
      "cell_type": "markdown",
      "metadata": {
        "id": "pLa1MakOTPtX"
      },
      "source": [
        "**(4)** Michael'ın çocuklarının adlarını yazdırın."
      ]
    },
    {
      "cell_type": "code",
      "metadata": {
        "id": "WyJ3XNb_TVZs",
        "colab": {
          "base_uri": "https://localhost:8080/"
        },
        "outputId": "e4ff2dce-f075-445b-8eda-24fca7c126ec"
      },
      "source": [
        "print(list(human[\"Michael\"][\"child\"].keys()))"
      ],
      "execution_count": null,
      "outputs": [
        {
          "output_type": "stream",
          "text": [
            "['Karen', 'Greg']\n"
          ],
          "name": "stdout"
        }
      ]
    }
  ]
}