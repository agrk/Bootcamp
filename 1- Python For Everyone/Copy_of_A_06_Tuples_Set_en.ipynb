{
  "nbformat": 4,
  "nbformat_minor": 0,
  "metadata": {
    "kernelspec": {
      "display_name": "Python 3",
      "language": "python",
      "name": "python3"
    },
    "language_info": {
      "codemirror_mode": {
        "name": "ipython",
        "version": 3
      },
      "file_extension": ".py",
      "mimetype": "text/x-python",
      "name": "python",
      "nbconvert_exporter": "python",
      "pygments_lexer": "ipython3",
      "version": "3.8.7"
    },
    "colab": {
      "name": "Copy of A_06_Tuples_Set_en.ipynb",
      "provenance": []
    }
  },
  "cells": [
    {
      "cell_type": "markdown",
      "metadata": {
        "id": "FZjSuj7x_hm6"
      },
      "source": [
        "**(1)** Create a tuple named \"week\" containing weekdays."
      ]
    },
    {
      "cell_type": "code",
      "metadata": {
        "id": "M_Wo5Ro-_hnB",
        "colab": {
          "base_uri": "https://localhost:8080/"
        },
        "outputId": "698dfe6d-74b9-4e94-a0ef-ae9ebd22d11a"
      },
      "source": [
        "week=('Monday','Tuesday','Wednesday','Thursday','Friday','Saturday','Sunday')\n",
        "print(week)"
      ],
      "execution_count": null,
      "outputs": [
        {
          "output_type": "stream",
          "text": [
            "('Monday', 'Tuesday', 'Wednesday', 'Thursday', 'Friday', 'Saturday', 'Sunday')\n"
          ],
          "name": "stdout"
        }
      ]
    },
    {
      "cell_type": "markdown",
      "metadata": {
        "id": "8FKNpIVd_hnC"
      },
      "source": [
        "**(2)** Create a set named \"fruits\" containing followings: apple, mango, orange "
      ]
    },
    {
      "cell_type": "code",
      "metadata": {
        "id": "5QX30GXq_hnC",
        "colab": {
          "base_uri": "https://localhost:8080/"
        },
        "outputId": "ec1fdbd1-0fee-418b-a54d-771c5e8028a9"
      },
      "source": [
        "fruits = set(['apple', 'mango', 'orange'])\n",
        "print(fruits)"
      ],
      "execution_count": null,
      "outputs": [
        {
          "output_type": "stream",
          "text": [
            "{'orange', 'apple', 'mango'}\n"
          ],
          "name": "stdout"
        }
      ]
    },
    {
      "cell_type": "markdown",
      "metadata": {
        "id": "ZV9TdD9Z_hnC"
      },
      "source": [
        "**(3)** Create a new set named \"new_fruits\" containing followings: cherry, peach, apple, mango"
      ]
    },
    {
      "cell_type": "code",
      "metadata": {
        "id": "NQGE0DdN_hnD",
        "colab": {
          "base_uri": "https://localhost:8080/"
        },
        "outputId": "2af788f2-f136-4414-8346-166b7e764106"
      },
      "source": [
        "new_fruits = set(['cherry','peach','apple','mango'])\n",
        "print(new_fruits)"
      ],
      "execution_count": null,
      "outputs": [
        {
          "output_type": "stream",
          "text": [
            "{'peach', 'apple', 'mango', 'cherry'}\n"
          ],
          "name": "stdout"
        }
      ]
    },
    {
      "cell_type": "markdown",
      "metadata": {
        "id": "PP8Lf5AY_hnD"
      },
      "source": [
        "**(4)** Find the fruits which are in new_fruits but not in fruits."
      ]
    },
    {
      "cell_type": "code",
      "metadata": {
        "id": "m_pt0mgg_hnD",
        "colab": {
          "base_uri": "https://localhost:8080/"
        },
        "outputId": "88b6e4e2-dc92-42a7-ed80-3d71248dd0da"
      },
      "source": [
        "print(\"Only in new fruits \",new_fruits.difference(fruits))"
      ],
      "execution_count": null,
      "outputs": [
        {
          "output_type": "stream",
          "text": [
            "Only in new fruits  {'peach', 'cherry'}\n"
          ],
          "name": "stdout"
        }
      ]
    },
    {
      "cell_type": "markdown",
      "metadata": {
        "id": "SeOYZ4Dq_hnE"
      },
      "source": [
        "**(5)** Find the fruits which are in both new_fruits and fruits."
      ]
    },
    {
      "cell_type": "code",
      "metadata": {
        "id": "FVAl-x_7_hnF",
        "colab": {
          "base_uri": "https://localhost:8080/"
        },
        "outputId": "0b6b8db6-4794-4874-c05c-97845bcc9d04"
      },
      "source": [
        "print(\"Both in new fruits and fruits \",new_fruits.intersection(fruits))"
      ],
      "execution_count": null,
      "outputs": [
        {
          "output_type": "stream",
          "text": [
            "Both in new fruits and fruits  {'apple', 'mango'}\n"
          ],
          "name": "stdout"
        }
      ]
    }
  ]
}