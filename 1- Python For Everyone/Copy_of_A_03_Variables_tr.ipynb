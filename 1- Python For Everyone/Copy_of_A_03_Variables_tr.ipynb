{
  "nbformat": 4,
  "nbformat_minor": 0,
  "metadata": {
    "colab": {
      "name": "Copy of A_03_Variables_tr.ipynb",
      "provenance": [],
      "collapsed_sections": []
    },
    "kernelspec": {
      "display_name": "Python 3",
      "language": "python",
      "name": "python3"
    },
    "language_info": {
      "codemirror_mode": {
        "name": "ipython",
        "version": 3
      },
      "file_extension": ".py",
      "mimetype": "text/x-python",
      "name": "python",
      "nbconvert_exporter": "python",
      "pygments_lexer": "ipython3",
      "version": "3.8.7"
    }
  },
  "cells": [
    {
      "cell_type": "markdown",
      "metadata": {
        "id": "eKOoKyCRPb5n"
      },
      "source": [
        "**1.** x ve y iki değişken tanımlayıp, bitanesin integer 1, diğerine strin 1 değeri atayın ve daha sonra bu iki değişkenin eşit olup olmadığını kontrol edin. "
      ]
    },
    {
      "cell_type": "code",
      "metadata": {
        "id": "JYdHuOLiQBoH",
        "colab": {
          "base_uri": "https://localhost:8080/"
        },
        "outputId": "311784f2-263f-4cb9-f89f-53844de9b711"
      },
      "source": [
        "x=1\n",
        "y='1'\n",
        "if(x==y):\n",
        "  print(\"True\")\n",
        "else:\n",
        "  print(\"False\")"
      ],
      "execution_count": null,
      "outputs": [
        {
          "output_type": "stream",
          "text": [
            "False\n"
          ],
          "name": "stdout"
        }
      ]
    },
    {
      "cell_type": "markdown",
      "metadata": {
        "id": "v7hYjQGTQB6k"
      },
      "source": [
        "**2.** Yukarıda oluşturduğunu değişkenlerden birinin tipini değiştirerek aynı tipte olmalarını sağlayın ve tekrar kontrol edin"
      ]
    },
    {
      "cell_type": "code",
      "metadata": {
        "id": "UKtIXVqAQCG4",
        "colab": {
          "base_uri": "https://localhost:8080/"
        },
        "outputId": "81b4c034-1686-45ef-de77-1cbdda9b5b62"
      },
      "source": [
        "x=1\n",
        "y='1'\n",
        "y=int(y)\n",
        "if(x==y):\n",
        "  print(\"True\")\n",
        "else:\n",
        "  print(\"False\")"
      ],
      "execution_count": null,
      "outputs": [
        {
          "output_type": "stream",
          "text": [
            "True\n"
          ],
          "name": "stdout"
        }
      ]
    }
  ]
}