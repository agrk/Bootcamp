{
  "nbformat": 4,
  "nbformat_minor": 0,
  "metadata": {
    "kernelspec": {
      "display_name": "Python 3.8 (DJL)",
      "language": "python",
      "name": "djl"
    },
    "language_info": {
      "codemirror_mode": {
        "name": "ipython",
        "version": 3
      },
      "file_extension": ".py",
      "mimetype": "text/x-python",
      "name": "python",
      "nbconvert_exporter": "python",
      "pygments_lexer": "ipython3",
      "version": "3.8.5"
    },
    "latex_envs": {
      "LaTeX_envs_menu_present": true,
      "autoclose": false,
      "autocomplete": true,
      "bibliofile": "biblio.bib",
      "cite_by": "apalike",
      "current_citInitial": 1,
      "eqLabelWithNumbers": true,
      "eqNumInitial": 1,
      "hotkeys": {
        "equation": "Ctrl-E",
        "itemize": "Ctrl-I"
      },
      "labels_anchors": false,
      "latex_user_defs": false,
      "report_style_numbering": false,
      "user_envs_cfg": false
    },
    "varInspector": {
      "cols": {
        "lenName": 16,
        "lenType": 16,
        "lenVar": 40
      },
      "kernels_config": {
        "python": {
          "delete_cmd_postfix": "",
          "delete_cmd_prefix": "del ",
          "library": "var_list.py",
          "varRefreshCmd": "print(var_dic_list())"
        },
        "r": {
          "delete_cmd_postfix": ") ",
          "delete_cmd_prefix": "rm(",
          "library": "var_list.r",
          "varRefreshCmd": "cat(var_dic_list()) "
        }
      },
      "types_to_exclude": [
        "module",
        "function",
        "builtin_function_or_method",
        "instance",
        "_Feature"
      ],
      "window_display": false
    },
    "colab": {
      "name": "Copy of A_07_overfitting_and_regularization.ipynb",
      "provenance": [],
      "collapsed_sections": []
    }
  },
  "cells": [
    {
      "cell_type": "markdown",
      "metadata": {
        "id": "DASIeSwGzpDu"
      },
      "source": [
        "# <font color=blue>Assignments for \"Overfitting and Regularization\"</font>"
      ]
    },
    {
      "cell_type": "markdown",
      "metadata": {
        "id": "g5gnV4hYzpD-"
      },
      "source": [
        "In this assignment, you'll continue working with the house prices data. To complete this assignment, submit a link to a Jupyter notebook containing your solutions to the following tasks:"
      ]
    },
    {
      "cell_type": "code",
      "metadata": {
        "id": "YUBcK2vWzpEA",
        "colab": {
          "base_uri": "https://localhost:8080/",
          "height": 287
        },
        "outputId": "de12a7f3-9352-47d1-9f79-591a1751dce2"
      },
      "source": [
        "# These are the libraries we use\n",
        "import pandas as pd\n",
        "import numpy as np\n",
        "import matplotlib.pyplot as plt\n",
        "from sklearn.linear_model import LinearRegression\n",
        "from sklearn.preprocessing import StandardScaler\n",
        "from sklearn.model_selection import train_test_split\n",
        "from sklearn.metrics import mean_absolute_error\n",
        "from statsmodels.tools.eval_measures import mse, rmse\n",
        "from sklearn.model_selection import GridSearchCV\n",
        "\n",
        "\n",
        "\n",
        "\n",
        "import warnings\n",
        "warnings.filterwarnings('ignore')\n",
        "house_prices_df = pd.read_csv(\"https://djl-lms-assets.s3.eu-central-1.amazonaws.com/datasets/house_prices.csv\", sep = \";\")\n",
        "house_prices_df.head()"
      ],
      "execution_count": null,
      "outputs": [
        {
          "output_type": "stream",
          "text": [
            "/usr/local/lib/python3.7/dist-packages/statsmodels/tools/_testing.py:19: FutureWarning: pandas.util.testing is deprecated. Use the functions in the public API at pandas.testing instead.\n",
            "  import pandas.util.testing as tm\n"
          ],
          "name": "stderr"
        },
        {
          "output_type": "execute_result",
          "data": {
            "text/html": [
              "<div>\n",
              "<style scoped>\n",
              "    .dataframe tbody tr th:only-of-type {\n",
              "        vertical-align: middle;\n",
              "    }\n",
              "\n",
              "    .dataframe tbody tr th {\n",
              "        vertical-align: top;\n",
              "    }\n",
              "\n",
              "    .dataframe thead th {\n",
              "        text-align: right;\n",
              "    }\n",
              "</style>\n",
              "<table border=\"1\" class=\"dataframe\">\n",
              "  <thead>\n",
              "    <tr style=\"text-align: right;\">\n",
              "      <th></th>\n",
              "      <th>Id</th>\n",
              "      <th>MSSubClass</th>\n",
              "      <th>MSZoning</th>\n",
              "      <th>LotFrontage</th>\n",
              "      <th>LotArea</th>\n",
              "      <th>Street</th>\n",
              "      <th>Alley</th>\n",
              "      <th>LotShape</th>\n",
              "      <th>LandContour</th>\n",
              "      <th>Utilities</th>\n",
              "      <th>LotConfig</th>\n",
              "      <th>LandSlope</th>\n",
              "      <th>Neighborhood</th>\n",
              "      <th>Condition1</th>\n",
              "      <th>Condition2</th>\n",
              "      <th>BldgType</th>\n",
              "      <th>HouseStyle</th>\n",
              "      <th>OverallQual</th>\n",
              "      <th>OverallCond</th>\n",
              "      <th>YearBuilt</th>\n",
              "      <th>YearRemodAdd</th>\n",
              "      <th>RoofStyle</th>\n",
              "      <th>RoofMatl</th>\n",
              "      <th>Exterior1st</th>\n",
              "      <th>Exterior2nd</th>\n",
              "      <th>MasVnrType</th>\n",
              "      <th>MasVnrArea</th>\n",
              "      <th>ExterQual</th>\n",
              "      <th>ExterCond</th>\n",
              "      <th>Foundation</th>\n",
              "      <th>BsmtQual</th>\n",
              "      <th>BsmtCond</th>\n",
              "      <th>BsmtExposure</th>\n",
              "      <th>BsmtFinType1</th>\n",
              "      <th>BsmtFinSF1</th>\n",
              "      <th>BsmtFinType2</th>\n",
              "      <th>BsmtFinSF2</th>\n",
              "      <th>BsmtUnfSF</th>\n",
              "      <th>TotalBsmtSF</th>\n",
              "      <th>Heating</th>\n",
              "      <th>...</th>\n",
              "      <th>CentralAir</th>\n",
              "      <th>Electrical</th>\n",
              "      <th>1stFlrSF</th>\n",
              "      <th>2ndFlrSF</th>\n",
              "      <th>LowQualFinSF</th>\n",
              "      <th>GrLivArea</th>\n",
              "      <th>BsmtFullBath</th>\n",
              "      <th>BsmtHalfBath</th>\n",
              "      <th>FullBath</th>\n",
              "      <th>HalfBath</th>\n",
              "      <th>BedroomAbvGr</th>\n",
              "      <th>KitchenAbvGr</th>\n",
              "      <th>KitchenQual</th>\n",
              "      <th>TotRmsAbvGrd</th>\n",
              "      <th>Functional</th>\n",
              "      <th>Fireplaces</th>\n",
              "      <th>FireplaceQu</th>\n",
              "      <th>GarageType</th>\n",
              "      <th>GarageYrBlt</th>\n",
              "      <th>GarageFinish</th>\n",
              "      <th>GarageCars</th>\n",
              "      <th>GarageArea</th>\n",
              "      <th>GarageQual</th>\n",
              "      <th>GarageCond</th>\n",
              "      <th>PavedDrive</th>\n",
              "      <th>WoodDeckSF</th>\n",
              "      <th>OpenPorchSF</th>\n",
              "      <th>EnclosedPorch</th>\n",
              "      <th>3SsnPorch</th>\n",
              "      <th>ScreenPorch</th>\n",
              "      <th>PoolArea</th>\n",
              "      <th>PoolQC</th>\n",
              "      <th>Fence</th>\n",
              "      <th>MiscFeature</th>\n",
              "      <th>MiscVal</th>\n",
              "      <th>MoSold</th>\n",
              "      <th>YrSold</th>\n",
              "      <th>SaleType</th>\n",
              "      <th>SaleCondition</th>\n",
              "      <th>SalePrice</th>\n",
              "    </tr>\n",
              "  </thead>\n",
              "  <tbody>\n",
              "    <tr>\n",
              "      <th>0</th>\n",
              "      <td>1</td>\n",
              "      <td>60</td>\n",
              "      <td>RL</td>\n",
              "      <td>65.0</td>\n",
              "      <td>8450</td>\n",
              "      <td>Pave</td>\n",
              "      <td>NaN</td>\n",
              "      <td>Reg</td>\n",
              "      <td>Lvl</td>\n",
              "      <td>AllPub</td>\n",
              "      <td>Inside</td>\n",
              "      <td>Gtl</td>\n",
              "      <td>CollgCr</td>\n",
              "      <td>Norm</td>\n",
              "      <td>Norm</td>\n",
              "      <td>1Fam</td>\n",
              "      <td>2Story</td>\n",
              "      <td>7</td>\n",
              "      <td>5</td>\n",
              "      <td>2003</td>\n",
              "      <td>2003</td>\n",
              "      <td>Gable</td>\n",
              "      <td>CompShg</td>\n",
              "      <td>VinylSd</td>\n",
              "      <td>VinylSd</td>\n",
              "      <td>BrkFace</td>\n",
              "      <td>196.0</td>\n",
              "      <td>Gd</td>\n",
              "      <td>TA</td>\n",
              "      <td>PConc</td>\n",
              "      <td>Gd</td>\n",
              "      <td>TA</td>\n",
              "      <td>No</td>\n",
              "      <td>GLQ</td>\n",
              "      <td>706</td>\n",
              "      <td>Unf</td>\n",
              "      <td>0</td>\n",
              "      <td>150</td>\n",
              "      <td>856</td>\n",
              "      <td>GasA</td>\n",
              "      <td>...</td>\n",
              "      <td>Y</td>\n",
              "      <td>SBrkr</td>\n",
              "      <td>856</td>\n",
              "      <td>854</td>\n",
              "      <td>0</td>\n",
              "      <td>1710</td>\n",
              "      <td>1</td>\n",
              "      <td>0</td>\n",
              "      <td>2</td>\n",
              "      <td>1</td>\n",
              "      <td>3</td>\n",
              "      <td>1</td>\n",
              "      <td>Gd</td>\n",
              "      <td>8</td>\n",
              "      <td>Typ</td>\n",
              "      <td>0</td>\n",
              "      <td>NaN</td>\n",
              "      <td>Attchd</td>\n",
              "      <td>2003.0</td>\n",
              "      <td>RFn</td>\n",
              "      <td>2</td>\n",
              "      <td>548</td>\n",
              "      <td>TA</td>\n",
              "      <td>TA</td>\n",
              "      <td>Y</td>\n",
              "      <td>0</td>\n",
              "      <td>61</td>\n",
              "      <td>0</td>\n",
              "      <td>0</td>\n",
              "      <td>0</td>\n",
              "      <td>0</td>\n",
              "      <td>NaN</td>\n",
              "      <td>NaN</td>\n",
              "      <td>NaN</td>\n",
              "      <td>0</td>\n",
              "      <td>2</td>\n",
              "      <td>2008</td>\n",
              "      <td>WD</td>\n",
              "      <td>Normal</td>\n",
              "      <td>208500</td>\n",
              "    </tr>\n",
              "    <tr>\n",
              "      <th>1</th>\n",
              "      <td>2</td>\n",
              "      <td>20</td>\n",
              "      <td>RL</td>\n",
              "      <td>80.0</td>\n",
              "      <td>9600</td>\n",
              "      <td>Pave</td>\n",
              "      <td>NaN</td>\n",
              "      <td>Reg</td>\n",
              "      <td>Lvl</td>\n",
              "      <td>AllPub</td>\n",
              "      <td>FR2</td>\n",
              "      <td>Gtl</td>\n",
              "      <td>Veenker</td>\n",
              "      <td>Feedr</td>\n",
              "      <td>Norm</td>\n",
              "      <td>1Fam</td>\n",
              "      <td>1Story</td>\n",
              "      <td>6</td>\n",
              "      <td>8</td>\n",
              "      <td>1976</td>\n",
              "      <td>1976</td>\n",
              "      <td>Gable</td>\n",
              "      <td>CompShg</td>\n",
              "      <td>MetalSd</td>\n",
              "      <td>MetalSd</td>\n",
              "      <td>None</td>\n",
              "      <td>0.0</td>\n",
              "      <td>TA</td>\n",
              "      <td>TA</td>\n",
              "      <td>CBlock</td>\n",
              "      <td>Gd</td>\n",
              "      <td>TA</td>\n",
              "      <td>Gd</td>\n",
              "      <td>ALQ</td>\n",
              "      <td>978</td>\n",
              "      <td>Unf</td>\n",
              "      <td>0</td>\n",
              "      <td>284</td>\n",
              "      <td>1262</td>\n",
              "      <td>GasA</td>\n",
              "      <td>...</td>\n",
              "      <td>Y</td>\n",
              "      <td>SBrkr</td>\n",
              "      <td>1262</td>\n",
              "      <td>0</td>\n",
              "      <td>0</td>\n",
              "      <td>1262</td>\n",
              "      <td>0</td>\n",
              "      <td>1</td>\n",
              "      <td>2</td>\n",
              "      <td>0</td>\n",
              "      <td>3</td>\n",
              "      <td>1</td>\n",
              "      <td>TA</td>\n",
              "      <td>6</td>\n",
              "      <td>Typ</td>\n",
              "      <td>1</td>\n",
              "      <td>TA</td>\n",
              "      <td>Attchd</td>\n",
              "      <td>1976.0</td>\n",
              "      <td>RFn</td>\n",
              "      <td>2</td>\n",
              "      <td>460</td>\n",
              "      <td>TA</td>\n",
              "      <td>TA</td>\n",
              "      <td>Y</td>\n",
              "      <td>298</td>\n",
              "      <td>0</td>\n",
              "      <td>0</td>\n",
              "      <td>0</td>\n",
              "      <td>0</td>\n",
              "      <td>0</td>\n",
              "      <td>NaN</td>\n",
              "      <td>NaN</td>\n",
              "      <td>NaN</td>\n",
              "      <td>0</td>\n",
              "      <td>5</td>\n",
              "      <td>2007</td>\n",
              "      <td>WD</td>\n",
              "      <td>Normal</td>\n",
              "      <td>181500</td>\n",
              "    </tr>\n",
              "    <tr>\n",
              "      <th>2</th>\n",
              "      <td>3</td>\n",
              "      <td>60</td>\n",
              "      <td>RL</td>\n",
              "      <td>68.0</td>\n",
              "      <td>11250</td>\n",
              "      <td>Pave</td>\n",
              "      <td>NaN</td>\n",
              "      <td>IR1</td>\n",
              "      <td>Lvl</td>\n",
              "      <td>AllPub</td>\n",
              "      <td>Inside</td>\n",
              "      <td>Gtl</td>\n",
              "      <td>CollgCr</td>\n",
              "      <td>Norm</td>\n",
              "      <td>Norm</td>\n",
              "      <td>1Fam</td>\n",
              "      <td>2Story</td>\n",
              "      <td>7</td>\n",
              "      <td>5</td>\n",
              "      <td>2001</td>\n",
              "      <td>2002</td>\n",
              "      <td>Gable</td>\n",
              "      <td>CompShg</td>\n",
              "      <td>VinylSd</td>\n",
              "      <td>VinylSd</td>\n",
              "      <td>BrkFace</td>\n",
              "      <td>162.0</td>\n",
              "      <td>Gd</td>\n",
              "      <td>TA</td>\n",
              "      <td>PConc</td>\n",
              "      <td>Gd</td>\n",
              "      <td>TA</td>\n",
              "      <td>Mn</td>\n",
              "      <td>GLQ</td>\n",
              "      <td>486</td>\n",
              "      <td>Unf</td>\n",
              "      <td>0</td>\n",
              "      <td>434</td>\n",
              "      <td>920</td>\n",
              "      <td>GasA</td>\n",
              "      <td>...</td>\n",
              "      <td>Y</td>\n",
              "      <td>SBrkr</td>\n",
              "      <td>920</td>\n",
              "      <td>866</td>\n",
              "      <td>0</td>\n",
              "      <td>1786</td>\n",
              "      <td>1</td>\n",
              "      <td>0</td>\n",
              "      <td>2</td>\n",
              "      <td>1</td>\n",
              "      <td>3</td>\n",
              "      <td>1</td>\n",
              "      <td>Gd</td>\n",
              "      <td>6</td>\n",
              "      <td>Typ</td>\n",
              "      <td>1</td>\n",
              "      <td>TA</td>\n",
              "      <td>Attchd</td>\n",
              "      <td>2001.0</td>\n",
              "      <td>RFn</td>\n",
              "      <td>2</td>\n",
              "      <td>608</td>\n",
              "      <td>TA</td>\n",
              "      <td>TA</td>\n",
              "      <td>Y</td>\n",
              "      <td>0</td>\n",
              "      <td>42</td>\n",
              "      <td>0</td>\n",
              "      <td>0</td>\n",
              "      <td>0</td>\n",
              "      <td>0</td>\n",
              "      <td>NaN</td>\n",
              "      <td>NaN</td>\n",
              "      <td>NaN</td>\n",
              "      <td>0</td>\n",
              "      <td>9</td>\n",
              "      <td>2008</td>\n",
              "      <td>WD</td>\n",
              "      <td>Normal</td>\n",
              "      <td>223500</td>\n",
              "    </tr>\n",
              "    <tr>\n",
              "      <th>3</th>\n",
              "      <td>4</td>\n",
              "      <td>70</td>\n",
              "      <td>RL</td>\n",
              "      <td>60.0</td>\n",
              "      <td>9550</td>\n",
              "      <td>Pave</td>\n",
              "      <td>NaN</td>\n",
              "      <td>IR1</td>\n",
              "      <td>Lvl</td>\n",
              "      <td>AllPub</td>\n",
              "      <td>Corner</td>\n",
              "      <td>Gtl</td>\n",
              "      <td>Crawfor</td>\n",
              "      <td>Norm</td>\n",
              "      <td>Norm</td>\n",
              "      <td>1Fam</td>\n",
              "      <td>2Story</td>\n",
              "      <td>7</td>\n",
              "      <td>5</td>\n",
              "      <td>1915</td>\n",
              "      <td>1970</td>\n",
              "      <td>Gable</td>\n",
              "      <td>CompShg</td>\n",
              "      <td>Wd Sdng</td>\n",
              "      <td>Wd Shng</td>\n",
              "      <td>None</td>\n",
              "      <td>0.0</td>\n",
              "      <td>TA</td>\n",
              "      <td>TA</td>\n",
              "      <td>BrkTil</td>\n",
              "      <td>TA</td>\n",
              "      <td>Gd</td>\n",
              "      <td>No</td>\n",
              "      <td>ALQ</td>\n",
              "      <td>216</td>\n",
              "      <td>Unf</td>\n",
              "      <td>0</td>\n",
              "      <td>540</td>\n",
              "      <td>756</td>\n",
              "      <td>GasA</td>\n",
              "      <td>...</td>\n",
              "      <td>Y</td>\n",
              "      <td>SBrkr</td>\n",
              "      <td>961</td>\n",
              "      <td>756</td>\n",
              "      <td>0</td>\n",
              "      <td>1717</td>\n",
              "      <td>1</td>\n",
              "      <td>0</td>\n",
              "      <td>1</td>\n",
              "      <td>0</td>\n",
              "      <td>3</td>\n",
              "      <td>1</td>\n",
              "      <td>Gd</td>\n",
              "      <td>7</td>\n",
              "      <td>Typ</td>\n",
              "      <td>1</td>\n",
              "      <td>Gd</td>\n",
              "      <td>Detchd</td>\n",
              "      <td>1998.0</td>\n",
              "      <td>Unf</td>\n",
              "      <td>3</td>\n",
              "      <td>642</td>\n",
              "      <td>TA</td>\n",
              "      <td>TA</td>\n",
              "      <td>Y</td>\n",
              "      <td>0</td>\n",
              "      <td>35</td>\n",
              "      <td>272</td>\n",
              "      <td>0</td>\n",
              "      <td>0</td>\n",
              "      <td>0</td>\n",
              "      <td>NaN</td>\n",
              "      <td>NaN</td>\n",
              "      <td>NaN</td>\n",
              "      <td>0</td>\n",
              "      <td>2</td>\n",
              "      <td>2006</td>\n",
              "      <td>WD</td>\n",
              "      <td>Abnorml</td>\n",
              "      <td>140000</td>\n",
              "    </tr>\n",
              "    <tr>\n",
              "      <th>4</th>\n",
              "      <td>5</td>\n",
              "      <td>60</td>\n",
              "      <td>RL</td>\n",
              "      <td>84.0</td>\n",
              "      <td>14260</td>\n",
              "      <td>Pave</td>\n",
              "      <td>NaN</td>\n",
              "      <td>IR1</td>\n",
              "      <td>Lvl</td>\n",
              "      <td>AllPub</td>\n",
              "      <td>FR2</td>\n",
              "      <td>Gtl</td>\n",
              "      <td>NoRidge</td>\n",
              "      <td>Norm</td>\n",
              "      <td>Norm</td>\n",
              "      <td>1Fam</td>\n",
              "      <td>2Story</td>\n",
              "      <td>8</td>\n",
              "      <td>5</td>\n",
              "      <td>2000</td>\n",
              "      <td>2000</td>\n",
              "      <td>Gable</td>\n",
              "      <td>CompShg</td>\n",
              "      <td>VinylSd</td>\n",
              "      <td>VinylSd</td>\n",
              "      <td>BrkFace</td>\n",
              "      <td>350.0</td>\n",
              "      <td>Gd</td>\n",
              "      <td>TA</td>\n",
              "      <td>PConc</td>\n",
              "      <td>Gd</td>\n",
              "      <td>TA</td>\n",
              "      <td>Av</td>\n",
              "      <td>GLQ</td>\n",
              "      <td>655</td>\n",
              "      <td>Unf</td>\n",
              "      <td>0</td>\n",
              "      <td>490</td>\n",
              "      <td>1145</td>\n",
              "      <td>GasA</td>\n",
              "      <td>...</td>\n",
              "      <td>Y</td>\n",
              "      <td>SBrkr</td>\n",
              "      <td>1145</td>\n",
              "      <td>1053</td>\n",
              "      <td>0</td>\n",
              "      <td>2198</td>\n",
              "      <td>1</td>\n",
              "      <td>0</td>\n",
              "      <td>2</td>\n",
              "      <td>1</td>\n",
              "      <td>4</td>\n",
              "      <td>1</td>\n",
              "      <td>Gd</td>\n",
              "      <td>9</td>\n",
              "      <td>Typ</td>\n",
              "      <td>1</td>\n",
              "      <td>TA</td>\n",
              "      <td>Attchd</td>\n",
              "      <td>2000.0</td>\n",
              "      <td>RFn</td>\n",
              "      <td>3</td>\n",
              "      <td>836</td>\n",
              "      <td>TA</td>\n",
              "      <td>TA</td>\n",
              "      <td>Y</td>\n",
              "      <td>192</td>\n",
              "      <td>84</td>\n",
              "      <td>0</td>\n",
              "      <td>0</td>\n",
              "      <td>0</td>\n",
              "      <td>0</td>\n",
              "      <td>NaN</td>\n",
              "      <td>NaN</td>\n",
              "      <td>NaN</td>\n",
              "      <td>0</td>\n",
              "      <td>12</td>\n",
              "      <td>2008</td>\n",
              "      <td>WD</td>\n",
              "      <td>Normal</td>\n",
              "      <td>250000</td>\n",
              "    </tr>\n",
              "  </tbody>\n",
              "</table>\n",
              "<p>5 rows × 81 columns</p>\n",
              "</div>"
            ],
            "text/plain": [
              "   Id  MSSubClass MSZoning  ...  SaleType  SaleCondition SalePrice\n",
              "0   1          60       RL  ...        WD         Normal    208500\n",
              "1   2          20       RL  ...        WD         Normal    181500\n",
              "2   3          60       RL  ...        WD         Normal    223500\n",
              "3   4          70       RL  ...        WD        Abnorml    140000\n",
              "4   5          60       RL  ...        WD         Normal    250000\n",
              "\n",
              "[5 rows x 81 columns]"
            ]
          },
          "metadata": {
            "tags": []
          },
          "execution_count": 1
        }
      ]
    },
    {
      "cell_type": "markdown",
      "metadata": {
        "id": "qAkjEHPGzpED"
      },
      "source": [
        "- Reimplement your model from the previous lesson."
      ]
    },
    {
      "cell_type": "code",
      "metadata": {
        "id": "wuRNW2Sgn-1G"
      },
      "source": [
        "df_null = house_prices_df.isna().sum() / len(house_prices_df)\n",
        "house_prices_df.drop(df_null[df_null > .1].index, axis=1, inplace=True)\n",
        "house_prices_df.dropna(inplace=True)\n",
        "\n",
        "cols=['OverallQual', 'GrLivArea', 'GarageCars', 'TotalBsmtSF', 'FullBath', 'YearBuilt','YearRemodAdd']\n",
        "\n",
        "df_train = house_prices_df[cols]\n",
        "\n",
        "MSZoning = pd.get_dummies(house_prices_df['MSZoning'], drop_first=True)\n",
        "Street = pd.get_dummies(house_prices_df['Street'], drop_first=True)\n",
        "BsmtQual = pd.get_dummies(house_prices_df['BsmtQual'], drop_first=True)\n",
        "SaleCondition = pd.get_dummies(house_prices_df['SaleCondition'], drop_first=True)\n",
        "\n",
        "scaler = StandardScaler()\n",
        "\n",
        "df_train = pd.DataFrame(scaler.fit_transform(df_train), columns=df_train.columns, index=df_train.index)\n",
        "\n",
        "X = pd.concat([df_train, MSZoning, Street, BsmtQual,SaleCondition],axis =1)\n",
        "\n",
        "y = house_prices_df['SalePrice']\n"
      ],
      "execution_count": null,
      "outputs": []
    },
    {
      "cell_type": "code",
      "metadata": {
        "id": "mqYpaMZ5n-sW"
      },
      "source": [
        "X_train, X_test, y_train, y_test = train_test_split(X, y, test_size = 0.2, random_state = 123)"
      ],
      "execution_count": null,
      "outputs": []
    },
    {
      "cell_type": "code",
      "metadata": {
        "colab": {
          "base_uri": "https://localhost:8080/"
        },
        "id": "jXew9HGXn-lG",
        "outputId": "1b08dd27-1f9e-414a-a9b4-ae260833e1aa"
      },
      "source": [
        "lrm = LinearRegression()\n",
        "lrm.fit(X_train, y_train)"
      ],
      "execution_count": null,
      "outputs": [
        {
          "output_type": "execute_result",
          "data": {
            "text/plain": [
              "LinearRegression(copy_X=True, fit_intercept=True, n_jobs=None, normalize=False)"
            ]
          },
          "metadata": {
            "tags": []
          },
          "execution_count": 4
        }
      ]
    },
    {
      "cell_type": "code",
      "metadata": {
        "id": "5pPzTLgwzpEE"
      },
      "source": [
        "y_preds_train = lrm.predict(X_train)\n",
        "y_preds_test = lrm.predict(X_test)"
      ],
      "execution_count": null,
      "outputs": []
    },
    {
      "cell_type": "code",
      "metadata": {
        "colab": {
          "base_uri": "https://localhost:8080/"
        },
        "id": "tmAZplabo4pM",
        "outputId": "c9463861-4089-4f1b-e608-dc666795e249"
      },
      "source": [
        "print(\"R-squared of the model in training set is: {}\".format(lrm.score(X_train, y_train)))\n",
        "print(\"-----Test set statistics-----\")\n",
        "print(\"R-squared of the model in test set is: {}\".format(lrm.score(X_test, y_test)))\n",
        "print(\"Mean absolute error of the prediction is: {}\".format(mean_absolute_error(y_test, y_preds_test)))\n",
        "print(\"Mean squared error of the prediction is: {}\".format(mse(y_test, y_preds_test)))\n",
        "print(\"Root mean squared error of the prediction is: {}\".format(rmse(y_test, y_preds_test)))\n",
        "print(\"Mean absolute percentage error of the prediction is: {}\".format(np.mean(np.abs((y_test - y_preds_test) / y_test)) * 100))"
      ],
      "execution_count": null,
      "outputs": [
        {
          "output_type": "stream",
          "text": [
            "R-squared of the model in training set is: 0.8269380440883238\n",
            "-----Test set statistics-----\n",
            "R-squared of the model in test set is: 0.515267553440401\n",
            "Mean absolute error of the prediction is: 23365.348118051574\n",
            "Mean squared error of the prediction is: 2269430398.335494\n",
            "Root mean squared error of the prediction is: 47638.53900294901\n",
            "Mean absolute percentage error of the prediction is: 14.199151194424855\n"
          ],
          "name": "stdout"
        }
      ]
    },
    {
      "cell_type": "code",
      "metadata": {
        "id": "yd4NwvdLo4mN"
      },
      "source": [
        ""
      ],
      "execution_count": null,
      "outputs": []
    },
    {
      "cell_type": "markdown",
      "metadata": {
        "id": "hCTb4x_2zpEE"
      },
      "source": [
        "- Try OLS, Lasso, Ridge and ElasticNet regressions using the same model specification. This time, you need to do **k-fold cross-validation** to choose the best hyperparameter values for your models. Which model is the best? Why?"
      ]
    },
    {
      "cell_type": "markdown",
      "metadata": {
        "id": "N5nO-Xm9pkYm"
      },
      "source": [
        "### OLS"
      ]
    },
    {
      "cell_type": "code",
      "metadata": {
        "id": "21pW5v9YzpEF",
        "colab": {
          "base_uri": "https://localhost:8080/",
          "height": 822
        },
        "outputId": "3a2405bb-cfe9-4158-bbbd-e45f8abdc62f"
      },
      "source": [
        "import statsmodels.api as sm\n",
        "\n",
        "results = sm.OLS(y_train, X_train).fit()\n",
        "\n",
        "display(results.summary())"
      ],
      "execution_count": null,
      "outputs": [
        {
          "output_type": "display_data",
          "data": {
            "text/html": [
              "<table class=\"simpletable\">\n",
              "<caption>OLS Regression Results</caption>\n",
              "<tr>\n",
              "  <th>Dep. Variable:</th>        <td>SalePrice</td>    <th>  R-squared (uncentered):</th>      <td>   0.971</td> \n",
              "</tr>\n",
              "<tr>\n",
              "  <th>Model:</th>                   <td>OLS</td>       <th>  Adj. R-squared (uncentered):</th> <td>   0.970</td> \n",
              "</tr>\n",
              "<tr>\n",
              "  <th>Method:</th>             <td>Least Squares</td>  <th>  F-statistic:       </th>          <td>   1744.</td> \n",
              "</tr>\n",
              "<tr>\n",
              "  <th>Date:</th>             <td>Mon, 31 May 2021</td> <th>  Prob (F-statistic):</th>           <td>  0.00</td>  \n",
              "</tr>\n",
              "<tr>\n",
              "  <th>Time:</th>                 <td>14:05:40</td>     <th>  Log-Likelihood:    </th>          <td> -12708.</td> \n",
              "</tr>\n",
              "<tr>\n",
              "  <th>No. Observations:</th>      <td>  1070</td>      <th>  AIC:               </th>          <td>2.546e+04</td>\n",
              "</tr>\n",
              "<tr>\n",
              "  <th>Df Residuals:</th>          <td>  1050</td>      <th>  BIC:               </th>          <td>2.556e+04</td>\n",
              "</tr>\n",
              "<tr>\n",
              "  <th>Df Model:</th>              <td>    20</td>      <th>                     </th>              <td> </td>    \n",
              "</tr>\n",
              "<tr>\n",
              "  <th>Covariance Type:</th>      <td>nonrobust</td>    <th>                     </th>              <td> </td>    \n",
              "</tr>\n",
              "</table>\n",
              "<table class=\"simpletable\">\n",
              "<tr>\n",
              "        <td></td>          <th>coef</th>     <th>std err</th>      <th>t</th>      <th>P>|t|</th>  <th>[0.025</th>    <th>0.975]</th>  \n",
              "</tr>\n",
              "<tr>\n",
              "  <th>OverallQual</th>  <td> 2.207e+04</td> <td> 1793.310</td> <td>   12.306</td> <td> 0.000</td> <td> 1.85e+04</td> <td> 2.56e+04</td>\n",
              "</tr>\n",
              "<tr>\n",
              "  <th>GrLivArea</th>    <td> 3.331e+04</td> <td> 1749.698</td> <td>   19.038</td> <td> 0.000</td> <td> 2.99e+04</td> <td> 3.67e+04</td>\n",
              "</tr>\n",
              "<tr>\n",
              "  <th>GarageCars</th>   <td> 7432.4300</td> <td> 1554.985</td> <td>    4.780</td> <td> 0.000</td> <td> 4381.197</td> <td> 1.05e+04</td>\n",
              "</tr>\n",
              "<tr>\n",
              "  <th>TotalBsmtSF</th>  <td> 1.615e+04</td> <td> 1483.568</td> <td>   10.887</td> <td> 0.000</td> <td> 1.32e+04</td> <td> 1.91e+04</td>\n",
              "</tr>\n",
              "<tr>\n",
              "  <th>FullBath</th>     <td>-8145.1697</td> <td> 1654.987</td> <td>   -4.922</td> <td> 0.000</td> <td>-1.14e+04</td> <td>-4897.711</td>\n",
              "</tr>\n",
              "<tr>\n",
              "  <th>YearBuilt</th>    <td> 4276.5686</td> <td> 2038.381</td> <td>    2.098</td> <td> 0.036</td> <td>  276.805</td> <td> 8276.332</td>\n",
              "</tr>\n",
              "<tr>\n",
              "  <th>YearRemodAdd</th> <td> 6123.8539</td> <td> 1466.376</td> <td>    4.176</td> <td> 0.000</td> <td> 3246.492</td> <td> 9001.215</td>\n",
              "</tr>\n",
              "<tr>\n",
              "  <th>FV</th>           <td> 8.695e+04</td> <td> 1.71e+04</td> <td>    5.082</td> <td> 0.000</td> <td> 5.34e+04</td> <td> 1.21e+05</td>\n",
              "</tr>\n",
              "<tr>\n",
              "  <th>RH</th>           <td>  8.16e+04</td> <td> 1.92e+04</td> <td>    4.239</td> <td> 0.000</td> <td> 4.38e+04</td> <td> 1.19e+05</td>\n",
              "</tr>\n",
              "<tr>\n",
              "  <th>RL</th>           <td> 8.777e+04</td> <td> 1.63e+04</td> <td>    5.394</td> <td> 0.000</td> <td> 5.58e+04</td> <td>  1.2e+05</td>\n",
              "</tr>\n",
              "<tr>\n",
              "  <th>RM</th>           <td>  7.26e+04</td> <td> 1.63e+04</td> <td>    4.449</td> <td> 0.000</td> <td> 4.06e+04</td> <td> 1.05e+05</td>\n",
              "</tr>\n",
              "<tr>\n",
              "  <th>Pave</th>         <td> 1.215e+05</td> <td> 1.61e+04</td> <td>    7.566</td> <td> 0.000</td> <td>    9e+04</td> <td> 1.53e+05</td>\n",
              "</tr>\n",
              "<tr>\n",
              "  <th>Fa</th>           <td>-3.706e+04</td> <td> 9137.223</td> <td>   -4.056</td> <td> 0.000</td> <td> -5.5e+04</td> <td>-1.91e+04</td>\n",
              "</tr>\n",
              "<tr>\n",
              "  <th>Gd</th>           <td>-3.754e+04</td> <td> 4482.976</td> <td>   -8.373</td> <td> 0.000</td> <td>-4.63e+04</td> <td>-2.87e+04</td>\n",
              "</tr>\n",
              "<tr>\n",
              "  <th>TA</th>           <td> -3.78e+04</td> <td> 5664.511</td> <td>   -6.673</td> <td> 0.000</td> <td>-4.89e+04</td> <td>-2.67e+04</td>\n",
              "</tr>\n",
              "<tr>\n",
              "  <th>AdjLand</th>      <td> 3.148e+04</td> <td> 3.55e+04</td> <td>    0.887</td> <td> 0.375</td> <td>-3.82e+04</td> <td> 1.01e+05</td>\n",
              "</tr>\n",
              "<tr>\n",
              "  <th>Alloca</th>       <td> 4.215e+04</td> <td> 1.64e+04</td> <td>    2.576</td> <td> 0.010</td> <td>    1e+04</td> <td> 7.43e+04</td>\n",
              "</tr>\n",
              "<tr>\n",
              "  <th>Family</th>       <td>  739.7969</td> <td> 9914.998</td> <td>    0.075</td> <td> 0.941</td> <td>-1.87e+04</td> <td> 2.02e+04</td>\n",
              "</tr>\n",
              "<tr>\n",
              "  <th>Normal</th>       <td> 1.517e+04</td> <td> 4592.992</td> <td>    3.304</td> <td> 0.001</td> <td> 6162.100</td> <td> 2.42e+04</td>\n",
              "</tr>\n",
              "<tr>\n",
              "  <th>Partial</th>      <td> 3.048e+04</td> <td> 6071.676</td> <td>    5.021</td> <td> 0.000</td> <td> 1.86e+04</td> <td> 4.24e+04</td>\n",
              "</tr>\n",
              "</table>\n",
              "<table class=\"simpletable\">\n",
              "<tr>\n",
              "  <th>Omnibus:</th>       <td>298.811</td> <th>  Durbin-Watson:     </th> <td>   2.022</td> \n",
              "</tr>\n",
              "<tr>\n",
              "  <th>Prob(Omnibus):</th> <td> 0.000</td>  <th>  Jarque-Bera (JB):  </th> <td>25769.646</td>\n",
              "</tr>\n",
              "<tr>\n",
              "  <th>Skew:</th>          <td>-0.001</td>  <th>  Prob(JB):          </th> <td>    0.00</td> \n",
              "</tr>\n",
              "<tr>\n",
              "  <th>Kurtosis:</th>      <td>27.042</td>  <th>  Cond. No.          </th> <td>    68.1</td> \n",
              "</tr>\n",
              "</table><br/><br/>Warnings:<br/>[1] Standard Errors assume that the covariance matrix of the errors is correctly specified."
            ],
            "text/plain": [
              "<class 'statsmodels.iolib.summary.Summary'>\n",
              "\"\"\"\n",
              "                                 OLS Regression Results                                \n",
              "=======================================================================================\n",
              "Dep. Variable:              SalePrice   R-squared (uncentered):                   0.971\n",
              "Model:                            OLS   Adj. R-squared (uncentered):              0.970\n",
              "Method:                 Least Squares   F-statistic:                              1744.\n",
              "Date:                Mon, 31 May 2021   Prob (F-statistic):                        0.00\n",
              "Time:                        14:05:40   Log-Likelihood:                         -12708.\n",
              "No. Observations:                1070   AIC:                                  2.546e+04\n",
              "Df Residuals:                    1050   BIC:                                  2.556e+04\n",
              "Df Model:                          20                                                  \n",
              "Covariance Type:            nonrobust                                                  \n",
              "================================================================================\n",
              "                   coef    std err          t      P>|t|      [0.025      0.975]\n",
              "--------------------------------------------------------------------------------\n",
              "OverallQual   2.207e+04   1793.310     12.306      0.000    1.85e+04    2.56e+04\n",
              "GrLivArea     3.331e+04   1749.698     19.038      0.000    2.99e+04    3.67e+04\n",
              "GarageCars    7432.4300   1554.985      4.780      0.000    4381.197    1.05e+04\n",
              "TotalBsmtSF   1.615e+04   1483.568     10.887      0.000    1.32e+04    1.91e+04\n",
              "FullBath     -8145.1697   1654.987     -4.922      0.000   -1.14e+04   -4897.711\n",
              "YearBuilt     4276.5686   2038.381      2.098      0.036     276.805    8276.332\n",
              "YearRemodAdd  6123.8539   1466.376      4.176      0.000    3246.492    9001.215\n",
              "FV            8.695e+04   1.71e+04      5.082      0.000    5.34e+04    1.21e+05\n",
              "RH             8.16e+04   1.92e+04      4.239      0.000    4.38e+04    1.19e+05\n",
              "RL            8.777e+04   1.63e+04      5.394      0.000    5.58e+04     1.2e+05\n",
              "RM             7.26e+04   1.63e+04      4.449      0.000    4.06e+04    1.05e+05\n",
              "Pave          1.215e+05   1.61e+04      7.566      0.000       9e+04    1.53e+05\n",
              "Fa           -3.706e+04   9137.223     -4.056      0.000    -5.5e+04   -1.91e+04\n",
              "Gd           -3.754e+04   4482.976     -8.373      0.000   -4.63e+04   -2.87e+04\n",
              "TA            -3.78e+04   5664.511     -6.673      0.000   -4.89e+04   -2.67e+04\n",
              "AdjLand       3.148e+04   3.55e+04      0.887      0.375   -3.82e+04    1.01e+05\n",
              "Alloca        4.215e+04   1.64e+04      2.576      0.010       1e+04    7.43e+04\n",
              "Family         739.7969   9914.998      0.075      0.941   -1.87e+04    2.02e+04\n",
              "Normal        1.517e+04   4592.992      3.304      0.001    6162.100    2.42e+04\n",
              "Partial       3.048e+04   6071.676      5.021      0.000    1.86e+04    4.24e+04\n",
              "==============================================================================\n",
              "Omnibus:                      298.811   Durbin-Watson:                   2.022\n",
              "Prob(Omnibus):                  0.000   Jarque-Bera (JB):            25769.646\n",
              "Skew:                          -0.001   Prob(JB):                         0.00\n",
              "Kurtosis:                      27.042   Cond. No.                         68.1\n",
              "==============================================================================\n",
              "\n",
              "Warnings:\n",
              "[1] Standard Errors assume that the covariance matrix of the errors is correctly specified.\n",
              "\"\"\""
            ]
          },
          "metadata": {
            "tags": []
          }
        }
      ]
    },
    {
      "cell_type": "markdown",
      "metadata": {
        "id": "OU1GwxzJpv0-"
      },
      "source": [
        "### Ridge"
      ]
    },
    {
      "cell_type": "code",
      "metadata": {
        "colab": {
          "base_uri": "https://localhost:8080/"
        },
        "id": "GqSEghMjpxcO",
        "outputId": "5f5bccc9-fe16-42c9-fe91-58639a67364c"
      },
      "source": [
        "from sklearn.linear_model import Ridge\n",
        "ridgeregr = Ridge(alpha=1000) \n",
        "ridgeregr.fit(X_train, y_train)\n",
        "\n",
        "# We are making predictions here\n",
        "y_preds_train = ridgeregr.predict(X_train)\n",
        "y_preds_test = ridgeregr.predict(X_test)\n",
        "\n",
        "print(\"R-squared of the model in training set is: {}\".format(ridgeregr.score(X_train, y_train)))\n",
        "print(\"-----Test set statistics-----\")\n",
        "print(\"R-squared of the model in test set is: {}\".format(ridgeregr.score(X_test, y_test)))\n",
        "print(\"Mean absolute error of the prediction is: {}\".format(mean_absolute_error(y_test, y_preds_test)))\n",
        "print(\"Mean squared error of the prediction is: {}\".format(mse(y_test, y_preds_test)))\n",
        "print(\"Root mean squared error of the prediction is: {}\".format(rmse(y_test, y_preds_test)))\n",
        "print(\"Mean absolute percentage error of the prediction is: {}\".format(np.mean(np.abs((y_test - y_preds_test) / y_test)) * 100))"
      ],
      "execution_count": null,
      "outputs": [
        {
          "output_type": "stream",
          "text": [
            "R-squared of the model in training set is: 0.7417394407165754\n",
            "-----Test set statistics-----\n",
            "R-squared of the model in test set is: 0.6610163879144781\n",
            "Mean absolute error of the prediction is: 24578.40981828036\n",
            "Mean squared error of the prediction is: 1587060489.2752175\n",
            "Root mean squared error of the prediction is: 39837.92777335711\n",
            "Mean absolute percentage error of the prediction is: 14.260817214191329\n"
          ],
          "name": "stdout"
        }
      ]
    },
    {
      "cell_type": "code",
      "metadata": {
        "id": "AJmmOfN2v47b"
      },
      "source": [
        "params = {'alpha': [10**i for i in range(1, 10)] + [round(0.1**i, 10) for i in range(10)]}\n"
      ],
      "execution_count": null,
      "outputs": []
    },
    {
      "cell_type": "code",
      "metadata": {
        "colab": {
          "base_uri": "https://localhost:8080/",
          "height": 221
        },
        "id": "iYK2VRIQrnP4",
        "outputId": "12b27b2f-ffcc-4135-bbf4-f6b957d6cec9"
      },
      "source": [
        "ridge_grid = GridSearchCV(Ridge(), param_grid=params, cv=10)\n",
        "\n",
        "ridge_grid.fit(X_train, y_train)\n",
        "print(ridge_grid.best_params_)\n",
        "\n",
        "pd.DataFrame(ridge_grid.cv_results_)[['param_alpha', 'mean_test_score']].sort_values('mean_test_score', ascending=False).head()"
      ],
      "execution_count": null,
      "outputs": [
        {
          "output_type": "stream",
          "text": [
            "{'alpha': 1.0}\n"
          ],
          "name": "stdout"
        },
        {
          "output_type": "execute_result",
          "data": {
            "text/html": [
              "<div>\n",
              "<style scoped>\n",
              "    .dataframe tbody tr th:only-of-type {\n",
              "        vertical-align: middle;\n",
              "    }\n",
              "\n",
              "    .dataframe tbody tr th {\n",
              "        vertical-align: top;\n",
              "    }\n",
              "\n",
              "    .dataframe thead th {\n",
              "        text-align: right;\n",
              "    }\n",
              "</style>\n",
              "<table border=\"1\" class=\"dataframe\">\n",
              "  <thead>\n",
              "    <tr style=\"text-align: right;\">\n",
              "      <th></th>\n",
              "      <th>param_alpha</th>\n",
              "      <th>mean_test_score</th>\n",
              "    </tr>\n",
              "  </thead>\n",
              "  <tbody>\n",
              "    <tr>\n",
              "      <th>9</th>\n",
              "      <td>1</td>\n",
              "      <td>0.816488</td>\n",
              "    </tr>\n",
              "    <tr>\n",
              "      <th>0</th>\n",
              "      <td>10</td>\n",
              "      <td>0.815879</td>\n",
              "    </tr>\n",
              "    <tr>\n",
              "      <th>10</th>\n",
              "      <td>0.1</td>\n",
              "      <td>0.815364</td>\n",
              "    </tr>\n",
              "    <tr>\n",
              "      <th>11</th>\n",
              "      <td>0.01</td>\n",
              "      <td>0.814825</td>\n",
              "    </tr>\n",
              "    <tr>\n",
              "      <th>12</th>\n",
              "      <td>0.001</td>\n",
              "      <td>0.814745</td>\n",
              "    </tr>\n",
              "  </tbody>\n",
              "</table>\n",
              "</div>"
            ],
            "text/plain": [
              "   param_alpha  mean_test_score\n",
              "9            1         0.816488\n",
              "0           10         0.815879\n",
              "10         0.1         0.815364\n",
              "11        0.01         0.814825\n",
              "12       0.001         0.814745"
            ]
          },
          "metadata": {
            "tags": []
          },
          "execution_count": 11
        }
      ]
    },
    {
      "cell_type": "markdown",
      "metadata": {
        "id": "mSwL6Yy2pqeW"
      },
      "source": [
        "### Lasso"
      ]
    },
    {
      "cell_type": "code",
      "metadata": {
        "colab": {
          "base_uri": "https://localhost:8080/"
        },
        "id": "AKvjiL16psaQ",
        "outputId": "c530b221-2188-42d7-a66d-db7656e417a5"
      },
      "source": [
        "from sklearn.linear_model import Lasso\n",
        "\n",
        "lassoregr = Lasso(alpha=1000) \n",
        "lassoregr.fit(X_train, y_train)\n",
        "\n",
        "# We are making predictions here\n",
        "y_preds_train = lassoregr.predict(X_train)\n",
        "y_preds_test = lassoregr.predict(X_test)\n",
        "\n",
        "print(\"R-squared of the model in training set is: {}\".format(lassoregr.score(X_train, y_train)))\n",
        "print(\"-----Test set statistics-----\")\n",
        "print(\"R-squared of the model in test set is: {}\".format(lassoregr.score(X_test, y_test)))\n",
        "print(\"Mean absolute error of the prediction is: {}\".format(mean_absolute_error(y_test, y_preds_test)))\n",
        "print(\"Mean squared error of the prediction is: {}\".format(mse(y_test, y_preds_test)))\n",
        "print(\"Root mean squared error of the prediction is: {}\".format(rmse(y_test, y_preds_test)))\n",
        "print(\"Mean absolute percentage error of the prediction is: {}\".format(np.mean(np.abs((y_test - y_preds_test) / y_test)) * 100))"
      ],
      "execution_count": null,
      "outputs": [
        {
          "output_type": "stream",
          "text": [
            "R-squared of the model in training set is: 0.8119485062221735\n",
            "-----Test set statistics-----\n",
            "R-squared of the model in test set is: 0.5252171067247484\n",
            "Mean absolute error of the prediction is: 24008.340403823426\n",
            "Mean squared error of the prediction is: 2222848373.893727\n",
            "Root mean squared error of the prediction is: 47147.09295273386\n",
            "Mean absolute percentage error of the prediction is: 14.748283241568691\n"
          ],
          "name": "stdout"
        }
      ]
    },
    {
      "cell_type": "code",
      "metadata": {
        "colab": {
          "base_uri": "https://localhost:8080/",
          "height": 221
        },
        "id": "B4RMaiZIqIVI",
        "outputId": "47ae7623-5593-49fe-f832-175dd4f9953a"
      },
      "source": [
        "\n",
        "lasso_grid = GridSearchCV(Lasso(), param_grid=params, cv=10)\n",
        "\n",
        "lasso_grid.fit(X_train, y_train)\n",
        "print(lasso_grid.best_params_)\n",
        "pd.DataFrame(lasso_grid.cv_results_)[['param_alpha', 'mean_test_score']].sort_values('mean_test_score', ascending=False).head()"
      ],
      "execution_count": null,
      "outputs": [
        {
          "output_type": "stream",
          "text": [
            "{'alpha': 100}\n"
          ],
          "name": "stdout"
        },
        {
          "output_type": "execute_result",
          "data": {
            "text/html": [
              "<div>\n",
              "<style scoped>\n",
              "    .dataframe tbody tr th:only-of-type {\n",
              "        vertical-align: middle;\n",
              "    }\n",
              "\n",
              "    .dataframe tbody tr th {\n",
              "        vertical-align: top;\n",
              "    }\n",
              "\n",
              "    .dataframe thead th {\n",
              "        text-align: right;\n",
              "    }\n",
              "</style>\n",
              "<table border=\"1\" class=\"dataframe\">\n",
              "  <thead>\n",
              "    <tr style=\"text-align: right;\">\n",
              "      <th></th>\n",
              "      <th>param_alpha</th>\n",
              "      <th>mean_test_score</th>\n",
              "    </tr>\n",
              "  </thead>\n",
              "  <tbody>\n",
              "    <tr>\n",
              "      <th>1</th>\n",
              "      <td>100</td>\n",
              "      <td>0.817061</td>\n",
              "    </tr>\n",
              "    <tr>\n",
              "      <th>0</th>\n",
              "      <td>10</td>\n",
              "      <td>0.816307</td>\n",
              "    </tr>\n",
              "    <tr>\n",
              "      <th>9</th>\n",
              "      <td>1</td>\n",
              "      <td>0.815003</td>\n",
              "    </tr>\n",
              "    <tr>\n",
              "      <th>10</th>\n",
              "      <td>0.1</td>\n",
              "      <td>0.814770</td>\n",
              "    </tr>\n",
              "    <tr>\n",
              "      <th>11</th>\n",
              "      <td>0.01</td>\n",
              "      <td>0.814745</td>\n",
              "    </tr>\n",
              "  </tbody>\n",
              "</table>\n",
              "</div>"
            ],
            "text/plain": [
              "   param_alpha  mean_test_score\n",
              "1          100         0.817061\n",
              "0           10         0.816307\n",
              "9            1         0.815003\n",
              "10         0.1         0.814770\n",
              "11        0.01         0.814745"
            ]
          },
          "metadata": {
            "tags": []
          },
          "execution_count": 13
        }
      ]
    },
    {
      "cell_type": "markdown",
      "metadata": {
        "id": "VHkHTPBGqKD2"
      },
      "source": [
        "### ElasticNet"
      ]
    },
    {
      "cell_type": "code",
      "metadata": {
        "colab": {
          "base_uri": "https://localhost:8080/"
        },
        "id": "LzyJISVZqL9H",
        "outputId": "b3949631-8be9-4347-f07c-7bded5c2d996"
      },
      "source": [
        "from sklearn.linear_model import ElasticNet\n",
        "\n",
        "elasticregr = ElasticNet() \n",
        "elasticregr.fit(X_train, y_train)\n",
        "\n",
        "# We are making predictions here\n",
        "y_preds_train = elasticregr.predict(X_train)\n",
        "y_preds_test = elasticregr.predict(X_test)\n",
        "\n",
        "print(\"R-squared of the model in training set is: {}\".format(elasticregr.score(X_train, y_train)))\n",
        "print(\"-----Test set statistics-----\")\n",
        "print(\"R-squared of the model in test set is: {}\".format(elasticregr.score(X_test, y_test)))\n",
        "print(\"Mean absolute error of the prediction is: {}\".format(mean_absolute_error(y_test, y_preds_test)))\n",
        "print(\"Mean squared error of the prediction is: {}\".format(mse(y_test, y_preds_test)))\n",
        "print(\"Root mean squared error of the prediction is: {}\".format(rmse(y_test, y_preds_test)))\n",
        "print(\"Mean absolute percentage error of the prediction is: {}\".format(np.mean(np.abs((y_test - y_preds_test) / y_test)) * 100))"
      ],
      "execution_count": null,
      "outputs": [
        {
          "output_type": "stream",
          "text": [
            "R-squared of the model in training set is: 0.7770854267597116\n",
            "-----Test set statistics-----\n",
            "R-squared of the model in test set is: 0.6365374264345531\n",
            "Mean absolute error of the prediction is: 23710.303904354307\n",
            "Mean squared error of the prediction is: 1701666597.6480243\n",
            "Root mean squared error of the prediction is: 41251.26177037527\n",
            "Mean absolute percentage error of the prediction is: 14.030102595445495\n"
          ],
          "name": "stdout"
        }
      ]
    },
    {
      "cell_type": "code",
      "metadata": {
        "colab": {
          "base_uri": "https://localhost:8080/",
          "height": 221
        },
        "id": "FltMBsgMqROo",
        "outputId": "531b5651-700c-498e-ae97-91a04c00e3ac"
      },
      "source": [
        "elastic_grid = GridSearchCV(ElasticNet(), param_grid=params, cv=10)\n",
        "\n",
        "elastic_grid.fit(X_train, y_train)\n",
        "print(elastic_grid.best_params_)\n",
        "pd.DataFrame(elastic_grid.cv_results_)[['param_alpha', 'mean_test_score']].sort_values('mean_test_score', ascending=False).head()"
      ],
      "execution_count": null,
      "outputs": [
        {
          "output_type": "stream",
          "text": [
            "{'alpha': 0.01}\n"
          ],
          "name": "stdout"
        },
        {
          "output_type": "execute_result",
          "data": {
            "text/html": [
              "<div>\n",
              "<style scoped>\n",
              "    .dataframe tbody tr th:only-of-type {\n",
              "        vertical-align: middle;\n",
              "    }\n",
              "\n",
              "    .dataframe tbody tr th {\n",
              "        vertical-align: top;\n",
              "    }\n",
              "\n",
              "    .dataframe thead th {\n",
              "        text-align: right;\n",
              "    }\n",
              "</style>\n",
              "<table border=\"1\" class=\"dataframe\">\n",
              "  <thead>\n",
              "    <tr style=\"text-align: right;\">\n",
              "      <th></th>\n",
              "      <th>param_alpha</th>\n",
              "      <th>mean_test_score</th>\n",
              "    </tr>\n",
              "  </thead>\n",
              "  <tbody>\n",
              "    <tr>\n",
              "      <th>11</th>\n",
              "      <td>0.01</td>\n",
              "      <td>0.816636</td>\n",
              "    </tr>\n",
              "    <tr>\n",
              "      <th>12</th>\n",
              "      <td>0.001</td>\n",
              "      <td>0.816141</td>\n",
              "    </tr>\n",
              "    <tr>\n",
              "      <th>13</th>\n",
              "      <td>0.0001</td>\n",
              "      <td>0.815101</td>\n",
              "    </tr>\n",
              "    <tr>\n",
              "      <th>14</th>\n",
              "      <td>1e-05</td>\n",
              "      <td>0.814786</td>\n",
              "    </tr>\n",
              "    <tr>\n",
              "      <th>15</th>\n",
              "      <td>1e-06</td>\n",
              "      <td>0.814747</td>\n",
              "    </tr>\n",
              "  </tbody>\n",
              "</table>\n",
              "</div>"
            ],
            "text/plain": [
              "   param_alpha  mean_test_score\n",
              "11        0.01         0.816636\n",
              "12       0.001         0.816141\n",
              "13      0.0001         0.815101\n",
              "14       1e-05         0.814786\n",
              "15       1e-06         0.814747"
            ]
          },
          "metadata": {
            "tags": []
          },
          "execution_count": 15
        }
      ]
    },
    {
      "cell_type": "code",
      "metadata": {
        "id": "YAeL8_7LvMJB"
      },
      "source": [
        ""
      ],
      "execution_count": null,
      "outputs": []
    }
  ]
}