{
  "nbformat": 4,
  "nbformat_minor": 0,
  "metadata": {
    "kernelspec": {
      "display_name": "Python 3",
      "language": "python",
      "name": "python3"
    },
    "language_info": {
      "codemirror_mode": {
        "name": "ipython",
        "version": 3
      },
      "file_extension": ".py",
      "mimetype": "text/x-python",
      "name": "python",
      "nbconvert_exporter": "python",
      "pygments_lexer": "ipython3",
      "version": "3.8.7"
    },
    "colab": {
      "name": "Copy of A_01_what_is_regression.ipynb",
      "provenance": [],
      "collapsed_sections": []
    }
  },
  "cells": [
    {
      "cell_type": "markdown",
      "metadata": {
        "id": "CIt_3_doznYB"
      },
      "source": [
        "# <font color=blue>Assignments for \"What is Regression\"</font>"
      ]
    },
    {
      "cell_type": "markdown",
      "metadata": {
        "id": "ClE-B4k-znYM"
      },
      "source": [
        "**(1)** Let's assume that you have World Bank data on financial, economic and social indicators for several countries. You want to measure the factors that affect the level of development in these countries. To this end, you decide to use per capita income as a proxy for the development level, which is defined as the national income divided by the population. You want to use some features in your dataset to predict per capita income. Is this task a classification or a regression task? Why? "
      ]
    },
    {
      "cell_type": "markdown",
      "metadata": {
        "id": "gS-u1GQ9RX5B"
      },
      "source": [
        "If the column we are trying to predict is numeric, it is regression, but if it consists of classes we say it is a classification. The per capita income we are trying to predict is regression as it is a numerical value, and our goal is to predict a numeric variable that can have an infinite number of different values."
      ]
    },
    {
      "cell_type": "markdown",
      "metadata": {
        "id": "EAwvmmsUznYO"
      },
      "source": [
        "**(2)** Which of the following arguments are false and why?\n",
        "\n",
        "    - OLS is a special type of linear regression models. \n",
        "    - Regression models become useless if they don’t meet the assumptions of linear regression. \n",
        "    - Estimation and prediction are the same thing in the context of linear regression models.\n",
        "    - Linear regression model is only one kind of regression models. Regression problems can also be solved with other kind of models like Support Vector Machines or Random Forests."
      ]
    },
    {
      "cell_type": "markdown",
      "metadata": {
        "id": "8UG9NvihTxdp"
      },
      "source": [
        " - OLS is a special type of linear regression models. **---> False, because OLS is an optimization algorithm used by Linear Regression.**\n",
        "\n",
        " - Regression models become useless if they don’t meet the assumptions of linear regression. **---> True**\n",
        "\n",
        " - Estimation and prediction are the same thing in the context of linear regression models. **---> False, Estimation is to known value of a parameter in the population for any variable based on sample. Prediction is knowing the value of a variable based on the known value of the independent variable through the developed model established empirically (functional relationship).**\n",
        " \n",
        " - Linear regression model is only one kind of regression models. Regression problems can also be solved with other kind of models like Support Vector Machines or Random Forests. **---> True**"
      ]
    },
    {
      "cell_type": "markdown",
      "metadata": {
        "id": "BgDPv01wznYQ"
      },
      "source": [
        "**(3)** Assume that your project manager wants you to discover which free services your company offers make your customers buy more of your paid services. Formulate this task as a regression problem and write down the potential outcome and features that you’d like to work on."
      ]
    },
    {
      "cell_type": "markdown",
      "metadata": {
        "id": "JMuXXZUmwIK8"
      },
      "source": [
        "**Outcome :** increase in sales and number of subscriptions\n",
        "\n",
        "**Features :** free service category for different genders or age groups according to different product categories, free service season and free service percentage. \\\n",
        "\n",
        "\n",
        "We have to look at the effect of each feature on the result separately, and this will be numerical due to the regression.\n"
      ]
    },
    {
      "cell_type": "code",
      "metadata": {
        "id": "leBF5XsQznYQ"
      },
      "source": [
        ""
      ],
      "execution_count": null,
      "outputs": []
    }
  ]
}