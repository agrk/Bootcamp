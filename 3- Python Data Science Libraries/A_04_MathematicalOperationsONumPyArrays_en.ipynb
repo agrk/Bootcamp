{
  "nbformat": 4,
  "nbformat_minor": 0,
  "metadata": {
    "colab": {
      "name": "A_04_MathematicalOperationsONumPyArrays_en.ipynb",
      "provenance": []
    },
    "kernelspec": {
      "display_name": "Python 3",
      "language": "python",
      "name": "python3"
    },
    "language_info": {
      "codemirror_mode": {
        "name": "ipython",
        "version": 3
      },
      "file_extension": ".py",
      "mimetype": "text/x-python",
      "name": "python",
      "nbconvert_exporter": "python",
      "pygments_lexer": "ipython3",
      "version": "3.8.3"
    }
  },
  "cells": [
    {
      "cell_type": "markdown",
      "metadata": {
        "id": "dhNImn00JSph"
      },
      "source": [
        "**(1)** Load the array you saved in the previous lesson from the disk."
      ]
    },
    {
      "cell_type": "code",
      "metadata": {
        "id": "ngtcdiG5JSpn",
        "outputId": "7107f5c2-4aff-4042-e0db-f2ae889b97cd"
      },
      "source": [
        "import numpy as np\n",
        "data=np.load('b.npy')\n",
        "data"
      ],
      "execution_count": null,
      "outputs": [
        {
          "output_type": "execute_result",
          "data": {
            "text/plain": [
              "array([[ 1.    ,  1.    ,  1.    ,  1.    ,  1.    ],\n",
              "       [ 0.    , 37.4341, 35.852 ,  7.02  ,  4.1   ],\n",
              "       [ 0.    , 37.6878, 37.4016, 10.27  ,  4.4   ],\n",
              "       [ 0.    , 37.2003, 30.4376, 78.07  ,  4.    ],\n",
              "       [ 0.    , 35.6846, 26.7266, 42.77  ,  4.5   ],\n",
              "       [ 0.    , 36.4171, 28.6991, 14.86  ,  4.1   ],\n",
              "       [ 0.    , 36.0535, 31.2135, 36.68  ,  5.2   ],\n",
              "       [ 0.    , 37.1958, 30.6241, 50.33  ,  4.8   ],\n",
              "       [ 0.    , 36.9653, 27.7633,  6.93  ,  4.3   ],\n",
              "       [ 0.    , 38.893 , 26.4483, 11.62  ,  4.2   ],\n",
              "       [ 0.    , 37.3773, 36.3855, 10.53  ,  4.8   ],\n",
              "       [ 0.    , 35.8861, 26.0695, 28.49  ,  4.9   ],\n",
              "       [ 0.    , 37.4635, 36.3113, 15.29  ,  4.3   ],\n",
              "       [ 0.    , 37.0201, 36.0845, 10.    ,  4.1   ],\n",
              "       [ 0.    , 37.6546, 26.6698,  4.5   ,  4.5   ],\n",
              "       [ 0.    , 37.5318, 29.848 , 17.58  ,  4.6   ],\n",
              "       [ 0.    , 39.0388, 44.1533,  7.52  ,  4.5   ],\n",
              "       [ 0.    , 38.357 , 44.8686, 10.05  ,  4.1   ],\n",
              "       [ 0.    , 35.7018, 28.1495,  6.25  ,  4.1   ],\n",
              "       [ 0.    , 37.6883, 37.3968, 10.63  ,  4.1   ]])"
            ]
          },
          "metadata": {
            "tags": []
          },
          "execution_count": 1
        }
      ]
    },
    {
      "cell_type": "markdown",
      "metadata": {
        "id": "4e7QtFWzJSpo"
      },
      "source": [
        "**(2)** Display the mean and the standard deviation for each column."
      ]
    },
    {
      "cell_type": "code",
      "metadata": {
        "id": "jo-I_LR89Yx8",
        "outputId": "5df7a5d1-33e7-4166-e721-84e6b3a296c2"
      },
      "source": [
        "for i in range(0,len(data)):\n",
        "    print(\"Mean of column {}                  :\".format(i), np.mean(data[i]))\n",
        "    print(\"Standart deviation of column {}    :\".format(i),np.std(data[i]))\n",
        "    print('\\n')"
      ],
      "execution_count": null,
      "outputs": [
        {
          "output_type": "stream",
          "text": [
            "Mean of column 0                  : 1.0\n",
            "Standart deviation of column 0    : 0.0\n",
            "\n",
            "\n",
            "Mean of column 1                  : 16.88122\n",
            "Standart deviation of column 1    : 16.29656530295878\n",
            "\n",
            "\n",
            "Mean of column 2                  : 17.951880000000003\n",
            "Standart deviation of column 2    : 16.32625415536583\n",
            "\n",
            "\n",
            "Mean of column 3                  : 29.94158\n",
            "Standart deviation of column 3    : 28.066861774583916\n",
            "\n",
            "\n",
            "Mean of column 4                  : 21.936240000000005\n",
            "Standart deviation of column 4    : 16.918815549748157\n",
            "\n",
            "\n",
            "Mean of column 5                  : 16.815239999999996\n",
            "Standart deviation of column 5    : 13.955010798505317\n",
            "\n",
            "\n",
            "Mean of column 6                  : 21.8294\n",
            "Standart deviation of column 6    : 15.899599508792667\n",
            "\n",
            "\n",
            "Mean of column 7                  : 24.589979999999997\n",
            "Standart deviation of column 7    : 19.257083665228233\n",
            "\n",
            "\n",
            "Mean of column 8                  : 15.19172\n",
            "Standart deviation of column 8    : 14.490047261399804\n",
            "\n",
            "\n",
            "Mean of column 9                  : 16.232260000000004\n",
            "Standart deviation of column 9    : 14.473500601803282\n",
            "\n",
            "\n",
            "Mean of column 10                  : 17.818559999999998\n",
            "Standart deviation of column 10    : 15.920946348581166\n",
            "\n",
            "\n",
            "Mean of column 11                  : 19.06912\n",
            "Standart deviation of column 11    : 14.035415316890342\n",
            "\n",
            "\n",
            "Mean of column 12                  : 18.672959999999996\n",
            "Standart deviation of column 12    : 15.690132339352655\n",
            "\n",
            "\n",
            "Mean of column 13                  : 17.44092\n",
            "Standart deviation of column 13    : 15.92771478918429\n",
            "\n",
            "\n",
            "Mean of column 14                  : 14.66488\n",
            "Standart deviation of column 14    : 14.79428001714176\n",
            "\n",
            "\n",
            "Mean of column 15                  : 17.911959999999997\n",
            "Standart deviation of column 15    : 14.321759389348781\n",
            "\n",
            "\n",
            "Mean of column 16                  : 19.04242\n",
            "Standart deviation of column 16    : 18.64013631413676\n",
            "\n",
            "\n",
            "Mean of column 17                  : 19.475119999999997\n",
            "Standart deviation of column 17    : 18.470851197971356\n",
            "\n",
            "\n",
            "Mean of column 18                  : 14.840259999999997\n",
            "Standart deviation of column 18    : 14.294885722887049\n",
            "\n",
            "\n",
            "Mean of column 19                  : 17.963019999999997\n",
            "Standart deviation of column 19    : 16.342491055698943\n",
            "\n",
            "\n"
          ],
          "name": "stdout"
        }
      ]
    },
    {
      "cell_type": "code",
      "metadata": {
        "id": "Lx7QegrYJSpo",
        "outputId": "0c4886a3-d97e-4353-e864-2aaeceeb603c"
      },
      "source": [
        "print(np.mean(data))"
      ],
      "execution_count": null,
      "outputs": [
        {
          "output_type": "stream",
          "text": [
            "17.963437\n"
          ],
          "name": "stdout"
        }
      ]
    },
    {
      "cell_type": "markdown",
      "metadata": {
        "id": "dz5-jt-3JSpo"
      },
      "source": [
        "**(3)** Subtract 1, 25, 25, 10, 4 from columns in order. (Remember it can be subtracted in one line of code.)"
      ]
    },
    {
      "cell_type": "code",
      "metadata": {
        "id": "dEzM0_3l9Yx9",
        "outputId": "0a949816-4b95-4233-bdd6-22788844c885"
      },
      "source": [
        "np.broadcast_to([1, 25, 25, 10, 4], (20, 5))\n",
        "print(data-np.broadcast_to([1, 25, 25, 10, 4], (20, 5)))"
      ],
      "execution_count": null,
      "outputs": [
        {
          "output_type": "stream",
          "text": [
            "[[ 0.00000e+00 -2.40000e+01 -2.40000e+01 -9.00000e+00 -3.00000e+00]\n",
            " [-1.00000e+00  1.24341e+01  1.08520e+01 -2.98000e+00  1.00000e-01]\n",
            " [-1.00000e+00  1.26878e+01  1.24016e+01  2.70000e-01  4.00000e-01]\n",
            " [-1.00000e+00  1.22003e+01  5.43760e+00  6.80700e+01  0.00000e+00]\n",
            " [-1.00000e+00  1.06846e+01  1.72660e+00  3.27700e+01  5.00000e-01]\n",
            " [-1.00000e+00  1.14171e+01  3.69910e+00  4.86000e+00  1.00000e-01]\n",
            " [-1.00000e+00  1.10535e+01  6.21350e+00  2.66800e+01  1.20000e+00]\n",
            " [-1.00000e+00  1.21958e+01  5.62410e+00  4.03300e+01  8.00000e-01]\n",
            " [-1.00000e+00  1.19653e+01  2.76330e+00 -3.07000e+00  3.00000e-01]\n",
            " [-1.00000e+00  1.38930e+01  1.44830e+00  1.62000e+00  2.00000e-01]\n",
            " [-1.00000e+00  1.23773e+01  1.13855e+01  5.30000e-01  8.00000e-01]\n",
            " [-1.00000e+00  1.08861e+01  1.06950e+00  1.84900e+01  9.00000e-01]\n",
            " [-1.00000e+00  1.24635e+01  1.13113e+01  5.29000e+00  3.00000e-01]\n",
            " [-1.00000e+00  1.20201e+01  1.10845e+01  0.00000e+00  1.00000e-01]\n",
            " [-1.00000e+00  1.26546e+01  1.66980e+00 -5.50000e+00  5.00000e-01]\n",
            " [-1.00000e+00  1.25318e+01  4.84800e+00  7.58000e+00  6.00000e-01]\n",
            " [-1.00000e+00  1.40388e+01  1.91533e+01 -2.48000e+00  5.00000e-01]\n",
            " [-1.00000e+00  1.33570e+01  1.98686e+01  5.00000e-02  1.00000e-01]\n",
            " [-1.00000e+00  1.07018e+01  3.14950e+00 -3.75000e+00  1.00000e-01]\n",
            " [-1.00000e+00  1.26883e+01  1.23968e+01  6.30000e-01  1.00000e-01]]\n"
          ],
          "name": "stdout"
        }
      ]
    },
    {
      "cell_type": "code",
      "metadata": {
        "id": "4-fr50Ac9Yx-",
        "outputId": "8af62771-6520-42a1-b842-8ffde71684f2"
      },
      "source": [
        "c= np.broadcast_to([1, 25, 25, 10, 4],(20,5))\n",
        "print(np.array((data-c),dtype=np.int32))\n",
        "#print(c)\n"
      ],
      "execution_count": null,
      "outputs": [
        {
          "output_type": "stream",
          "text": [
            "[[  0 -24 -24  -9  -3]\n",
            " [ -1  12  10  -2   0]\n",
            " [ -1  12  12   0   0]\n",
            " [ -1  12   5  68   0]\n",
            " [ -1  10   1  32   0]\n",
            " [ -1  11   3   4   0]\n",
            " [ -1  11   6  26   1]\n",
            " [ -1  12   5  40   0]\n",
            " [ -1  11   2  -3   0]\n",
            " [ -1  13   1   1   0]\n",
            " [ -1  12  11   0   0]\n",
            " [ -1  10   1  18   0]\n",
            " [ -1  12  11   5   0]\n",
            " [ -1  12  11   0   0]\n",
            " [ -1  12   1  -5   0]\n",
            " [ -1  12   4   7   0]\n",
            " [ -1  14  19  -2   0]\n",
            " [ -1  13  19   0   0]\n",
            " [ -1  10   3  -3   0]\n",
            " [ -1  12  12   0   0]]\n"
          ],
          "name": "stdout"
        }
      ]
    },
    {
      "cell_type": "code",
      "metadata": {
        "id": "3kJuhuDjJSpp"
      },
      "source": [
        "#print(np.subtract(data[:1], c[:1]))\n",
        "#data[:,1]-=25"
      ],
      "execution_count": null,
      "outputs": []
    },
    {
      "cell_type": "markdown",
      "metadata": {
        "id": "oA0YDSlLJSpp"
      },
      "source": [
        "**(4)** Multiply each element by 2. (Remember it can be multiplied in one line of code.)"
      ]
    },
    {
      "cell_type": "code",
      "metadata": {
        "id": "ygZhPCQYJSpq",
        "outputId": "cf39924b-ccdd-4df3-d5b2-5aebbb9c460e"
      },
      "source": [
        "final = asi *2\n",
        "print(final)"
      ],
      "execution_count": null,
      "outputs": [
        {
          "output_type": "stream",
          "text": [
            "[[  0 -48 -48 -18  -6]\n",
            " [ -2  24  20  -4   0]\n",
            " [ -2  24  24   0   0]\n",
            " [ -2  24  10 136   0]\n",
            " [ -2  20   2  64   0]\n",
            " [ -2  22   6   8   0]\n",
            " [ -2  22  12  52   2]\n",
            " [ -2  24  10  80   0]\n",
            " [ -2  22   4  -6   0]\n",
            " [ -2  26   2   2   0]\n",
            " [ -2  24  22   0   0]\n",
            " [ -2  20   2  36   0]\n",
            " [ -2  24  22  10   0]\n",
            " [ -2  24  22   0   0]\n",
            " [ -2  24   2 -10   0]\n",
            " [ -2  24   8  14   0]\n",
            " [ -2  28  38  -4   0]\n",
            " [ -2  26  38   0   0]\n",
            " [ -2  20   6  -6   0]\n",
            " [ -2  24  24   0   0]]\n"
          ],
          "name": "stdout"
        }
      ]
    },
    {
      "cell_type": "code",
      "metadata": {
        "id": "PdP_QFyV9Yx_"
      },
      "source": [
        ""
      ],
      "execution_count": null,
      "outputs": []
    }
  ]
}