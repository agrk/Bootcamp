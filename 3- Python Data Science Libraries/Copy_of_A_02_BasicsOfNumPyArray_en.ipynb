{
  "nbformat": 4,
  "nbformat_minor": 0,
  "metadata": {
    "kernelspec": {
      "display_name": "Python 3",
      "language": "python",
      "name": "python3"
    },
    "language_info": {
      "codemirror_mode": {
        "name": "ipython",
        "version": 3
      },
      "file_extension": ".py",
      "mimetype": "text/x-python",
      "name": "python",
      "nbconvert_exporter": "python",
      "pygments_lexer": "ipython3",
      "version": "3.8.2"
    },
    "colab": {
      "name": "Copy of A_02_BasicsOfNumPyArray_en.ipynb",
      "provenance": []
    }
  },
  "cells": [
    {
      "cell_type": "markdown",
      "metadata": {
        "id": "OYGzO6ceSHLz"
      },
      "source": [
        "**(1)** Create 3 lists representing house features, each list containing 10 values. First one for squaremeter of house, second one for rooms and last one for price. Then, create an array combining these lists."
      ]
    },
    {
      "cell_type": "code",
      "metadata": {
        "id": "7CeeUDz6SHL5",
        "colab": {
          "base_uri": "https://localhost:8080/"
        },
        "outputId": "03bccfb0-8ec3-4c4c-a9ea-974149c91ec7"
      },
      "source": [
        "import numpy as np\n",
        "squaremeter = list(range(150,190,4))\n",
        "rooms = list(range(2,12))\n",
        "price = list(range(300000,300020,2))\n",
        "\n",
        "final=np.array((squaremeter,rooms,price))\n",
        "\n",
        "print(final)"
      ],
      "execution_count": null,
      "outputs": [
        {
          "output_type": "stream",
          "text": [
            "[[   150    154    158    162    166    170    174    178    182    186]\n",
            " [     2      3      4      5      6      7      8      9     10     11]\n",
            " [300000 300002 300004 300006 300008 300010 300012 300014 300016 300018]]\n"
          ],
          "name": "stdout"
        }
      ]
    },
    {
      "cell_type": "markdown",
      "metadata": {
        "id": "TBx9kAOGSHL6"
      },
      "source": [
        "**(2)** Transpose the array you have created, so that every line can represent features of one house."
      ]
    },
    {
      "cell_type": "code",
      "metadata": {
        "id": "2n2R_pBRSHL7",
        "colab": {
          "base_uri": "https://localhost:8080/"
        },
        "outputId": "732a0578-7a55-462b-bb38-72542565b99b"
      },
      "source": [
        "np.transpose(final)"
      ],
      "execution_count": null,
      "outputs": [
        {
          "output_type": "execute_result",
          "data": {
            "text/plain": [
              "array([[   150,      2, 300000],\n",
              "       [   154,      3, 300002],\n",
              "       [   158,      4, 300004],\n",
              "       [   162,      5, 300006],\n",
              "       [   166,      6, 300008],\n",
              "       [   170,      7, 300010],\n",
              "       [   174,      8, 300012],\n",
              "       [   178,      9, 300014],\n",
              "       [   182,     10, 300016],\n",
              "       [   186,     11, 300018]])"
            ]
          },
          "metadata": {
            "tags": []
          },
          "execution_count": 87
        }
      ]
    },
    {
      "cell_type": "markdown",
      "metadata": {
        "id": "-bp-pzruSHL7"
      },
      "source": [
        "**(3)** Display the shape of the array and explain what it means."
      ]
    },
    {
      "cell_type": "code",
      "metadata": {
        "id": "xj5t92-rSHL7",
        "colab": {
          "base_uri": "https://localhost:8080/"
        },
        "outputId": "7b2f2565-55ce-41f8-bf01-649445b44d6a"
      },
      "source": [
        "np.transpose(final).shape  # Output says; This figure is a matrix structure consisting of 3 columns and 10 rows. "
      ],
      "execution_count": null,
      "outputs": [
        {
          "output_type": "execute_result",
          "data": {
            "text/plain": [
              "(10, 3)"
            ]
          },
          "metadata": {
            "tags": []
          },
          "execution_count": 88
        }
      ]
    },
    {
      "cell_type": "markdown",
      "metadata": {
        "id": "VoV2Zhz7SHL7"
      },
      "source": [
        "**(4)** Write a function that returns an array of ones with zeros where both row and column numbers are even. Sample array is below. Number of rows and columns will be entered as parameters.\n",
        "\n",
        "```python\n",
        "    shape(6 x 5) --> [[1   1   1   1   1]\n",
        "                      [1   0   1   0   1]\n",
        "                      [1   1   1   1   1]\n",
        "                      [1   0   1   0   1]\n",
        "                      [1   1   1   1   1]\n",
        "                      [1   0   1   0   1]]\n",
        "```"
      ]
    },
    {
      "cell_type": "code",
      "metadata": {
        "colab": {
          "base_uri": "https://localhost:8080/"
        },
        "id": "ZjFqnM80TE12",
        "outputId": "6a278193-1e2b-43bb-b0ae-b0d6cb1fab6f"
      },
      "source": [
        "import numpy as np\n",
        "\n",
        "def num_array(x,y):\n",
        "  a= np.zeros((x,y))\n",
        "  for i in [ i for i in range(x) if i%2==0]:\n",
        "    a[:,i]=1\n",
        "  for i in [ i for i in range(y) if i%2==0]:\n",
        "    a[i,:]=1 \n",
        "  return a\n",
        "\n",
        "n_rows = int(input(\"Enter number of rows: \"))\n",
        "n_cols = int(input(\"Enter number of columns: \"))\n",
        "\n",
        "print(num_array(n_rows,n_cols))"
      ],
      "execution_count": null,
      "outputs": [
        {
          "output_type": "stream",
          "text": [
            "Enter number of rows: 6\n",
            "Enter number of columns: 5\n",
            "[[1. 1. 1. 1. 1.]\n",
            " [1. 0. 1. 0. 1.]\n",
            " [1. 1. 1. 1. 1.]\n",
            " [1. 0. 1. 0. 1.]\n",
            " [1. 1. 1. 1. 1.]\n",
            " [1. 0. 1. 0. 1.]]\n"
          ],
          "name": "stdout"
        }
      ]
    }
  ]
}