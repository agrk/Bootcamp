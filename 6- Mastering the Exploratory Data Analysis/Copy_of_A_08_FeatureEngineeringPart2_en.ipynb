{
  "nbformat": 4,
  "nbformat_minor": 0,
  "metadata": {
    "kernelspec": {
      "display_name": "Python 3",
      "language": "python",
      "name": "python3"
    },
    "language_info": {
      "codemirror_mode": {
        "name": "ipython",
        "version": 3
      },
      "file_extension": ".py",
      "mimetype": "text/x-python",
      "name": "python",
      "nbconvert_exporter": "python",
      "pygments_lexer": "ipython3",
      "version": "3.8.2"
    },
    "colab": {
      "name": "Copy of A_08_FeatureEngineeringPart2_en.ipynb",
      "provenance": [],
      "collapsed_sections": []
    }
  },
  "cells": [
    {
      "cell_type": "markdown",
      "metadata": {
        "id": "QAI2LODtYeB6"
      },
      "source": [
        "# <font color=blue>Assignments for \"Feature Engineering - Part 2\"</font>"
      ]
    },
    {
      "cell_type": "markdown",
      "metadata": {
        "id": "Apt0Wk7gYeCH"
      },
      "source": [
        "In this assignment, you are going to use a dataset related to the US education system. Please download the ([dataset](https://www.kaggle.com/noriuk/us-education-datasets-unification-project/home)) from Kaggle. You are going to use `states_all.csv` within this dataset.\n",
        "\n",
        "To complete this assignment, submit the Github link of the Jupyter notebook file containing solutions to the questions below. You can talk to your mentor on your head or ask Slack at office time.\n"
      ]
    },
    {
      "cell_type": "code",
      "metadata": {
        "id": "Xs1Awhmwbz5C"
      },
      "source": [
        "import matplotlib.pyplot as plt\n",
        "import seaborn as sns\n",
        "import pandas as pd\n",
        "import numpy as np\n",
        "from sklearn.decomposition import PCA\n",
        "from sklearn.preprocessing import StandardScaler\n",
        "import warnings\n",
        "warnings.filterwarnings('ignore')"
      ],
      "execution_count": null,
      "outputs": []
    },
    {
      "cell_type": "code",
      "metadata": {
        "colab": {
          "base_uri": "https://localhost:8080/"
        },
        "id": "xv0Hcvhibz2e",
        "outputId": "8eef0e55-2acd-45dc-9936-9794f035935d"
      },
      "source": [
        "from google.colab import drive\n",
        "drive.mount('/content/drive')"
      ],
      "execution_count": null,
      "outputs": [
        {
          "output_type": "stream",
          "text": [
            "Drive already mounted at /content/drive; to attempt to forcibly remount, call drive.mount(\"/content/drive\", force_remount=True).\n"
          ],
          "name": "stdout"
        }
      ]
    },
    {
      "cell_type": "code",
      "metadata": {
        "colab": {
          "base_uri": "https://localhost:8080/",
          "height": 35
        },
        "id": "Kn2xUGWObzzi",
        "outputId": "39160504-5ac2-4272-e8ea-f545c96a8f6b"
      },
      "source": [
        "import os\n",
        "os.getcwd()"
      ],
      "execution_count": null,
      "outputs": [
        {
          "output_type": "execute_result",
          "data": {
            "application/vnd.google.colaboratory.intrinsic+json": {
              "type": "string"
            },
            "text/plain": [
              "'/content'"
            ]
          },
          "metadata": {
            "tags": []
          },
          "execution_count": 3
        }
      ]
    },
    {
      "cell_type": "code",
      "metadata": {
        "id": "o-O0TtA6b9_g"
      },
      "source": [
        "PATH ='/content/drive/MyDrive/Colab Notebooks/Datajarlabs/6-Mastering_the_Exploratory_Data_Analysis'\n",
        "os.chdir(PATH)"
      ],
      "execution_count": null,
      "outputs": []
    },
    {
      "cell_type": "code",
      "metadata": {
        "colab": {
          "base_uri": "https://localhost:8080/",
          "height": 215
        },
        "id": "akRRb4Wfb96d",
        "outputId": "0cf55a00-6884-4638-84c7-f2880354821f"
      },
      "source": [
        "df = pd.read_csv('states_all.csv')\n",
        "df.head()"
      ],
      "execution_count": null,
      "outputs": [
        {
          "output_type": "execute_result",
          "data": {
            "text/html": [
              "<div>\n",
              "<style scoped>\n",
              "    .dataframe tbody tr th:only-of-type {\n",
              "        vertical-align: middle;\n",
              "    }\n",
              "\n",
              "    .dataframe tbody tr th {\n",
              "        vertical-align: top;\n",
              "    }\n",
              "\n",
              "    .dataframe thead th {\n",
              "        text-align: right;\n",
              "    }\n",
              "</style>\n",
              "<table border=\"1\" class=\"dataframe\">\n",
              "  <thead>\n",
              "    <tr style=\"text-align: right;\">\n",
              "      <th></th>\n",
              "      <th>PRIMARY_KEY</th>\n",
              "      <th>STATE</th>\n",
              "      <th>YEAR</th>\n",
              "      <th>ENROLL</th>\n",
              "      <th>TOTAL_REVENUE</th>\n",
              "      <th>FEDERAL_REVENUE</th>\n",
              "      <th>STATE_REVENUE</th>\n",
              "      <th>LOCAL_REVENUE</th>\n",
              "      <th>TOTAL_EXPENDITURE</th>\n",
              "      <th>INSTRUCTION_EXPENDITURE</th>\n",
              "      <th>SUPPORT_SERVICES_EXPENDITURE</th>\n",
              "      <th>OTHER_EXPENDITURE</th>\n",
              "      <th>CAPITAL_OUTLAY_EXPENDITURE</th>\n",
              "      <th>GRADES_PK_G</th>\n",
              "      <th>GRADES_KG_G</th>\n",
              "      <th>GRADES_4_G</th>\n",
              "      <th>GRADES_8_G</th>\n",
              "      <th>GRADES_12_G</th>\n",
              "      <th>GRADES_1_8_G</th>\n",
              "      <th>GRADES_9_12_G</th>\n",
              "      <th>GRADES_ALL_G</th>\n",
              "      <th>AVG_MATH_4_SCORE</th>\n",
              "      <th>AVG_MATH_8_SCORE</th>\n",
              "      <th>AVG_READING_4_SCORE</th>\n",
              "      <th>AVG_READING_8_SCORE</th>\n",
              "    </tr>\n",
              "  </thead>\n",
              "  <tbody>\n",
              "    <tr>\n",
              "      <th>0</th>\n",
              "      <td>1992_ALABAMA</td>\n",
              "      <td>ALABAMA</td>\n",
              "      <td>1992</td>\n",
              "      <td>NaN</td>\n",
              "      <td>2678885.0</td>\n",
              "      <td>304177.0</td>\n",
              "      <td>1659028.0</td>\n",
              "      <td>715680.0</td>\n",
              "      <td>2653798.0</td>\n",
              "      <td>1481703.0</td>\n",
              "      <td>735036.0</td>\n",
              "      <td>NaN</td>\n",
              "      <td>174053.0</td>\n",
              "      <td>8224.0</td>\n",
              "      <td>55460.0</td>\n",
              "      <td>57948.0</td>\n",
              "      <td>58025.0</td>\n",
              "      <td>41167.0</td>\n",
              "      <td>NaN</td>\n",
              "      <td>NaN</td>\n",
              "      <td>731634.0</td>\n",
              "      <td>208.0</td>\n",
              "      <td>252.0</td>\n",
              "      <td>207.0</td>\n",
              "      <td>NaN</td>\n",
              "    </tr>\n",
              "    <tr>\n",
              "      <th>1</th>\n",
              "      <td>1992_ALASKA</td>\n",
              "      <td>ALASKA</td>\n",
              "      <td>1992</td>\n",
              "      <td>NaN</td>\n",
              "      <td>1049591.0</td>\n",
              "      <td>106780.0</td>\n",
              "      <td>720711.0</td>\n",
              "      <td>222100.0</td>\n",
              "      <td>972488.0</td>\n",
              "      <td>498362.0</td>\n",
              "      <td>350902.0</td>\n",
              "      <td>NaN</td>\n",
              "      <td>37451.0</td>\n",
              "      <td>2371.0</td>\n",
              "      <td>10152.0</td>\n",
              "      <td>9748.0</td>\n",
              "      <td>8789.0</td>\n",
              "      <td>6714.0</td>\n",
              "      <td>NaN</td>\n",
              "      <td>NaN</td>\n",
              "      <td>122487.0</td>\n",
              "      <td>NaN</td>\n",
              "      <td>NaN</td>\n",
              "      <td>NaN</td>\n",
              "      <td>NaN</td>\n",
              "    </tr>\n",
              "    <tr>\n",
              "      <th>2</th>\n",
              "      <td>1992_ARIZONA</td>\n",
              "      <td>ARIZONA</td>\n",
              "      <td>1992</td>\n",
              "      <td>NaN</td>\n",
              "      <td>3258079.0</td>\n",
              "      <td>297888.0</td>\n",
              "      <td>1369815.0</td>\n",
              "      <td>1590376.0</td>\n",
              "      <td>3401580.0</td>\n",
              "      <td>1435908.0</td>\n",
              "      <td>1007732.0</td>\n",
              "      <td>NaN</td>\n",
              "      <td>609114.0</td>\n",
              "      <td>2544.0</td>\n",
              "      <td>53497.0</td>\n",
              "      <td>55433.0</td>\n",
              "      <td>49081.0</td>\n",
              "      <td>37410.0</td>\n",
              "      <td>NaN</td>\n",
              "      <td>NaN</td>\n",
              "      <td>673477.0</td>\n",
              "      <td>215.0</td>\n",
              "      <td>265.0</td>\n",
              "      <td>209.0</td>\n",
              "      <td>NaN</td>\n",
              "    </tr>\n",
              "    <tr>\n",
              "      <th>3</th>\n",
              "      <td>1992_ARKANSAS</td>\n",
              "      <td>ARKANSAS</td>\n",
              "      <td>1992</td>\n",
              "      <td>NaN</td>\n",
              "      <td>1711959.0</td>\n",
              "      <td>178571.0</td>\n",
              "      <td>958785.0</td>\n",
              "      <td>574603.0</td>\n",
              "      <td>1743022.0</td>\n",
              "      <td>964323.0</td>\n",
              "      <td>483488.0</td>\n",
              "      <td>NaN</td>\n",
              "      <td>145212.0</td>\n",
              "      <td>808.0</td>\n",
              "      <td>33511.0</td>\n",
              "      <td>34632.0</td>\n",
              "      <td>36011.0</td>\n",
              "      <td>27651.0</td>\n",
              "      <td>NaN</td>\n",
              "      <td>NaN</td>\n",
              "      <td>441490.0</td>\n",
              "      <td>210.0</td>\n",
              "      <td>256.0</td>\n",
              "      <td>211.0</td>\n",
              "      <td>NaN</td>\n",
              "    </tr>\n",
              "    <tr>\n",
              "      <th>4</th>\n",
              "      <td>1992_CALIFORNIA</td>\n",
              "      <td>CALIFORNIA</td>\n",
              "      <td>1992</td>\n",
              "      <td>NaN</td>\n",
              "      <td>26260025.0</td>\n",
              "      <td>2072470.0</td>\n",
              "      <td>16546514.0</td>\n",
              "      <td>7641041.0</td>\n",
              "      <td>27138832.0</td>\n",
              "      <td>14358922.0</td>\n",
              "      <td>8520926.0</td>\n",
              "      <td>NaN</td>\n",
              "      <td>2044688.0</td>\n",
              "      <td>59067.0</td>\n",
              "      <td>431763.0</td>\n",
              "      <td>418418.0</td>\n",
              "      <td>363296.0</td>\n",
              "      <td>270675.0</td>\n",
              "      <td>NaN</td>\n",
              "      <td>NaN</td>\n",
              "      <td>5254844.0</td>\n",
              "      <td>208.0</td>\n",
              "      <td>261.0</td>\n",
              "      <td>202.0</td>\n",
              "      <td>NaN</td>\n",
              "    </tr>\n",
              "  </tbody>\n",
              "</table>\n",
              "</div>"
            ],
            "text/plain": [
              "       PRIMARY_KEY       STATE  ...  AVG_READING_4_SCORE  AVG_READING_8_SCORE\n",
              "0     1992_ALABAMA     ALABAMA  ...                207.0                  NaN\n",
              "1      1992_ALASKA      ALASKA  ...                  NaN                  NaN\n",
              "2     1992_ARIZONA     ARIZONA  ...                209.0                  NaN\n",
              "3    1992_ARKANSAS    ARKANSAS  ...                211.0                  NaN\n",
              "4  1992_CALIFORNIA  CALIFORNIA  ...                202.0                  NaN\n",
              "\n",
              "[5 rows x 25 columns]"
            ]
          },
          "metadata": {
            "tags": []
          },
          "execution_count": 5
        }
      ]
    },
    {
      "cell_type": "code",
      "metadata": {
        "colab": {
          "base_uri": "https://localhost:8080/"
        },
        "id": "AZn79MvGveYb",
        "outputId": "786185f8-c8a7-4862-8d14-f808d988c655"
      },
      "source": [
        "df.info()"
      ],
      "execution_count": null,
      "outputs": [
        {
          "output_type": "stream",
          "text": [
            "<class 'pandas.core.frame.DataFrame'>\n",
            "RangeIndex: 1715 entries, 0 to 1714\n",
            "Data columns (total 25 columns):\n",
            " #   Column                        Non-Null Count  Dtype  \n",
            "---  ------                        --------------  -----  \n",
            " 0   PRIMARY_KEY                   1715 non-null   object \n",
            " 1   STATE                         1715 non-null   object \n",
            " 2   YEAR                          1715 non-null   int64  \n",
            " 3   ENROLL                        1224 non-null   float64\n",
            " 4   TOTAL_REVENUE                 1275 non-null   float64\n",
            " 5   FEDERAL_REVENUE               1275 non-null   float64\n",
            " 6   STATE_REVENUE                 1275 non-null   float64\n",
            " 7   LOCAL_REVENUE                 1275 non-null   float64\n",
            " 8   TOTAL_EXPENDITURE             1275 non-null   float64\n",
            " 9   INSTRUCTION_EXPENDITURE       1275 non-null   float64\n",
            " 10  SUPPORT_SERVICES_EXPENDITURE  1275 non-null   float64\n",
            " 11  OTHER_EXPENDITURE             1224 non-null   float64\n",
            " 12  CAPITAL_OUTLAY_EXPENDITURE    1275 non-null   float64\n",
            " 13  GRADES_PK_G                   1542 non-null   float64\n",
            " 14  GRADES_KG_G                   1632 non-null   float64\n",
            " 15  GRADES_4_G                    1632 non-null   float64\n",
            " 16  GRADES_8_G                    1632 non-null   float64\n",
            " 17  GRADES_12_G                   1632 non-null   float64\n",
            " 18  GRADES_1_8_G                  1020 non-null   float64\n",
            " 19  GRADES_9_12_G                 1071 non-null   float64\n",
            " 20  GRADES_ALL_G                  1632 non-null   float64\n",
            " 21  AVG_MATH_4_SCORE              565 non-null    float64\n",
            " 22  AVG_MATH_8_SCORE              602 non-null    float64\n",
            " 23  AVG_READING_4_SCORE           650 non-null    float64\n",
            " 24  AVG_READING_8_SCORE           562 non-null    float64\n",
            "dtypes: float64(22), int64(1), object(2)\n",
            "memory usage: 335.1+ KB\n"
          ],
          "name": "stdout"
        }
      ]
    },
    {
      "cell_type": "code",
      "metadata": {
        "id": "z-XIuWGVveU9"
      },
      "source": [
        "df.dropna(inplace=True)"
      ],
      "execution_count": null,
      "outputs": []
    },
    {
      "cell_type": "code",
      "metadata": {
        "colab": {
          "base_uri": "https://localhost:8080/"
        },
        "id": "7YdvXWdjv8lM",
        "outputId": "77122999-e9e3-440d-ae93-705b224f0203"
      },
      "source": [
        "len(df.columns)"
      ],
      "execution_count": null,
      "outputs": [
        {
          "output_type": "execute_result",
          "data": {
            "text/plain": [
              "25"
            ]
          },
          "metadata": {
            "tags": []
          },
          "execution_count": 8
        }
      ]
    },
    {
      "cell_type": "markdown",
      "metadata": {
        "id": "0E1ZdGobYeCI"
      },
      "source": [
        "**(1)** Create a variable that contains the weighted average of the grades in the dataset. The number of students in the fourth grade is different from that of the eighth grade. So you will need a weighted average!"
      ]
    },
    {
      "cell_type": "code",
      "metadata": {
        "id": "jX-msvIbYeCJ",
        "colab": {
          "base_uri": "https://localhost:8080/",
          "height": 215
        },
        "outputId": "36fcf965-28ef-4d87-e576-79efd67ef3e3"
      },
      "source": [
        "df['WEIGHTED_AVG'] = ((df['GRADES_4_G'] * ((df['AVG_MATH_4_SCORE'] + df['AVG_READING_4_SCORE']) / 2)) + (df['GRADES_8_G'] * ((df['AVG_MATH_8_SCORE'] + df['AVG_READING_8_SCORE']) / 2))) / (df['GRADES_4_G'] + df['GRADES_8_G'])\n",
        "df.head()"
      ],
      "execution_count": null,
      "outputs": [
        {
          "output_type": "execute_result",
          "data": {
            "text/html": [
              "<div>\n",
              "<style scoped>\n",
              "    .dataframe tbody tr th:only-of-type {\n",
              "        vertical-align: middle;\n",
              "    }\n",
              "\n",
              "    .dataframe tbody tr th {\n",
              "        vertical-align: top;\n",
              "    }\n",
              "\n",
              "    .dataframe thead th {\n",
              "        text-align: right;\n",
              "    }\n",
              "</style>\n",
              "<table border=\"1\" class=\"dataframe\">\n",
              "  <thead>\n",
              "    <tr style=\"text-align: right;\">\n",
              "      <th></th>\n",
              "      <th>PRIMARY_KEY</th>\n",
              "      <th>STATE</th>\n",
              "      <th>YEAR</th>\n",
              "      <th>ENROLL</th>\n",
              "      <th>TOTAL_REVENUE</th>\n",
              "      <th>FEDERAL_REVENUE</th>\n",
              "      <th>STATE_REVENUE</th>\n",
              "      <th>LOCAL_REVENUE</th>\n",
              "      <th>TOTAL_EXPENDITURE</th>\n",
              "      <th>INSTRUCTION_EXPENDITURE</th>\n",
              "      <th>SUPPORT_SERVICES_EXPENDITURE</th>\n",
              "      <th>OTHER_EXPENDITURE</th>\n",
              "      <th>CAPITAL_OUTLAY_EXPENDITURE</th>\n",
              "      <th>GRADES_PK_G</th>\n",
              "      <th>GRADES_KG_G</th>\n",
              "      <th>GRADES_4_G</th>\n",
              "      <th>GRADES_8_G</th>\n",
              "      <th>GRADES_12_G</th>\n",
              "      <th>GRADES_1_8_G</th>\n",
              "      <th>GRADES_9_12_G</th>\n",
              "      <th>GRADES_ALL_G</th>\n",
              "      <th>AVG_MATH_4_SCORE</th>\n",
              "      <th>AVG_MATH_8_SCORE</th>\n",
              "      <th>AVG_READING_4_SCORE</th>\n",
              "      <th>AVG_READING_8_SCORE</th>\n",
              "      <th>WEIGHTED_AVG</th>\n",
              "    </tr>\n",
              "  </thead>\n",
              "  <tbody>\n",
              "    <tr>\n",
              "      <th>561</th>\n",
              "      <td>2003_ALABAMA</td>\n",
              "      <td>ALABAMA</td>\n",
              "      <td>2003</td>\n",
              "      <td>727900.0</td>\n",
              "      <td>5196054.0</td>\n",
              "      <td>567704.0</td>\n",
              "      <td>2966981.0</td>\n",
              "      <td>1661369.0</td>\n",
              "      <td>5298932.0</td>\n",
              "      <td>2817111.0</td>\n",
              "      <td>1521462.0</td>\n",
              "      <td>424662.0</td>\n",
              "      <td>432279.0</td>\n",
              "      <td>1852.0</td>\n",
              "      <td>56541.0</td>\n",
              "      <td>57323.0</td>\n",
              "      <td>59663.0</td>\n",
              "      <td>42005.0</td>\n",
              "      <td>466920.0</td>\n",
              "      <td>205907.0</td>\n",
              "      <td>731220.0</td>\n",
              "      <td>223.0</td>\n",
              "      <td>262.0</td>\n",
              "      <td>207.0</td>\n",
              "      <td>253.0</td>\n",
              "      <td>236.675051</td>\n",
              "    </tr>\n",
              "    <tr>\n",
              "      <th>562</th>\n",
              "      <td>2003_ALASKA</td>\n",
              "      <td>ALASKA</td>\n",
              "      <td>2003</td>\n",
              "      <td>133303.0</td>\n",
              "      <td>1425948.0</td>\n",
              "      <td>259423.0</td>\n",
              "      <td>813371.0</td>\n",
              "      <td>353154.0</td>\n",
              "      <td>1610289.0</td>\n",
              "      <td>763525.0</td>\n",
              "      <td>514052.0</td>\n",
              "      <td>55715.0</td>\n",
              "      <td>247005.0</td>\n",
              "      <td>1883.0</td>\n",
              "      <td>9475.0</td>\n",
              "      <td>10115.0</td>\n",
              "      <td>11140.0</td>\n",
              "      <td>8651.0</td>\n",
              "      <td>82337.0</td>\n",
              "      <td>40238.0</td>\n",
              "      <td>133933.0</td>\n",
              "      <td>233.0</td>\n",
              "      <td>279.0</td>\n",
              "      <td>212.0</td>\n",
              "      <td>256.0</td>\n",
              "      <td>246.085039</td>\n",
              "    </tr>\n",
              "    <tr>\n",
              "      <th>563</th>\n",
              "      <td>2003_ARIZONA</td>\n",
              "      <td>ARIZONA</td>\n",
              "      <td>2003</td>\n",
              "      <td>875111.0</td>\n",
              "      <td>6529894.0</td>\n",
              "      <td>740579.0</td>\n",
              "      <td>2912629.0</td>\n",
              "      <td>2876686.0</td>\n",
              "      <td>6210287.0</td>\n",
              "      <td>2810907.0</td>\n",
              "      <td>1964229.0</td>\n",
              "      <td>303924.0</td>\n",
              "      <td>864642.0</td>\n",
              "      <td>9376.0</td>\n",
              "      <td>76365.0</td>\n",
              "      <td>76207.0</td>\n",
              "      <td>76376.0</td>\n",
              "      <td>68815.0</td>\n",
              "      <td>613442.0</td>\n",
              "      <td>307272.0</td>\n",
              "      <td>1012068.0</td>\n",
              "      <td>229.0</td>\n",
              "      <td>271.0</td>\n",
              "      <td>209.0</td>\n",
              "      <td>255.0</td>\n",
              "      <td>241.024367</td>\n",
              "    </tr>\n",
              "    <tr>\n",
              "      <th>564</th>\n",
              "      <td>2003_ARKANSAS</td>\n",
              "      <td>ARKANSAS</td>\n",
              "      <td>2003</td>\n",
              "      <td>450158.0</td>\n",
              "      <td>3241275.0</td>\n",
              "      <td>379947.0</td>\n",
              "      <td>2394336.0</td>\n",
              "      <td>466992.0</td>\n",
              "      <td>3242799.0</td>\n",
              "      <td>1768713.0</td>\n",
              "      <td>972598.0</td>\n",
              "      <td>170767.0</td>\n",
              "      <td>247245.0</td>\n",
              "      <td>2573.0</td>\n",
              "      <td>36391.0</td>\n",
              "      <td>34070.0</td>\n",
              "      <td>37004.0</td>\n",
              "      <td>28840.0</td>\n",
              "      <td>281834.0</td>\n",
              "      <td>132712.0</td>\n",
              "      <td>454523.0</td>\n",
              "      <td>229.0</td>\n",
              "      <td>266.0</td>\n",
              "      <td>214.0</td>\n",
              "      <td>258.0</td>\n",
              "      <td>242.585939</td>\n",
              "    </tr>\n",
              "    <tr>\n",
              "      <th>565</th>\n",
              "      <td>2003_CALIFORNIA</td>\n",
              "      <td>CALIFORNIA</td>\n",
              "      <td>2003</td>\n",
              "      <td>6226552.0</td>\n",
              "      <td>59815855.0</td>\n",
              "      <td>5795655.0</td>\n",
              "      <td>33617766.0</td>\n",
              "      <td>20402434.0</td>\n",
              "      <td>59749885.0</td>\n",
              "      <td>29561563.0</td>\n",
              "      <td>17030335.0</td>\n",
              "      <td>2995767.0</td>\n",
              "      <td>7341541.0</td>\n",
              "      <td>114939.0</td>\n",
              "      <td>456941.0</td>\n",
              "      <td>493415.0</td>\n",
              "      <td>500143.0</td>\n",
              "      <td>395194.0</td>\n",
              "      <td>3929869.0</td>\n",
              "      <td>1854518.0</td>\n",
              "      <td>6413867.0</td>\n",
              "      <td>227.0</td>\n",
              "      <td>267.0</td>\n",
              "      <td>206.0</td>\n",
              "      <td>251.0</td>\n",
              "      <td>237.893897</td>\n",
              "    </tr>\n",
              "  </tbody>\n",
              "</table>\n",
              "</div>"
            ],
            "text/plain": [
              "         PRIMARY_KEY       STATE  ...  AVG_READING_8_SCORE  WEIGHTED_AVG\n",
              "561     2003_ALABAMA     ALABAMA  ...                253.0    236.675051\n",
              "562      2003_ALASKA      ALASKA  ...                256.0    246.085039\n",
              "563     2003_ARIZONA     ARIZONA  ...                255.0    241.024367\n",
              "564    2003_ARKANSAS    ARKANSAS  ...                258.0    242.585939\n",
              "565  2003_CALIFORNIA  CALIFORNIA  ...                251.0    237.893897\n",
              "\n",
              "[5 rows x 26 columns]"
            ]
          },
          "metadata": {
            "tags": []
          },
          "execution_count": 9
        }
      ]
    },
    {
      "cell_type": "markdown",
      "metadata": {
        "id": "7TTmdn0BYeCK"
      },
      "source": [
        "**(2)** What is the correlation between the variable you just created and the types of expenditures? Which expenditure item has more correlation than others?"
      ]
    },
    {
      "cell_type": "code",
      "metadata": {
        "id": "UTBWO2H2YeCL",
        "colab": {
          "base_uri": "https://localhost:8080/",
          "height": 599
        },
        "outputId": "79b30fcc-eb25-4152-e7bd-5cb10bd010cc"
      },
      "source": [
        "# correlation between numerical features\n",
        "plt.figure(figsize=(10, 8))\n",
        "feature_corr = df[['TOTAL_EXPENDITURE','INSTRUCTION_EXPENDITURE','SUPPORT_SERVICES_EXPENDITURE','OTHER_EXPENDITURE','CAPITAL_OUTLAY_EXPENDITURE','WEIGHTED_AVG']].corr()\n",
        "sns.heatmap(feature_corr, annot=True, square=True,annot_kws={'size': 15}, fmt='.3f',cbar=True)\n",
        "\n",
        "plt.show()"
      ],
      "execution_count": null,
      "outputs": [
        {
          "output_type": "display_data",
          "data": {
            "image/png": "[encoded data removed]",
            "text/plain": [
              "<Figure size 720x576 with 2 Axes>"
            ]
          },
          "metadata": {
            "tags": [],
            "needs_background": "light"
          }
        }
      ]
    },
    {
      "cell_type": "markdown",
      "metadata": {
        "id": "galp1T2N0eNw"
      },
      "source": [
        "There is a higher correlation between the **Weighted Average** and **Instuction Expenditure** compared to other features."
      ]
    },
    {
      "cell_type": "markdown",
      "metadata": {
        "id": "Zp5rviBYYeCL"
      },
      "source": [
        "**(3)** Now apply the Principal Components Analysis (PCA) for the four expenditure items! How much of the total variance can be explained by the first component?"
      ]
    },
    {
      "cell_type": "code",
      "metadata": {
        "id": "Vy6LkqJ1YeCM"
      },
      "source": [
        "expends = df[['INSTRUCTION_EXPENDITURE', 'SUPPORT_SERVICES_EXPENDITURE','OTHER_EXPENDITURE', 'CAPITAL_OUTLAY_EXPENDITURE']].values"
      ],
      "execution_count": null,
      "outputs": []
    },
    {
      "cell_type": "code",
      "metadata": {
        "id": "1qK6__LZ1ysv"
      },
      "source": [
        "X = StandardScaler().fit_transform(expends)\n",
        "pca = PCA(n_components=4)\n",
        "principalComponents=pca.fit_transform(X)"
      ],
      "execution_count": null,
      "outputs": []
    },
    {
      "cell_type": "code",
      "metadata": {
        "colab": {
          "base_uri": "https://localhost:8080/"
        },
        "id": "1bhB0Lk11yqH",
        "outputId": "ab41b8c9-8c85-4138-9449-8a871b03dc9a"
      },
      "source": [
        "exp_var= pca.explained_variance_ratio_\n",
        "cumsum_var=np.cumsum(np.round(pca.explained_variance_ratio_, decimals=4)*100)\n",
        "print(exp_var)\n",
        "print(cumsum_var)"
      ],
      "execution_count": null,
      "outputs": [
        {
          "output_type": "stream",
          "text": [
            "[0.94233335 0.03503443 0.0190434  0.00358882]\n",
            "[94.23 97.73 99.63 99.99]\n"
          ],
          "name": "stdout"
        }
      ]
    },
    {
      "cell_type": "code",
      "metadata": {
        "colab": {
          "base_uri": "https://localhost:8080/",
          "height": 279
        },
        "id": "dh8IZfbe1ynd",
        "outputId": "e9c3ebe6-6e5c-497f-81bd-41213f341f80"
      },
      "source": [
        "plt.plot(cumsum_var)\n",
        "plt.xlabel('Number of Components')\n",
        "plt.ylabel('% of Variance Explained')\n",
        "plt.show()"
      ],
      "execution_count": null,
      "outputs": [
        {
          "output_type": "display_data",
          "data": {
            "image/png": "[encoded data removed]",
            "text/plain": [
              "<Figure size 432x288 with 1 Axes>"
            ]
          },
          "metadata": {
            "tags": [],
            "needs_background": "light"
          }
        }
      ]
    },
    {
      "cell_type": "markdown",
      "metadata": {
        "id": "N56uPNvX251-"
      },
      "source": [
        "**94.23% the total variance can be explained by the first component** "
      ]
    },
    {
      "cell_type": "markdown",
      "metadata": {
        "id": "_c_cJZKOYeCN"
      },
      "source": [
        "**(4)** What is the correlation between the GPA you created and the first \n",
        "principal component?"
      ]
    },
    {
      "cell_type": "code",
      "metadata": {
        "id": "PamMgnIcYeCN"
      },
      "source": [
        "fpc = pd.Series(pd.DataFrame(principalComponents).iloc[:,0],name='first_principal_component')"
      ],
      "execution_count": null,
      "outputs": []
    },
    {
      "cell_type": "code",
      "metadata": {
        "colab": {
          "base_uri": "https://localhost:8080/"
        },
        "id": "trXwBnsX41WF",
        "outputId": "4217b743-6c0d-4b69-9146-bc385f6f6b63"
      },
      "source": [
        "fpc.head()"
      ],
      "execution_count": null,
      "outputs": [
        {
          "output_type": "execute_result",
          "data": {
            "text/plain": [
              "0   -0.708680\n",
              "1   -1.370094\n",
              "2   -0.613472\n",
              "3   -1.137075\n",
              "4    7.749451\n",
              "Name: first_principal_component, dtype: float64"
            ]
          },
          "metadata": {
            "tags": []
          },
          "execution_count": 36
        }
      ]
    },
    {
      "cell_type": "code",
      "metadata": {
        "colab": {
          "base_uri": "https://localhost:8080/",
          "height": 106
        },
        "id": "C2694tAZ7HV2",
        "outputId": "3bb52dc6-fad8-4b11-b7c0-69847ce7aef0"
      },
      "source": [
        "pd.concat([df['WEIGHTED_AVG'].reset_index(drop=True), fpc], axis=1).corr()"
      ],
      "execution_count": null,
      "outputs": [
        {
          "output_type": "execute_result",
          "data": {
            "text/html": [
              "<div>\n",
              "<style scoped>\n",
              "    .dataframe tbody tr th:only-of-type {\n",
              "        vertical-align: middle;\n",
              "    }\n",
              "\n",
              "    .dataframe tbody tr th {\n",
              "        vertical-align: top;\n",
              "    }\n",
              "\n",
              "    .dataframe thead th {\n",
              "        text-align: right;\n",
              "    }\n",
              "</style>\n",
              "<table border=\"1\" class=\"dataframe\">\n",
              "  <thead>\n",
              "    <tr style=\"text-align: right;\">\n",
              "      <th></th>\n",
              "      <th>WEIGHTED_AVG</th>\n",
              "      <th>first_principal_component</th>\n",
              "    </tr>\n",
              "  </thead>\n",
              "  <tbody>\n",
              "    <tr>\n",
              "      <th>WEIGHTED_AVG</th>\n",
              "      <td>1.000000</td>\n",
              "      <td>-0.002786</td>\n",
              "    </tr>\n",
              "    <tr>\n",
              "      <th>first_principal_component</th>\n",
              "      <td>-0.002786</td>\n",
              "      <td>1.000000</td>\n",
              "    </tr>\n",
              "  </tbody>\n",
              "</table>\n",
              "</div>"
            ],
            "text/plain": [
              "                           WEIGHTED_AVG  first_principal_component\n",
              "WEIGHTED_AVG                   1.000000                  -0.002786\n",
              "first_principal_component     -0.002786                   1.000000"
            ]
          },
          "metadata": {
            "tags": []
          },
          "execution_count": 35
        }
      ]
    },
    {
      "cell_type": "markdown",
      "metadata": {
        "id": "esT3VssgYeCO"
      },
      "source": [
        "**(5)** When you need to choose the most appropriate variables for your model, would you prefer the first basic variables instead of the expenditure items? Why?"
      ]
    },
    {
      "cell_type": "markdown",
      "metadata": {
        "id": "NhxfeurMAE_x"
      },
      "source": [
        "The probability of multicollinearity is very high in the correlation that the features create among themselves and higher than the correlation it creates with the first principal component. However, multicollinearity is not desirable, so I would choose first principal component"
      ]
    },
    {
      "cell_type": "code",
      "metadata": {
        "id": "7CmEM7dMAEXf"
      },
      "source": [
        ""
      ],
      "execution_count": null,
      "outputs": []
    }
  ]
}