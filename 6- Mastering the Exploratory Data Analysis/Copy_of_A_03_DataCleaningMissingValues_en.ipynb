{
  "nbformat": 4,
  "nbformat_minor": 0,
  "metadata": {
    "kernelspec": {
      "display_name": "Python 3",
      "language": "python",
      "name": "python3"
    },
    "language_info": {
      "codemirror_mode": {
        "name": "ipython",
        "version": 3
      },
      "file_extension": ".py",
      "mimetype": "text/x-python",
      "name": "python",
      "nbconvert_exporter": "python",
      "pygments_lexer": "ipython3",
      "version": "3.8.2"
    },
    "colab": {
      "name": "Copy of A_03_DataCleaningMissingValues_en.ipynb",
      "provenance": [],
      "collapsed_sections": []
    }
  },
  "cells": [
    {
      "cell_type": "markdown",
      "metadata": {
        "id": "7vAUgwlccDCn"
      },
      "source": [
        "# <font color=blue>Assignments for \"Data Cleaning - Missing Values\"</font>"
      ]
    },
    {
      "cell_type": "markdown",
      "metadata": {
        "id": "mKN1NgWAcDDC"
      },
      "source": [
        "In this assignment, you are going to use a dataset related to the US education system. Please download the ([dataset](https://www.kaggle.com/noriuk/us-education-datasets-unification-project/home)) from Kaggle. You are going to use `states_all.csv` within this dataset.\n",
        "\n",
        "To complete this assignment, submit the Github link of the Jupyter notebook file containing solutions to the questions below. You can talk to your mentor on your head or ask Slack at office time."
      ]
    },
    {
      "cell_type": "markdown",
      "metadata": {
        "id": "14YqG3zTcDDE"
      },
      "source": [
        "**(1)** Find the types of variables in the dataset and the missing (null) ratio of each variable."
      ]
    },
    {
      "cell_type": "code",
      "metadata": {
        "id": "mv41O8nfcDDG"
      },
      "source": [
        "import numpy as np\n",
        "import pandas as pd"
      ],
      "execution_count": null,
      "outputs": []
    },
    {
      "cell_type": "code",
      "metadata": {
        "colab": {
          "base_uri": "https://localhost:8080/"
        },
        "id": "87wyL3qpyRAm",
        "outputId": "6ff75130-83ea-4a62-e732-0744ac6e57a0"
      },
      "source": [
        "from google.colab import drive\n",
        "drive.mount('/content/drive')"
      ],
      "execution_count": null,
      "outputs": [
        {
          "output_type": "stream",
          "text": [
            "Drive already mounted at /content/drive; to attempt to forcibly remount, call drive.mount(\"/content/drive\", force_remount=True).\n"
          ],
          "name": "stdout"
        }
      ]
    },
    {
      "cell_type": "code",
      "metadata": {
        "colab": {
          "base_uri": "https://localhost:8080/",
          "height": 35
        },
        "id": "tmwiR9jGykde",
        "outputId": "8b7f3562-fcf0-43db-d647-71249f883a32"
      },
      "source": [
        "import os\n",
        "os.getcwd()"
      ],
      "execution_count": null,
      "outputs": [
        {
          "output_type": "execute_result",
          "data": {
            "application/vnd.google.colaboratory.intrinsic+json": {
              "type": "string"
            },
            "text/plain": [
              "'/content'"
            ]
          },
          "metadata": {
            "tags": []
          },
          "execution_count": 3
        }
      ]
    },
    {
      "cell_type": "code",
      "metadata": {
        "id": "NZps71PVymbe"
      },
      "source": [
        "PATH ='/content/drive/MyDrive/Colab Notebooks/Datajarlabs/6-Mastering_the_Exploratory_Data_Analysis'\n",
        "os.chdir(PATH)"
      ],
      "execution_count": null,
      "outputs": []
    },
    {
      "cell_type": "code",
      "metadata": {
        "colab": {
          "base_uri": "https://localhost:8080/",
          "height": 215
        },
        "id": "A-wzqmvR2YvO",
        "outputId": "989977e7-0662-486f-d9e0-a017385ffb71"
      },
      "source": [
        "df = pd.read_csv('states_all.csv')\n",
        "df.head()"
      ],
      "execution_count": null,
      "outputs": [
        {
          "output_type": "execute_result",
          "data": {
            "text/html": [
              "<div>\n",
              "<style scoped>\n",
              "    .dataframe tbody tr th:only-of-type {\n",
              "        vertical-align: middle;\n",
              "    }\n",
              "\n",
              "    .dataframe tbody tr th {\n",
              "        vertical-align: top;\n",
              "    }\n",
              "\n",
              "    .dataframe thead th {\n",
              "        text-align: right;\n",
              "    }\n",
              "</style>\n",
              "<table border=\"1\" class=\"dataframe\">\n",
              "  <thead>\n",
              "    <tr style=\"text-align: right;\">\n",
              "      <th></th>\n",
              "      <th>PRIMARY_KEY</th>\n",
              "      <th>STATE</th>\n",
              "      <th>YEAR</th>\n",
              "      <th>ENROLL</th>\n",
              "      <th>TOTAL_REVENUE</th>\n",
              "      <th>FEDERAL_REVENUE</th>\n",
              "      <th>STATE_REVENUE</th>\n",
              "      <th>LOCAL_REVENUE</th>\n",
              "      <th>TOTAL_EXPENDITURE</th>\n",
              "      <th>INSTRUCTION_EXPENDITURE</th>\n",
              "      <th>SUPPORT_SERVICES_EXPENDITURE</th>\n",
              "      <th>OTHER_EXPENDITURE</th>\n",
              "      <th>CAPITAL_OUTLAY_EXPENDITURE</th>\n",
              "      <th>GRADES_PK_G</th>\n",
              "      <th>GRADES_KG_G</th>\n",
              "      <th>GRADES_4_G</th>\n",
              "      <th>GRADES_8_G</th>\n",
              "      <th>GRADES_12_G</th>\n",
              "      <th>GRADES_1_8_G</th>\n",
              "      <th>GRADES_9_12_G</th>\n",
              "      <th>GRADES_ALL_G</th>\n",
              "      <th>AVG_MATH_4_SCORE</th>\n",
              "      <th>AVG_MATH_8_SCORE</th>\n",
              "      <th>AVG_READING_4_SCORE</th>\n",
              "      <th>AVG_READING_8_SCORE</th>\n",
              "    </tr>\n",
              "  </thead>\n",
              "  <tbody>\n",
              "    <tr>\n",
              "      <th>0</th>\n",
              "      <td>1992_ALABAMA</td>\n",
              "      <td>ALABAMA</td>\n",
              "      <td>1992</td>\n",
              "      <td>NaN</td>\n",
              "      <td>2678885.0</td>\n",
              "      <td>304177.0</td>\n",
              "      <td>1659028.0</td>\n",
              "      <td>715680.0</td>\n",
              "      <td>2653798.0</td>\n",
              "      <td>1481703.0</td>\n",
              "      <td>735036.0</td>\n",
              "      <td>NaN</td>\n",
              "      <td>174053.0</td>\n",
              "      <td>8224.0</td>\n",
              "      <td>55460.0</td>\n",
              "      <td>57948.0</td>\n",
              "      <td>58025.0</td>\n",
              "      <td>41167.0</td>\n",
              "      <td>NaN</td>\n",
              "      <td>NaN</td>\n",
              "      <td>731634.0</td>\n",
              "      <td>208.0</td>\n",
              "      <td>252.0</td>\n",
              "      <td>207.0</td>\n",
              "      <td>NaN</td>\n",
              "    </tr>\n",
              "    <tr>\n",
              "      <th>1</th>\n",
              "      <td>1992_ALASKA</td>\n",
              "      <td>ALASKA</td>\n",
              "      <td>1992</td>\n",
              "      <td>NaN</td>\n",
              "      <td>1049591.0</td>\n",
              "      <td>106780.0</td>\n",
              "      <td>720711.0</td>\n",
              "      <td>222100.0</td>\n",
              "      <td>972488.0</td>\n",
              "      <td>498362.0</td>\n",
              "      <td>350902.0</td>\n",
              "      <td>NaN</td>\n",
              "      <td>37451.0</td>\n",
              "      <td>2371.0</td>\n",
              "      <td>10152.0</td>\n",
              "      <td>9748.0</td>\n",
              "      <td>8789.0</td>\n",
              "      <td>6714.0</td>\n",
              "      <td>NaN</td>\n",
              "      <td>NaN</td>\n",
              "      <td>122487.0</td>\n",
              "      <td>NaN</td>\n",
              "      <td>NaN</td>\n",
              "      <td>NaN</td>\n",
              "      <td>NaN</td>\n",
              "    </tr>\n",
              "    <tr>\n",
              "      <th>2</th>\n",
              "      <td>1992_ARIZONA</td>\n",
              "      <td>ARIZONA</td>\n",
              "      <td>1992</td>\n",
              "      <td>NaN</td>\n",
              "      <td>3258079.0</td>\n",
              "      <td>297888.0</td>\n",
              "      <td>1369815.0</td>\n",
              "      <td>1590376.0</td>\n",
              "      <td>3401580.0</td>\n",
              "      <td>1435908.0</td>\n",
              "      <td>1007732.0</td>\n",
              "      <td>NaN</td>\n",
              "      <td>609114.0</td>\n",
              "      <td>2544.0</td>\n",
              "      <td>53497.0</td>\n",
              "      <td>55433.0</td>\n",
              "      <td>49081.0</td>\n",
              "      <td>37410.0</td>\n",
              "      <td>NaN</td>\n",
              "      <td>NaN</td>\n",
              "      <td>673477.0</td>\n",
              "      <td>215.0</td>\n",
              "      <td>265.0</td>\n",
              "      <td>209.0</td>\n",
              "      <td>NaN</td>\n",
              "    </tr>\n",
              "    <tr>\n",
              "      <th>3</th>\n",
              "      <td>1992_ARKANSAS</td>\n",
              "      <td>ARKANSAS</td>\n",
              "      <td>1992</td>\n",
              "      <td>NaN</td>\n",
              "      <td>1711959.0</td>\n",
              "      <td>178571.0</td>\n",
              "      <td>958785.0</td>\n",
              "      <td>574603.0</td>\n",
              "      <td>1743022.0</td>\n",
              "      <td>964323.0</td>\n",
              "      <td>483488.0</td>\n",
              "      <td>NaN</td>\n",
              "      <td>145212.0</td>\n",
              "      <td>808.0</td>\n",
              "      <td>33511.0</td>\n",
              "      <td>34632.0</td>\n",
              "      <td>36011.0</td>\n",
              "      <td>27651.0</td>\n",
              "      <td>NaN</td>\n",
              "      <td>NaN</td>\n",
              "      <td>441490.0</td>\n",
              "      <td>210.0</td>\n",
              "      <td>256.0</td>\n",
              "      <td>211.0</td>\n",
              "      <td>NaN</td>\n",
              "    </tr>\n",
              "    <tr>\n",
              "      <th>4</th>\n",
              "      <td>1992_CALIFORNIA</td>\n",
              "      <td>CALIFORNIA</td>\n",
              "      <td>1992</td>\n",
              "      <td>NaN</td>\n",
              "      <td>26260025.0</td>\n",
              "      <td>2072470.0</td>\n",
              "      <td>16546514.0</td>\n",
              "      <td>7641041.0</td>\n",
              "      <td>27138832.0</td>\n",
              "      <td>14358922.0</td>\n",
              "      <td>8520926.0</td>\n",
              "      <td>NaN</td>\n",
              "      <td>2044688.0</td>\n",
              "      <td>59067.0</td>\n",
              "      <td>431763.0</td>\n",
              "      <td>418418.0</td>\n",
              "      <td>363296.0</td>\n",
              "      <td>270675.0</td>\n",
              "      <td>NaN</td>\n",
              "      <td>NaN</td>\n",
              "      <td>5254844.0</td>\n",
              "      <td>208.0</td>\n",
              "      <td>261.0</td>\n",
              "      <td>202.0</td>\n",
              "      <td>NaN</td>\n",
              "    </tr>\n",
              "  </tbody>\n",
              "</table>\n",
              "</div>"
            ],
            "text/plain": [
              "       PRIMARY_KEY       STATE  ...  AVG_READING_4_SCORE  AVG_READING_8_SCORE\n",
              "0     1992_ALABAMA     ALABAMA  ...                207.0                  NaN\n",
              "1      1992_ALASKA      ALASKA  ...                  NaN                  NaN\n",
              "2     1992_ARIZONA     ARIZONA  ...                209.0                  NaN\n",
              "3    1992_ARKANSAS    ARKANSAS  ...                211.0                  NaN\n",
              "4  1992_CALIFORNIA  CALIFORNIA  ...                202.0                  NaN\n",
              "\n",
              "[5 rows x 25 columns]"
            ]
          },
          "metadata": {
            "tags": []
          },
          "execution_count": 5
        }
      ]
    },
    {
      "cell_type": "code",
      "metadata": {
        "colab": {
          "base_uri": "https://localhost:8080/"
        },
        "id": "lMdML89J2h8N",
        "outputId": "5ad1af3c-7852-405c-c2cc-eb1f0469a675"
      },
      "source": [
        "df.dtypes"
      ],
      "execution_count": null,
      "outputs": [
        {
          "output_type": "execute_result",
          "data": {
            "text/plain": [
              "PRIMARY_KEY                      object\n",
              "STATE                            object\n",
              "YEAR                              int64\n",
              "ENROLL                          float64\n",
              "TOTAL_REVENUE                   float64\n",
              "FEDERAL_REVENUE                 float64\n",
              "STATE_REVENUE                   float64\n",
              "LOCAL_REVENUE                   float64\n",
              "TOTAL_EXPENDITURE               float64\n",
              "INSTRUCTION_EXPENDITURE         float64\n",
              "SUPPORT_SERVICES_EXPENDITURE    float64\n",
              "OTHER_EXPENDITURE               float64\n",
              "CAPITAL_OUTLAY_EXPENDITURE      float64\n",
              "GRADES_PK_G                     float64\n",
              "GRADES_KG_G                     float64\n",
              "GRADES_4_G                      float64\n",
              "GRADES_8_G                      float64\n",
              "GRADES_12_G                     float64\n",
              "GRADES_1_8_G                    float64\n",
              "GRADES_9_12_G                   float64\n",
              "GRADES_ALL_G                    float64\n",
              "AVG_MATH_4_SCORE                float64\n",
              "AVG_MATH_8_SCORE                float64\n",
              "AVG_READING_4_SCORE             float64\n",
              "AVG_READING_8_SCORE             float64\n",
              "dtype: object"
            ]
          },
          "metadata": {
            "tags": []
          },
          "execution_count": 6
        }
      ]
    },
    {
      "cell_type": "code",
      "metadata": {
        "colab": {
          "base_uri": "https://localhost:8080/"
        },
        "id": "yA-Bmsev2h3k",
        "outputId": "a290c2ff-9d17-4cbd-e6d8-d2d6848b7cbe"
      },
      "source": [
        "df.isnull().sum()"
      ],
      "execution_count": null,
      "outputs": [
        {
          "output_type": "execute_result",
          "data": {
            "text/plain": [
              "PRIMARY_KEY                        0\n",
              "STATE                              0\n",
              "YEAR                               0\n",
              "ENROLL                           491\n",
              "TOTAL_REVENUE                    440\n",
              "FEDERAL_REVENUE                  440\n",
              "STATE_REVENUE                    440\n",
              "LOCAL_REVENUE                    440\n",
              "TOTAL_EXPENDITURE                440\n",
              "INSTRUCTION_EXPENDITURE          440\n",
              "SUPPORT_SERVICES_EXPENDITURE     440\n",
              "OTHER_EXPENDITURE                491\n",
              "CAPITAL_OUTLAY_EXPENDITURE       440\n",
              "GRADES_PK_G                      173\n",
              "GRADES_KG_G                       83\n",
              "GRADES_4_G                        83\n",
              "GRADES_8_G                        83\n",
              "GRADES_12_G                       83\n",
              "GRADES_1_8_G                     695\n",
              "GRADES_9_12_G                    644\n",
              "GRADES_ALL_G                      83\n",
              "AVG_MATH_4_SCORE                1150\n",
              "AVG_MATH_8_SCORE                1113\n",
              "AVG_READING_4_SCORE             1065\n",
              "AVG_READING_8_SCORE             1153\n",
              "dtype: int64"
            ]
          },
          "metadata": {
            "tags": []
          },
          "execution_count": 7
        }
      ]
    },
    {
      "cell_type": "code",
      "metadata": {
        "colab": {
          "base_uri": "https://localhost:8080/"
        },
        "id": "osizvsfe9P3v",
        "outputId": "9d3452e0-e11a-4bea-c968-ca61c43fa60d"
      },
      "source": [
        "df.isnull().sum()*100 /df.shape[0]"
      ],
      "execution_count": null,
      "outputs": [
        {
          "output_type": "execute_result",
          "data": {
            "text/plain": [
              "PRIMARY_KEY                      0.000000\n",
              "STATE                            0.000000\n",
              "YEAR                             0.000000\n",
              "ENROLL                          28.629738\n",
              "TOTAL_REVENUE                   25.655977\n",
              "FEDERAL_REVENUE                 25.655977\n",
              "STATE_REVENUE                   25.655977\n",
              "LOCAL_REVENUE                   25.655977\n",
              "TOTAL_EXPENDITURE               25.655977\n",
              "INSTRUCTION_EXPENDITURE         25.655977\n",
              "SUPPORT_SERVICES_EXPENDITURE    25.655977\n",
              "OTHER_EXPENDITURE               28.629738\n",
              "CAPITAL_OUTLAY_EXPENDITURE      25.655977\n",
              "GRADES_PK_G                     10.087464\n",
              "GRADES_KG_G                      4.839650\n",
              "GRADES_4_G                       4.839650\n",
              "GRADES_8_G                       4.839650\n",
              "GRADES_12_G                      4.839650\n",
              "GRADES_1_8_G                    40.524781\n",
              "GRADES_9_12_G                   37.551020\n",
              "GRADES_ALL_G                     4.839650\n",
              "AVG_MATH_4_SCORE                67.055394\n",
              "AVG_MATH_8_SCORE                64.897959\n",
              "AVG_READING_4_SCORE             62.099125\n",
              "AVG_READING_8_SCORE             67.230321\n",
              "dtype: float64"
            ]
          },
          "metadata": {
            "tags": []
          },
          "execution_count": 8
        }
      ]
    },
    {
      "cell_type": "code",
      "metadata": {
        "colab": {
          "base_uri": "https://localhost:8080/"
        },
        "id": "1funAYKe97tW",
        "outputId": "f97dbe06-2616-4432-eac1-6c7c7015fbcc"
      },
      "source": [
        "df.info()"
      ],
      "execution_count": null,
      "outputs": [
        {
          "output_type": "stream",
          "text": [
            "<class 'pandas.core.frame.DataFrame'>\n",
            "RangeIndex: 1715 entries, 0 to 1714\n",
            "Data columns (total 25 columns):\n",
            " #   Column                        Non-Null Count  Dtype  \n",
            "---  ------                        --------------  -----  \n",
            " 0   PRIMARY_KEY                   1715 non-null   object \n",
            " 1   STATE                         1715 non-null   object \n",
            " 2   YEAR                          1715 non-null   int64  \n",
            " 3   ENROLL                        1224 non-null   float64\n",
            " 4   TOTAL_REVENUE                 1275 non-null   float64\n",
            " 5   FEDERAL_REVENUE               1275 non-null   float64\n",
            " 6   STATE_REVENUE                 1275 non-null   float64\n",
            " 7   LOCAL_REVENUE                 1275 non-null   float64\n",
            " 8   TOTAL_EXPENDITURE             1275 non-null   float64\n",
            " 9   INSTRUCTION_EXPENDITURE       1275 non-null   float64\n",
            " 10  SUPPORT_SERVICES_EXPENDITURE  1275 non-null   float64\n",
            " 11  OTHER_EXPENDITURE             1224 non-null   float64\n",
            " 12  CAPITAL_OUTLAY_EXPENDITURE    1275 non-null   float64\n",
            " 13  GRADES_PK_G                   1542 non-null   float64\n",
            " 14  GRADES_KG_G                   1632 non-null   float64\n",
            " 15  GRADES_4_G                    1632 non-null   float64\n",
            " 16  GRADES_8_G                    1632 non-null   float64\n",
            " 17  GRADES_12_G                   1632 non-null   float64\n",
            " 18  GRADES_1_8_G                  1020 non-null   float64\n",
            " 19  GRADES_9_12_G                 1071 non-null   float64\n",
            " 20  GRADES_ALL_G                  1632 non-null   float64\n",
            " 21  AVG_MATH_4_SCORE              565 non-null    float64\n",
            " 22  AVG_MATH_8_SCORE              602 non-null    float64\n",
            " 23  AVG_READING_4_SCORE           650 non-null    float64\n",
            " 24  AVG_READING_8_SCORE           562 non-null    float64\n",
            "dtypes: float64(22), int64(1), object(2)\n",
            "memory usage: 335.1+ KB\n"
          ],
          "name": "stdout"
        }
      ]
    },
    {
      "cell_type": "markdown",
      "metadata": {
        "id": "0P8mZt0CcDDG"
      },
      "source": [
        "**(2)** You may have noticed that our data has a year column. For now, forget about the year data and assume that each observation was made in the same year. Consider how you can fill in missing values for each variable. Filling in the missing values with a value is meaningful for which variables and for which ones?"
      ]
    },
    {
      "cell_type": "markdown",
      "metadata": {
        "id": "5aLk8B-J_-le"
      },
      "source": [
        "For columns with less than 15% missing data, it may be more meaningful to fill this missing data. However, if there are columns with a lot of missing values, it would be better to remove those columns. Since most os the variables with data missing have float data type, we can choose to fill those values ​​with the missing data based on the mean or median of the column."
      ]
    },
    {
      "cell_type": "markdown",
      "metadata": {
        "id": "PTFns1NOcDDH"
      },
      "source": [
        "**(3)** Now it's time to consider the factor of time! Review your answer in question 2 and fill in the missing data based on the values observed during that year. For example, if you want to fill a value with an average value, calculate the average of that year."
      ]
    },
    {
      "cell_type": "code",
      "metadata": {
        "id": "xqv98ZIvcDDH"
      },
      "source": [
        "for column in df.columns[3:]:\n",
        "    for year in df['YEAR'].unique():\n",
        "        df[column].fillna(df[df['YEAR'] == year][column].mean(), inplace=True)"
      ],
      "execution_count": null,
      "outputs": []
    },
    {
      "cell_type": "code",
      "metadata": {
        "colab": {
          "base_uri": "https://localhost:8080/"
        },
        "id": "Zb9ZIQ1GBFr-",
        "outputId": "596dd0ef-b82a-43c3-e9b9-b913dc5327a0"
      },
      "source": [
        "df.isna().sum()"
      ],
      "execution_count": null,
      "outputs": [
        {
          "output_type": "execute_result",
          "data": {
            "text/plain": [
              "PRIMARY_KEY                     0\n",
              "STATE                           0\n",
              "YEAR                            0\n",
              "ENROLL                          0\n",
              "TOTAL_REVENUE                   0\n",
              "FEDERAL_REVENUE                 0\n",
              "STATE_REVENUE                   0\n",
              "LOCAL_REVENUE                   0\n",
              "TOTAL_EXPENDITURE               0\n",
              "INSTRUCTION_EXPENDITURE         0\n",
              "SUPPORT_SERVICES_EXPENDITURE    0\n",
              "OTHER_EXPENDITURE               0\n",
              "CAPITAL_OUTLAY_EXPENDITURE      0\n",
              "GRADES_PK_G                     0\n",
              "GRADES_KG_G                     0\n",
              "GRADES_4_G                      0\n",
              "GRADES_8_G                      0\n",
              "GRADES_12_G                     0\n",
              "GRADES_1_8_G                    0\n",
              "GRADES_9_12_G                   0\n",
              "GRADES_ALL_G                    0\n",
              "AVG_MATH_4_SCORE                0\n",
              "AVG_MATH_8_SCORE                0\n",
              "AVG_READING_4_SCORE             0\n",
              "AVG_READING_8_SCORE             0\n",
              "dtype: int64"
            ]
          },
          "metadata": {
            "tags": []
          },
          "execution_count": 11
        }
      ]
    },
    {
      "cell_type": "code",
      "metadata": {
        "colab": {
          "base_uri": "https://localhost:8080/",
          "height": 304
        },
        "id": "Ael6idmhCclm",
        "outputId": "6dee0c30-202e-4d4f-d1c7-af13c5e90a47"
      },
      "source": [
        "df.describe()"
      ],
      "execution_count": null,
      "outputs": [
        {
          "output_type": "execute_result",
          "data": {
            "text/html": [
              "<div>\n",
              "<style scoped>\n",
              "    .dataframe tbody tr th:only-of-type {\n",
              "        vertical-align: middle;\n",
              "    }\n",
              "\n",
              "    .dataframe tbody tr th {\n",
              "        vertical-align: top;\n",
              "    }\n",
              "\n",
              "    .dataframe thead th {\n",
              "        text-align: right;\n",
              "    }\n",
              "</style>\n",
              "<table border=\"1\" class=\"dataframe\">\n",
              "  <thead>\n",
              "    <tr style=\"text-align: right;\">\n",
              "      <th></th>\n",
              "      <th>YEAR</th>\n",
              "      <th>ENROLL</th>\n",
              "      <th>TOTAL_REVENUE</th>\n",
              "      <th>FEDERAL_REVENUE</th>\n",
              "      <th>STATE_REVENUE</th>\n",
              "      <th>LOCAL_REVENUE</th>\n",
              "      <th>TOTAL_EXPENDITURE</th>\n",
              "      <th>INSTRUCTION_EXPENDITURE</th>\n",
              "      <th>SUPPORT_SERVICES_EXPENDITURE</th>\n",
              "      <th>OTHER_EXPENDITURE</th>\n",
              "      <th>CAPITAL_OUTLAY_EXPENDITURE</th>\n",
              "      <th>GRADES_PK_G</th>\n",
              "      <th>GRADES_KG_G</th>\n",
              "      <th>GRADES_4_G</th>\n",
              "      <th>GRADES_8_G</th>\n",
              "      <th>GRADES_12_G</th>\n",
              "      <th>GRADES_1_8_G</th>\n",
              "      <th>GRADES_9_12_G</th>\n",
              "      <th>GRADES_ALL_G</th>\n",
              "      <th>AVG_MATH_4_SCORE</th>\n",
              "      <th>AVG_MATH_8_SCORE</th>\n",
              "      <th>AVG_READING_4_SCORE</th>\n",
              "      <th>AVG_READING_8_SCORE</th>\n",
              "    </tr>\n",
              "  </thead>\n",
              "  <tbody>\n",
              "    <tr>\n",
              "      <th>count</th>\n",
              "      <td>1715.000000</td>\n",
              "      <td>1.715000e+03</td>\n",
              "      <td>1.715000e+03</td>\n",
              "      <td>1.715000e+03</td>\n",
              "      <td>1.715000e+03</td>\n",
              "      <td>1.715000e+03</td>\n",
              "      <td>1.715000e+03</td>\n",
              "      <td>1.715000e+03</td>\n",
              "      <td>1.715000e+03</td>\n",
              "      <td>1.715000e+03</td>\n",
              "      <td>1.715000e+03</td>\n",
              "      <td>1715.000000</td>\n",
              "      <td>1715.000000</td>\n",
              "      <td>1715.000000</td>\n",
              "      <td>1715.000000</td>\n",
              "      <td>1715.000000</td>\n",
              "      <td>1.715000e+03</td>\n",
              "      <td>1.715000e+03</td>\n",
              "      <td>1.715000e+03</td>\n",
              "      <td>1715.000000</td>\n",
              "      <td>1715.000000</td>\n",
              "      <td>1715.000000</td>\n",
              "      <td>1715.000000</td>\n",
              "    </tr>\n",
              "    <tr>\n",
              "      <th>mean</th>\n",
              "      <td>2002.075219</td>\n",
              "      <td>8.844779e+05</td>\n",
              "      <td>7.940014e+06</td>\n",
              "      <td>6.470043e+05</td>\n",
              "      <td>3.675878e+06</td>\n",
              "      <td>3.617132e+06</td>\n",
              "      <td>8.038215e+06</td>\n",
              "      <td>4.174329e+06</td>\n",
              "      <td>2.345868e+06</td>\n",
              "      <td>3.779261e+05</td>\n",
              "      <td>7.755828e+05</td>\n",
              "      <td>17059.254869</td>\n",
              "      <td>68624.415263</td>\n",
              "      <td>68990.235660</td>\n",
              "      <td>67779.692643</td>\n",
              "      <td>57899.964546</td>\n",
              "      <td>5.696683e+05</td>\n",
              "      <td>2.706907e+05</td>\n",
              "      <td>9.103738e+05</td>\n",
              "      <td>224.318598</td>\n",
              "      <td>270.522083</td>\n",
              "      <td>216.673632</td>\n",
              "      <td>261.166181</td>\n",
              "    </tr>\n",
              "    <tr>\n",
              "      <th>std</th>\n",
              "      <td>9.568621</td>\n",
              "      <td>9.024077e+05</td>\n",
              "      <td>1.032975e+07</td>\n",
              "      <td>1.010029e+06</td>\n",
              "      <td>4.874761e+06</td>\n",
              "      <td>4.806776e+06</td>\n",
              "      <td>1.052905e+07</td>\n",
              "      <td>5.525256e+06</td>\n",
              "      <td>2.950641e+06</td>\n",
              "      <td>4.591536e+05</td>\n",
              "      <td>1.166698e+06</td>\n",
              "      <td>28557.057062</td>\n",
              "      <td>78697.909500</td>\n",
              "      <td>78001.914197</td>\n",
              "      <td>76068.501470</td>\n",
              "      <td>65825.985118</td>\n",
              "      <td>5.211587e+05</td>\n",
              "      <td>2.617084e+05</td>\n",
              "      <td>1.030134e+06</td>\n",
              "      <td>9.963167</td>\n",
              "      <td>8.372126</td>\n",
              "      <td>5.012101</td>\n",
              "      <td>4.135655</td>\n",
              "    </tr>\n",
              "    <tr>\n",
              "      <th>min</th>\n",
              "      <td>1986.000000</td>\n",
              "      <td>4.386600e+04</td>\n",
              "      <td>4.656500e+05</td>\n",
              "      <td>3.102000e+04</td>\n",
              "      <td>0.000000e+00</td>\n",
              "      <td>2.209300e+04</td>\n",
              "      <td>4.816650e+05</td>\n",
              "      <td>2.655490e+05</td>\n",
              "      <td>1.399630e+05</td>\n",
              "      <td>1.154100e+04</td>\n",
              "      <td>1.270800e+04</td>\n",
              "      <td>96.000000</td>\n",
              "      <td>5122.000000</td>\n",
              "      <td>4577.000000</td>\n",
              "      <td>3371.000000</td>\n",
              "      <td>2572.000000</td>\n",
              "      <td>3.769800e+04</td>\n",
              "      <td>1.353000e+04</td>\n",
              "      <td>6.844900e+04</td>\n",
              "      <td>192.000000</td>\n",
              "      <td>231.000000</td>\n",
              "      <td>179.000000</td>\n",
              "      <td>236.000000</td>\n",
              "    </tr>\n",
              "    <tr>\n",
              "      <th>25%</th>\n",
              "      <td>1994.000000</td>\n",
              "      <td>4.646880e+05</td>\n",
              "      <td>2.992297e+06</td>\n",
              "      <td>2.602770e+05</td>\n",
              "      <td>1.618602e+06</td>\n",
              "      <td>1.162580e+06</td>\n",
              "      <td>3.004448e+06</td>\n",
              "      <td>1.570157e+06</td>\n",
              "      <td>8.996910e+05</td>\n",
              "      <td>1.624780e+05</td>\n",
              "      <td>2.608130e+05</td>\n",
              "      <td>2536.500000</td>\n",
              "      <td>20944.000000</td>\n",
              "      <td>20486.500000</td>\n",
              "      <td>20518.500000</td>\n",
              "      <td>17949.000000</td>\n",
              "      <td>3.158105e+05</td>\n",
              "      <td>1.457900e+05</td>\n",
              "      <td>2.800010e+05</td>\n",
              "      <td>218.418605</td>\n",
              "      <td>266.325581</td>\n",
              "      <td>215.372093</td>\n",
              "      <td>260.000000</td>\n",
              "    </tr>\n",
              "    <tr>\n",
              "      <th>50%</th>\n",
              "      <td>2002.000000</td>\n",
              "      <td>8.020543e+05</td>\n",
              "      <td>4.572764e+06</td>\n",
              "      <td>2.970296e+05</td>\n",
              "      <td>2.088314e+06</td>\n",
              "      <td>2.187420e+06</td>\n",
              "      <td>4.653591e+06</td>\n",
              "      <td>2.454000e+06</td>\n",
              "      <td>1.370149e+06</td>\n",
              "      <td>2.482348e+05</td>\n",
              "      <td>4.050078e+05</td>\n",
              "      <td>10091.700000</td>\n",
              "      <td>51920.000000</td>\n",
              "      <td>51999.000000</td>\n",
              "      <td>50447.000000</td>\n",
              "      <td>40774.000000</td>\n",
              "      <td>5.575071e+05</td>\n",
              "      <td>2.517678e+05</td>\n",
              "      <td>6.809780e+05</td>\n",
              "      <td>218.418605</td>\n",
              "      <td>266.325581</td>\n",
              "      <td>215.372093</td>\n",
              "      <td>260.000000</td>\n",
              "    </tr>\n",
              "    <tr>\n",
              "      <th>75%</th>\n",
              "      <td>2010.000000</td>\n",
              "      <td>8.694485e+05</td>\n",
              "      <td>8.165744e+06</td>\n",
              "      <td>6.732800e+05</td>\n",
              "      <td>3.837822e+06</td>\n",
              "      <td>3.484108e+06</td>\n",
              "      <td>8.220253e+06</td>\n",
              "      <td>4.133618e+06</td>\n",
              "      <td>2.442635e+06</td>\n",
              "      <td>4.079995e+05</td>\n",
              "      <td>8.122720e+05</td>\n",
              "      <td>19689.000000</td>\n",
              "      <td>75726.000000</td>\n",
              "      <td>77052.000000</td>\n",
              "      <td>76719.500000</td>\n",
              "      <td>68023.000000</td>\n",
              "      <td>5.575071e+05</td>\n",
              "      <td>2.528075e+05</td>\n",
              "      <td>1.002840e+06</td>\n",
              "      <td>231.000000</td>\n",
              "      <td>274.000000</td>\n",
              "      <td>217.000000</td>\n",
              "      <td>260.000000</td>\n",
              "    </tr>\n",
              "    <tr>\n",
              "      <th>max</th>\n",
              "      <td>2019.000000</td>\n",
              "      <td>6.307022e+06</td>\n",
              "      <td>8.921726e+07</td>\n",
              "      <td>9.990221e+06</td>\n",
              "      <td>5.090457e+07</td>\n",
              "      <td>3.610526e+07</td>\n",
              "      <td>8.532013e+07</td>\n",
              "      <td>4.396452e+07</td>\n",
              "      <td>2.605802e+07</td>\n",
              "      <td>3.995951e+06</td>\n",
              "      <td>1.022366e+07</td>\n",
              "      <td>256222.000000</td>\n",
              "      <td>535379.000000</td>\n",
              "      <td>493415.000000</td>\n",
              "      <td>500143.000000</td>\n",
              "      <td>498403.000000</td>\n",
              "      <td>3.929869e+06</td>\n",
              "      <td>2.013687e+06</td>\n",
              "      <td>6.441557e+06</td>\n",
              "      <td>253.000000</td>\n",
              "      <td>301.000000</td>\n",
              "      <td>237.000000</td>\n",
              "      <td>280.000000</td>\n",
              "    </tr>\n",
              "  </tbody>\n",
              "</table>\n",
              "</div>"
            ],
            "text/plain": [
              "              YEAR        ENROLL  ...  AVG_READING_4_SCORE  AVG_READING_8_SCORE\n",
              "count  1715.000000  1.715000e+03  ...          1715.000000          1715.000000\n",
              "mean   2002.075219  8.844779e+05  ...           216.673632           261.166181\n",
              "std       9.568621  9.024077e+05  ...             5.012101             4.135655\n",
              "min    1986.000000  4.386600e+04  ...           179.000000           236.000000\n",
              "25%    1994.000000  4.646880e+05  ...           215.372093           260.000000\n",
              "50%    2002.000000  8.020543e+05  ...           215.372093           260.000000\n",
              "75%    2010.000000  8.694485e+05  ...           217.000000           260.000000\n",
              "max    2019.000000  6.307022e+06  ...           237.000000           280.000000\n",
              "\n",
              "[8 rows x 23 columns]"
            ]
          },
          "metadata": {
            "tags": []
          },
          "execution_count": 12
        }
      ]
    },
    {
      "cell_type": "code",
      "metadata": {
        "colab": {
          "base_uri": "https://localhost:8080/"
        },
        "id": "6IEnUph9CjpW",
        "outputId": "bd247905-97d5-4e99-d929-176a437ebedc"
      },
      "source": [
        "df.info()"
      ],
      "execution_count": null,
      "outputs": [
        {
          "output_type": "stream",
          "text": [
            "<class 'pandas.core.frame.DataFrame'>\n",
            "RangeIndex: 1715 entries, 0 to 1714\n",
            "Data columns (total 25 columns):\n",
            " #   Column                        Non-Null Count  Dtype  \n",
            "---  ------                        --------------  -----  \n",
            " 0   PRIMARY_KEY                   1715 non-null   object \n",
            " 1   STATE                         1715 non-null   object \n",
            " 2   YEAR                          1715 non-null   int64  \n",
            " 3   ENROLL                        1715 non-null   float64\n",
            " 4   TOTAL_REVENUE                 1715 non-null   float64\n",
            " 5   FEDERAL_REVENUE               1715 non-null   float64\n",
            " 6   STATE_REVENUE                 1715 non-null   float64\n",
            " 7   LOCAL_REVENUE                 1715 non-null   float64\n",
            " 8   TOTAL_EXPENDITURE             1715 non-null   float64\n",
            " 9   INSTRUCTION_EXPENDITURE       1715 non-null   float64\n",
            " 10  SUPPORT_SERVICES_EXPENDITURE  1715 non-null   float64\n",
            " 11  OTHER_EXPENDITURE             1715 non-null   float64\n",
            " 12  CAPITAL_OUTLAY_EXPENDITURE    1715 non-null   float64\n",
            " 13  GRADES_PK_G                   1715 non-null   float64\n",
            " 14  GRADES_KG_G                   1715 non-null   float64\n",
            " 15  GRADES_4_G                    1715 non-null   float64\n",
            " 16  GRADES_8_G                    1715 non-null   float64\n",
            " 17  GRADES_12_G                   1715 non-null   float64\n",
            " 18  GRADES_1_8_G                  1715 non-null   float64\n",
            " 19  GRADES_9_12_G                 1715 non-null   float64\n",
            " 20  GRADES_ALL_G                  1715 non-null   float64\n",
            " 21  AVG_MATH_4_SCORE              1715 non-null   float64\n",
            " 22  AVG_MATH_8_SCORE              1715 non-null   float64\n",
            " 23  AVG_READING_4_SCORE           1715 non-null   float64\n",
            " 24  AVG_READING_8_SCORE           1715 non-null   float64\n",
            "dtypes: float64(22), int64(1), object(2)\n",
            "memory usage: 335.1+ KB\n"
          ],
          "name": "stdout"
        }
      ]
    },
    {
      "cell_type": "markdown",
      "metadata": {
        "id": "vO-MlrtjcDDI"
      },
      "source": [
        "**(4)** This time, fill in the missing values by interpolating."
      ]
    },
    {
      "cell_type": "code",
      "metadata": {
        "id": "H-LWInG_D0C_"
      },
      "source": [
        "data = pd.read_csv('states_all.csv')"
      ],
      "execution_count": null,
      "outputs": []
    },
    {
      "cell_type": "code",
      "metadata": {
        "id": "PCw2g9-hcDDI"
      },
      "source": [
        "data.interpolate(method ='linear', inplace=True)"
      ],
      "execution_count": null,
      "outputs": []
    },
    {
      "cell_type": "code",
      "metadata": {
        "colab": {
          "base_uri": "https://localhost:8080/"
        },
        "id": "flV2Lc-hDPan",
        "outputId": "71889a88-0242-4ada-d54a-587ac3834a93"
      },
      "source": [
        "data.isna().sum()"
      ],
      "execution_count": null,
      "outputs": [
        {
          "output_type": "execute_result",
          "data": {
            "text/plain": [
              "PRIMARY_KEY                       0\n",
              "STATE                             0\n",
              "YEAR                              0\n",
              "ENROLL                           51\n",
              "TOTAL_REVENUE                     0\n",
              "FEDERAL_REVENUE                   0\n",
              "STATE_REVENUE                     0\n",
              "LOCAL_REVENUE                     0\n",
              "TOTAL_EXPENDITURE                 0\n",
              "INSTRUCTION_EXPENDITURE           0\n",
              "SUPPORT_SERVICES_EXPENDITURE      0\n",
              "OTHER_EXPENDITURE                51\n",
              "CAPITAL_OUTLAY_EXPENDITURE        0\n",
              "GRADES_PK_G                       0\n",
              "GRADES_KG_G                       0\n",
              "GRADES_4_G                        0\n",
              "GRADES_8_G                        0\n",
              "GRADES_12_G                       0\n",
              "GRADES_1_8_G                    255\n",
              "GRADES_9_12_G                   255\n",
              "GRADES_ALL_G                      0\n",
              "AVG_MATH_4_SCORE                  0\n",
              "AVG_MATH_8_SCORE                  0\n",
              "AVG_READING_4_SCORE               0\n",
              "AVG_READING_8_SCORE             306\n",
              "dtype: int64"
            ]
          },
          "metadata": {
            "tags": []
          },
          "execution_count": 16
        }
      ]
    },
    {
      "cell_type": "markdown",
      "metadata": {
        "id": "zexfIx8RcDDI"
      },
      "source": [
        "**(5)** Compare your answers on the second, third and fourth questions. Do you notice a meaningful difference?"
      ]
    },
    {
      "cell_type": "markdown",
      "metadata": {
        "id": "zPYc2QDfJCxW"
      },
      "source": [
        "For the answer to the third question, I tried to explain it by writing the code I mentioned in the second question. So the answers to the second and third questions will be the same. However, we can observe that the results are different when the interpolation method is applied for the fourth question. This difference may be due to the operating logic of interpolation."
      ]
    }
  ]
}