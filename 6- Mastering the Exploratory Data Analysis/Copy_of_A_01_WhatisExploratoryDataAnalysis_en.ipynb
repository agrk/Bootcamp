{
  "nbformat": 4,
  "nbformat_minor": 0,
  "metadata": {
    "kernelspec": {
      "display_name": "Python 3",
      "language": "python",
      "name": "python3"
    },
    "language_info": {
      "codemirror_mode": {
        "name": "ipython",
        "version": 3
      },
      "file_extension": ".py",
      "mimetype": "text/x-python",
      "name": "python",
      "nbconvert_exporter": "python",
      "pygments_lexer": "ipython3",
      "version": "3.8.2"
    },
    "colab": {
      "name": "Copy of A_01_WhatisExploratoryDataAnalysis_en.ipynb",
      "provenance": [],
      "collapsed_sections": []
    }
  },
  "cells": [
    {
      "cell_type": "markdown",
      "metadata": {
        "id": "MHoZI7o-EYii"
      },
      "source": [
        "# <font color=blue>Assignments for \"What is Exploratory Data Analysis?\"</font>"
      ]
    },
    {
      "cell_type": "markdown",
      "metadata": {
        "id": "VRMOxKgIEYin"
      },
      "source": [
        "To complete this assignment, send the Github link of the Jupyter notebook file containing solutions to the following questions:"
      ]
    },
    {
      "cell_type": "markdown",
      "metadata": {
        "id": "WnBjbxSjEYio"
      },
      "source": [
        "**(1)** What is the purpose the data exploration?"
      ]
    },
    {
      "cell_type": "markdown",
      "metadata": {
        "id": "lY-Lqygjmh06"
      },
      "source": [
        "The purpose of data exploration is to explore and understand the dataset, identify the missing values & outliers if any using visual and quantitative methods to get a sense of the story it tells. It suggests the next logical steps, questions, or areas of research for our project."
      ]
    },
    {
      "cell_type": "markdown",
      "metadata": {
        "id": "j5M6_TCzEYio"
      },
      "source": [
        "**(2)** Suppose you are working on a dataset containing customer reviews of an e-commerce company's products. Customer reviews collected through the company's website are rated between 1 and 5 depending on whether the content is positive or negative.\n",
        "\n",
        "    - What kind of problems do you expect to encounter in this raw data?\n",
        "    - What kind of problems do you expect to encounter in this raw data?\n",
        "    - If your task is to identify the characteristics that reveal that the customers' comments are positive or negative, how would you do that and what methods would you use for this?\n",
        "    - What are the useful features that can be extracted from raw data? How can you access this data and understand whether it is useful?"
      ]
    },
    {
      "cell_type": "markdown",
      "metadata": {
        "id": "4bbhUCaxti-H"
      },
      "source": [
        "- If the grading was done manually, errors may have occurred where incorrect data was entered, such as 20 writes instead of 200.\n",
        "- It may make sense to try to distinguish words that can be considered positive or negative. Also, by counting the number of times these words are used in a review, I can try to guess whether they are positive or negative throughout the review. \n",
        "- Some features can be used to distinguish a positive review from negative review, such as punctuation. However, if they both have the same type of punctuation, the results will be misleading.\n",
        "- I think the data can be accessed by making a web scrap on the websites of the company where reviews can be found. To find out if this is helpful, once the whole process is complete, we can run a training test section and check certain criteria to see if our methods are working."
      ]
    },
    {
      "cell_type": "markdown",
      "metadata": {
        "id": "NJ2wImyAEYip"
      },
      "source": [
        "**(3)** Why do you think missing values should be taking care of?"
      ]
    },
    {
      "cell_type": "markdown",
      "metadata": {
        "id": "fobkPLnlhCBi"
      },
      "source": [
        "When the missing data are taken into account, we provide the opportunity for our machine learning algorithm to train itself well. Because this missing data is filled in according to a certain rule, our accuracy will be more. Also, when there is a loss, we may get the wrong perception that the algorithms are working well. The results of the plots we use may be misleading."
      ]
    },
    {
      "cell_type": "markdown",
      "metadata": {
        "id": "_-57cBR2EYiq"
      },
      "source": [
        "**(4)** Do you think that outliers have an impact on a dataset? If so, how would you explain this impact?"
      ]
    },
    {
      "cell_type": "markdown",
      "metadata": {
        "id": "EZ_ZIk9Ghuu7"
      },
      "source": [
        "It definitely has an effect. Having outliers will have a negative effect on training our machine learning algorithm. We can say that in the data with a certain order, if there are too many outliers, it affects education negatively and thus accuracy decreases. On the other hand, \n",
        "It has an important effect on the standard deviation in that it will change the distribution of the variable. "
      ]
    },
    {
      "cell_type": "markdown",
      "metadata": {
        "id": "tc-BMmaaEYiq"
      },
      "source": [
        "**(5)** Please briefly summarize you first actions when you start analyzing the data?"
      ]
    },
    {
      "cell_type": "markdown",
      "metadata": {
        "id": "mg91FZgsjUxq"
      },
      "source": [
        "- Check the head of the data with the method of **df.head()**, \n",
        "\n",
        "- Check whether there are any missing values and the datatypes with the method of **df.info()**,\n",
        "\n",
        "- Look for the distributions in the numerical data with **df.describe()** method,\n",
        "- I try to recognize the datasheet on the results of plots drawn according to numeric and categorical features.\n",
        "\n",
        "- Then, according to the amount of missing values ​​I have determined, I can start data cleaning by trying to drop the columns in which they are found properly and filling in the missing values ​​appropriately."
      ]
    },
    {
      "cell_type": "code",
      "metadata": {
        "id": "tl5jrhAKEYiq"
      },
      "source": [
        ""
      ],
      "execution_count": null,
      "outputs": []
    }
  ]
}