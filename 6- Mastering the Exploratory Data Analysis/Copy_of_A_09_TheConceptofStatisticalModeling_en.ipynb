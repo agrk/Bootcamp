{
  "nbformat": 4,
  "nbformat_minor": 0,
  "metadata": {
    "kernelspec": {
      "display_name": "Python 3",
      "language": "python",
      "name": "python3"
    },
    "language_info": {
      "codemirror_mode": {
        "name": "ipython",
        "version": 3
      },
      "file_extension": ".py",
      "mimetype": "text/x-python",
      "name": "python",
      "nbconvert_exporter": "python",
      "pygments_lexer": "ipython3",
      "version": "3.8.2"
    },
    "colab": {
      "name": "Copy of A_09_TheConceptofStatisticalModeling_en.ipynb",
      "provenance": [],
      "collapsed_sections": []
    }
  },
  "cells": [
    {
      "cell_type": "markdown",
      "metadata": {
        "id": "L9sDtBDxE9JK"
      },
      "source": [
        "# <font color=blue>Assignments for \"The Concept of Statistical Modeling\"</font>"
      ]
    },
    {
      "cell_type": "markdown",
      "metadata": {
        "id": "lG7F_b-BE9JQ"
      },
      "source": [
        "To complete this assignment, send the Github link of the Jupyter notebook file containing solutions to the following questions:"
      ]
    },
    {
      "cell_type": "markdown",
      "metadata": {
        "id": "PXVzXTR-E9JQ"
      },
      "source": [
        "**(1)** Try to model the result of throwing a coin. Include features in your model that you consider important when explaining the result. Discuss the pros and cons of adding too many features to your model with your mentor."
      ]
    },
    {
      "cell_type": "code",
      "metadata": {
        "id": "JOv0SKvIxU8_"
      },
      "source": [
        ""
      ],
      "execution_count": null,
      "outputs": []
    },
    {
      "cell_type": "markdown",
      "metadata": {
        "id": "tZR-O1p5E9JR"
      },
      "source": [
        "* **Wind Speed**, (If the wind is high, the speed of the money or the duration of the air stay may increase)\n",
        "\n",
        "* **The Magnetic Field of The Environment Where The Coin is located** (at the end, the rotation of a coin in the magnetic field is affected again), \n",
        "\n",
        "* **Humidity**, **Temperature**, \n",
        "\n",
        "* **Weight of the coin**,\n",
        "\n",
        "* **Speed of the finger hitting the coin**,\n",
        "\n",
        "* **The rotation of the Earth** (I saw this somewhere because it is the magnetic field of the earth, it also affects a little)\n",
        "\n",
        "\n",
        "In this way, possible features can be determined. If we add too many features in the model, we will result in **curse of dimensionality**, which is something we don't want."
      ]
    },
    {
      "cell_type": "markdown",
      "metadata": {
        "id": "uij1L35dE9JR"
      },
      "source": [
        "**(2)** If you have used Netflix before, you should have noticed that it offers some suggestions for you to watch. In data science, this is an example called referral systems. Read about Netflix's non-technical blog post about how they model their suggestion systems. Then derive the features they use in the referral engines and discuss any other features that can be included in this model.\n",
        "\n",
        "Discuss your arguments with your mentor."
      ]
    },
    {
      "cell_type": "markdown",
      "metadata": {
        "id": "0wNjGejrE9JR"
      },
      "source": [
        "\n",
        "The features they use can be the **rating** of the movie or series watched,  **detailed information about the watched (actors, director, genre, reviews and reviews)**, **location**, **language**, **popularity**, **play status**, or **playlist**, **air date**"
      ]
    },
    {
      "cell_type": "code",
      "metadata": {
        "id": "YPaGwrPesbLB"
      },
      "source": [
        ""
      ],
      "execution_count": null,
      "outputs": []
    }
  ]
}