{
  "nbformat": 4,
  "nbformat_minor": 0,
  "metadata": {
    "kernelspec": {
      "display_name": "Python 3",
      "language": "python",
      "name": "python3"
    },
    "language_info": {
      "codemirror_mode": {
        "name": "ipython",
        "version": 3
      },
      "file_extension": ".py",
      "mimetype": "text/x-python",
      "name": "python",
      "nbconvert_exporter": "python",
      "pygments_lexer": "ipython3",
      "version": "3.8.2"
    },
    "colab": {
      "name": "Copy of A_06_DataExplorationMultivariateAnalysis_en.ipynb",
      "provenance": [],
      "collapsed_sections": []
    }
  },
  "cells": [
    {
      "cell_type": "markdown",
      "metadata": {
        "id": "Qf8bylxuutlt"
      },
      "source": [
        "# <font color=blue>Assignments for \"Data Exploration - Multivariate Analysis\"</font>"
      ]
    },
    {
      "cell_type": "markdown",
      "metadata": {
        "id": "urH-kvoZutly"
      },
      "source": [
        "In this assignment, you will work on the `Students Performance` ([dataset](https://www.kaggle.com/spscientist/students-performance-in-exams/home)). You can reach the explanations of this data from Kaggle again.\n",
        "\n",
        "To complete this assignment, submit the Github link of the Jupyter notebook file containing solutions to the questions below. You can talk to your mentor on your head or ask Slack at office time."
      ]
    },
    {
      "cell_type": "code",
      "metadata": {
        "id": "MW9wcejdu-7f"
      },
      "source": [
        "import numpy as np\n",
        "import pandas as pd\n",
        "import matplotlib.pyplot as plt\n",
        "import warnings\n",
        "warnings.filterwarnings('ignore')\n",
        "%matplotlib inline"
      ],
      "execution_count": null,
      "outputs": []
    },
    {
      "cell_type": "code",
      "metadata": {
        "colab": {
          "base_uri": "https://localhost:8080/"
        },
        "id": "MQZbgtC8u-5b",
        "outputId": "a56fa050-6218-4ecf-bdc1-2fed76a236de"
      },
      "source": [
        "from google.colab import drive\n",
        "drive.mount('/content/drive')"
      ],
      "execution_count": null,
      "outputs": [
        {
          "output_type": "stream",
          "text": [
            "Drive already mounted at /content/drive; to attempt to forcibly remount, call drive.mount(\"/content/drive\", force_remount=True).\n"
          ],
          "name": "stdout"
        }
      ]
    },
    {
      "cell_type": "code",
      "metadata": {
        "colab": {
          "base_uri": "https://localhost:8080/",
          "height": 35
        },
        "id": "wwBD2ouXu-1A",
        "outputId": "3d0fcb8d-69d4-4458-e69a-ea01aaf8ff0e"
      },
      "source": [
        "import os\n",
        "os.getcwd()"
      ],
      "execution_count": null,
      "outputs": [
        {
          "output_type": "execute_result",
          "data": {
            "application/vnd.google.colaboratory.intrinsic+json": {
              "type": "string"
            },
            "text/plain": [
              "'/content'"
            ]
          },
          "metadata": {
            "tags": []
          },
          "execution_count": 3
        }
      ]
    },
    {
      "cell_type": "code",
      "metadata": {
        "id": "k3CGYd6UvNuf"
      },
      "source": [
        "PATH ='/content/drive/MyDrive/Colab Notebooks/Datajarlabs/6-Mastering_the_Exploratory_Data_Analysis'\n",
        "os.chdir(PATH)"
      ],
      "execution_count": null,
      "outputs": []
    },
    {
      "cell_type": "code",
      "metadata": {
        "colab": {
          "base_uri": "https://localhost:8080/",
          "height": 204
        },
        "id": "kmZ_kZlyvNrE",
        "outputId": "949d6317-20d7-4a7d-b333-03fcf17fe857"
      },
      "source": [
        "df = pd.read_csv('StudentsPerformance.csv')\n",
        "df.head()"
      ],
      "execution_count": null,
      "outputs": [
        {
          "output_type": "execute_result",
          "data": {
            "text/html": [
              "<div>\n",
              "<style scoped>\n",
              "    .dataframe tbody tr th:only-of-type {\n",
              "        vertical-align: middle;\n",
              "    }\n",
              "\n",
              "    .dataframe tbody tr th {\n",
              "        vertical-align: top;\n",
              "    }\n",
              "\n",
              "    .dataframe thead th {\n",
              "        text-align: right;\n",
              "    }\n",
              "</style>\n",
              "<table border=\"1\" class=\"dataframe\">\n",
              "  <thead>\n",
              "    <tr style=\"text-align: right;\">\n",
              "      <th></th>\n",
              "      <th>gender</th>\n",
              "      <th>race/ethnicity</th>\n",
              "      <th>parental level of education</th>\n",
              "      <th>lunch</th>\n",
              "      <th>test preparation course</th>\n",
              "      <th>math score</th>\n",
              "      <th>reading score</th>\n",
              "      <th>writing score</th>\n",
              "    </tr>\n",
              "  </thead>\n",
              "  <tbody>\n",
              "    <tr>\n",
              "      <th>0</th>\n",
              "      <td>female</td>\n",
              "      <td>group B</td>\n",
              "      <td>bachelor's degree</td>\n",
              "      <td>standard</td>\n",
              "      <td>none</td>\n",
              "      <td>72</td>\n",
              "      <td>72</td>\n",
              "      <td>74</td>\n",
              "    </tr>\n",
              "    <tr>\n",
              "      <th>1</th>\n",
              "      <td>female</td>\n",
              "      <td>group C</td>\n",
              "      <td>some college</td>\n",
              "      <td>standard</td>\n",
              "      <td>completed</td>\n",
              "      <td>69</td>\n",
              "      <td>90</td>\n",
              "      <td>88</td>\n",
              "    </tr>\n",
              "    <tr>\n",
              "      <th>2</th>\n",
              "      <td>female</td>\n",
              "      <td>group B</td>\n",
              "      <td>master's degree</td>\n",
              "      <td>standard</td>\n",
              "      <td>none</td>\n",
              "      <td>90</td>\n",
              "      <td>95</td>\n",
              "      <td>93</td>\n",
              "    </tr>\n",
              "    <tr>\n",
              "      <th>3</th>\n",
              "      <td>male</td>\n",
              "      <td>group A</td>\n",
              "      <td>associate's degree</td>\n",
              "      <td>free/reduced</td>\n",
              "      <td>none</td>\n",
              "      <td>47</td>\n",
              "      <td>57</td>\n",
              "      <td>44</td>\n",
              "    </tr>\n",
              "    <tr>\n",
              "      <th>4</th>\n",
              "      <td>male</td>\n",
              "      <td>group C</td>\n",
              "      <td>some college</td>\n",
              "      <td>standard</td>\n",
              "      <td>none</td>\n",
              "      <td>76</td>\n",
              "      <td>78</td>\n",
              "      <td>75</td>\n",
              "    </tr>\n",
              "  </tbody>\n",
              "</table>\n",
              "</div>"
            ],
            "text/plain": [
              "   gender race/ethnicity  ... reading score writing score\n",
              "0  female        group B  ...            72            74\n",
              "1  female        group C  ...            90            88\n",
              "2  female        group B  ...            95            93\n",
              "3    male        group A  ...            57            44\n",
              "4    male        group C  ...            78            75\n",
              "\n",
              "[5 rows x 8 columns]"
            ]
          },
          "metadata": {
            "tags": []
          },
          "execution_count": 5
        }
      ]
    },
    {
      "cell_type": "markdown",
      "metadata": {
        "id": "jkMnO10futlz"
      },
      "source": [
        "**(1)** Does the performance in the exams vary according to gender, origin and education level of parents?"
      ]
    },
    {
      "cell_type": "code",
      "metadata": {
        "id": "YMQA710sutlz",
        "colab": {
          "base_uri": "https://localhost:8080/",
          "height": 477
        },
        "outputId": "93343e1b-37e7-43db-ac8a-8ae13d735987"
      },
      "source": [
        "print(\"Gender:\")\n",
        "display(df.groupby('gender')[['math score', 'reading score', 'writing score']].mean().T)\n",
        "\n",
        "print(\"\\nRace/Ethnicity:\")\n",
        "display(df.groupby('race/ethnicity')[['math score', 'reading score', 'writing score']].mean().T)\n",
        "\n",
        "print(\"\\nEducation level of parents:\")\n",
        "display(df.groupby('parental level of education')[['math score', 'reading score', 'writing score']].mean().T)"
      ],
      "execution_count": null,
      "outputs": [
        {
          "output_type": "stream",
          "text": [
            "Gender:\n"
          ],
          "name": "stdout"
        },
        {
          "output_type": "display_data",
          "data": {
            "text/html": [
              "<div>\n",
              "<style scoped>\n",
              "    .dataframe tbody tr th:only-of-type {\n",
              "        vertical-align: middle;\n",
              "    }\n",
              "\n",
              "    .dataframe tbody tr th {\n",
              "        vertical-align: top;\n",
              "    }\n",
              "\n",
              "    .dataframe thead th {\n",
              "        text-align: right;\n",
              "    }\n",
              "</style>\n",
              "<table border=\"1\" class=\"dataframe\">\n",
              "  <thead>\n",
              "    <tr style=\"text-align: right;\">\n",
              "      <th>gender</th>\n",
              "      <th>female</th>\n",
              "      <th>male</th>\n",
              "    </tr>\n",
              "  </thead>\n",
              "  <tbody>\n",
              "    <tr>\n",
              "      <th>math score</th>\n",
              "      <td>63.633205</td>\n",
              "      <td>68.728216</td>\n",
              "    </tr>\n",
              "    <tr>\n",
              "      <th>reading score</th>\n",
              "      <td>72.608108</td>\n",
              "      <td>65.473029</td>\n",
              "    </tr>\n",
              "    <tr>\n",
              "      <th>writing score</th>\n",
              "      <td>72.467181</td>\n",
              "      <td>63.311203</td>\n",
              "    </tr>\n",
              "  </tbody>\n",
              "</table>\n",
              "</div>"
            ],
            "text/plain": [
              "gender            female       male\n",
              "math score     63.633205  68.728216\n",
              "reading score  72.608108  65.473029\n",
              "writing score  72.467181  63.311203"
            ]
          },
          "metadata": {
            "tags": []
          }
        },
        {
          "output_type": "stream",
          "text": [
            "\n",
            "Race/Ethnicity:\n"
          ],
          "name": "stdout"
        },
        {
          "output_type": "display_data",
          "data": {
            "text/html": [
              "<div>\n",
              "<style scoped>\n",
              "    .dataframe tbody tr th:only-of-type {\n",
              "        vertical-align: middle;\n",
              "    }\n",
              "\n",
              "    .dataframe tbody tr th {\n",
              "        vertical-align: top;\n",
              "    }\n",
              "\n",
              "    .dataframe thead th {\n",
              "        text-align: right;\n",
              "    }\n",
              "</style>\n",
              "<table border=\"1\" class=\"dataframe\">\n",
              "  <thead>\n",
              "    <tr style=\"text-align: right;\">\n",
              "      <th>race/ethnicity</th>\n",
              "      <th>group A</th>\n",
              "      <th>group B</th>\n",
              "      <th>group C</th>\n",
              "      <th>group D</th>\n",
              "      <th>group E</th>\n",
              "    </tr>\n",
              "  </thead>\n",
              "  <tbody>\n",
              "    <tr>\n",
              "      <th>math score</th>\n",
              "      <td>61.629213</td>\n",
              "      <td>63.452632</td>\n",
              "      <td>64.463950</td>\n",
              "      <td>67.362595</td>\n",
              "      <td>73.821429</td>\n",
              "    </tr>\n",
              "    <tr>\n",
              "      <th>reading score</th>\n",
              "      <td>64.674157</td>\n",
              "      <td>67.352632</td>\n",
              "      <td>69.103448</td>\n",
              "      <td>70.030534</td>\n",
              "      <td>73.028571</td>\n",
              "    </tr>\n",
              "    <tr>\n",
              "      <th>writing score</th>\n",
              "      <td>62.674157</td>\n",
              "      <td>65.600000</td>\n",
              "      <td>67.827586</td>\n",
              "      <td>70.145038</td>\n",
              "      <td>71.407143</td>\n",
              "    </tr>\n",
              "  </tbody>\n",
              "</table>\n",
              "</div>"
            ],
            "text/plain": [
              "race/ethnicity    group A    group B    group C    group D    group E\n",
              "math score      61.629213  63.452632  64.463950  67.362595  73.821429\n",
              "reading score   64.674157  67.352632  69.103448  70.030534  73.028571\n",
              "writing score   62.674157  65.600000  67.827586  70.145038  71.407143"
            ]
          },
          "metadata": {
            "tags": []
          }
        },
        {
          "output_type": "stream",
          "text": [
            "\n",
            "Education level of parents:\n"
          ],
          "name": "stdout"
        },
        {
          "output_type": "display_data",
          "data": {
            "text/html": [
              "<div>\n",
              "<style scoped>\n",
              "    .dataframe tbody tr th:only-of-type {\n",
              "        vertical-align: middle;\n",
              "    }\n",
              "\n",
              "    .dataframe tbody tr th {\n",
              "        vertical-align: top;\n",
              "    }\n",
              "\n",
              "    .dataframe thead th {\n",
              "        text-align: right;\n",
              "    }\n",
              "</style>\n",
              "<table border=\"1\" class=\"dataframe\">\n",
              "  <thead>\n",
              "    <tr style=\"text-align: right;\">\n",
              "      <th>parental level of education</th>\n",
              "      <th>associate's degree</th>\n",
              "      <th>bachelor's degree</th>\n",
              "      <th>high school</th>\n",
              "      <th>master's degree</th>\n",
              "      <th>some college</th>\n",
              "      <th>some high school</th>\n",
              "    </tr>\n",
              "  </thead>\n",
              "  <tbody>\n",
              "    <tr>\n",
              "      <th>math score</th>\n",
              "      <td>67.882883</td>\n",
              "      <td>69.389831</td>\n",
              "      <td>62.137755</td>\n",
              "      <td>69.745763</td>\n",
              "      <td>67.128319</td>\n",
              "      <td>63.497207</td>\n",
              "    </tr>\n",
              "    <tr>\n",
              "      <th>reading score</th>\n",
              "      <td>70.927928</td>\n",
              "      <td>73.000000</td>\n",
              "      <td>64.704082</td>\n",
              "      <td>75.372881</td>\n",
              "      <td>69.460177</td>\n",
              "      <td>66.938547</td>\n",
              "    </tr>\n",
              "    <tr>\n",
              "      <th>writing score</th>\n",
              "      <td>69.896396</td>\n",
              "      <td>73.381356</td>\n",
              "      <td>62.448980</td>\n",
              "      <td>75.677966</td>\n",
              "      <td>68.840708</td>\n",
              "      <td>64.888268</td>\n",
              "    </tr>\n",
              "  </tbody>\n",
              "</table>\n",
              "</div>"
            ],
            "text/plain": [
              "parental level of education  associate's degree  ...  some high school\n",
              "math score                            67.882883  ...         63.497207\n",
              "reading score                         70.927928  ...         66.938547\n",
              "writing score                         69.896396  ...         64.888268\n",
              "\n",
              "[3 rows x 6 columns]"
            ]
          },
          "metadata": {
            "tags": []
          }
        }
      ]
    },
    {
      "cell_type": "code",
      "metadata": {
        "id": "MV2xSju63xxe"
      },
      "source": [
        "import seaborn as sns"
      ],
      "execution_count": null,
      "outputs": []
    },
    {
      "cell_type": "code",
      "metadata": {
        "colab": {
          "base_uri": "https://localhost:8080/",
          "height": 1000
        },
        "id": "wBVCzFoO5Dpd",
        "outputId": "7ce6acbc-27ab-43e9-f7ce-269bf63026af"
      },
      "source": [
        "plt.figure(figsize=(40,35))\n",
        "\n",
        "scores = [df['math score'], df['reading score'], df['writing score']]\n",
        "\n",
        "for i in range(3):\n",
        "    plt.subplot(3, 3, i+1)\n",
        "    sns.barplot(x='gender', y=scores[i], data=df)\n",
        "    plt.title('Gender & Scores')\n",
        "\n",
        "for i in range(3):\n",
        "    plt.subplot(3, 3, i+4)\n",
        "    sns.barplot(x='race/ethnicity', y=scores[i], data=df)\n",
        "    plt.title('Race/Ethnicity & Scores')\n",
        "\n",
        "for i in range(3):\n",
        "    plt.subplot(3, 3, i+7)\n",
        "    sns.barplot(x='parental level of education', y=scores[i], data=df)\n",
        "    plt.title('Parental Level of Education & Scores')\n",
        "\n",
        "plt.show()"
      ],
      "execution_count": null,
      "outputs": [
        {
          "output_type": "display_data",
          "data": {
            "image/png": "[encoded data removed]",
            "text/plain": [
              "<Figure size 2880x2520 with 9 Axes>"
            ]
          },
          "metadata": {
            "tags": [],
            "needs_background": "light"
          }
        }
      ]
    },
    {
      "cell_type": "markdown",
      "metadata": {
        "id": "s0XQzttkutl0"
      },
      "source": [
        "**(2)** Does lunch type have a relationship with exam performances? How can you explain this, if any?"
      ]
    },
    {
      "cell_type": "code",
      "metadata": {
        "id": "F_PZW5q5utl0",
        "colab": {
          "base_uri": "https://localhost:8080/"
        },
        "outputId": "aedc9204-3949-4816-cd71-20e163d64aa9"
      },
      "source": [
        "df['lunch'].unique()"
      ],
      "execution_count": null,
      "outputs": [
        {
          "output_type": "execute_result",
          "data": {
            "text/plain": [
              "array(['standard', 'free/reduced'], dtype=object)"
            ]
          },
          "metadata": {
            "tags": []
          },
          "execution_count": 11
        }
      ]
    },
    {
      "cell_type": "code",
      "metadata": {
        "colab": {
          "base_uri": "https://localhost:8080/",
          "height": 142
        },
        "id": "QUw5PP9W8a95",
        "outputId": "d59d9028-bf37-4545-fd06-2d7ed0608166"
      },
      "source": [
        "df.groupby('lunch')[['math score', 'reading score', 'writing score']].mean().T"
      ],
      "execution_count": null,
      "outputs": [
        {
          "output_type": "execute_result",
          "data": {
            "text/html": [
              "<div>\n",
              "<style scoped>\n",
              "    .dataframe tbody tr th:only-of-type {\n",
              "        vertical-align: middle;\n",
              "    }\n",
              "\n",
              "    .dataframe tbody tr th {\n",
              "        vertical-align: top;\n",
              "    }\n",
              "\n",
              "    .dataframe thead th {\n",
              "        text-align: right;\n",
              "    }\n",
              "</style>\n",
              "<table border=\"1\" class=\"dataframe\">\n",
              "  <thead>\n",
              "    <tr style=\"text-align: right;\">\n",
              "      <th>lunch</th>\n",
              "      <th>free/reduced</th>\n",
              "      <th>standard</th>\n",
              "    </tr>\n",
              "  </thead>\n",
              "  <tbody>\n",
              "    <tr>\n",
              "      <th>math score</th>\n",
              "      <td>58.921127</td>\n",
              "      <td>70.034109</td>\n",
              "    </tr>\n",
              "    <tr>\n",
              "      <th>reading score</th>\n",
              "      <td>64.653521</td>\n",
              "      <td>71.654264</td>\n",
              "    </tr>\n",
              "    <tr>\n",
              "      <th>writing score</th>\n",
              "      <td>63.022535</td>\n",
              "      <td>70.823256</td>\n",
              "    </tr>\n",
              "  </tbody>\n",
              "</table>\n",
              "</div>"
            ],
            "text/plain": [
              "lunch          free/reduced   standard\n",
              "math score        58.921127  70.034109\n",
              "reading score     64.653521  71.654264\n",
              "writing score     63.022535  70.823256"
            ]
          },
          "metadata": {
            "tags": []
          },
          "execution_count": 12
        }
      ]
    },
    {
      "cell_type": "code",
      "metadata": {
        "colab": {
          "base_uri": "https://localhost:8080/",
          "height": 142
        },
        "id": "Tx0cDvqk8kO7",
        "outputId": "a2af5278-5b27-4459-b4bc-4953ccdc751f"
      },
      "source": [
        "df.groupby('lunch')[['math score', 'reading score', 'writing score']].sum().T"
      ],
      "execution_count": null,
      "outputs": [
        {
          "output_type": "execute_result",
          "data": {
            "text/html": [
              "<div>\n",
              "<style scoped>\n",
              "    .dataframe tbody tr th:only-of-type {\n",
              "        vertical-align: middle;\n",
              "    }\n",
              "\n",
              "    .dataframe tbody tr th {\n",
              "        vertical-align: top;\n",
              "    }\n",
              "\n",
              "    .dataframe thead th {\n",
              "        text-align: right;\n",
              "    }\n",
              "</style>\n",
              "<table border=\"1\" class=\"dataframe\">\n",
              "  <thead>\n",
              "    <tr style=\"text-align: right;\">\n",
              "      <th>lunch</th>\n",
              "      <th>free/reduced</th>\n",
              "      <th>standard</th>\n",
              "    </tr>\n",
              "  </thead>\n",
              "  <tbody>\n",
              "    <tr>\n",
              "      <th>math score</th>\n",
              "      <td>20917</td>\n",
              "      <td>45172</td>\n",
              "    </tr>\n",
              "    <tr>\n",
              "      <th>reading score</th>\n",
              "      <td>22952</td>\n",
              "      <td>46217</td>\n",
              "    </tr>\n",
              "    <tr>\n",
              "      <th>writing score</th>\n",
              "      <td>22373</td>\n",
              "      <td>45681</td>\n",
              "    </tr>\n",
              "  </tbody>\n",
              "</table>\n",
              "</div>"
            ],
            "text/plain": [
              "lunch          free/reduced  standard\n",
              "math score            20917     45172\n",
              "reading score         22952     46217\n",
              "writing score         22373     45681"
            ]
          },
          "metadata": {
            "tags": []
          },
          "execution_count": 13
        }
      ]
    },
    {
      "cell_type": "code",
      "metadata": {
        "colab": {
          "base_uri": "https://localhost:8080/",
          "height": 513
        },
        "id": "ApTI0wtc8tbH",
        "outputId": "cf289152-39c6-4bcb-8fba-acc9b1ca77a7"
      },
      "source": [
        "plt.figure(figsize=(15,8))\n",
        "\n",
        "scores = [df['math score'], df['reading score'], df['writing score']]\n",
        "\n",
        "for i in range(3):\n",
        "    plt.subplot(1, 3, i+1)\n",
        "    sns.barplot(x='lunch', y=scores[i], data=df)\n",
        "    plt.title('Lunch & Scores')\n",
        "\n",
        "plt.show()"
      ],
      "execution_count": null,
      "outputs": [
        {
          "output_type": "display_data",
          "data": {
            "image/png": "[encoded data removed]",
            "text/plain": [
              "<Figure size 1080x576 with 3 Axes>"
            ]
          },
          "metadata": {
            "tags": [],
            "needs_background": "light"
          }
        }
      ]
    },
    {
      "cell_type": "markdown",
      "metadata": {
        "id": "Ttcntmumutl0"
      },
      "source": [
        "**(3)** Does the preparation courses have an impact on exam performance?"
      ]
    },
    {
      "cell_type": "code",
      "metadata": {
        "colab": {
          "base_uri": "https://localhost:8080/"
        },
        "id": "-Scjp58B9beL",
        "outputId": "de71b9b7-e67d-4089-9c04-a8ea3f8c4aa4"
      },
      "source": [
        "df['test preparation course'].unique()"
      ],
      "execution_count": null,
      "outputs": [
        {
          "output_type": "execute_result",
          "data": {
            "text/plain": [
              "array(['none', 'completed'], dtype=object)"
            ]
          },
          "metadata": {
            "tags": []
          },
          "execution_count": 15
        }
      ]
    },
    {
      "cell_type": "code",
      "metadata": {
        "id": "hoxRsVs9utl0",
        "colab": {
          "base_uri": "https://localhost:8080/",
          "height": 142
        },
        "outputId": "b98711d5-e673-4352-f7f5-72cff3d7252f"
      },
      "source": [
        "df.groupby('test preparation course')[['math score', 'reading score', 'writing score']].mean().T"
      ],
      "execution_count": null,
      "outputs": [
        {
          "output_type": "execute_result",
          "data": {
            "text/html": [
              "<div>\n",
              "<style scoped>\n",
              "    .dataframe tbody tr th:only-of-type {\n",
              "        vertical-align: middle;\n",
              "    }\n",
              "\n",
              "    .dataframe tbody tr th {\n",
              "        vertical-align: top;\n",
              "    }\n",
              "\n",
              "    .dataframe thead th {\n",
              "        text-align: right;\n",
              "    }\n",
              "</style>\n",
              "<table border=\"1\" class=\"dataframe\">\n",
              "  <thead>\n",
              "    <tr style=\"text-align: right;\">\n",
              "      <th>test preparation course</th>\n",
              "      <th>completed</th>\n",
              "      <th>none</th>\n",
              "    </tr>\n",
              "  </thead>\n",
              "  <tbody>\n",
              "    <tr>\n",
              "      <th>math score</th>\n",
              "      <td>69.695531</td>\n",
              "      <td>64.077882</td>\n",
              "    </tr>\n",
              "    <tr>\n",
              "      <th>reading score</th>\n",
              "      <td>73.893855</td>\n",
              "      <td>66.534268</td>\n",
              "    </tr>\n",
              "    <tr>\n",
              "      <th>writing score</th>\n",
              "      <td>74.418994</td>\n",
              "      <td>64.504673</td>\n",
              "    </tr>\n",
              "  </tbody>\n",
              "</table>\n",
              "</div>"
            ],
            "text/plain": [
              "test preparation course  completed       none\n",
              "math score               69.695531  64.077882\n",
              "reading score            73.893855  66.534268\n",
              "writing score            74.418994  64.504673"
            ]
          },
          "metadata": {
            "tags": []
          },
          "execution_count": 16
        }
      ]
    },
    {
      "cell_type": "code",
      "metadata": {
        "colab": {
          "base_uri": "https://localhost:8080/",
          "height": 513
        },
        "id": "vZ1TBWAW93BH",
        "outputId": "ff8a2bd5-ab57-4d33-e671-e3b775bb1ec3"
      },
      "source": [
        "plt.figure(figsize=(15,8))\n",
        "\n",
        "scores = [df['math score'], df['reading score'], df['writing score']]\n",
        "\n",
        "for i in range(3):\n",
        "    plt.subplot(1, 3, i+1)\n",
        "    sns.barplot(x='test preparation course', y=scores[i], data=df)\n",
        "    plt.title('Test Preparation Course & Scores')\n",
        "\n",
        "plt.show()"
      ],
      "execution_count": null,
      "outputs": [
        {
          "output_type": "display_data",
          "data": {
            "image/png": "[encoded data removed]",
            "text/plain": [
              "<Figure size 1080x576 with 3 Axes>"
            ]
          },
          "metadata": {
            "tags": [],
            "needs_background": "light"
          }
        }
      ]
    },
    {
      "cell_type": "markdown",
      "metadata": {
        "id": "-ut3IJKwutl1"
      },
      "source": [
        "**(4)** Which lessons are most correlated with each other?"
      ]
    },
    {
      "cell_type": "code",
      "metadata": {
        "id": "2O_ssiz2ATp_"
      },
      "source": [
        "df['total_score'] = (df['math score'] + df['reading score'] + df['writing score']) / 3"
      ],
      "execution_count": null,
      "outputs": []
    },
    {
      "cell_type": "code",
      "metadata": {
        "id": "W_e_0pAyutl1",
        "colab": {
          "base_uri": "https://localhost:8080/",
          "height": 173
        },
        "outputId": "f894fbb5-34ce-49ec-c51e-869238408b6f"
      },
      "source": [
        "df.corr()"
      ],
      "execution_count": null,
      "outputs": [
        {
          "output_type": "execute_result",
          "data": {
            "text/html": [
              "<div>\n",
              "<style scoped>\n",
              "    .dataframe tbody tr th:only-of-type {\n",
              "        vertical-align: middle;\n",
              "    }\n",
              "\n",
              "    .dataframe tbody tr th {\n",
              "        vertical-align: top;\n",
              "    }\n",
              "\n",
              "    .dataframe thead th {\n",
              "        text-align: right;\n",
              "    }\n",
              "</style>\n",
              "<table border=\"1\" class=\"dataframe\">\n",
              "  <thead>\n",
              "    <tr style=\"text-align: right;\">\n",
              "      <th></th>\n",
              "      <th>math score</th>\n",
              "      <th>reading score</th>\n",
              "      <th>writing score</th>\n",
              "      <th>total_score</th>\n",
              "    </tr>\n",
              "  </thead>\n",
              "  <tbody>\n",
              "    <tr>\n",
              "      <th>math score</th>\n",
              "      <td>1.000000</td>\n",
              "      <td>0.817580</td>\n",
              "      <td>0.802642</td>\n",
              "      <td>0.918746</td>\n",
              "    </tr>\n",
              "    <tr>\n",
              "      <th>reading score</th>\n",
              "      <td>0.817580</td>\n",
              "      <td>1.000000</td>\n",
              "      <td>0.954598</td>\n",
              "      <td>0.970331</td>\n",
              "    </tr>\n",
              "    <tr>\n",
              "      <th>writing score</th>\n",
              "      <td>0.802642</td>\n",
              "      <td>0.954598</td>\n",
              "      <td>1.000000</td>\n",
              "      <td>0.965667</td>\n",
              "    </tr>\n",
              "    <tr>\n",
              "      <th>total_score</th>\n",
              "      <td>0.918746</td>\n",
              "      <td>0.970331</td>\n",
              "      <td>0.965667</td>\n",
              "      <td>1.000000</td>\n",
              "    </tr>\n",
              "  </tbody>\n",
              "</table>\n",
              "</div>"
            ],
            "text/plain": [
              "               math score  reading score  writing score  total_score\n",
              "math score       1.000000       0.817580       0.802642     0.918746\n",
              "reading score    0.817580       1.000000       0.954598     0.970331\n",
              "writing score    0.802642       0.954598       1.000000     0.965667\n",
              "total_score      0.918746       0.970331       0.965667     1.000000"
            ]
          },
          "metadata": {
            "tags": []
          },
          "execution_count": 19
        }
      ]
    },
    {
      "cell_type": "code",
      "metadata": {
        "colab": {
          "base_uri": "https://localhost:8080/",
          "height": 488
        },
        "id": "clY65_Rs-n8c",
        "outputId": "4679e93f-211b-44a9-cd82-b04462b54ebe"
      },
      "source": [
        "# correlation between numerical features\n",
        "plt.figure(figsize=(10, 8))\n",
        "feature_corr = df.corr()\n",
        "sns.heatmap(feature_corr, annot=True, square=True,annot_kws={'size': 10}, fmt='.3f',cbar=True)\n",
        "\n",
        "plt.show()"
      ],
      "execution_count": null,
      "outputs": [
        {
          "output_type": "display_data",
          "data": {
            "image/png": "[encoded data removed]",
            "text/plain": [
              "<Figure size 720x576 with 2 Axes>"
            ]
          },
          "metadata": {
            "tags": [],
            "needs_background": "light"
          }
        }
      ]
    },
    {
      "cell_type": "code",
      "metadata": {
        "id": "zh6_o7eWASLv"
      },
      "source": [
        ""
      ],
      "execution_count": null,
      "outputs": []
    }
  ]
}