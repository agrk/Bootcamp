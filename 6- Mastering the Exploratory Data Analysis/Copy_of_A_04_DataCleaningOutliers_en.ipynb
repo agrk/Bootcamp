{
  "nbformat": 4,
  "nbformat_minor": 0,
  "metadata": {
    "kernelspec": {
      "display_name": "Python 3",
      "language": "python",
      "name": "python3"
    },
    "language_info": {
      "codemirror_mode": {
        "name": "ipython",
        "version": 3
      },
      "file_extension": ".py",
      "mimetype": "text/x-python",
      "name": "python",
      "nbconvert_exporter": "python",
      "pygments_lexer": "ipython3",
      "version": "3.8.2"
    },
    "colab": {
      "name": "Copy of A_04_DataCleaningOutliers_en.ipynb",
      "provenance": [],
      "collapsed_sections": []
    }
  },
  "cells": [
    {
      "cell_type": "markdown",
      "metadata": {
        "id": "BN5QSuMAmwqe"
      },
      "source": [
        "# <font color=blue>Assignments for \"Data Cleaning - Outliers\"</font>"
      ]
    },
    {
      "cell_type": "markdown",
      "metadata": {
        "id": "grv0C_2Smwqm"
      },
      "source": [
        "In this assignment, you continue to study the data of the `US Education System`. Again, please down it from here ([dataset](https://www.kaggle.com/noriuk/us-education-datasets-unification-project/home)). In this dataset, there is a lot of data on an annual basis. You can reach the explanations of this data from Kaggle again.\n",
        "\n",
        "First of all, apply the most appropriate one of the techniques for completing the missing values in your previous lesson. In order to answer the following questions, you must overcome the missing data."
      ]
    },
    {
      "cell_type": "code",
      "metadata": {
        "id": "i3x9Rq1CnzFf"
      },
      "source": [
        "import numpy as np\n",
        "import pandas as pd\n",
        "import matplotlib.pyplot as plt\n",
        "\n",
        "from scipy.stats import zscore\n",
        "from scipy.stats.mstats import winsorize\n",
        "\n",
        "%matplotlib inline\n",
        "\n",
        "import warnings\n",
        "warnings.filterwarnings('ignore')\n",
        "%matplotlib inline"
      ],
      "execution_count": null,
      "outputs": []
    },
    {
      "cell_type": "code",
      "metadata": {
        "colab": {
          "base_uri": "https://localhost:8080/"
        },
        "id": "3ZbePEu4n2zX",
        "outputId": "cd5979f7-16cb-496e-ff27-a7f4ad966ad7"
      },
      "source": [
        "from google.colab import drive\n",
        "drive.mount('/content/drive')"
      ],
      "execution_count": null,
      "outputs": [
        {
          "output_type": "stream",
          "text": [
            "Drive already mounted at /content/drive; to attempt to forcibly remount, call drive.mount(\"/content/drive\", force_remount=True).\n"
          ],
          "name": "stdout"
        }
      ]
    },
    {
      "cell_type": "code",
      "metadata": {
        "colab": {
          "base_uri": "https://localhost:8080/",
          "height": 52
        },
        "id": "L5U4oQF4oGBf",
        "outputId": "f3e56d7f-2edd-47cd-e7ef-93d8e896c71a"
      },
      "source": [
        "import os\n",
        "os.getcwd()"
      ],
      "execution_count": null,
      "outputs": [
        {
          "output_type": "execute_result",
          "data": {
            "application/vnd.google.colaboratory.intrinsic+json": {
              "type": "string"
            },
            "text/plain": [
              "'/content/drive/My Drive/Colab Notebooks/Datajarlabs/6-Mastering_the_Exploratory_Data_Analysis'"
            ]
          },
          "metadata": {
            "tags": []
          },
          "execution_count": 75
        }
      ]
    },
    {
      "cell_type": "code",
      "metadata": {
        "id": "bikpGcH9oIbG"
      },
      "source": [
        "PATH ='/content/drive/MyDrive/Colab Notebooks/Datajarlabs/6-Mastering_the_Exploratory_Data_Analysis'\n",
        "os.chdir(PATH)"
      ],
      "execution_count": null,
      "outputs": []
    },
    {
      "cell_type": "code",
      "metadata": {
        "colab": {
          "base_uri": "https://localhost:8080/",
          "height": 215
        },
        "id": "Sph5h5-uoLRm",
        "outputId": "3165ca1a-2f97-4182-8e8a-e681caa70372"
      },
      "source": [
        "df = pd.read_csv('states_all.csv')\n",
        "df.head()"
      ],
      "execution_count": null,
      "outputs": [
        {
          "output_type": "execute_result",
          "data": {
            "text/html": [
              "<div>\n",
              "<style scoped>\n",
              "    .dataframe tbody tr th:only-of-type {\n",
              "        vertical-align: middle;\n",
              "    }\n",
              "\n",
              "    .dataframe tbody tr th {\n",
              "        vertical-align: top;\n",
              "    }\n",
              "\n",
              "    .dataframe thead th {\n",
              "        text-align: right;\n",
              "    }\n",
              "</style>\n",
              "<table border=\"1\" class=\"dataframe\">\n",
              "  <thead>\n",
              "    <tr style=\"text-align: right;\">\n",
              "      <th></th>\n",
              "      <th>PRIMARY_KEY</th>\n",
              "      <th>STATE</th>\n",
              "      <th>YEAR</th>\n",
              "      <th>ENROLL</th>\n",
              "      <th>TOTAL_REVENUE</th>\n",
              "      <th>FEDERAL_REVENUE</th>\n",
              "      <th>STATE_REVENUE</th>\n",
              "      <th>LOCAL_REVENUE</th>\n",
              "      <th>TOTAL_EXPENDITURE</th>\n",
              "      <th>INSTRUCTION_EXPENDITURE</th>\n",
              "      <th>SUPPORT_SERVICES_EXPENDITURE</th>\n",
              "      <th>OTHER_EXPENDITURE</th>\n",
              "      <th>CAPITAL_OUTLAY_EXPENDITURE</th>\n",
              "      <th>GRADES_PK_G</th>\n",
              "      <th>GRADES_KG_G</th>\n",
              "      <th>GRADES_4_G</th>\n",
              "      <th>GRADES_8_G</th>\n",
              "      <th>GRADES_12_G</th>\n",
              "      <th>GRADES_1_8_G</th>\n",
              "      <th>GRADES_9_12_G</th>\n",
              "      <th>GRADES_ALL_G</th>\n",
              "      <th>AVG_MATH_4_SCORE</th>\n",
              "      <th>AVG_MATH_8_SCORE</th>\n",
              "      <th>AVG_READING_4_SCORE</th>\n",
              "      <th>AVG_READING_8_SCORE</th>\n",
              "    </tr>\n",
              "  </thead>\n",
              "  <tbody>\n",
              "    <tr>\n",
              "      <th>0</th>\n",
              "      <td>1992_ALABAMA</td>\n",
              "      <td>ALABAMA</td>\n",
              "      <td>1992</td>\n",
              "      <td>NaN</td>\n",
              "      <td>2678885.0</td>\n",
              "      <td>304177.0</td>\n",
              "      <td>1659028.0</td>\n",
              "      <td>715680.0</td>\n",
              "      <td>2653798.0</td>\n",
              "      <td>1481703.0</td>\n",
              "      <td>735036.0</td>\n",
              "      <td>NaN</td>\n",
              "      <td>174053.0</td>\n",
              "      <td>8224.0</td>\n",
              "      <td>55460.0</td>\n",
              "      <td>57948.0</td>\n",
              "      <td>58025.0</td>\n",
              "      <td>41167.0</td>\n",
              "      <td>NaN</td>\n",
              "      <td>NaN</td>\n",
              "      <td>731634.0</td>\n",
              "      <td>208.0</td>\n",
              "      <td>252.0</td>\n",
              "      <td>207.0</td>\n",
              "      <td>NaN</td>\n",
              "    </tr>\n",
              "    <tr>\n",
              "      <th>1</th>\n",
              "      <td>1992_ALASKA</td>\n",
              "      <td>ALASKA</td>\n",
              "      <td>1992</td>\n",
              "      <td>NaN</td>\n",
              "      <td>1049591.0</td>\n",
              "      <td>106780.0</td>\n",
              "      <td>720711.0</td>\n",
              "      <td>222100.0</td>\n",
              "      <td>972488.0</td>\n",
              "      <td>498362.0</td>\n",
              "      <td>350902.0</td>\n",
              "      <td>NaN</td>\n",
              "      <td>37451.0</td>\n",
              "      <td>2371.0</td>\n",
              "      <td>10152.0</td>\n",
              "      <td>9748.0</td>\n",
              "      <td>8789.0</td>\n",
              "      <td>6714.0</td>\n",
              "      <td>NaN</td>\n",
              "      <td>NaN</td>\n",
              "      <td>122487.0</td>\n",
              "      <td>NaN</td>\n",
              "      <td>NaN</td>\n",
              "      <td>NaN</td>\n",
              "      <td>NaN</td>\n",
              "    </tr>\n",
              "    <tr>\n",
              "      <th>2</th>\n",
              "      <td>1992_ARIZONA</td>\n",
              "      <td>ARIZONA</td>\n",
              "      <td>1992</td>\n",
              "      <td>NaN</td>\n",
              "      <td>3258079.0</td>\n",
              "      <td>297888.0</td>\n",
              "      <td>1369815.0</td>\n",
              "      <td>1590376.0</td>\n",
              "      <td>3401580.0</td>\n",
              "      <td>1435908.0</td>\n",
              "      <td>1007732.0</td>\n",
              "      <td>NaN</td>\n",
              "      <td>609114.0</td>\n",
              "      <td>2544.0</td>\n",
              "      <td>53497.0</td>\n",
              "      <td>55433.0</td>\n",
              "      <td>49081.0</td>\n",
              "      <td>37410.0</td>\n",
              "      <td>NaN</td>\n",
              "      <td>NaN</td>\n",
              "      <td>673477.0</td>\n",
              "      <td>215.0</td>\n",
              "      <td>265.0</td>\n",
              "      <td>209.0</td>\n",
              "      <td>NaN</td>\n",
              "    </tr>\n",
              "    <tr>\n",
              "      <th>3</th>\n",
              "      <td>1992_ARKANSAS</td>\n",
              "      <td>ARKANSAS</td>\n",
              "      <td>1992</td>\n",
              "      <td>NaN</td>\n",
              "      <td>1711959.0</td>\n",
              "      <td>178571.0</td>\n",
              "      <td>958785.0</td>\n",
              "      <td>574603.0</td>\n",
              "      <td>1743022.0</td>\n",
              "      <td>964323.0</td>\n",
              "      <td>483488.0</td>\n",
              "      <td>NaN</td>\n",
              "      <td>145212.0</td>\n",
              "      <td>808.0</td>\n",
              "      <td>33511.0</td>\n",
              "      <td>34632.0</td>\n",
              "      <td>36011.0</td>\n",
              "      <td>27651.0</td>\n",
              "      <td>NaN</td>\n",
              "      <td>NaN</td>\n",
              "      <td>441490.0</td>\n",
              "      <td>210.0</td>\n",
              "      <td>256.0</td>\n",
              "      <td>211.0</td>\n",
              "      <td>NaN</td>\n",
              "    </tr>\n",
              "    <tr>\n",
              "      <th>4</th>\n",
              "      <td>1992_CALIFORNIA</td>\n",
              "      <td>CALIFORNIA</td>\n",
              "      <td>1992</td>\n",
              "      <td>NaN</td>\n",
              "      <td>26260025.0</td>\n",
              "      <td>2072470.0</td>\n",
              "      <td>16546514.0</td>\n",
              "      <td>7641041.0</td>\n",
              "      <td>27138832.0</td>\n",
              "      <td>14358922.0</td>\n",
              "      <td>8520926.0</td>\n",
              "      <td>NaN</td>\n",
              "      <td>2044688.0</td>\n",
              "      <td>59067.0</td>\n",
              "      <td>431763.0</td>\n",
              "      <td>418418.0</td>\n",
              "      <td>363296.0</td>\n",
              "      <td>270675.0</td>\n",
              "      <td>NaN</td>\n",
              "      <td>NaN</td>\n",
              "      <td>5254844.0</td>\n",
              "      <td>208.0</td>\n",
              "      <td>261.0</td>\n",
              "      <td>202.0</td>\n",
              "      <td>NaN</td>\n",
              "    </tr>\n",
              "  </tbody>\n",
              "</table>\n",
              "</div>"
            ],
            "text/plain": [
              "       PRIMARY_KEY       STATE  ...  AVG_READING_4_SCORE  AVG_READING_8_SCORE\n",
              "0     1992_ALABAMA     ALABAMA  ...                207.0                  NaN\n",
              "1      1992_ALASKA      ALASKA  ...                  NaN                  NaN\n",
              "2     1992_ARIZONA     ARIZONA  ...                209.0                  NaN\n",
              "3    1992_ARKANSAS    ARKANSAS  ...                211.0                  NaN\n",
              "4  1992_CALIFORNIA  CALIFORNIA  ...                202.0                  NaN\n",
              "\n",
              "[5 rows x 25 columns]"
            ]
          },
          "metadata": {
            "tags": []
          },
          "execution_count": 77
        }
      ]
    },
    {
      "cell_type": "code",
      "metadata": {
        "colab": {
          "base_uri": "https://localhost:8080/"
        },
        "id": "8e88OpdLosWA",
        "outputId": "1f0b8d7e-b271-40cc-f6ad-79eb6aee205b"
      },
      "source": [
        "df.info()"
      ],
      "execution_count": null,
      "outputs": [
        {
          "output_type": "stream",
          "text": [
            "<class 'pandas.core.frame.DataFrame'>\n",
            "RangeIndex: 1715 entries, 0 to 1714\n",
            "Data columns (total 25 columns):\n",
            " #   Column                        Non-Null Count  Dtype  \n",
            "---  ------                        --------------  -----  \n",
            " 0   PRIMARY_KEY                   1715 non-null   object \n",
            " 1   STATE                         1715 non-null   object \n",
            " 2   YEAR                          1715 non-null   int64  \n",
            " 3   ENROLL                        1224 non-null   float64\n",
            " 4   TOTAL_REVENUE                 1275 non-null   float64\n",
            " 5   FEDERAL_REVENUE               1275 non-null   float64\n",
            " 6   STATE_REVENUE                 1275 non-null   float64\n",
            " 7   LOCAL_REVENUE                 1275 non-null   float64\n",
            " 8   TOTAL_EXPENDITURE             1275 non-null   float64\n",
            " 9   INSTRUCTION_EXPENDITURE       1275 non-null   float64\n",
            " 10  SUPPORT_SERVICES_EXPENDITURE  1275 non-null   float64\n",
            " 11  OTHER_EXPENDITURE             1224 non-null   float64\n",
            " 12  CAPITAL_OUTLAY_EXPENDITURE    1275 non-null   float64\n",
            " 13  GRADES_PK_G                   1542 non-null   float64\n",
            " 14  GRADES_KG_G                   1632 non-null   float64\n",
            " 15  GRADES_4_G                    1632 non-null   float64\n",
            " 16  GRADES_8_G                    1632 non-null   float64\n",
            " 17  GRADES_12_G                   1632 non-null   float64\n",
            " 18  GRADES_1_8_G                  1020 non-null   float64\n",
            " 19  GRADES_9_12_G                 1071 non-null   float64\n",
            " 20  GRADES_ALL_G                  1632 non-null   float64\n",
            " 21  AVG_MATH_4_SCORE              565 non-null    float64\n",
            " 22  AVG_MATH_8_SCORE              602 non-null    float64\n",
            " 23  AVG_READING_4_SCORE           650 non-null    float64\n",
            " 24  AVG_READING_8_SCORE           562 non-null    float64\n",
            "dtypes: float64(22), int64(1), object(2)\n",
            "memory usage: 335.1+ KB\n"
          ],
          "name": "stdout"
        }
      ]
    },
    {
      "cell_type": "code",
      "metadata": {
        "id": "5arvjWCmokEX"
      },
      "source": [
        "for column in df.columns[3:]:\n",
        "    for year in df['YEAR'].unique():\n",
        "        df[column].fillna(df[df['YEAR'] == year][column].mean(), inplace=True)"
      ],
      "execution_count": null,
      "outputs": []
    },
    {
      "cell_type": "code",
      "metadata": {
        "colab": {
          "base_uri": "https://localhost:8080/"
        },
        "id": "7M-M_xppopUf",
        "outputId": "ecba00d0-1174-48f1-e477-2dec29451e3d"
      },
      "source": [
        "df.isna().sum()"
      ],
      "execution_count": null,
      "outputs": [
        {
          "output_type": "execute_result",
          "data": {
            "text/plain": [
              "PRIMARY_KEY                     0\n",
              "STATE                           0\n",
              "YEAR                            0\n",
              "ENROLL                          0\n",
              "TOTAL_REVENUE                   0\n",
              "FEDERAL_REVENUE                 0\n",
              "STATE_REVENUE                   0\n",
              "LOCAL_REVENUE                   0\n",
              "TOTAL_EXPENDITURE               0\n",
              "INSTRUCTION_EXPENDITURE         0\n",
              "SUPPORT_SERVICES_EXPENDITURE    0\n",
              "OTHER_EXPENDITURE               0\n",
              "CAPITAL_OUTLAY_EXPENDITURE      0\n",
              "GRADES_PK_G                     0\n",
              "GRADES_KG_G                     0\n",
              "GRADES_4_G                      0\n",
              "GRADES_8_G                      0\n",
              "GRADES_12_G                     0\n",
              "GRADES_1_8_G                    0\n",
              "GRADES_9_12_G                   0\n",
              "GRADES_ALL_G                    0\n",
              "AVG_MATH_4_SCORE                0\n",
              "AVG_MATH_8_SCORE                0\n",
              "AVG_READING_4_SCORE             0\n",
              "AVG_READING_8_SCORE             0\n",
              "dtype: int64"
            ]
          },
          "metadata": {
            "tags": []
          },
          "execution_count": 80
        }
      ]
    },
    {
      "cell_type": "code",
      "metadata": {
        "id": "AANgfQxb8Zoc",
        "colab": {
          "base_uri": "https://localhost:8080/"
        },
        "outputId": "25998f8a-e30d-4419-edc7-f335bffe4f49"
      },
      "source": [
        "df.info()"
      ],
      "execution_count": null,
      "outputs": [
        {
          "output_type": "stream",
          "text": [
            "<class 'pandas.core.frame.DataFrame'>\n",
            "RangeIndex: 1715 entries, 0 to 1714\n",
            "Data columns (total 31 columns):\n",
            " #   Column                            Non-Null Count  Dtype  \n",
            "---  ------                            --------------  -----  \n",
            " 0   PRIMARY_KEY                       1715 non-null   object \n",
            " 1   STATE                             1715 non-null   object \n",
            " 2   YEAR                              1715 non-null   int64  \n",
            " 3   ENROLL                            1715 non-null   float64\n",
            " 4   TOTAL_REVENUE                     1715 non-null   float64\n",
            " 5   FEDERAL_REVENUE                   1715 non-null   float64\n",
            " 6   STATE_REVENUE                     1715 non-null   float64\n",
            " 7   LOCAL_REVENUE                     1715 non-null   float64\n",
            " 8   TOTAL_EXPENDITURE                 1715 non-null   float64\n",
            " 9   INSTRUCTION_EXPENDITURE           1715 non-null   float64\n",
            " 10  SUPPORT_SERVICES_EXPENDITURE      1715 non-null   float64\n",
            " 11  OTHER_EXPENDITURE                 1715 non-null   float64\n",
            " 12  CAPITAL_OUTLAY_EXPENDITURE        1715 non-null   float64\n",
            " 13  GRADES_PK_G                       1715 non-null   float64\n",
            " 14  GRADES_KG_G                       1715 non-null   float64\n",
            " 15  GRADES_4_G                        1715 non-null   float64\n",
            " 16  GRADES_8_G                        1715 non-null   float64\n",
            " 17  GRADES_12_G                       1715 non-null   float64\n",
            " 18  GRADES_1_8_G                      1715 non-null   float64\n",
            " 19  GRADES_9_12_G                     1715 non-null   float64\n",
            " 20  GRADES_ALL_G                      1715 non-null   float64\n",
            " 21  AVG_MATH_4_SCORE                  1715 non-null   float64\n",
            " 22  AVG_MATH_8_SCORE                  1715 non-null   float64\n",
            " 23  AVG_READING_4_SCORE               1715 non-null   float64\n",
            " 24  AVG_READING_8_SCORE               1715 non-null   float64\n",
            " 25  TOTAL_REVENUE_WINSORIZED          1715 non-null   float64\n",
            " 26  TOTAL_EXPENDITURE _WINSORIZED     1715 non-null   float64\n",
            " 27  BUDGET_DEFICIT                    1715 non-null   float64\n",
            " 28  BUDGET_DEFICIT_WINSORIZED         1715 non-null   float64\n",
            " 29  BUDGET_DEFICIT_SECOND             1715 non-null   float64\n",
            " 30  BUDGET_DEFICIT_SECOND_WINSORIZED  1715 non-null   float64\n",
            "dtypes: float64(28), int64(1), object(2)\n",
            "memory usage: 415.5+ KB\n"
          ],
          "name": "stdout"
        }
      ]
    },
    {
      "cell_type": "markdown",
      "metadata": {
        "id": "QmhnC-s6mwqn"
      },
      "source": [
        "**(1)** See `TOTAL_REVENUE`, which includes total revenue data, and `TOTAL_EXPENDITURE`, which includes total spending data. Do these variables contain outliers?"
      ]
    },
    {
      "cell_type": "code",
      "metadata": {
        "id": "M5fGULexmwqo",
        "colab": {
          "base_uri": "https://localhost:8080/",
          "height": 284
        },
        "outputId": "b513d372-2e5c-45aa-8e4e-d9d4c08a68ac"
      },
      "source": [
        "df[['TOTAL_REVENUE', 'TOTAL_EXPENDITURE']].describe()"
      ],
      "execution_count": null,
      "outputs": [
        {
          "output_type": "execute_result",
          "data": {
            "text/html": [
              "<div>\n",
              "<style scoped>\n",
              "    .dataframe tbody tr th:only-of-type {\n",
              "        vertical-align: middle;\n",
              "    }\n",
              "\n",
              "    .dataframe tbody tr th {\n",
              "        vertical-align: top;\n",
              "    }\n",
              "\n",
              "    .dataframe thead th {\n",
              "        text-align: right;\n",
              "    }\n",
              "</style>\n",
              "<table border=\"1\" class=\"dataframe\">\n",
              "  <thead>\n",
              "    <tr style=\"text-align: right;\">\n",
              "      <th></th>\n",
              "      <th>TOTAL_REVENUE</th>\n",
              "      <th>TOTAL_EXPENDITURE</th>\n",
              "    </tr>\n",
              "  </thead>\n",
              "  <tbody>\n",
              "    <tr>\n",
              "      <th>count</th>\n",
              "      <td>1.715000e+03</td>\n",
              "      <td>1.715000e+03</td>\n",
              "    </tr>\n",
              "    <tr>\n",
              "      <th>mean</th>\n",
              "      <td>7.940014e+06</td>\n",
              "      <td>8.038215e+06</td>\n",
              "    </tr>\n",
              "    <tr>\n",
              "      <th>std</th>\n",
              "      <td>1.032975e+07</td>\n",
              "      <td>1.052905e+07</td>\n",
              "    </tr>\n",
              "    <tr>\n",
              "      <th>min</th>\n",
              "      <td>4.656500e+05</td>\n",
              "      <td>4.816650e+05</td>\n",
              "    </tr>\n",
              "    <tr>\n",
              "      <th>25%</th>\n",
              "      <td>2.992297e+06</td>\n",
              "      <td>3.004448e+06</td>\n",
              "    </tr>\n",
              "    <tr>\n",
              "      <th>50%</th>\n",
              "      <td>4.572764e+06</td>\n",
              "      <td>4.653591e+06</td>\n",
              "    </tr>\n",
              "    <tr>\n",
              "      <th>75%</th>\n",
              "      <td>8.165744e+06</td>\n",
              "      <td>8.220253e+06</td>\n",
              "    </tr>\n",
              "    <tr>\n",
              "      <th>max</th>\n",
              "      <td>8.921726e+07</td>\n",
              "      <td>8.532013e+07</td>\n",
              "    </tr>\n",
              "  </tbody>\n",
              "</table>\n",
              "</div>"
            ],
            "text/plain": [
              "       TOTAL_REVENUE  TOTAL_EXPENDITURE\n",
              "count   1.715000e+03       1.715000e+03\n",
              "mean    7.940014e+06       8.038215e+06\n",
              "std     1.032975e+07       1.052905e+07\n",
              "min     4.656500e+05       4.816650e+05\n",
              "25%     2.992297e+06       3.004448e+06\n",
              "50%     4.572764e+06       4.653591e+06\n",
              "75%     8.165744e+06       8.220253e+06\n",
              "max     8.921726e+07       8.532013e+07"
            ]
          },
          "metadata": {
            "tags": []
          },
          "execution_count": 81
        }
      ]
    },
    {
      "cell_type": "code",
      "metadata": {
        "colab": {
          "base_uri": "https://localhost:8080/",
          "height": 377
        },
        "id": "9c2Pi8rCpwkY",
        "outputId": "350dd654-0138-40a8-8c93-226492bd1c97"
      },
      "source": [
        "title_font = {'family': 'arial', 'color': 'darkred','weight': 'bold','size': 13 }\n",
        "axis_font  = {'family': 'arial', 'color': 'darkblue','weight': 'bold','size': 10 }\n",
        "\n",
        "plt.figure(figsize=(15, 8))\n",
        "\n",
        "plt.subplot(1, 2, 1)\n",
        "plt.boxplot(df.TOTAL_REVENUE)\n",
        "plt.title(\"TOTAL_REVENUE Boxplot\", fontdict=title_font)\n",
        "\n",
        "plt.subplot(1, 2, 2)\n",
        "plt.boxplot(df.TOTAL_EXPENDITURE)\n",
        "plt.title(\"TOTAL_EXPENDITURE Boxplot\", fontdict=title_font)\n",
        "\n",
        "\n",
        "plt.show()"
      ],
      "execution_count": null,
      "outputs": [
        {
          "output_type": "display_data",
          "data": {
            "image/png": "[encoded data removed]",
            "text/plain": [
              "<Figure size 1080x576 with 2 Axes>"
            ]
          },
          "metadata": {
            "tags": [],
            "needs_background": "light"
          }
        }
      ]
    },
    {
      "cell_type": "code",
      "metadata": {
        "colab": {
          "base_uri": "https://localhost:8080/",
          "height": 379
        },
        "id": "OpT_mZz-lQA7",
        "outputId": "783381d2-8586-4a50-8c55-02bcf098f0af"
      },
      "source": [
        "plt.figure(figsize=(15, 8))\n",
        "\n",
        "plt.subplot(1, 2, 1)\n",
        "plt.hist(df.TOTAL_REVENUE)\n",
        "plt.title(\"TOTAL_REVENUE Histogram\", fontdict=title_font)\n",
        "\n",
        "\n",
        "plt.subplot(1, 2, 2)\n",
        "plt.hist(df.TOTAL_EXPENDITURE)\n",
        "plt.title(\"TOTAL_EXPENDITURE Histogram\", fontdict=title_font)\n",
        "\n",
        "plt.show()"
      ],
      "execution_count": null,
      "outputs": [
        {
          "output_type": "display_data",
          "data": {
            "image/png": "[encoded data removed]",
            "text/plain": [
              "<Figure size 1080x576 with 2 Axes>"
            ]
          },
          "metadata": {
            "tags": [],
            "needs_background": "light"
          }
        }
      ]
    },
    {
      "cell_type": "markdown",
      "metadata": {
        "id": "nVRirKRWsaTQ"
      },
      "source": [
        "**Z Score**"
      ]
    },
    {
      "cell_type": "code",
      "metadata": {
        "id": "sLvCxgpfmwqp",
        "colab": {
          "base_uri": "https://localhost:8080/"
        },
        "outputId": "4e262adb-85a7-44f6-a2d2-b2e27ff9c018"
      },
      "source": [
        "z_scores_revenue = zscore(df[\"TOTAL_REVENUE\"])\n",
        "z_scores_expend = zscore(df[\"TOTAL_EXPENDITURE\"])\n",
        "print(\"Outlier Analysis for TOTAL_REVENUE\\n\")\n",
        "for threshold in range(1,5):\n",
        "    print(\"Threshold value: {}\".format(threshold))\n",
        "    print(\"Number of Outliers: {}\".format(len((np.where(z_scores_revenue > threshold)[0]))))\n",
        "    print('------')\n",
        "print(\"\\nOutlier Analysis for TOTAL_EXPENDITURE\\n\")\n",
        "for threshold in range(1,5):\n",
        "    print(\"Threshold value: {}\".format(threshold))\n",
        "    print(\"Number of Outliers: {}\".format(len((np.where(z_scores_expend > threshold)[0]))))\n",
        "    print('------')"
      ],
      "execution_count": null,
      "outputs": [
        {
          "output_type": "stream",
          "text": [
            "Outlier Analysis for TOTAL_REVENUE\n",
            "\n",
            "Threshold value: 1\n",
            "Number of Outliers: 165\n",
            "------\n",
            "Threshold value: 2\n",
            "Number of Outliers: 70\n",
            "------\n",
            "Threshold value: 3\n",
            "Number of Outliers: 43\n",
            "------\n",
            "Threshold value: 4\n",
            "Number of Outliers: 33\n",
            "------\n",
            "\n",
            "Outlier Analysis for TOTAL_EXPENDITURE\n",
            "\n",
            "Threshold value: 1\n",
            "Number of Outliers: 161\n",
            "------\n",
            "Threshold value: 2\n",
            "Number of Outliers: 67\n",
            "------\n",
            "Threshold value: 3\n",
            "Number of Outliers: 44\n",
            "------\n",
            "Threshold value: 4\n",
            "Number of Outliers: 35\n",
            "------\n"
          ],
          "name": "stdout"
        }
      ]
    },
    {
      "cell_type": "markdown",
      "metadata": {
        "id": "-ftI2UJgsdnD"
      },
      "source": [
        "**Tukey Method**"
      ]
    },
    {
      "cell_type": "code",
      "metadata": {
        "id": "QLOFVuIZsf8H"
      },
      "source": [
        "q75, q25 = np.percentile(df[\"TOTAL_REVENUE\"], [75 ,25])\n",
        "IQR = q75 - q25"
      ],
      "execution_count": null,
      "outputs": []
    },
    {
      "cell_type": "code",
      "metadata": {
        "colab": {
          "base_uri": "https://localhost:8080/",
          "height": 318
        },
        "id": "m8W8euDasf4f",
        "outputId": "08537346-a331-45a6-f940-13d261c4d0c5"
      },
      "source": [
        "print(\"Total Revenue Outliers\\n\")\n",
        "threshold_values=[]\n",
        "for threshold_value in np.arange(1,5,0.5):\n",
        "    min_value = q25 - (IQR*threshold_value)\n",
        "    max_value = q75 + (IQR*threshold_value)\n",
        "    outlier_value_number = len((np.where((df[\"TOTAL_REVENUE\"]> max_value)| (df[\"TOTAL_REVENUE\"] < min_value))[0]))\n",
        "    threshold_values.append({'threshold_value': threshold_value,'outlier_value_number': outlier_value_number})\n",
        "pd.DataFrame(threshold_values)"
      ],
      "execution_count": null,
      "outputs": [
        {
          "output_type": "stream",
          "text": [
            "Total Revenue Outliers\n",
            "\n"
          ],
          "name": "stdout"
        },
        {
          "output_type": "execute_result",
          "data": {
            "text/html": [
              "<div>\n",
              "<style scoped>\n",
              "    .dataframe tbody tr th:only-of-type {\n",
              "        vertical-align: middle;\n",
              "    }\n",
              "\n",
              "    .dataframe tbody tr th {\n",
              "        vertical-align: top;\n",
              "    }\n",
              "\n",
              "    .dataframe thead th {\n",
              "        text-align: right;\n",
              "    }\n",
              "</style>\n",
              "<table border=\"1\" class=\"dataframe\">\n",
              "  <thead>\n",
              "    <tr style=\"text-align: right;\">\n",
              "      <th></th>\n",
              "      <th>threshold_value</th>\n",
              "      <th>outlier_value_number</th>\n",
              "    </tr>\n",
              "  </thead>\n",
              "  <tbody>\n",
              "    <tr>\n",
              "      <th>0</th>\n",
              "      <td>1.0</td>\n",
              "      <td>246</td>\n",
              "    </tr>\n",
              "    <tr>\n",
              "      <th>1</th>\n",
              "      <td>1.5</td>\n",
              "      <td>195</td>\n",
              "    </tr>\n",
              "    <tr>\n",
              "      <th>2</th>\n",
              "      <td>2.0</td>\n",
              "      <td>161</td>\n",
              "    </tr>\n",
              "    <tr>\n",
              "      <th>3</th>\n",
              "      <td>2.5</td>\n",
              "      <td>132</td>\n",
              "    </tr>\n",
              "    <tr>\n",
              "      <th>4</th>\n",
              "      <td>3.0</td>\n",
              "      <td>111</td>\n",
              "    </tr>\n",
              "    <tr>\n",
              "      <th>5</th>\n",
              "      <td>3.5</td>\n",
              "      <td>90</td>\n",
              "    </tr>\n",
              "    <tr>\n",
              "      <th>6</th>\n",
              "      <td>4.0</td>\n",
              "      <td>70</td>\n",
              "    </tr>\n",
              "    <tr>\n",
              "      <th>7</th>\n",
              "      <td>4.5</td>\n",
              "      <td>54</td>\n",
              "    </tr>\n",
              "  </tbody>\n",
              "</table>\n",
              "</div>"
            ],
            "text/plain": [
              "   threshold_value  outlier_value_number\n",
              "0              1.0                   246\n",
              "1              1.5                   195\n",
              "2              2.0                   161\n",
              "3              2.5                   132\n",
              "4              3.0                   111\n",
              "5              3.5                    90\n",
              "6              4.0                    70\n",
              "7              4.5                    54"
            ]
          },
          "metadata": {
            "tags": []
          },
          "execution_count": 86
        }
      ]
    },
    {
      "cell_type": "code",
      "metadata": {
        "id": "bWU1Eagemzzx"
      },
      "source": [
        "q75_ex, q25_ex = np.percentile(df[\"TOTAL_EXPENDITURE\"], [75 ,25])\n",
        "IQR_ex = q75_ex - q25_ex"
      ],
      "execution_count": null,
      "outputs": []
    },
    {
      "cell_type": "code",
      "metadata": {
        "colab": {
          "base_uri": "https://localhost:8080/",
          "height": 318
        },
        "id": "9EZ3iXbMmztZ",
        "outputId": "525df7fb-26e7-486a-f9c2-87f4c464a6c7"
      },
      "source": [
        "print(\"Total Expenditure Outliers\\n\")\n",
        "threshold_values2=[]\n",
        "for threshold_value in np.arange(1,5,0.5):\n",
        "    min_value = q25_ex - (IQR_ex*threshold_value)\n",
        "    max_value = q75_ex + (IQR_ex*threshold_value)\n",
        "    outlier_value_number = len((np.where((df[\"TOTAL_EXPENDITURE\"]> max_value)| (df[\"TOTAL_EXPENDITURE\"] < min_value))[0]))\n",
        "    threshold_values2.append({'threshold_value': threshold_value,'outlier_value_number': outlier_value_number})\n",
        "pd.DataFrame(threshold_values2)"
      ],
      "execution_count": null,
      "outputs": [
        {
          "output_type": "stream",
          "text": [
            "Total Expenditure Outliers\n",
            "\n"
          ],
          "name": "stdout"
        },
        {
          "output_type": "execute_result",
          "data": {
            "text/html": [
              "<div>\n",
              "<style scoped>\n",
              "    .dataframe tbody tr th:only-of-type {\n",
              "        vertical-align: middle;\n",
              "    }\n",
              "\n",
              "    .dataframe tbody tr th {\n",
              "        vertical-align: top;\n",
              "    }\n",
              "\n",
              "    .dataframe thead th {\n",
              "        text-align: right;\n",
              "    }\n",
              "</style>\n",
              "<table border=\"1\" class=\"dataframe\">\n",
              "  <thead>\n",
              "    <tr style=\"text-align: right;\">\n",
              "      <th></th>\n",
              "      <th>threshold_value</th>\n",
              "      <th>outlier_value_number</th>\n",
              "    </tr>\n",
              "  </thead>\n",
              "  <tbody>\n",
              "    <tr>\n",
              "      <th>0</th>\n",
              "      <td>1.0</td>\n",
              "      <td>246</td>\n",
              "    </tr>\n",
              "    <tr>\n",
              "      <th>1</th>\n",
              "      <td>1.5</td>\n",
              "      <td>195</td>\n",
              "    </tr>\n",
              "    <tr>\n",
              "      <th>2</th>\n",
              "      <td>2.0</td>\n",
              "      <td>160</td>\n",
              "    </tr>\n",
              "    <tr>\n",
              "      <th>3</th>\n",
              "      <td>2.5</td>\n",
              "      <td>134</td>\n",
              "    </tr>\n",
              "    <tr>\n",
              "      <th>4</th>\n",
              "      <td>3.0</td>\n",
              "      <td>109</td>\n",
              "    </tr>\n",
              "    <tr>\n",
              "      <th>5</th>\n",
              "      <td>3.5</td>\n",
              "      <td>95</td>\n",
              "    </tr>\n",
              "    <tr>\n",
              "      <th>6</th>\n",
              "      <td>4.0</td>\n",
              "      <td>67</td>\n",
              "    </tr>\n",
              "    <tr>\n",
              "      <th>7</th>\n",
              "      <td>4.5</td>\n",
              "      <td>56</td>\n",
              "    </tr>\n",
              "  </tbody>\n",
              "</table>\n",
              "</div>"
            ],
            "text/plain": [
              "   threshold_value  outlier_value_number\n",
              "0              1.0                   246\n",
              "1              1.5                   195\n",
              "2              2.0                   160\n",
              "3              2.5                   134\n",
              "4              3.0                   109\n",
              "5              3.5                    95\n",
              "6              4.0                    67\n",
              "7              4.5                    56"
            ]
          },
          "metadata": {
            "tags": []
          },
          "execution_count": 88
        }
      ]
    },
    {
      "cell_type": "markdown",
      "metadata": {
        "id": "Z8DWcl6Cmwqo"
      },
      "source": [
        "**(2)** If you find outliers in the total income `TOTAL_REVENUE` and total expenditure `TOTAL_EXPENDITURE` variables, eliminate these outliers by applying the techniques you learned in this lesson and verify that no outliers remain after doing this."
      ]
    },
    {
      "cell_type": "code",
      "metadata": {
        "id": "bLR_GlpdmzmS"
      },
      "source": [
        "\n",
        "df['TOTAL_REVENUE_WINSORIZED']= winsorize(df.TOTAL_REVENUE, (0.15, 0.15))\n",
        "df['TOTAL_EXPENDITURE _WINSORIZED']= winsorize(df.TOTAL_EXPENDITURE , (0.15, 0.15))\n"
      ],
      "execution_count": null,
      "outputs": []
    },
    {
      "cell_type": "code",
      "metadata": {
        "id": "Yl3Ps-TDpQRB",
        "colab": {
          "base_uri": "https://localhost:8080/",
          "height": 293
        },
        "outputId": "3496ba5d-030f-4bcd-895d-4058f4ccd39f"
      },
      "source": [
        "plt.figure(figsize=(15, 6))\n",
        "\n",
        "plt.subplot(1, 2, 1)\n",
        "plt.boxplot(df['TOTAL_REVENUE_WINSORIZED'])\n",
        "plt.title(\"Total Revenue after Winsorizing\", fontdict=title_font)\n",
        "\n",
        "\n",
        "plt.subplot(1, 2, 2)\n",
        "plt.boxplot(df['TOTAL_EXPENDITURE _WINSORIZED'])\n",
        "plt.title(\"Total Expenditure after Winsorizing\", fontdict=title_font)\n",
        "\n",
        "plt.show()"
      ],
      "execution_count": null,
      "outputs": [
        {
          "output_type": "display_data",
          "data": {
            "image/png": "[encoded data removed]",
            "text/plain": [
              "<Figure size 1080x432 with 2 Axes>"
            ]
          },
          "metadata": {
            "tags": [],
            "needs_background": "light"
          }
        }
      ]
    },
    {
      "cell_type": "markdown",
      "metadata": {
        "id": "56bP-oPkmwqp"
      },
      "source": [
        "**(3)** Subtract the total expenditure `TOTAL_EXPENDITURE` from the total income variable `TOTAL_REVENUE` to create a variable that can be considered as a budget deficit (without failing to contradict the outliers). Are there any outliers in this new variable? If any, clear these outliers."
      ]
    },
    {
      "cell_type": "code",
      "metadata": {
        "id": "JWtyKYtOmwqq"
      },
      "source": [
        "df['BUDGET_DEFICIT'] = df['TOTAL_REVENUE'] - df['TOTAL_EXPENDITURE']"
      ],
      "execution_count": null,
      "outputs": []
    },
    {
      "cell_type": "code",
      "metadata": {
        "colab": {
          "base_uri": "https://localhost:8080/",
          "height": 281
        },
        "id": "A4Cj0hS8snYu",
        "outputId": "4d47f6e7-71e3-4aa9-fe08-ce41d1505a8a"
      },
      "source": [
        "plt.boxplot(df['BUDGET_DEFICIT'])\n",
        "plt.title(\"Budget Deficit Outlier Analysis\", fontdict=title_font)\n",
        "plt.show()"
      ],
      "execution_count": null,
      "outputs": [
        {
          "output_type": "display_data",
          "data": {
            "image/png": "[encoded data removed]",
            "text/plain": [
              "<Figure size 432x288 with 1 Axes>"
            ]
          },
          "metadata": {
            "tags": [],
            "needs_background": "light"
          }
        }
      ]
    },
    {
      "cell_type": "code",
      "metadata": {
        "id": "nBepzH71snRP"
      },
      "source": [
        "df['BUDGET_DEFICIT_WINSORIZED']= winsorize(df.BUDGET_DEFICIT, (0.15, 0.15))"
      ],
      "execution_count": null,
      "outputs": []
    },
    {
      "cell_type": "code",
      "metadata": {
        "colab": {
          "base_uri": "https://localhost:8080/",
          "height": 281
        },
        "id": "cdkWcCzDtdcX",
        "outputId": "9c925297-9d7b-483d-a3c9-c1e7c1ef6ede"
      },
      "source": [
        "plt.boxplot(df['BUDGET_DEFICIT_WINSORIZED'])\n",
        "plt.title(\"Budget Deficit Outlier Analysis after Winsorizing\", fontdict=title_font)\n",
        "plt.show()"
      ],
      "execution_count": null,
      "outputs": [
        {
          "output_type": "display_data",
          "data": {
            "image/png": "[encoded data removed]",
            "text/plain": [
              "<Figure size 432x288 with 1 Axes>"
            ]
          },
          "metadata": {
            "tags": [],
            "needs_background": "light"
          }
        }
      ]
    },
    {
      "cell_type": "markdown",
      "metadata": {
        "id": "Urp30wKMmwqq"
      },
      "source": [
        "**(4)** Again create a variable that can be considered as a budget deficit by subtracting the total income `TOTAL_REVENUE` variable from the total expenditure `TOTAL_EXPENDITURE`. But this time, after clearing the outliers, do this. Are there any outliers in this new variable? It is useful to clean them, if any."
      ]
    },
    {
      "cell_type": "code",
      "metadata": {
        "id": "sC3WmZQomwqq"
      },
      "source": [
        "df['BUDGET_DEFICIT_SECOND'] = df['TOTAL_REVENUE_WINSORIZED'] - df['TOTAL_EXPENDITURE _WINSORIZED']"
      ],
      "execution_count": null,
      "outputs": []
    },
    {
      "cell_type": "code",
      "metadata": {
        "colab": {
          "base_uri": "https://localhost:8080/",
          "height": 281
        },
        "id": "asvS0P67uFRA",
        "outputId": "aea710af-819a-41b3-cd1f-9f51994009cb"
      },
      "source": [
        "plt.boxplot(df['BUDGET_DEFICIT_SECOND'])\n",
        "plt.title(\"Budget Deficit Outlier Analysis on Winsorized Variables\", fontdict=title_font)\n",
        "plt.show()"
      ],
      "execution_count": null,
      "outputs": [
        {
          "output_type": "display_data",
          "data": {
            "image/png": "[encoded data removed]",
            "text/plain": [
              "<Figure size 432x288 with 1 Axes>"
            ]
          },
          "metadata": {
            "tags": [],
            "needs_background": "light"
          }
        }
      ]
    },
    {
      "cell_type": "code",
      "metadata": {
        "id": "tfUCPLD6uRiF"
      },
      "source": [
        "df['BUDGET_DEFICIT_SECOND_WINSORIZED']= winsorize(df.BUDGET_DEFICIT_SECOND, (0.15, 0.15))"
      ],
      "execution_count": null,
      "outputs": []
    },
    {
      "cell_type": "code",
      "metadata": {
        "colab": {
          "base_uri": "https://localhost:8080/",
          "height": 281
        },
        "id": "gH7gFPEDuRe2",
        "outputId": "2be18290-b9f4-4b45-b44d-27fe2efafc34"
      },
      "source": [
        "plt.boxplot(df['BUDGET_DEFICIT_WINSORIZED'])\n",
        "plt.title(\"BUDGET_DEFICIT_SECOND_WINSORIZED Outlier Analysis after Winsorizing \", fontdict=title_font)\n",
        "plt.show()"
      ],
      "execution_count": null,
      "outputs": [
        {
          "output_type": "display_data",
          "data": {
            "image/png": "[encoded data removed]",
            "text/plain": [
              "<Figure size 432x288 with 1 Axes>"
            ]
          },
          "metadata": {
            "tags": [],
            "needs_background": "light"
          }
        }
      ]
    },
    {
      "cell_type": "code",
      "metadata": {
        "id": "vbMA2wuyuRcU"
      },
      "source": [
        ""
      ],
      "execution_count": null,
      "outputs": []
    },
    {
      "cell_type": "markdown",
      "metadata": {
        "id": "KXVVlLvYmwqr"
      },
      "source": [
        "**(5)** Now, we have two different budget variables that we have created in the third and fourth questions. Do you see the difference between these two?"
      ]
    },
    {
      "cell_type": "code",
      "metadata": {
        "id": "c0yjM918mwqr",
        "colab": {
          "base_uri": "https://localhost:8080/",
          "height": 293
        },
        "outputId": "2aef1ab3-826e-45e8-c32f-2ae9c157d20d"
      },
      "source": [
        "plt.figure(figsize=(15,6))\n",
        "\n",
        "plt.subplot(1, 2, 1)\n",
        "plt.boxplot(df['BUDGET_DEFICIT'])\n",
        "plt.title(\"BUDGET_DEFICIT\", fontdict=title_font)\n",
        "\n",
        "plt.subplot(1, 2, 2)\n",
        "plt.boxplot(df['BUDGET_DEFICIT_SECOND'])\n",
        "plt.title(\"BUDGET_DEFICIT_SECOND\", fontdict=title_font)\n",
        "\n",
        "plt.show()"
      ],
      "execution_count": null,
      "outputs": [
        {
          "output_type": "display_data",
          "data": {
            "image/png": "[encoded data removed]",
            "text/plain": [
              "<Figure size 1080x432 with 2 Axes>"
            ]
          },
          "metadata": {
            "tags": [],
            "needs_background": "light"
          }
        }
      ]
    },
    {
      "cell_type": "code",
      "metadata": {
        "colab": {
          "base_uri": "https://localhost:8080/",
          "height": 283
        },
        "id": "RCNCOOYVvHoe",
        "outputId": "cec10184-6762-42b5-eab3-9c816b01d97d"
      },
      "source": [
        "plt.figure(figsize=(15,6))\n",
        "\n",
        "plt.subplot(1, 2, 1)\n",
        "plt.boxplot(df['BUDGET_DEFICIT_WINSORIZED'])\n",
        "plt.title(\"BUDGET_DEFICIT_WINSORIZED\", fontdict=title_font)\n",
        "\n",
        "plt.subplot(1, 2, 2)\n",
        "plt.boxplot(df['BUDGET_DEFICIT_SECOND_WINSORIZED'])\n",
        "plt.title(\"BUDGET_DEFICIT_SECOND_WINSORIZED\", fontdict=title_font)\n",
        "\n",
        "plt.show()"
      ],
      "execution_count": null,
      "outputs": [
        {
          "output_type": "display_data",
          "data": {
            "image/png": "[encoded data removed]",
            "text/plain": [
              "<Figure size 1080x432 with 2 Axes>"
            ]
          },
          "metadata": {
            "tags": [],
            "needs_background": "light"
          }
        }
      ]
    },
    {
      "cell_type": "code",
      "metadata": {
        "id": "q9FjG43H2zQT"
      },
      "source": [
        ""
      ],
      "execution_count": null,
      "outputs": []
    },
    {
      "cell_type": "markdown",
      "metadata": {
        "id": "6zyjjRhDmwqr"
      },
      "source": [
        "**(6)** If the budget deficit was a very important variable for us, which method would be better to clear out contrary values. Is it the method you applied in the third question or the method in the fourth question?"
      ]
    },
    {
      "cell_type": "code",
      "metadata": {
        "id": "wGOgYbzH7muA"
      },
      "source": [
        "import seaborn as sns\n",
        "from scipy import stats\n",
        "from scipy.stats import norm"
      ],
      "execution_count": null,
      "outputs": []
    },
    {
      "cell_type": "code",
      "metadata": {
        "id": "UkvUQKucmwqs",
        "colab": {
          "base_uri": "https://localhost:8080/",
          "height": 253
        },
        "outputId": "df074b08-3d2a-421f-8f6e-9d3e1e71adbe"
      },
      "source": [
        "plt.figure(figsize=(15, 5))\n",
        "plt.subplot(1,2,1)\n",
        "sns.distplot(df['BUDGET_DEFICIT_WINSORIZED'],fit=norm);\n",
        "\n",
        "plt.subplot(1,2,2)\n",
        "sns.distplot(df['BUDGET_DEFICIT_SECOND_WINSORIZED'],fit=norm);\n",
        "plt.show()"
      ],
      "execution_count": null,
      "outputs": [
        {
          "output_type": "display_data",
          "data": {
            "image/png": "[encoded data removed]",
            "text/plain": [
              "<Figure size 1080x360 with 2 Axes>"
            ]
          },
          "metadata": {
            "tags": [],
            "needs_background": "light"
          }
        }
      ]
    },
    {
      "cell_type": "markdown",
      "metadata": {
        "id": "d5seDCGW_aN4"
      },
      "source": [
        "As we examined on the second plot, the budget deficit creation method after removing the outliers from the Revenue and Expenditure data had an effect on the distribution. And we can say that positive (right) skewness is beginning to be observed. In the first method, we can notice that the distribution of the data is more nearly normal. I guess it would be better to use the first method\n"
      ]
    },
    {
      "cell_type": "code",
      "metadata": {
        "id": "NjE5DVBs7jDy"
      },
      "source": [
        ""
      ],
      "execution_count": null,
      "outputs": []
    }
  ]
}