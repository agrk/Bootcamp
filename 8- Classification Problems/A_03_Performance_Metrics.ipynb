{
  "nbformat": 4,
  "nbformat_minor": 0,
  "metadata": {
    "colab": {
      "name": "A_03_Performance_Metrics.ipynb",
      "provenance": []
    },
    "kernelspec": {
      "name": "python3",
      "display_name": "Python 3"
    },
    "language_info": {
      "name": "python"
    }
  },
  "cells": [
    {
      "cell_type": "markdown",
      "metadata": {
        "id": "Vxud3uiLgBWT"
      },
      "source": [
        "In this assignment, you will measure the performance of the model you created with the Titanic data in the previous lesson. To complete this assignment, send a link to a Jupyter notebook containing solutions to the following tasks.\n",
        "\n",
        "- Evaluate the performance of your model with the metrics you have learned in this course.\n",
        "- Plot the ROC and the precision / recall curves for different \"c\" values."
      ]
    },
    {
      "cell_type": "code",
      "metadata": {
        "id": "JesYd6PnfYf1"
      },
      "source": [
        "import pandas as pd\n",
        "import numpy as np\n",
        "import matplotlib.pyplot as plt\n",
        "\n",
        "from sklearn.model_selection import train_test_split"
      ],
      "execution_count": null,
      "outputs": []
    },
    {
      "cell_type": "code",
      "metadata": {
        "colab": {
          "base_uri": "https://localhost:8080/"
        },
        "id": "gkPL9lUif2qc",
        "outputId": "d70f3c2f-f5f2-49a8-8c21-66b139eb4044"
      },
      "source": [
        "from google.colab import drive\n",
        "drive.mount('/content/drive')"
      ],
      "execution_count": null,
      "outputs": [
        {
          "output_type": "stream",
          "text": [
            "Drive already mounted at /content/drive; to attempt to forcibly remount, call drive.mount(\"/content/drive\", force_remount=True).\n"
          ],
          "name": "stdout"
        }
      ]
    },
    {
      "cell_type": "code",
      "metadata": {
        "colab": {
          "base_uri": "https://localhost:8080/",
          "height": 35
        },
        "id": "zr7vagL8f4pK",
        "outputId": "aede36c0-a20d-4eae-cc7c-555d5dac5211"
      },
      "source": [
        "import os\n",
        "os.getcwd()"
      ],
      "execution_count": null,
      "outputs": [
        {
          "output_type": "execute_result",
          "data": {
            "application/vnd.google.colaboratory.intrinsic+json": {
              "type": "string"
            },
            "text/plain": [
              "'/content'"
            ]
          },
          "metadata": {
            "tags": []
          },
          "execution_count": 3
        }
      ]
    },
    {
      "cell_type": "code",
      "metadata": {
        "id": "eZHt8thMf9mr"
      },
      "source": [
        "PATH ='/content/drive/MyDrive/Colab Notebooks/Datajarlabs/8-Classification_Problems'\n",
        "os.chdir(PATH)"
      ],
      "execution_count": null,
      "outputs": []
    },
    {
      "cell_type": "code",
      "metadata": {
        "colab": {
          "base_uri": "https://localhost:8080/",
          "height": 197
        },
        "id": "W56_4NSHf-1S",
        "outputId": "58c13b67-943f-4160-9495-9f2cc64e7f45"
      },
      "source": [
        "df = pd.read_csv('train (3).csv')\n",
        "df.head()"
      ],
      "execution_count": null,
      "outputs": [
        {
          "output_type": "execute_result",
          "data": {
            "text/html": [
              "<div>\n",
              "<style scoped>\n",
              "    .dataframe tbody tr th:only-of-type {\n",
              "        vertical-align: middle;\n",
              "    }\n",
              "\n",
              "    .dataframe tbody tr th {\n",
              "        vertical-align: top;\n",
              "    }\n",
              "\n",
              "    .dataframe thead th {\n",
              "        text-align: right;\n",
              "    }\n",
              "</style>\n",
              "<table border=\"1\" class=\"dataframe\">\n",
              "  <thead>\n",
              "    <tr style=\"text-align: right;\">\n",
              "      <th></th>\n",
              "      <th>PassengerId</th>\n",
              "      <th>Survived</th>\n",
              "      <th>Pclass</th>\n",
              "      <th>Name</th>\n",
              "      <th>Sex</th>\n",
              "      <th>Age</th>\n",
              "      <th>SibSp</th>\n",
              "      <th>Parch</th>\n",
              "      <th>Ticket</th>\n",
              "      <th>Fare</th>\n",
              "      <th>Cabin</th>\n",
              "      <th>Embarked</th>\n",
              "    </tr>\n",
              "  </thead>\n",
              "  <tbody>\n",
              "    <tr>\n",
              "      <th>0</th>\n",
              "      <td>1</td>\n",
              "      <td>0</td>\n",
              "      <td>3</td>\n",
              "      <td>Braund, Mr. Owen Harris</td>\n",
              "      <td>male</td>\n",
              "      <td>22.0</td>\n",
              "      <td>1</td>\n",
              "      <td>0</td>\n",
              "      <td>A/5 21171</td>\n",
              "      <td>7.2500</td>\n",
              "      <td>NaN</td>\n",
              "      <td>S</td>\n",
              "    </tr>\n",
              "    <tr>\n",
              "      <th>1</th>\n",
              "      <td>2</td>\n",
              "      <td>1</td>\n",
              "      <td>1</td>\n",
              "      <td>Cumings, Mrs. John Bradley (Florence Briggs Th...</td>\n",
              "      <td>female</td>\n",
              "      <td>38.0</td>\n",
              "      <td>1</td>\n",
              "      <td>0</td>\n",
              "      <td>PC 17599</td>\n",
              "      <td>71.2833</td>\n",
              "      <td>C85</td>\n",
              "      <td>C</td>\n",
              "    </tr>\n",
              "    <tr>\n",
              "      <th>2</th>\n",
              "      <td>3</td>\n",
              "      <td>1</td>\n",
              "      <td>3</td>\n",
              "      <td>Heikkinen, Miss. Laina</td>\n",
              "      <td>female</td>\n",
              "      <td>26.0</td>\n",
              "      <td>0</td>\n",
              "      <td>0</td>\n",
              "      <td>STON/O2. 3101282</td>\n",
              "      <td>7.9250</td>\n",
              "      <td>NaN</td>\n",
              "      <td>S</td>\n",
              "    </tr>\n",
              "    <tr>\n",
              "      <th>3</th>\n",
              "      <td>4</td>\n",
              "      <td>1</td>\n",
              "      <td>1</td>\n",
              "      <td>Futrelle, Mrs. Jacques Heath (Lily May Peel)</td>\n",
              "      <td>female</td>\n",
              "      <td>35.0</td>\n",
              "      <td>1</td>\n",
              "      <td>0</td>\n",
              "      <td>113803</td>\n",
              "      <td>53.1000</td>\n",
              "      <td>C123</td>\n",
              "      <td>S</td>\n",
              "    </tr>\n",
              "    <tr>\n",
              "      <th>4</th>\n",
              "      <td>5</td>\n",
              "      <td>0</td>\n",
              "      <td>3</td>\n",
              "      <td>Allen, Mr. William Henry</td>\n",
              "      <td>male</td>\n",
              "      <td>35.0</td>\n",
              "      <td>0</td>\n",
              "      <td>0</td>\n",
              "      <td>373450</td>\n",
              "      <td>8.0500</td>\n",
              "      <td>NaN</td>\n",
              "      <td>S</td>\n",
              "    </tr>\n",
              "  </tbody>\n",
              "</table>\n",
              "</div>"
            ],
            "text/plain": [
              "   PassengerId  Survived  Pclass  ...     Fare Cabin  Embarked\n",
              "0            1         0       3  ...   7.2500   NaN         S\n",
              "1            2         1       1  ...  71.2833   C85         C\n",
              "2            3         1       3  ...   7.9250   NaN         S\n",
              "3            4         1       1  ...  53.1000  C123         S\n",
              "4            5         0       3  ...   8.0500   NaN         S\n",
              "\n",
              "[5 rows x 12 columns]"
            ]
          },
          "metadata": {
            "tags": []
          },
          "execution_count": 5
        }
      ]
    },
    {
      "cell_type": "code",
      "metadata": {
        "colab": {
          "base_uri": "https://localhost:8080/"
        },
        "id": "kWZ_COGCgAIh",
        "outputId": "2dd808e9-45bd-4da4-a311-dbbf2cba2771"
      },
      "source": [
        "df.info()"
      ],
      "execution_count": null,
      "outputs": [
        {
          "output_type": "stream",
          "text": [
            "<class 'pandas.core.frame.DataFrame'>\n",
            "RangeIndex: 891 entries, 0 to 890\n",
            "Data columns (total 12 columns):\n",
            " #   Column       Non-Null Count  Dtype  \n",
            "---  ------       --------------  -----  \n",
            " 0   PassengerId  891 non-null    int64  \n",
            " 1   Survived     891 non-null    int64  \n",
            " 2   Pclass       891 non-null    int64  \n",
            " 3   Name         891 non-null    object \n",
            " 4   Sex          891 non-null    object \n",
            " 5   Age          714 non-null    float64\n",
            " 6   SibSp        891 non-null    int64  \n",
            " 7   Parch        891 non-null    int64  \n",
            " 8   Ticket       891 non-null    object \n",
            " 9   Fare         891 non-null    float64\n",
            " 10  Cabin        204 non-null    object \n",
            " 11  Embarked     889 non-null    object \n",
            "dtypes: float64(2), int64(5), object(5)\n",
            "memory usage: 83.7+ KB\n"
          ],
          "name": "stdout"
        }
      ]
    },
    {
      "cell_type": "code",
      "metadata": {
        "colab": {
          "base_uri": "https://localhost:8080/"
        },
        "id": "hRlOQRXagVvB",
        "outputId": "3d053a75-b300-494f-f59f-db3d0a2da0eb"
      },
      "source": [
        "df.isnull().sum()"
      ],
      "execution_count": null,
      "outputs": [
        {
          "output_type": "execute_result",
          "data": {
            "text/plain": [
              "PassengerId      0\n",
              "Survived         0\n",
              "Pclass           0\n",
              "Name             0\n",
              "Sex              0\n",
              "Age            177\n",
              "SibSp            0\n",
              "Parch            0\n",
              "Ticket           0\n",
              "Fare             0\n",
              "Cabin          687\n",
              "Embarked         2\n",
              "dtype: int64"
            ]
          },
          "metadata": {
            "tags": []
          },
          "execution_count": 7
        }
      ]
    },
    {
      "cell_type": "code",
      "metadata": {
        "colab": {
          "base_uri": "https://localhost:8080/"
        },
        "id": "FoDryIL-goNp",
        "outputId": "4b045f73-cac0-4989-81ae-2a3ba86a9b9f"
      },
      "source": [
        "df.nunique()"
      ],
      "execution_count": null,
      "outputs": [
        {
          "output_type": "execute_result",
          "data": {
            "text/plain": [
              "PassengerId    891\n",
              "Survived         2\n",
              "Pclass           3\n",
              "Name           891\n",
              "Sex              2\n",
              "Age             88\n",
              "SibSp            7\n",
              "Parch            7\n",
              "Ticket         681\n",
              "Fare           248\n",
              "Cabin          147\n",
              "Embarked         3\n",
              "dtype: int64"
            ]
          },
          "metadata": {
            "tags": []
          },
          "execution_count": 8
        }
      ]
    },
    {
      "cell_type": "code",
      "metadata": {
        "id": "giXfjtvJgYlh"
      },
      "source": [
        "df['Age'] = df['Age'].fillna(int(df['Age'].mean())).astype('int64')\n",
        "df['Embarked'] = df['Embarked'].fillna(df['Embarked'].value_counts().index[0])"
      ],
      "execution_count": null,
      "outputs": []
    },
    {
      "cell_type": "code",
      "metadata": {
        "id": "xwbtK62zgiDa"
      },
      "source": [
        "df.drop('PassengerId', axis=1, inplace=True)\n",
        "df.drop('Ticket', axis=1, inplace=True)\n",
        "df.drop('Cabin', axis=1, inplace=True)\n",
        "df.drop('Name', axis=1, inplace=True)"
      ],
      "execution_count": null,
      "outputs": []
    },
    {
      "cell_type": "code",
      "metadata": {
        "id": "5wwWrog9glfC"
      },
      "source": [
        "df['Sex'] = pd.get_dummies(df['Sex'], drop_first=True).rename(columns={'male':'Sex'})\n",
        "df = pd.concat([df.drop('Embarked', axis=1), pd.get_dummies(df['Embarked'], drop_first=True).rename({})], axis=1)"
      ],
      "execution_count": null,
      "outputs": []
    },
    {
      "cell_type": "code",
      "metadata": {
        "colab": {
          "base_uri": "https://localhost:8080/",
          "height": 197
        },
        "id": "TlOAzFsZgm9i",
        "outputId": "01125640-8d5d-40b9-8d60-659aaf05c1fd"
      },
      "source": [
        "df.head()"
      ],
      "execution_count": null,
      "outputs": [
        {
          "output_type": "execute_result",
          "data": {
            "text/html": [
              "<div>\n",
              "<style scoped>\n",
              "    .dataframe tbody tr th:only-of-type {\n",
              "        vertical-align: middle;\n",
              "    }\n",
              "\n",
              "    .dataframe tbody tr th {\n",
              "        vertical-align: top;\n",
              "    }\n",
              "\n",
              "    .dataframe thead th {\n",
              "        text-align: right;\n",
              "    }\n",
              "</style>\n",
              "<table border=\"1\" class=\"dataframe\">\n",
              "  <thead>\n",
              "    <tr style=\"text-align: right;\">\n",
              "      <th></th>\n",
              "      <th>Survived</th>\n",
              "      <th>Pclass</th>\n",
              "      <th>Sex</th>\n",
              "      <th>Age</th>\n",
              "      <th>SibSp</th>\n",
              "      <th>Parch</th>\n",
              "      <th>Fare</th>\n",
              "      <th>Q</th>\n",
              "      <th>S</th>\n",
              "    </tr>\n",
              "  </thead>\n",
              "  <tbody>\n",
              "    <tr>\n",
              "      <th>0</th>\n",
              "      <td>0</td>\n",
              "      <td>3</td>\n",
              "      <td>1</td>\n",
              "      <td>22</td>\n",
              "      <td>1</td>\n",
              "      <td>0</td>\n",
              "      <td>7.2500</td>\n",
              "      <td>0</td>\n",
              "      <td>1</td>\n",
              "    </tr>\n",
              "    <tr>\n",
              "      <th>1</th>\n",
              "      <td>1</td>\n",
              "      <td>1</td>\n",
              "      <td>0</td>\n",
              "      <td>38</td>\n",
              "      <td>1</td>\n",
              "      <td>0</td>\n",
              "      <td>71.2833</td>\n",
              "      <td>0</td>\n",
              "      <td>0</td>\n",
              "    </tr>\n",
              "    <tr>\n",
              "      <th>2</th>\n",
              "      <td>1</td>\n",
              "      <td>3</td>\n",
              "      <td>0</td>\n",
              "      <td>26</td>\n",
              "      <td>0</td>\n",
              "      <td>0</td>\n",
              "      <td>7.9250</td>\n",
              "      <td>0</td>\n",
              "      <td>1</td>\n",
              "    </tr>\n",
              "    <tr>\n",
              "      <th>3</th>\n",
              "      <td>1</td>\n",
              "      <td>1</td>\n",
              "      <td>0</td>\n",
              "      <td>35</td>\n",
              "      <td>1</td>\n",
              "      <td>0</td>\n",
              "      <td>53.1000</td>\n",
              "      <td>0</td>\n",
              "      <td>1</td>\n",
              "    </tr>\n",
              "    <tr>\n",
              "      <th>4</th>\n",
              "      <td>0</td>\n",
              "      <td>3</td>\n",
              "      <td>1</td>\n",
              "      <td>35</td>\n",
              "      <td>0</td>\n",
              "      <td>0</td>\n",
              "      <td>8.0500</td>\n",
              "      <td>0</td>\n",
              "      <td>1</td>\n",
              "    </tr>\n",
              "  </tbody>\n",
              "</table>\n",
              "</div>"
            ],
            "text/plain": [
              "   Survived  Pclass  Sex  Age  SibSp  Parch     Fare  Q  S\n",
              "0         0       3    1   22      1      0   7.2500  0  1\n",
              "1         1       1    0   38      1      0  71.2833  0  0\n",
              "2         1       3    0   26      0      0   7.9250  0  1\n",
              "3         1       1    0   35      1      0  53.1000  0  1\n",
              "4         0       3    1   35      0      0   8.0500  0  1"
            ]
          },
          "metadata": {
            "tags": []
          },
          "execution_count": 12
        }
      ]
    },
    {
      "cell_type": "code",
      "metadata": {
        "colab": {
          "base_uri": "https://localhost:8080/"
        },
        "id": "YaAgidGggulK",
        "outputId": "abc96995-1121-4f31-fe67-28c5e5c36092"
      },
      "source": [
        "df.isnull().sum().sum()"
      ],
      "execution_count": null,
      "outputs": [
        {
          "output_type": "execute_result",
          "data": {
            "text/plain": [
              "0"
            ]
          },
          "metadata": {
            "tags": []
          },
          "execution_count": 13
        }
      ]
    },
    {
      "cell_type": "code",
      "metadata": {
        "id": "y8NnlrFbg2yq"
      },
      "source": [
        "X = df.drop('Survived', axis=1)\n",
        "y = df['Survived']"
      ],
      "execution_count": null,
      "outputs": []
    },
    {
      "cell_type": "code",
      "metadata": {
        "id": "r9oQGaAng6wS"
      },
      "source": [
        "X_train, X_test, y_train, y_test = train_test_split(X, y, test_size=0.3, random_state=123)"
      ],
      "execution_count": null,
      "outputs": []
    },
    {
      "cell_type": "markdown",
      "metadata": {
        "id": "zya8hm64iUzC"
      },
      "source": [
        "## 1. Confusion Matrix"
      ]
    },
    {
      "cell_type": "code",
      "metadata": {
        "id": "Op0CZGnLg8ni"
      },
      "source": [
        "from sklearn.linear_model import LogisticRegression\n",
        "\n",
        "prediction_model = LogisticRegression(max_iter=1000)\n",
        "prediction_model.fit(X_train, y_train)\n",
        "\n",
        "train_prediction = prediction_model.predict(X_train)\n",
        "test_prediction = prediction_model.predict(X_test)\n",
        "\n",
        "test_prediction_probability = prediction_model.predict_proba(X_test)[:,1]"
      ],
      "execution_count": null,
      "outputs": []
    },
    {
      "cell_type": "code",
      "metadata": {
        "id": "zgpHLEAMhG8s"
      },
      "source": [
        "from sklearn.metrics import confusion_matrix\n",
        "\n",
        "confusion_matrix_train = confusion_matrix(y_train, train_prediction)\n",
        "confusion_matrix_test = confusion_matrix(y_test, test_prediction)"
      ],
      "execution_count": null,
      "outputs": []
    },
    {
      "cell_type": "code",
      "metadata": {
        "colab": {
          "base_uri": "https://localhost:8080/"
        },
        "id": "3vR13VOWhOmh",
        "outputId": "98e6d491-27d9-4cc1-8070-a16564fe7304"
      },
      "source": [
        "print(\"Confusion Matrix (Train Data)\", \"-\"*30, confusion_matrix_train, sep=\"\\n\")\n",
        "print(\"\\n\\nConfusion Matrix (Test Data)\", \"-\"*30, confusion_matrix_test, sep=\"\\n\")"
      ],
      "execution_count": null,
      "outputs": [
        {
          "output_type": "stream",
          "text": [
            "Confusion Matrix (Train Data)\n",
            "------------------------------\n",
            "[[319  60]\n",
            " [ 67 177]]\n",
            "\n",
            "\n",
            "Confusion Matrix (Test Data)\n",
            "------------------------------\n",
            "[[140  30]\n",
            " [ 26  72]]\n"
          ],
          "name": "stdout"
        }
      ]
    },
    {
      "cell_type": "code",
      "metadata": {
        "colab": {
          "base_uri": "https://localhost:8080/"
        },
        "id": "yztzNvt4hSdK",
        "outputId": "a93555e3-4913-419b-d2d1-4bf2053501cb"
      },
      "source": [
        "TN = confusion_matrix_test[0][0]\n",
        "TP = confusion_matrix_test[1][1]\n",
        "FN = confusion_matrix_test[1][0]\n",
        "FP = confusion_matrix_test[0][1]\n",
        "\n",
        "print(\"True negative amount  :\", TN)\n",
        "print(\"True positive amount  :\", TP)\n",
        "print(\"False positive amount :\", FP)\n",
        "print(\"False negative amount :\", FN)"
      ],
      "execution_count": null,
      "outputs": [
        {
          "output_type": "stream",
          "text": [
            "True negative amount  : 140\n",
            "True positive amount  : 72\n",
            "False positive amount : 30\n",
            "False negative amount : 26\n"
          ],
          "name": "stdout"
        }
      ]
    },
    {
      "cell_type": "markdown",
      "metadata": {
        "id": "ELLWehKshdPi"
      },
      "source": [
        "### 1.1 Accuracy"
      ]
    },
    {
      "cell_type": "code",
      "metadata": {
        "colab": {
          "base_uri": "https://localhost:8080/"
        },
        "id": "fbsKPVhYhXNi",
        "outputId": "6d153c4b-831e-4291-d726-b4636e2d3c1b"
      },
      "source": [
        "from sklearn.metrics import accuracy_score\n",
        "\n",
        "print(\"Accuracy value by the model   : \",  prediction_model.score(X_test, y_test))\n",
        "print(\"Calculated accuracy value     : \",  (TN + TP)/(FN + FP + TN + TP))\n",
        "print(\"accuracy_score() value        : \",  accuracy_score(y_test, test_prediction))\n"
      ],
      "execution_count": null,
      "outputs": [
        {
          "output_type": "stream",
          "text": [
            "Accuracy value by the model   :  0.7910447761194029\n",
            "Calculated accuracy value     :  0.7910447761194029\n",
            "accuracy_score() value        :  0.7910447761194029\n"
          ],
          "name": "stdout"
        }
      ]
    },
    {
      "cell_type": "markdown",
      "metadata": {
        "id": "tYOantx_hqU6"
      },
      "source": [
        "### 1.2 Precision"
      ]
    },
    {
      "cell_type": "code",
      "metadata": {
        "colab": {
          "base_uri": "https://localhost:8080/"
        },
        "id": "OXQ5nl6hhnlj",
        "outputId": "ae3dfdc1-3132-4cc4-f6f0-568e8a29d571"
      },
      "source": [
        "from sklearn.metrics import precision_score\n",
        "\n",
        "print(\"Calculated precision value   : \",  (TP)/(FP + TP))\n",
        "print(\"precision_score() value      : \",  precision_score(y_test, test_prediction))"
      ],
      "execution_count": null,
      "outputs": [
        {
          "output_type": "stream",
          "text": [
            "Calculated precision value   :  0.7058823529411765\n",
            "precision_score() value      :  0.7058823529411765\n"
          ],
          "name": "stdout"
        }
      ]
    },
    {
      "cell_type": "markdown",
      "metadata": {
        "id": "z7FcDG14hzKK"
      },
      "source": [
        "### 1.3. Recall / Sensitivity"
      ]
    },
    {
      "cell_type": "code",
      "metadata": {
        "colab": {
          "base_uri": "https://localhost:8080/"
        },
        "id": "_oJc8eRthyIi",
        "outputId": "b7952c36-faed-4cf5-df71-ed172249f724"
      },
      "source": [
        "from sklearn.metrics import recall_score\n",
        "\n",
        "print(\"Calculated recall value   : \",  (TP)/(TP + FN))\n",
        "print(\"recall_score() value      : \",  recall_score(y_test, test_prediction))"
      ],
      "execution_count": null,
      "outputs": [
        {
          "output_type": "stream",
          "text": [
            "Calculated recall value   :  0.7346938775510204\n",
            "recall_score() value      :  0.7346938775510204\n"
          ],
          "name": "stdout"
        }
      ]
    },
    {
      "cell_type": "markdown",
      "metadata": {
        "id": "iAX84DFuiCwq"
      },
      "source": [
        "### 1.4 Specificity"
      ]
    },
    {
      "cell_type": "code",
      "metadata": {
        "colab": {
          "base_uri": "https://localhost:8080/"
        },
        "id": "86EGpcTciA86",
        "outputId": "ee243647-a4c7-4da6-d3b6-fd3c1d5e9010"
      },
      "source": [
        "print(\"Calculated specificity value   : \",  (TN)/(TN + FP))"
      ],
      "execution_count": null,
      "outputs": [
        {
          "output_type": "stream",
          "text": [
            "Calculated specificity value   :  0.8235294117647058\n"
          ],
          "name": "stdout"
        }
      ]
    },
    {
      "cell_type": "markdown",
      "metadata": {
        "id": "sN1d2Y1AiL7x"
      },
      "source": [
        "### 1.5 F1 Score"
      ]
    },
    {
      "cell_type": "code",
      "metadata": {
        "colab": {
          "base_uri": "https://localhost:8080/"
        },
        "id": "oAU9YXQLiKVZ",
        "outputId": "b90b672d-6909-4e55-f6ab-b7ad6e5ad045"
      },
      "source": [
        "from sklearn.metrics import f1_score\n",
        "\n",
        "precision = precision_score(y_test, test_prediction)\n",
        "recall = recall_score(y_test, test_prediction)\n",
        "\n",
        "\n",
        "print(\"Calculated F1 score  : \",  2*((recall*precision)/(recall + precision)))\n",
        "print(\"f1_score() value     : \",  f1_score(y_test, test_prediction))"
      ],
      "execution_count": null,
      "outputs": [
        {
          "output_type": "stream",
          "text": [
            "Calculated F1 score  :  0.7200000000000001\n",
            "f1_score() value     :  0.7200000000000001\n"
          ],
          "name": "stdout"
        }
      ]
    },
    {
      "cell_type": "code",
      "metadata": {
        "colab": {
          "base_uri": "https://localhost:8080/"
        },
        "id": "ZCF9QaqmiQGr",
        "outputId": "851cba22-7212-441a-e8c0-2aed6fb94933"
      },
      "source": [
        "from sklearn.metrics import classification_report, precision_recall_fscore_support\n",
        "\n",
        "print(classification_report(y_test, test_prediction))\n",
        "\n",
        "print(\"f1_score() value        : {:.2f}\".format(f1_score(y_test, test_prediction)))\n",
        "print(\"recall_score() value    : {:.2f}\".format(recall_score(y_test, test_prediction)))\n",
        "print(\"precision_score() value : {:.2f}\".format(precision_score(y_test, test_prediction)))\n",
        "print('\\n')\n",
        "\n",
        "metrics = precision_recall_fscore_support(y_test, test_prediction)\n",
        "print(\"Precision  :\" , metrics[0]) \n",
        "print(\"Recall     :\" , metrics[1]) \n",
        "print(\"F1 Score   :\" , metrics[2]) "
      ],
      "execution_count": null,
      "outputs": [
        {
          "output_type": "stream",
          "text": [
            "              precision    recall  f1-score   support\n",
            "\n",
            "           0       0.84      0.82      0.83       170\n",
            "           1       0.71      0.73      0.72        98\n",
            "\n",
            "    accuracy                           0.79       268\n",
            "   macro avg       0.77      0.78      0.78       268\n",
            "weighted avg       0.79      0.79      0.79       268\n",
            "\n",
            "f1_score() value        : 0.72\n",
            "recall_score() value    : 0.73\n",
            "precision_score() value : 0.71\n",
            "\n",
            "\n",
            "Precision  : [0.84337349 0.70588235]\n",
            "Recall     : [0.82352941 0.73469388]\n",
            "F1 Score   : [0.83333333 0.72      ]\n"
          ],
          "name": "stdout"
        }
      ]
    },
    {
      "cell_type": "code",
      "metadata": {
        "id": "AIzVIgBhiRkB"
      },
      "source": [
        ""
      ],
      "execution_count": null,
      "outputs": []
    },
    {
      "cell_type": "markdown",
      "metadata": {
        "id": "mb8WyeQriZad"
      },
      "source": [
        "## 2. ROC Curve (ROC / AUC)"
      ]
    },
    {
      "cell_type": "code",
      "metadata": {
        "id": "UJca9DA2oO8L"
      },
      "source": [
        "from sklearn.metrics import roc_curve, roc_auc_score\n"
      ],
      "execution_count": null,
      "outputs": []
    },
    {
      "cell_type": "code",
      "metadata": {
        "id": "bNGuxF-7idAj"
      },
      "source": [
        "test_prediction_proba = prediction_model.predict_proba(X_test)[:,1]"
      ],
      "execution_count": null,
      "outputs": []
    },
    {
      "cell_type": "code",
      "metadata": {
        "colab": {
          "base_uri": "https://localhost:8080/",
          "height": 621
        },
        "id": "_gog50u6ifpi",
        "outputId": "a6f23e01-011c-48b9-fc34-641aecb8a2c0"
      },
      "source": [
        " plt.figure(figsize=(18, 10))\n",
        "for i in range(-4, 4, 1):\n",
        "    plt.subplot(2, 4, i+5)\n",
        "    log_reg = LogisticRegression(max_iter=1000, C=10**i)\n",
        "    log_reg.fit(X_train, y_train)\n",
        "    test_prediction_proba = log_reg.predict_proba(X_test)[:,1]\n",
        "    fpr, tpr, thresholds = roc_curve(y_test, test_prediction_proba)\n",
        "    \n",
        "    plt.plot([0, 1], [0, 1], 'k--')\n",
        "    plt.plot(fpr, tpr)\n",
        "    \n",
        "    plt.xlabel('False Positive Ratio')\n",
        "    plt.ylabel('True Positive Ratio')\n",
        "    plt.title('ROC Curve (C={})'.format(10**i))\n",
        "\n",
        "plt.show()"
      ],
      "execution_count": null,
      "outputs": [
        {
          "output_type": "display_data",
          "data": {
            "image/png": "[encoded data removed]",
            "text/plain": [
              "<Figure size 1296x720 with 8 Axes>"
            ]
          },
          "metadata": {
            "tags": [],
            "needs_background": "light"
          }
        }
      ]
    },
    {
      "cell_type": "code",
      "metadata": {
        "colab": {
          "base_uri": "https://localhost:8080/"
        },
        "id": "XWRy8EU5ii1L",
        "outputId": "891bddfe-7fb4-4788-e2ab-c0a2f4757066"
      },
      "source": [
        "for i in range(-4, 4, 1):\n",
        "    lr = LogisticRegression(max_iter=1000, C=10**i)\n",
        "    lr.fit(X_train, y_train)\n",
        "    test_prediction_proba = lr.predict_proba(X_test)[:,1]\n",
        "    print('AUC value (C={}): {:.5f}'.format((10**i), roc_auc_score(y_test, test_prediction_proba)))"
      ],
      "execution_count": null,
      "outputs": [
        {
          "output_type": "stream",
          "text": [
            "AUC value (C=0.0001): 0.70702\n",
            "AUC value (C=0.001): 0.72515\n",
            "AUC value (C=0.01): 0.83265\n",
            "AUC value (C=0.1): 0.85924\n",
            "AUC value (C=1): 0.85900\n",
            "AUC value (C=10): 0.85912\n",
            "AUC value (C=100): 0.85918\n",
            "AUC value (C=1000): 0.85912\n"
          ],
          "name": "stdout"
        }
      ]
    },
    {
      "cell_type": "code",
      "metadata": {
        "id": "go9mCd_ajh47"
      },
      "source": [
        ""
      ],
      "execution_count": null,
      "outputs": []
    },
    {
      "cell_type": "markdown",
      "metadata": {
        "id": "sp8nJrbKjipi"
      },
      "source": [
        "## 3. Precision / Recall Curve"
      ]
    },
    {
      "cell_type": "code",
      "metadata": {
        "colab": {
          "base_uri": "https://localhost:8080/",
          "height": 621
        },
        "id": "gbYi4PqUjpsb",
        "outputId": "26ac9dfe-6c12-464c-f749-e1190f107897"
      },
      "source": [
        "from sklearn.metrics import precision_recall_curve\n",
        "\n",
        "plt.figure(figsize=(20, 10))\n",
        "for i in range(-4, 4, 1):\n",
        "    plt.subplot(2, 4, i+5)\n",
        "    lr = LogisticRegression(max_iter=1000, C=10**i)\n",
        "    lr.fit(X_train, y_train)\n",
        "    test_prediction_proba = lr.predict_proba(X_test)[:,1]\n",
        "    precision, recall, _ = precision_recall_curve(y_test, test_prediction_proba)\n",
        "    \n",
        "    plt.plot(recall, precision)\n",
        "\n",
        "    plt.xlabel('Recall')\n",
        "    plt.ylabel('Precision')\n",
        "    plt.title('Precision / Recall Curve (C={})'.format(10**i))\n",
        "\n",
        "\n",
        "plt.show()"
      ],
      "execution_count": null,
      "outputs": [
        {
          "output_type": "display_data",
          "data": {
            "image/png": "[encoded data removed]",
            "text/plain": [
              "<Figure size 1440x720 with 8 Axes>"
            ]
          },
          "metadata": {
            "tags": [],
            "needs_background": "light"
          }
        }
      ]
    },
    {
      "cell_type": "code",
      "metadata": {
        "id": "jVDCxUeJjsLD"
      },
      "source": [
        ""
      ],
      "execution_count": null,
      "outputs": []
    }
  ]
}