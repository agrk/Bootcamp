{
  "nbformat": 4,
  "nbformat_minor": 0,
  "metadata": {
    "colab": {
      "name": "A_04_Imbalanced_Data.ipynb",
      "provenance": [],
      "collapsed_sections": []
    },
    "kernelspec": {
      "name": "python3",
      "display_name": "Python 3"
    },
    "language_info": {
      "name": "python"
    }
  },
  "cells": [
    {
      "cell_type": "markdown",
      "metadata": {
        "id": "nwUpEaOOtuKt"
      },
      "source": [
        "Using the dataset for the risk of heart attack with class imbalance:\n",
        "\n",
        "1. Create a logistic regression model and measure the performance of it.\n",
        "2. By experimenting with different methods and class ratios; overcome class imbalance, determine the best performing method and class ratio."
      ]
    },
    {
      "cell_type": "code",
      "metadata": {
        "id": "71kgcezntX2x"
      },
      "source": [
        "import pandas as pd\n",
        "import numpy as np\n",
        "from sklearn.model_selection import train_test_split\n",
        "\n",
        "\n",
        "import seaborn as sns\n",
        "\n",
        "import warnings\n",
        "warnings.filterwarnings('ignore')"
      ],
      "execution_count": null,
      "outputs": []
    },
    {
      "cell_type": "code",
      "metadata": {
        "colab": {
          "base_uri": "https://localhost:8080/"
        },
        "id": "HfKAyBnjwCsu",
        "outputId": "3a2fbb5f-c3b5-48d6-86da-e57880cfba8c"
      },
      "source": [
        "from google.colab import drive\n",
        "drive.mount('/content/drive')"
      ],
      "execution_count": null,
      "outputs": [
        {
          "output_type": "stream",
          "text": [
            "Drive already mounted at /content/drive; to attempt to forcibly remount, call drive.mount(\"/content/drive\", force_remount=True).\n"
          ],
          "name": "stdout"
        }
      ]
    },
    {
      "cell_type": "code",
      "metadata": {
        "colab": {
          "base_uri": "https://localhost:8080/",
          "height": 35
        },
        "id": "CRwrr4eGwFdE",
        "outputId": "10a5e8cd-29fd-4e1b-be8e-7738f70217c7"
      },
      "source": [
        "import os\n",
        "os.getcwd()"
      ],
      "execution_count": null,
      "outputs": [
        {
          "output_type": "execute_result",
          "data": {
            "application/vnd.google.colaboratory.intrinsic+json": {
              "type": "string"
            },
            "text/plain": [
              "'/content'"
            ]
          },
          "metadata": {
            "tags": []
          },
          "execution_count": 3
        }
      ]
    },
    {
      "cell_type": "code",
      "metadata": {
        "id": "FDQvDnOUwFae"
      },
      "source": [
        "PATH ='/content/drive/MyDrive/Colab Notebooks/Datajarlabs/8-Classification_Problems'\n",
        "os.chdir(PATH)"
      ],
      "execution_count": null,
      "outputs": []
    },
    {
      "cell_type": "code",
      "metadata": {
        "colab": {
          "base_uri": "https://localhost:8080/",
          "height": 204
        },
        "id": "cJtehsecwFX8",
        "outputId": "f6d85ead-a4ad-4527-ff7a-74b72674e72f"
      },
      "source": [
        "df = pd.read_csv('cleveland.csv',sep= ';')\n",
        "df.head()"
      ],
      "execution_count": null,
      "outputs": [
        {
          "output_type": "execute_result",
          "data": {
            "text/html": [
              "<div>\n",
              "<style scoped>\n",
              "    .dataframe tbody tr th:only-of-type {\n",
              "        vertical-align: middle;\n",
              "    }\n",
              "\n",
              "    .dataframe tbody tr th {\n",
              "        vertical-align: top;\n",
              "    }\n",
              "\n",
              "    .dataframe thead th {\n",
              "        text-align: right;\n",
              "    }\n",
              "</style>\n",
              "<table border=\"1\" class=\"dataframe\">\n",
              "  <thead>\n",
              "    <tr style=\"text-align: right;\">\n",
              "      <th></th>\n",
              "      <th>age</th>\n",
              "      <th>sex</th>\n",
              "      <th>cp</th>\n",
              "      <th>trestbps</th>\n",
              "      <th>chol</th>\n",
              "      <th>fbs</th>\n",
              "      <th>restecg</th>\n",
              "      <th>thalach</th>\n",
              "      <th>exang</th>\n",
              "      <th>oldpeak</th>\n",
              "      <th>slope</th>\n",
              "      <th>ca</th>\n",
              "      <th>thal</th>\n",
              "      <th>target</th>\n",
              "    </tr>\n",
              "  </thead>\n",
              "  <tbody>\n",
              "    <tr>\n",
              "      <th>0</th>\n",
              "      <td>63.0</td>\n",
              "      <td>1.0</td>\n",
              "      <td>1.0</td>\n",
              "      <td>145.0</td>\n",
              "      <td>233.0</td>\n",
              "      <td>1.0</td>\n",
              "      <td>2.0</td>\n",
              "      <td>150.0</td>\n",
              "      <td>0.0</td>\n",
              "      <td>2.3</td>\n",
              "      <td>3.0</td>\n",
              "      <td>0.0</td>\n",
              "      <td>6.0</td>\n",
              "      <td>negative</td>\n",
              "    </tr>\n",
              "    <tr>\n",
              "      <th>1</th>\n",
              "      <td>37.0</td>\n",
              "      <td>1.0</td>\n",
              "      <td>3.0</td>\n",
              "      <td>130.0</td>\n",
              "      <td>250.0</td>\n",
              "      <td>0.0</td>\n",
              "      <td>0.0</td>\n",
              "      <td>187.0</td>\n",
              "      <td>0.0</td>\n",
              "      <td>3.5</td>\n",
              "      <td>3.0</td>\n",
              "      <td>0.0</td>\n",
              "      <td>3.0</td>\n",
              "      <td>negative</td>\n",
              "    </tr>\n",
              "    <tr>\n",
              "      <th>2</th>\n",
              "      <td>41.0</td>\n",
              "      <td>0.0</td>\n",
              "      <td>2.0</td>\n",
              "      <td>130.0</td>\n",
              "      <td>204.0</td>\n",
              "      <td>0.0</td>\n",
              "      <td>2.0</td>\n",
              "      <td>172.0</td>\n",
              "      <td>0.0</td>\n",
              "      <td>1.4</td>\n",
              "      <td>1.0</td>\n",
              "      <td>0.0</td>\n",
              "      <td>3.0</td>\n",
              "      <td>negative</td>\n",
              "    </tr>\n",
              "    <tr>\n",
              "      <th>3</th>\n",
              "      <td>56.0</td>\n",
              "      <td>1.0</td>\n",
              "      <td>2.0</td>\n",
              "      <td>120.0</td>\n",
              "      <td>236.0</td>\n",
              "      <td>0.0</td>\n",
              "      <td>0.0</td>\n",
              "      <td>178.0</td>\n",
              "      <td>0.0</td>\n",
              "      <td>0.8</td>\n",
              "      <td>1.0</td>\n",
              "      <td>0.0</td>\n",
              "      <td>3.0</td>\n",
              "      <td>negative</td>\n",
              "    </tr>\n",
              "    <tr>\n",
              "      <th>4</th>\n",
              "      <td>57.0</td>\n",
              "      <td>0.0</td>\n",
              "      <td>4.0</td>\n",
              "      <td>120.0</td>\n",
              "      <td>354.0</td>\n",
              "      <td>0.0</td>\n",
              "      <td>0.0</td>\n",
              "      <td>163.0</td>\n",
              "      <td>1.0</td>\n",
              "      <td>0.6</td>\n",
              "      <td>1.0</td>\n",
              "      <td>0.0</td>\n",
              "      <td>3.0</td>\n",
              "      <td>negative</td>\n",
              "    </tr>\n",
              "  </tbody>\n",
              "</table>\n",
              "</div>"
            ],
            "text/plain": [
              "    age  sex   cp  trestbps   chol  ...  oldpeak  slope   ca  thal    target\n",
              "0  63.0  1.0  1.0     145.0  233.0  ...      2.3    3.0  0.0   6.0  negative\n",
              "1  37.0  1.0  3.0     130.0  250.0  ...      3.5    3.0  0.0   3.0  negative\n",
              "2  41.0  0.0  2.0     130.0  204.0  ...      1.4    1.0  0.0   3.0  negative\n",
              "3  56.0  1.0  2.0     120.0  236.0  ...      0.8    1.0  0.0   3.0  negative\n",
              "4  57.0  0.0  4.0     120.0  354.0  ...      0.6    1.0  0.0   3.0  negative\n",
              "\n",
              "[5 rows x 14 columns]"
            ]
          },
          "metadata": {
            "tags": []
          },
          "execution_count": 5
        }
      ]
    },
    {
      "cell_type": "code",
      "metadata": {
        "id": "NpAngGLKwFK8",
        "colab": {
          "base_uri": "https://localhost:8080/"
        },
        "outputId": "e248ebcc-c84d-448c-cd31-bbdd74b52abf"
      },
      "source": [
        "df.info()"
      ],
      "execution_count": null,
      "outputs": [
        {
          "output_type": "stream",
          "text": [
            "<class 'pandas.core.frame.DataFrame'>\n",
            "RangeIndex: 177 entries, 0 to 176\n",
            "Data columns (total 14 columns):\n",
            " #   Column    Non-Null Count  Dtype  \n",
            "---  ------    --------------  -----  \n",
            " 0   age       177 non-null    float64\n",
            " 1   sex       177 non-null    float64\n",
            " 2   cp        177 non-null    float64\n",
            " 3   trestbps  177 non-null    float64\n",
            " 4   chol      177 non-null    float64\n",
            " 5   fbs       177 non-null    float64\n",
            " 6   restecg   177 non-null    float64\n",
            " 7   thalach   177 non-null    float64\n",
            " 8   exang     177 non-null    float64\n",
            " 9   oldpeak   177 non-null    float64\n",
            " 10  slope     177 non-null    float64\n",
            " 11  ca        177 non-null    object \n",
            " 12  thal      177 non-null    object \n",
            " 13  target    177 non-null    object \n",
            "dtypes: float64(11), object(3)\n",
            "memory usage: 19.5+ KB\n"
          ],
          "name": "stdout"
        }
      ]
    },
    {
      "cell_type": "code",
      "metadata": {
        "id": "YZImvL14wFIN",
        "colab": {
          "base_uri": "https://localhost:8080/"
        },
        "outputId": "0633e71b-ae3a-4656-93a6-23de6a73bc49"
      },
      "source": [
        "for column_name in df.columns:\n",
        "    print(\"{} unique values in column : {}\".format(column_name, df[column_name].unique()[0:10]))\n",
        "    print(\"-\" * 30)"
      ],
      "execution_count": null,
      "outputs": [
        {
          "output_type": "stream",
          "text": [
            "age unique values in column : [63. 37. 41. 56. 57. 44. 52. 54. 48. 49.]\n",
            "------------------------------\n",
            "sex unique values in column : [1. 0.]\n",
            "------------------------------\n",
            "cp unique values in column : [1. 3. 2. 4.]\n",
            "------------------------------\n",
            "trestbps unique values in column : [145. 130. 120. 140. 172. 110. 150. 135. 160. 105.]\n",
            "------------------------------\n",
            "chol unique values in column : [233. 250. 204. 236. 354. 192. 294. 263. 199. 239.]\n",
            "------------------------------\n",
            "fbs unique values in column : [1. 0.]\n",
            "------------------------------\n",
            "restecg unique values in column : [2. 0. 1.]\n",
            "------------------------------\n",
            "thalach unique values in column : [150. 187. 172. 178. 163. 148. 153. 173. 162. 160.]\n",
            "------------------------------\n",
            "exang unique values in column : [0. 1.]\n",
            "------------------------------\n",
            "oldpeak unique values in column : [2.3 3.5 1.4 0.8 0.6 0.4 1.3 0.  0.5 1.2]\n",
            "------------------------------\n",
            "slope unique values in column : [3. 1. 2.]\n",
            "------------------------------\n",
            "ca unique values in column : ['0.0' '2.0' '1.0' '3.0' '<null>']\n",
            "------------------------------\n",
            "thal unique values in column : ['6.0' '3.0' '7.0' '<null>']\n",
            "------------------------------\n",
            "target unique values in column : ['negative' 'positive']\n",
            "------------------------------\n"
          ],
          "name": "stdout"
        }
      ]
    },
    {
      "cell_type": "code",
      "metadata": {
        "colab": {
          "base_uri": "https://localhost:8080/"
        },
        "id": "B1I4c46unJPw",
        "outputId": "bbe2519e-15c2-43d9-e621-eed08a2a4c95"
      },
      "source": [
        "df['ca'].value_counts()"
      ],
      "execution_count": null,
      "outputs": [
        {
          "output_type": "execute_result",
          "data": {
            "text/plain": [
              "0.0       133\n",
              "1.0        24\n",
              "2.0         9\n",
              "3.0         8\n",
              "<null>      3\n",
              "Name: ca, dtype: int64"
            ]
          },
          "metadata": {
            "tags": []
          },
          "execution_count": 8
        }
      ]
    },
    {
      "cell_type": "code",
      "metadata": {
        "id": "LI3H_9qenRu3"
      },
      "source": [
        "# change value by most repetitive\n",
        "df['ca'].replace({'<null>':'0.0'}, inplace=True)\n",
        "df['ca'] = df['ca'].astype('float')"
      ],
      "execution_count": null,
      "outputs": []
    },
    {
      "cell_type": "code",
      "metadata": {
        "colab": {
          "base_uri": "https://localhost:8080/"
        },
        "id": "tAZvCmrCnUpP",
        "outputId": "f522dbd3-c9fa-4c63-898a-a2c87c0cf21f"
      },
      "source": [
        "df['thal'].value_counts()"
      ],
      "execution_count": null,
      "outputs": [
        {
          "output_type": "execute_result",
          "data": {
            "text/plain": [
              "3.0       131\n",
              "7.0        37\n",
              "6.0         8\n",
              "<null>      1\n",
              "Name: thal, dtype: int64"
            ]
          },
          "metadata": {
            "tags": []
          },
          "execution_count": 10
        }
      ]
    },
    {
      "cell_type": "code",
      "metadata": {
        "id": "gI8clK_RnhUH"
      },
      "source": [
        "# change value by most repetitive\n",
        "df['thal'].replace({'<null>':'3.0'}, inplace=True)\n",
        "df['thal'] = df['thal'].astype('float')"
      ],
      "execution_count": null,
      "outputs": []
    },
    {
      "cell_type": "code",
      "metadata": {
        "colab": {
          "base_uri": "https://localhost:8080/"
        },
        "id": "VqjedxECnYNf",
        "outputId": "c8b4ac85-99da-4d47-a669-c28dff6ed75f"
      },
      "source": [
        "print(df['ca'].unique())\n",
        "print(df['thal'].unique())"
      ],
      "execution_count": null,
      "outputs": [
        {
          "output_type": "stream",
          "text": [
            "[0. 2. 1. 3.]\n",
            "[6. 3. 7.]\n"
          ],
          "name": "stdout"
        }
      ]
    },
    {
      "cell_type": "code",
      "metadata": {
        "colab": {
          "base_uri": "https://localhost:8080/"
        },
        "id": "ppfsnwHtnxQe",
        "outputId": "9a92f1ef-65f8-4f27-8c50-0a2aeab792d7"
      },
      "source": [
        "df.info()"
      ],
      "execution_count": null,
      "outputs": [
        {
          "output_type": "stream",
          "text": [
            "<class 'pandas.core.frame.DataFrame'>\n",
            "RangeIndex: 177 entries, 0 to 176\n",
            "Data columns (total 14 columns):\n",
            " #   Column    Non-Null Count  Dtype  \n",
            "---  ------    --------------  -----  \n",
            " 0   age       177 non-null    float64\n",
            " 1   sex       177 non-null    float64\n",
            " 2   cp        177 non-null    float64\n",
            " 3   trestbps  177 non-null    float64\n",
            " 4   chol      177 non-null    float64\n",
            " 5   fbs       177 non-null    float64\n",
            " 6   restecg   177 non-null    float64\n",
            " 7   thalach   177 non-null    float64\n",
            " 8   exang     177 non-null    float64\n",
            " 9   oldpeak   177 non-null    float64\n",
            " 10  slope     177 non-null    float64\n",
            " 11  ca        177 non-null    float64\n",
            " 12  thal      177 non-null    float64\n",
            " 13  target    177 non-null    object \n",
            "dtypes: float64(13), object(1)\n",
            "memory usage: 19.5+ KB\n"
          ],
          "name": "stdout"
        }
      ]
    },
    {
      "cell_type": "code",
      "metadata": {
        "colab": {
          "base_uri": "https://localhost:8080/",
          "height": 296
        },
        "id": "6RdmFowHn-hO",
        "outputId": "c8df5c01-9d27-458a-d738-e8d416ed51a9"
      },
      "source": [
        "sns.countplot(df.target)"
      ],
      "execution_count": null,
      "outputs": [
        {
          "output_type": "execute_result",
          "data": {
            "text/plain": [
              "<matplotlib.axes._subplots.AxesSubplot at 0x7f72c7822610>"
            ]
          },
          "metadata": {
            "tags": []
          },
          "execution_count": 14
        },
        {
          "output_type": "display_data",
          "data": {
            "image/png": "[encoded data removed]",
            "text/plain": [
              "<Figure size 432x288 with 1 Axes>"
            ]
          },
          "metadata": {
            "tags": [],
            "needs_background": "light"
          }
        }
      ]
    },
    {
      "cell_type": "code",
      "metadata": {
        "colab": {
          "base_uri": "https://localhost:8080/"
        },
        "id": "baOJIpGLoMsO",
        "outputId": "36c33862-e9aa-4233-85c2-52d248b956fa"
      },
      "source": [
        "countNoDisease = len(df[df.target == 'negative'])\n",
        "countHaveDisease = len(df[df.target == 'positive'])\n",
        "print(\"Percentage of Patients Haven't Heart Disease: {:.2f}%\".format((countNoDisease / (len(df.target))*100)))\n",
        "print(\"Percentage of Patients Have Heart Disease: {:.2f}%\".format((countHaveDisease / (len(df.target))*100)))"
      ],
      "execution_count": null,
      "outputs": [
        {
          "output_type": "stream",
          "text": [
            "Percentage of Patients Haven't Heart Disease: 92.66%\n",
            "Percentage of Patients Have Heart Disease: 7.34%\n"
          ],
          "name": "stdout"
        }
      ]
    },
    {
      "cell_type": "code",
      "metadata": {
        "id": "VNCfZjcPolGP"
      },
      "source": [
        "from sklearn.model_selection import train_test_split\n",
        "from sklearn.linear_model import LogisticRegression\n",
        "from sklearn.metrics import confusion_matrix\n",
        "from sklearn.metrics import classification_report"
      ],
      "execution_count": null,
      "outputs": []
    },
    {
      "cell_type": "code",
      "metadata": {
        "id": "2a-zGVaNo2Fv"
      },
      "source": [
        "X = df.drop('target', axis=1)\n",
        "y = df['target']"
      ],
      "execution_count": null,
      "outputs": []
    },
    {
      "cell_type": "code",
      "metadata": {
        "colab": {
          "base_uri": "https://localhost:8080/"
        },
        "id": "tp47hNx-o_mH",
        "outputId": "f7b7f686-d0f9-4b45-8f82-3b2bdf71aaec"
      },
      "source": [
        "y.value_counts()"
      ],
      "execution_count": null,
      "outputs": [
        {
          "output_type": "execute_result",
          "data": {
            "text/plain": [
              "negative    164\n",
              "positive     13\n",
              "Name: target, dtype: int64"
            ]
          },
          "metadata": {
            "tags": []
          },
          "execution_count": 18
        }
      ]
    },
    {
      "cell_type": "code",
      "metadata": {
        "id": "CXLHjL_9pBmH"
      },
      "source": [
        "X_train, X_test, y_train, y_test =  train_test_split(X, y, test_size=0.20, random_state=111, stratify = y)\n"
      ],
      "execution_count": null,
      "outputs": []
    },
    {
      "cell_type": "code",
      "metadata": {
        "colab": {
          "base_uri": "https://localhost:8080/"
        },
        "id": "SMlMsoIcpMLG",
        "outputId": "ba00719d-55cd-49eb-8d43-ff346c089945"
      },
      "source": [
        "log_reg = LogisticRegression(max_iter= 1000)\n",
        "log_reg.fit(X_train, y_train)"
      ],
      "execution_count": null,
      "outputs": [
        {
          "output_type": "execute_result",
          "data": {
            "text/plain": [
              "LogisticRegression(C=1.0, class_weight=None, dual=False, fit_intercept=True,\n",
              "                   intercept_scaling=1, l1_ratio=None, max_iter=1000,\n",
              "                   multi_class='auto', n_jobs=None, penalty='l2',\n",
              "                   random_state=None, solver='lbfgs', tol=0.0001, verbose=0,\n",
              "                   warm_start=False)"
            ]
          },
          "metadata": {
            "tags": []
          },
          "execution_count": 20
        }
      ]
    },
    {
      "cell_type": "code",
      "metadata": {
        "colab": {
          "base_uri": "https://localhost:8080/"
        },
        "id": "5nQiwZhGt35f",
        "outputId": "3d681a40-086d-45f3-bd8f-1bd60e0e013e"
      },
      "source": [
        "train_accuracy = log_reg.score(X_train, y_train)\n",
        "test_accuracy = log_reg.score(X_test, y_test)\n",
        "\n",
        "print('Accuracy on Train Data : {:.2f}'.format(train_accuracy), \n",
        "      'Accuracy on Test Data  : {:.2f}'.format(test_accuracy), sep='\\n')"
      ],
      "execution_count": null,
      "outputs": [
        {
          "output_type": "stream",
          "text": [
            "Accuracy on Train Data : 0.99\n",
            "Accuracy on Test Data  : 0.94\n"
          ],
          "name": "stdout"
        }
      ]
    },
    {
      "cell_type": "markdown",
      "metadata": {
        "id": "uEVGW0VWvADv"
      },
      "source": [
        "## 1.1. Changing Performance Measurement Metric of Model"
      ]
    },
    {
      "cell_type": "code",
      "metadata": {
        "id": "enVrZ2GCvT0v"
      },
      "source": [
        "pred_train = log_reg.predict(X_train)\n",
        "pred_test = log_reg.predict(X_test)"
      ],
      "execution_count": null,
      "outputs": []
    },
    {
      "cell_type": "code",
      "metadata": {
        "colab": {
          "base_uri": "https://localhost:8080/"
        },
        "id": "J4f3IW6zt7ef",
        "outputId": "b899bb2c-6064-4ec6-c78e-55ac3a9a316b"
      },
      "source": [
        "print(\"Train Dataset\")\n",
        "print(classification_report(y_train, pred_train))\n",
        "\n",
        "print('-' *30)\n",
        "\n",
        "print(\"\\nTest Dataset\")\n",
        "print(classification_report(y_test, pred_test))"
      ],
      "execution_count": null,
      "outputs": [
        {
          "output_type": "stream",
          "text": [
            "Train Dataset\n",
            "              precision    recall  f1-score   support\n",
            "\n",
            "    negative       0.99      0.99      0.99       131\n",
            "    positive       0.90      0.90      0.90        10\n",
            "\n",
            "    accuracy                           0.99       141\n",
            "   macro avg       0.95      0.95      0.95       141\n",
            "weighted avg       0.99      0.99      0.99       141\n",
            "\n",
            "------------------------------\n",
            "\n",
            "Test Dataset\n",
            "              precision    recall  f1-score   support\n",
            "\n",
            "    negative       0.94      1.00      0.97        33\n",
            "    positive       1.00      0.33      0.50         3\n",
            "\n",
            "    accuracy                           0.94        36\n",
            "   macro avg       0.97      0.67      0.74        36\n",
            "weighted avg       0.95      0.94      0.93        36\n",
            "\n"
          ],
          "name": "stdout"
        }
      ]
    },
    {
      "cell_type": "markdown",
      "metadata": {
        "id": "3YJb_AanvjGf"
      },
      "source": [
        "## 1.2. Resampling Dataset"
      ]
    },
    {
      "cell_type": "code",
      "metadata": {
        "id": "CTngy3oQvIuI"
      },
      "source": [
        "def create_model(X, y):\n",
        "    X_train, X_test, y_train, y_test =  train_test_split(X, y, test_size=0.20, random_state=111, stratify = y)\n",
        "    \n",
        "    logreg_model = LogisticRegression()\n",
        "    logreg_model.fit(X_train, y_train)\n",
        "\n",
        "    pred_train = logreg_model.predict(X_train)\n",
        "    pred_test = logreg_model.predict(X_test)\n",
        "    \n",
        "    conf_mtx_train = confusion_matrix(y_train, pred_train)\n",
        "    conf_mtx_test = confusion_matrix(y_test, pred_test)\n",
        "    \n",
        "    print(\"Accuracy : {}\\n\".format(logreg_model.score(X_test, y_test)))\n",
        "    \n",
        "    print(\"Train Dataset\")\n",
        "    print(classification_report(y_train, pred_train))\n",
        "    \n",
        "    print(\"Test Dataset\")\n",
        "    print(classification_report(y_test, pred_test))\n",
        "    \n",
        "    return  None"
      ],
      "execution_count": null,
      "outputs": []
    },
    {
      "cell_type": "markdown",
      "metadata": {
        "id": "xkQE0nMOvxNv"
      },
      "source": [
        "### 1.2.1. Up-Sampling"
      ]
    },
    {
      "cell_type": "code",
      "metadata": {
        "id": "gGjiYvD1vuqp"
      },
      "source": [
        "from sklearn.utils import resample"
      ],
      "execution_count": null,
      "outputs": []
    },
    {
      "cell_type": "code",
      "metadata": {
        "colab": {
          "base_uri": "https://localhost:8080/"
        },
        "id": "Jx2mzcnrv084",
        "outputId": "72ec5357-fe47-43a7-8a70-f14eb401296d"
      },
      "source": [
        "normal = df[df.target == 'negative']\n",
        "disease = df[df.target == 'positive']\n",
        "\n",
        "disease_upsampled = resample(disease,\n",
        "                              replace = True,\n",
        "                              n_samples = len(normal),\n",
        "                              random_state = 111)\n",
        "\n",
        "upsampled_df = pd.concat([normal, disease_upsampled])\n",
        "upsampled_df.target.value_counts()"
      ],
      "execution_count": null,
      "outputs": [
        {
          "output_type": "execute_result",
          "data": {
            "text/plain": [
              "positive    164\n",
              "negative    164\n",
              "Name: target, dtype: int64"
            ]
          },
          "metadata": {
            "tags": []
          },
          "execution_count": 26
        }
      ]
    },
    {
      "cell_type": "code",
      "metadata": {
        "colab": {
          "base_uri": "https://localhost:8080/"
        },
        "id": "pv4mh9-BwHGw",
        "outputId": "425f0e04-b5b5-42aa-c4e7-ae54b918b2de"
      },
      "source": [
        "X = upsampled_df.drop('target', axis=1)\n",
        "y = upsampled_df['target']\n",
        "\n",
        "create_model(X,y)"
      ],
      "execution_count": null,
      "outputs": [
        {
          "output_type": "stream",
          "text": [
            "Accuracy : 0.9696969696969697\n",
            "\n",
            "Train Dataset\n",
            "              precision    recall  f1-score   support\n",
            "\n",
            "    negative       1.00      0.95      0.97       131\n",
            "    positive       0.95      1.00      0.97       131\n",
            "\n",
            "    accuracy                           0.97       262\n",
            "   macro avg       0.97      0.97      0.97       262\n",
            "weighted avg       0.97      0.97      0.97       262\n",
            "\n",
            "Test Dataset\n",
            "              precision    recall  f1-score   support\n",
            "\n",
            "    negative       1.00      0.94      0.97        33\n",
            "    positive       0.94      1.00      0.97        33\n",
            "\n",
            "    accuracy                           0.97        66\n",
            "   macro avg       0.97      0.97      0.97        66\n",
            "weighted avg       0.97      0.97      0.97        66\n",
            "\n"
          ],
          "name": "stdout"
        }
      ]
    },
    {
      "cell_type": "markdown",
      "metadata": {
        "id": "QvcLidyKwSS_"
      },
      "source": [
        "### 1.2.2. Down-Sampling"
      ]
    },
    {
      "cell_type": "code",
      "metadata": {
        "colab": {
          "base_uri": "https://localhost:8080/"
        },
        "id": "vZlNormBwLso",
        "outputId": "aff5e4a7-20de-4774-9d62-a3d0d2667916"
      },
      "source": [
        "normal = df[df.target == 'negative']\n",
        "disease = df[df.target == 'positive']\n",
        "\n",
        "disease_downsampled = resample(normal,\n",
        "                                         replace = True,\n",
        "                                         n_samples = len(disease),\n",
        "                                         random_state = 111)\n",
        "\n",
        "downsampled_df = pd.concat([disease, disease_downsampled])\n",
        "downsampled_df.target.value_counts()"
      ],
      "execution_count": null,
      "outputs": [
        {
          "output_type": "execute_result",
          "data": {
            "text/plain": [
              "positive    13\n",
              "negative    13\n",
              "Name: target, dtype: int64"
            ]
          },
          "metadata": {
            "tags": []
          },
          "execution_count": 28
        }
      ]
    },
    {
      "cell_type": "code",
      "metadata": {
        "colab": {
          "base_uri": "https://localhost:8080/"
        },
        "id": "j2eLul5rw8TH",
        "outputId": "bc7f134b-c4fd-4fdd-bfb7-023afd2f9c57"
      },
      "source": [
        "X = downsampled_df.drop('target', axis=1)\n",
        "y = downsampled_df['target']\n",
        "\n",
        "create_model(X,y)"
      ],
      "execution_count": null,
      "outputs": [
        {
          "output_type": "stream",
          "text": [
            "Accuracy : 1.0\n",
            "\n",
            "Train Dataset\n",
            "              precision    recall  f1-score   support\n",
            "\n",
            "    negative       1.00      1.00      1.00        10\n",
            "    positive       1.00      1.00      1.00        10\n",
            "\n",
            "    accuracy                           1.00        20\n",
            "   macro avg       1.00      1.00      1.00        20\n",
            "weighted avg       1.00      1.00      1.00        20\n",
            "\n",
            "Test Dataset\n",
            "              precision    recall  f1-score   support\n",
            "\n",
            "    negative       1.00      1.00      1.00         3\n",
            "    positive       1.00      1.00      1.00         3\n",
            "\n",
            "    accuracy                           1.00         6\n",
            "   macro avg       1.00      1.00      1.00         6\n",
            "weighted avg       1.00      1.00      1.00         6\n",
            "\n"
          ],
          "name": "stdout"
        }
      ]
    },
    {
      "cell_type": "markdown",
      "metadata": {
        "id": "V1xEDueUxuVf"
      },
      "source": [
        "## 1.3. Producing Synthetic Samples"
      ]
    },
    {
      "cell_type": "markdown",
      "metadata": {
        "id": "a6on8wttxwnf"
      },
      "source": [
        "### 1.3.1. SMOTE"
      ]
    },
    {
      "cell_type": "code",
      "metadata": {
        "id": "yKITAXPdxhLx"
      },
      "source": [
        "from imblearn.over_sampling import SMOTE\n",
        "\n",
        "y = df.target\n",
        "X = df.drop('target', axis=1)\n",
        "\n",
        "sm = SMOTE(random_state=27, sampling_strategy=1.0)\n",
        "X_smote, y_smote = sm.fit_sample(X, y)"
      ],
      "execution_count": null,
      "outputs": []
    },
    {
      "cell_type": "code",
      "metadata": {
        "colab": {
          "base_uri": "https://localhost:8080/"
        },
        "id": "NZa7QUtcx3yw",
        "outputId": "29f3d1dd-fc42-4d42-c67d-d87f57f2b1c0"
      },
      "source": [
        "create_model(X_smote, y_smote)"
      ],
      "execution_count": null,
      "outputs": [
        {
          "output_type": "stream",
          "text": [
            "Accuracy : 0.9696969696969697\n",
            "\n",
            "Train Dataset\n",
            "              precision    recall  f1-score   support\n",
            "\n",
            "    negative       1.00      0.95      0.98       131\n",
            "    positive       0.96      1.00      0.98       131\n",
            "\n",
            "    accuracy                           0.98       262\n",
            "   macro avg       0.98      0.98      0.98       262\n",
            "weighted avg       0.98      0.98      0.98       262\n",
            "\n",
            "Test Dataset\n",
            "              precision    recall  f1-score   support\n",
            "\n",
            "    negative       1.00      0.94      0.97        33\n",
            "    positive       0.94      1.00      0.97        33\n",
            "\n",
            "    accuracy                           0.97        66\n",
            "   macro avg       0.97      0.97      0.97        66\n",
            "weighted avg       0.97      0.97      0.97        66\n",
            "\n"
          ],
          "name": "stdout"
        }
      ]
    },
    {
      "cell_type": "markdown",
      "metadata": {
        "id": "93mWlAFdyBsg"
      },
      "source": [
        "### 1.3.1. ADASYN"
      ]
    },
    {
      "cell_type": "code",
      "metadata": {
        "id": "c7ZVHaX9x5MY"
      },
      "source": [
        "from imblearn.over_sampling import ADASYN"
      ],
      "execution_count": null,
      "outputs": []
    },
    {
      "cell_type": "code",
      "metadata": {
        "id": "dfN-0SKgx8Jo"
      },
      "source": [
        "y = df.target\n",
        "X = df.drop('target', axis=1)\n",
        "\n",
        "ad = ADASYN()\n",
        "X_adasyn, y_adasyn = ad.fit_sample(X, y)"
      ],
      "execution_count": null,
      "outputs": []
    },
    {
      "cell_type": "code",
      "metadata": {
        "colab": {
          "base_uri": "https://localhost:8080/"
        },
        "id": "3wQpQsppx_a4",
        "outputId": "839d017f-36e0-497c-f133-8dd87dad9242"
      },
      "source": [
        "create_model(X_adasyn, y_adasyn)"
      ],
      "execution_count": null,
      "outputs": [
        {
          "output_type": "stream",
          "text": [
            "Accuracy : 0.9696969696969697\n",
            "\n",
            "Train Dataset\n",
            "              precision    recall  f1-score   support\n",
            "\n",
            "    negative       1.00      0.95      0.98       131\n",
            "    positive       0.96      1.00      0.98       132\n",
            "\n",
            "    accuracy                           0.98       263\n",
            "   macro avg       0.98      0.98      0.98       263\n",
            "weighted avg       0.98      0.98      0.98       263\n",
            "\n",
            "Test Dataset\n",
            "              precision    recall  f1-score   support\n",
            "\n",
            "    negative       1.00      0.94      0.97        33\n",
            "    positive       0.94      1.00      0.97        33\n",
            "\n",
            "    accuracy                           0.97        66\n",
            "   macro avg       0.97      0.97      0.97        66\n",
            "weighted avg       0.97      0.97      0.97        66\n",
            "\n"
          ],
          "name": "stdout"
        }
      ]
    },
    {
      "cell_type": "code",
      "metadata": {
        "id": "ImW2ttzryA8p"
      },
      "source": [
        ""
      ],
      "execution_count": null,
      "outputs": []
    },
    {
      "cell_type": "markdown",
      "metadata": {
        "id": "-WZhvwuPzUlo"
      },
      "source": [
        "Down-Sampling method gave best results."
      ]
    },
    {
      "cell_type": "code",
      "metadata": {
        "id": "-K_UQvWDzYup"
      },
      "source": [
        ""
      ],
      "execution_count": null,
      "outputs": []
    }
  ]
}