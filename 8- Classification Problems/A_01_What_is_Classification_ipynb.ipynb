{
  "nbformat": 4,
  "nbformat_minor": 0,
  "metadata": {
    "colab": {
      "name": "A_01_What is Classification ipynb",
      "provenance": []
    },
    "kernelspec": {
      "name": "python3",
      "display_name": "Python 3"
    },
    "language_info": {
      "name": "python"
    }
  },
  "cells": [
    {
      "cell_type": "markdown",
      "metadata": {
        "id": "DJsy2WQhy6cI"
      },
      "source": [
        "Determine whether the following examples are classification problems or regression problems:\n",
        "\n",
        "- Given the size of the house, estimating the price of it,\n",
        "- From the clothes of those who come to see the house, to conclude who has a high or low probability of buying the house,\n",
        "- Using parameters such as location and date, calculate the probability of rain,\n",
        "- Estimating a one's salary using parameters such as education and experience,\n",
        "- Estimation one's age,\n",
        "- Estimation one's income,\n",
        "- Estimate the direction of price of any stock."
      ]
    },
    {
      "cell_type": "code",
      "metadata": {
        "id": "M4OSK8mTytbB"
      },
      "source": [
        ""
      ],
      "execution_count": null,
      "outputs": []
    },
    {
      "cell_type": "markdown",
      "metadata": {
        "id": "cr3xBWos0KkQ"
      },
      "source": [
        "* Given the size of the house, estimating the price of it, **----> Regression**\n",
        "* From the clothes of those who come to see the house, to conclude who has a high or low probability of buying the house  **----> Classification**\n",
        "\n",
        "* Using parameters such as location and date, calculate the probability of rain,  **----> Regression**\n",
        "* Estimating a one's salary using parameters such as education and experience,  **----> Regression**\n",
        "* Estimation one's age, **----> Regression / Classification**\n",
        "* Estimation one's income, **----> Regression**\n",
        "* Estimate the direction of price of any stock. **----> Classification**"
      ]
    },
    {
      "cell_type": "code",
      "metadata": {
        "id": "vhscdIHp20UU"
      },
      "source": [
        ""
      ],
      "execution_count": null,
      "outputs": []
    }
  ]
}