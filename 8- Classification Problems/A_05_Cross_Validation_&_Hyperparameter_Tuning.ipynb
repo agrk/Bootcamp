{
  "nbformat": 4,
  "nbformat_minor": 0,
  "metadata": {
    "colab": {
      "name": "A_05_Cross Validation & Hyperparameter Tuning.ipynb",
      "provenance": []
    },
    "kernelspec": {
      "name": "python3",
      "display_name": "Python 3"
    },
    "language_info": {
      "name": "python"
    }
  },
  "cells": [
    {
      "cell_type": "markdown",
      "metadata": {
        "id": "uKaISObT00ao"
      },
      "source": [
        "In this assignment, you are going to measure the performance of the model you created with the Titanic dataset in the previous lesson. To complete this assignment, send a link to a Jupyter notebook containing solutions to the following tasks.\n",
        "\n",
        "- Evaluate your model's performance with cross validation and using different metrics.\n",
        "- Determine the model with the most appropriate parameters by hyperparameter tuning."
      ]
    },
    {
      "cell_type": "code",
      "metadata": {
        "id": "7cz3D1ls0t4b"
      },
      "source": [
        "import pandas as pd\n",
        "import numpy as np\n",
        "from sklearn.model_selection import train_test_split\n",
        "\n",
        "import warnings\n",
        "warnings.filterwarnings('ignore')"
      ],
      "execution_count": null,
      "outputs": []
    },
    {
      "cell_type": "code",
      "metadata": {
        "colab": {
          "base_uri": "https://localhost:8080/"
        },
        "id": "_KuFfMB61C8J",
        "outputId": "c13880d2-cc96-4fd9-cf9d-2c5438583a03"
      },
      "source": [
        "from google.colab import drive\n",
        "drive.mount('/content/drive')"
      ],
      "execution_count": null,
      "outputs": [
        {
          "output_type": "stream",
          "text": [
            "Drive already mounted at /content/drive; to attempt to forcibly remount, call drive.mount(\"/content/drive\", force_remount=True).\n"
          ],
          "name": "stdout"
        }
      ]
    },
    {
      "cell_type": "code",
      "metadata": {
        "colab": {
          "base_uri": "https://localhost:8080/",
          "height": 35
        },
        "id": "YfLl3T_V1Erh",
        "outputId": "3aff9fc7-213a-478e-97bd-32fcf2ff43c5"
      },
      "source": [
        "import os\n",
        "os.getcwd()"
      ],
      "execution_count": null,
      "outputs": [
        {
          "output_type": "execute_result",
          "data": {
            "application/vnd.google.colaboratory.intrinsic+json": {
              "type": "string"
            },
            "text/plain": [
              "'/content'"
            ]
          },
          "metadata": {
            "tags": []
          },
          "execution_count": 3
        }
      ]
    },
    {
      "cell_type": "code",
      "metadata": {
        "id": "YqQLTcrP1J1q"
      },
      "source": [
        "PATH ='/content/drive/MyDrive/Colab Notebooks/Datajarlabs/8-Classification_Problems'\n",
        "os.chdir(PATH)"
      ],
      "execution_count": null,
      "outputs": []
    },
    {
      "cell_type": "code",
      "metadata": {
        "colab": {
          "base_uri": "https://localhost:8080/",
          "height": 204
        },
        "id": "WK_gbCmk1L-4",
        "outputId": "ada76f23-b39b-4896-d83f-1bf4364d52b6"
      },
      "source": [
        "df = pd.read_csv('train (3).csv')\n",
        "df.head()"
      ],
      "execution_count": null,
      "outputs": [
        {
          "output_type": "execute_result",
          "data": {
            "text/html": [
              "<div>\n",
              "<style scoped>\n",
              "    .dataframe tbody tr th:only-of-type {\n",
              "        vertical-align: middle;\n",
              "    }\n",
              "\n",
              "    .dataframe tbody tr th {\n",
              "        vertical-align: top;\n",
              "    }\n",
              "\n",
              "    .dataframe thead th {\n",
              "        text-align: right;\n",
              "    }\n",
              "</style>\n",
              "<table border=\"1\" class=\"dataframe\">\n",
              "  <thead>\n",
              "    <tr style=\"text-align: right;\">\n",
              "      <th></th>\n",
              "      <th>PassengerId</th>\n",
              "      <th>Survived</th>\n",
              "      <th>Pclass</th>\n",
              "      <th>Name</th>\n",
              "      <th>Sex</th>\n",
              "      <th>Age</th>\n",
              "      <th>SibSp</th>\n",
              "      <th>Parch</th>\n",
              "      <th>Ticket</th>\n",
              "      <th>Fare</th>\n",
              "      <th>Cabin</th>\n",
              "      <th>Embarked</th>\n",
              "    </tr>\n",
              "  </thead>\n",
              "  <tbody>\n",
              "    <tr>\n",
              "      <th>0</th>\n",
              "      <td>1</td>\n",
              "      <td>0</td>\n",
              "      <td>3</td>\n",
              "      <td>Braund, Mr. Owen Harris</td>\n",
              "      <td>male</td>\n",
              "      <td>22.0</td>\n",
              "      <td>1</td>\n",
              "      <td>0</td>\n",
              "      <td>A/5 21171</td>\n",
              "      <td>7.2500</td>\n",
              "      <td>NaN</td>\n",
              "      <td>S</td>\n",
              "    </tr>\n",
              "    <tr>\n",
              "      <th>1</th>\n",
              "      <td>2</td>\n",
              "      <td>1</td>\n",
              "      <td>1</td>\n",
              "      <td>Cumings, Mrs. John Bradley (Florence Briggs Th...</td>\n",
              "      <td>female</td>\n",
              "      <td>38.0</td>\n",
              "      <td>1</td>\n",
              "      <td>0</td>\n",
              "      <td>PC 17599</td>\n",
              "      <td>71.2833</td>\n",
              "      <td>C85</td>\n",
              "      <td>C</td>\n",
              "    </tr>\n",
              "    <tr>\n",
              "      <th>2</th>\n",
              "      <td>3</td>\n",
              "      <td>1</td>\n",
              "      <td>3</td>\n",
              "      <td>Heikkinen, Miss. Laina</td>\n",
              "      <td>female</td>\n",
              "      <td>26.0</td>\n",
              "      <td>0</td>\n",
              "      <td>0</td>\n",
              "      <td>STON/O2. 3101282</td>\n",
              "      <td>7.9250</td>\n",
              "      <td>NaN</td>\n",
              "      <td>S</td>\n",
              "    </tr>\n",
              "    <tr>\n",
              "      <th>3</th>\n",
              "      <td>4</td>\n",
              "      <td>1</td>\n",
              "      <td>1</td>\n",
              "      <td>Futrelle, Mrs. Jacques Heath (Lily May Peel)</td>\n",
              "      <td>female</td>\n",
              "      <td>35.0</td>\n",
              "      <td>1</td>\n",
              "      <td>0</td>\n",
              "      <td>113803</td>\n",
              "      <td>53.1000</td>\n",
              "      <td>C123</td>\n",
              "      <td>S</td>\n",
              "    </tr>\n",
              "    <tr>\n",
              "      <th>4</th>\n",
              "      <td>5</td>\n",
              "      <td>0</td>\n",
              "      <td>3</td>\n",
              "      <td>Allen, Mr. William Henry</td>\n",
              "      <td>male</td>\n",
              "      <td>35.0</td>\n",
              "      <td>0</td>\n",
              "      <td>0</td>\n",
              "      <td>373450</td>\n",
              "      <td>8.0500</td>\n",
              "      <td>NaN</td>\n",
              "      <td>S</td>\n",
              "    </tr>\n",
              "  </tbody>\n",
              "</table>\n",
              "</div>"
            ],
            "text/plain": [
              "   PassengerId  Survived  Pclass  ...     Fare Cabin  Embarked\n",
              "0            1         0       3  ...   7.2500   NaN         S\n",
              "1            2         1       1  ...  71.2833   C85         C\n",
              "2            3         1       3  ...   7.9250   NaN         S\n",
              "3            4         1       1  ...  53.1000  C123         S\n",
              "4            5         0       3  ...   8.0500   NaN         S\n",
              "\n",
              "[5 rows x 12 columns]"
            ]
          },
          "metadata": {
            "tags": []
          },
          "execution_count": 5
        }
      ]
    },
    {
      "cell_type": "code",
      "metadata": {
        "colab": {
          "base_uri": "https://localhost:8080/"
        },
        "id": "ZOtIkfAI1NWp",
        "outputId": "4a47d86f-d436-4b40-d301-5394cadc6cfc"
      },
      "source": [
        "df.info()"
      ],
      "execution_count": null,
      "outputs": [
        {
          "output_type": "stream",
          "text": [
            "<class 'pandas.core.frame.DataFrame'>\n",
            "RangeIndex: 891 entries, 0 to 890\n",
            "Data columns (total 12 columns):\n",
            " #   Column       Non-Null Count  Dtype  \n",
            "---  ------       --------------  -----  \n",
            " 0   PassengerId  891 non-null    int64  \n",
            " 1   Survived     891 non-null    int64  \n",
            " 2   Pclass       891 non-null    int64  \n",
            " 3   Name         891 non-null    object \n",
            " 4   Sex          891 non-null    object \n",
            " 5   Age          714 non-null    float64\n",
            " 6   SibSp        891 non-null    int64  \n",
            " 7   Parch        891 non-null    int64  \n",
            " 8   Ticket       891 non-null    object \n",
            " 9   Fare         891 non-null    float64\n",
            " 10  Cabin        204 non-null    object \n",
            " 11  Embarked     889 non-null    object \n",
            "dtypes: float64(2), int64(5), object(5)\n",
            "memory usage: 83.7+ KB\n"
          ],
          "name": "stdout"
        }
      ]
    },
    {
      "cell_type": "code",
      "metadata": {
        "colab": {
          "base_uri": "https://localhost:8080/"
        },
        "id": "s1hSCvlu1dsd",
        "outputId": "7bfa101b-4eda-48e6-e021-244f0cc26cfb"
      },
      "source": [
        "df.isnull().sum()"
      ],
      "execution_count": null,
      "outputs": [
        {
          "output_type": "execute_result",
          "data": {
            "text/plain": [
              "PassengerId      0\n",
              "Survived         0\n",
              "Pclass           0\n",
              "Name             0\n",
              "Sex              0\n",
              "Age            177\n",
              "SibSp            0\n",
              "Parch            0\n",
              "Ticket           0\n",
              "Fare             0\n",
              "Cabin          687\n",
              "Embarked         2\n",
              "dtype: int64"
            ]
          },
          "metadata": {
            "tags": []
          },
          "execution_count": 7
        }
      ]
    },
    {
      "cell_type": "code",
      "metadata": {
        "colab": {
          "base_uri": "https://localhost:8080/"
        },
        "id": "6NOjALHy1fid",
        "outputId": "19438210-073a-46fa-f9a3-2f0bfbcda46f"
      },
      "source": [
        "df.nunique()"
      ],
      "execution_count": null,
      "outputs": [
        {
          "output_type": "execute_result",
          "data": {
            "text/plain": [
              "PassengerId    891\n",
              "Survived         2\n",
              "Pclass           3\n",
              "Name           891\n",
              "Sex              2\n",
              "Age             88\n",
              "SibSp            7\n",
              "Parch            7\n",
              "Ticket         681\n",
              "Fare           248\n",
              "Cabin          147\n",
              "Embarked         3\n",
              "dtype: int64"
            ]
          },
          "metadata": {
            "tags": []
          },
          "execution_count": 8
        }
      ]
    },
    {
      "cell_type": "code",
      "metadata": {
        "id": "JboThadO1g9R"
      },
      "source": [
        "df['Age'] = df['Age'].fillna(int(df['Age'].mean())).astype('int64')\n",
        "df['Embarked'] = df['Embarked'].fillna(df['Embarked'].value_counts().index[0])\n",
        "df.drop('PassengerId', axis=1, inplace=True)\n",
        "df.drop('Ticket', axis=1, inplace=True)\n",
        "df.drop('Cabin', axis=1, inplace=True)\n",
        "df.drop('Name', axis=1, inplace=True)\n",
        "df['Sex'] = pd.get_dummies(df['Sex'], drop_first=True).rename(columns={'male':'Sex'})\n",
        "df = pd.concat([df.drop('Embarked', axis=1), pd.get_dummies(df['Embarked'], drop_first=True).rename({})], axis=1)"
      ],
      "execution_count": null,
      "outputs": []
    },
    {
      "cell_type": "code",
      "metadata": {
        "colab": {
          "base_uri": "https://localhost:8080/",
          "height": 204
        },
        "id": "-CKMHnGG1i6B",
        "outputId": "cd1cb279-dacc-4851-d63d-6edd28a3a3e2"
      },
      "source": [
        "df.head()"
      ],
      "execution_count": null,
      "outputs": [
        {
          "output_type": "execute_result",
          "data": {
            "text/html": [
              "<div>\n",
              "<style scoped>\n",
              "    .dataframe tbody tr th:only-of-type {\n",
              "        vertical-align: middle;\n",
              "    }\n",
              "\n",
              "    .dataframe tbody tr th {\n",
              "        vertical-align: top;\n",
              "    }\n",
              "\n",
              "    .dataframe thead th {\n",
              "        text-align: right;\n",
              "    }\n",
              "</style>\n",
              "<table border=\"1\" class=\"dataframe\">\n",
              "  <thead>\n",
              "    <tr style=\"text-align: right;\">\n",
              "      <th></th>\n",
              "      <th>Survived</th>\n",
              "      <th>Pclass</th>\n",
              "      <th>Sex</th>\n",
              "      <th>Age</th>\n",
              "      <th>SibSp</th>\n",
              "      <th>Parch</th>\n",
              "      <th>Fare</th>\n",
              "      <th>Q</th>\n",
              "      <th>S</th>\n",
              "    </tr>\n",
              "  </thead>\n",
              "  <tbody>\n",
              "    <tr>\n",
              "      <th>0</th>\n",
              "      <td>0</td>\n",
              "      <td>3</td>\n",
              "      <td>1</td>\n",
              "      <td>22</td>\n",
              "      <td>1</td>\n",
              "      <td>0</td>\n",
              "      <td>7.2500</td>\n",
              "      <td>0</td>\n",
              "      <td>1</td>\n",
              "    </tr>\n",
              "    <tr>\n",
              "      <th>1</th>\n",
              "      <td>1</td>\n",
              "      <td>1</td>\n",
              "      <td>0</td>\n",
              "      <td>38</td>\n",
              "      <td>1</td>\n",
              "      <td>0</td>\n",
              "      <td>71.2833</td>\n",
              "      <td>0</td>\n",
              "      <td>0</td>\n",
              "    </tr>\n",
              "    <tr>\n",
              "      <th>2</th>\n",
              "      <td>1</td>\n",
              "      <td>3</td>\n",
              "      <td>0</td>\n",
              "      <td>26</td>\n",
              "      <td>0</td>\n",
              "      <td>0</td>\n",
              "      <td>7.9250</td>\n",
              "      <td>0</td>\n",
              "      <td>1</td>\n",
              "    </tr>\n",
              "    <tr>\n",
              "      <th>3</th>\n",
              "      <td>1</td>\n",
              "      <td>1</td>\n",
              "      <td>0</td>\n",
              "      <td>35</td>\n",
              "      <td>1</td>\n",
              "      <td>0</td>\n",
              "      <td>53.1000</td>\n",
              "      <td>0</td>\n",
              "      <td>1</td>\n",
              "    </tr>\n",
              "    <tr>\n",
              "      <th>4</th>\n",
              "      <td>0</td>\n",
              "      <td>3</td>\n",
              "      <td>1</td>\n",
              "      <td>35</td>\n",
              "      <td>0</td>\n",
              "      <td>0</td>\n",
              "      <td>8.0500</td>\n",
              "      <td>0</td>\n",
              "      <td>1</td>\n",
              "    </tr>\n",
              "  </tbody>\n",
              "</table>\n",
              "</div>"
            ],
            "text/plain": [
              "   Survived  Pclass  Sex  Age  SibSp  Parch     Fare  Q  S\n",
              "0         0       3    1   22      1      0   7.2500  0  1\n",
              "1         1       1    0   38      1      0  71.2833  0  0\n",
              "2         1       3    0   26      0      0   7.9250  0  1\n",
              "3         1       1    0   35      1      0  53.1000  0  1\n",
              "4         0       3    1   35      0      0   8.0500  0  1"
            ]
          },
          "metadata": {
            "tags": []
          },
          "execution_count": 10
        }
      ]
    },
    {
      "cell_type": "markdown",
      "metadata": {
        "id": "Ljoz1WN43zUp"
      },
      "source": [
        "# 1. Cross Validation"
      ]
    },
    {
      "cell_type": "markdown",
      "metadata": {
        "id": "ba-JBSJW1rRw"
      },
      "source": [
        "## 1.1. Splitting Dataset into Train and Test Subsets"
      ]
    },
    {
      "cell_type": "code",
      "metadata": {
        "id": "Rl8x-WxU1lPq"
      },
      "source": [
        "X = df.drop('Survived', axis=1)\n",
        "y = df['Survived']"
      ],
      "execution_count": null,
      "outputs": []
    },
    {
      "cell_type": "code",
      "metadata": {
        "colab": {
          "base_uri": "https://localhost:8080/"
        },
        "id": "MbgmZ0tF1oXy",
        "outputId": "84c99fa3-846c-4faf-d1d1-3770250c1d6c"
      },
      "source": [
        "print(len(X), len(y))\n",
        "print(\"There are {} data points in dataset.\".format(len(X)))"
      ],
      "execution_count": null,
      "outputs": [
        {
          "output_type": "stream",
          "text": [
            "891 891\n",
            "There are 891 data points in dataset.\n"
          ],
          "name": "stdout"
        }
      ]
    },
    {
      "cell_type": "code",
      "metadata": {
        "colab": {
          "base_uri": "https://localhost:8080/"
        },
        "id": "5HTLSu1q1uJa",
        "outputId": "4ab8b303-6131-40e3-c1da-eb820bfe178b"
      },
      "source": [
        "import seaborn as sns\n",
        "import matplotlib.pyplot as plt\n",
        "\n",
        "X_train, X_test, y_train, y_test = train_test_split(X, y, test_size=0.2)\n",
        "\n",
        "print(\"Number of data points in training set:  {}  \".format(len(X_train)))\n",
        "print(\"Number of targets in training set    :  {}\\n\".format(len(y_train)))\n",
        "\n",
        "print(\"Number of data points in test set    :  {}  \".format(len(X_test)))\n",
        "print(\"Number of targets in test set        :  {}  \".format(len(y_test)))"
      ],
      "execution_count": null,
      "outputs": [
        {
          "output_type": "stream",
          "text": [
            "Number of data points in training set:  712  \n",
            "Number of targets in training set    :  712\n",
            "\n",
            "Number of data points in test set    :  179  \n",
            "Number of targets in test set        :  179  \n"
          ],
          "name": "stdout"
        }
      ]
    },
    {
      "cell_type": "code",
      "metadata": {
        "colab": {
          "base_uri": "https://localhost:8080/"
        },
        "id": "O-xEK9AB1xkx",
        "outputId": "08aa288b-0303-4d4b-8249-9d68662eedc9"
      },
      "source": [
        "from sklearn.linear_model import LogisticRegression\n",
        "\n",
        "model = LogisticRegression()\n",
        "model.fit(X_train, y_train)\n",
        "\n",
        "pred_train = model.predict(X_train)\n",
        "pred_test = model.predict(X_test)\n",
        "\n",
        "model.score(X_test, y_test)"
      ],
      "execution_count": null,
      "outputs": [
        {
          "output_type": "execute_result",
          "data": {
            "text/plain": [
              "0.7932960893854749"
            ]
          },
          "metadata": {
            "tags": []
          },
          "execution_count": 14
        }
      ]
    },
    {
      "cell_type": "markdown",
      "metadata": {
        "id": "n4ilnJUj2ERo"
      },
      "source": [
        "### 1.2.1. KFold Cross Validation"
      ]
    },
    {
      "cell_type": "code",
      "metadata": {
        "id": "77U_s47G18o5"
      },
      "source": [
        "from sklearn.model_selection import KFold\n",
        "\n",
        "kf = KFold(n_splits=5, shuffle=True, random_state=1111)"
      ],
      "execution_count": null,
      "outputs": []
    },
    {
      "cell_type": "code",
      "metadata": {
        "colab": {
          "base_uri": "https://localhost:8080/"
        },
        "id": "5cS_oBjq2Hnp",
        "outputId": "759a3bb1-7a1d-470c-c060-b738381ebfa6"
      },
      "source": [
        "pieces = kf.split(X)\n",
        "\n",
        "for num, (train_index, test_index) in enumerate(pieces):\n",
        "    print(\"No.{} Train set size : {}\".format(num+1,len(train_index)))\n",
        "    print(\"No.{} Test set size     : {}\".format(num+1,len(test_index)))\n",
        "    print('-'*28, \"\\n\")"
      ],
      "execution_count": null,
      "outputs": [
        {
          "output_type": "stream",
          "text": [
            "No.1 Train set size : 712\n",
            "No.1 Test set size     : 179\n",
            "---------------------------- \n",
            "\n",
            "No.2 Train set size : 713\n",
            "No.2 Test set size     : 178\n",
            "---------------------------- \n",
            "\n",
            "No.3 Train set size : 713\n",
            "No.3 Test set size     : 178\n",
            "---------------------------- \n",
            "\n",
            "No.4 Train set size : 713\n",
            "No.4 Test set size     : 178\n",
            "---------------------------- \n",
            "\n",
            "No.5 Train set size : 713\n",
            "No.5 Test set size     : 178\n",
            "---------------------------- \n",
            "\n"
          ],
          "name": "stdout"
        }
      ]
    },
    {
      "cell_type": "markdown",
      "metadata": {
        "id": "uzfW3Hbq2igR"
      },
      "source": [
        "### 1.2.2. Cross Validation with cross_val_score() and cross_validate()"
      ]
    },
    {
      "cell_type": "code",
      "metadata": {
        "id": "yXMoSGYt2Iyp"
      },
      "source": [
        "from sklearn.model_selection import cross_validate, cross_val_score"
      ],
      "execution_count": null,
      "outputs": []
    },
    {
      "cell_type": "code",
      "metadata": {
        "colab": {
          "base_uri": "https://localhost:8080/"
        },
        "id": "8luj04z42MGQ",
        "outputId": "9434ef89-da4c-47eb-d405-cd4f599a0bf3"
      },
      "source": [
        "log_reg_model = LogisticRegression()\n",
        "\n",
        "cv = cross_validate(estimator=log_reg_model,\n",
        "                    X=X,\n",
        "                    y=y,\n",
        "                    cv=10,\n",
        "                    return_train_score=True,\n",
        "                   )\n",
        "\n",
        "print('Train Scores :', cv['train_score'], sep = '\\n')\n",
        "print(\"-\"*50)\n",
        "print('Test Scores     :', cv['test_score'], sep = '\\n')"
      ],
      "execution_count": null,
      "outputs": [
        {
          "output_type": "stream",
          "text": [
            "Train Scores :\n",
            "[0.80399501 0.8042394  0.8117207  0.79426434 0.79925187 0.80299252\n",
            " 0.80548628 0.80174564 0.80548628 0.79800499]\n",
            "--------------------------------------------------\n",
            "Test Scores     :\n",
            "[0.77777778 0.79775281 0.75280899 0.83146067 0.78651685 0.7752809\n",
            " 0.78651685 0.78651685 0.80898876 0.82022472]\n"
          ],
          "name": "stdout"
        }
      ]
    },
    {
      "cell_type": "code",
      "metadata": {
        "colab": {
          "base_uri": "https://localhost:8080/"
        },
        "id": "TwzA0kGa2cCa",
        "outputId": "6b81fb04-fdba-428e-e88e-e6e0232410a4"
      },
      "source": [
        "print('Mean score of train set : ', cv['train_score'].mean())\n",
        "print('Mean score of test set  : ', cv['test_score'].mean())"
      ],
      "execution_count": null,
      "outputs": [
        {
          "output_type": "stream",
          "text": [
            "Mean score of train set :  0.8027187026192323\n",
            "Mean score of test set  :  0.7923845193508114\n"
          ],
          "name": "stdout"
        }
      ]
    },
    {
      "cell_type": "code",
      "metadata": {
        "id": "AuIDTjRB2fBR"
      },
      "source": [
        "cv = cross_validate(estimator=log_reg_model,\n",
        "                    X=X,\n",
        "                    y=y,\n",
        "                    cv=10,\n",
        "                    return_train_score=True,\n",
        "                    scoring = ['accuracy', 'precision', 'r2']\n",
        "                   )"
      ],
      "execution_count": null,
      "outputs": []
    },
    {
      "cell_type": "code",
      "metadata": {
        "colab": {
          "base_uri": "https://localhost:8080/"
        },
        "id": "YYHxjqKd2ggh",
        "outputId": "617b524a-c13e-406d-e41c-63dbc317eede"
      },
      "source": [
        "print('Train Set Mean Accuracy  : {:.2f}  '.format(cv['train_accuracy'].mean()))\n",
        "print('Train Set Mean R-square  : {:.2f}  '.format(cv['train_r2'].mean()))\n",
        "print('Train Set Mean Precision : {:.2f}\\n'.format(cv['train_precision'].mean()))\n",
        "\n",
        "print('Test Set Mean Accuracy   : {:.2f}  '.format(cv['test_accuracy'].mean()))\n",
        "print('Test Set Mean R-square   : {:.2f}  '.format(cv['test_r2'].mean()))\n",
        "print('Test Set Mean Precision  : {:.2f}  '.format(cv['test_precision'].mean()))"
      ],
      "execution_count": null,
      "outputs": [
        {
          "output_type": "stream",
          "text": [
            "Train Set Mean Accuracy  : 0.80  \n",
            "Train Set Mean R-square  : 0.17  \n",
            "Train Set Mean Precision : 0.76\n",
            "\n",
            "Test Set Mean Accuracy   : 0.79  \n",
            "Test Set Mean R-square   : 0.12  \n",
            "Test Set Mean Precision  : 0.75  \n"
          ],
          "name": "stdout"
        }
      ]
    },
    {
      "cell_type": "code",
      "metadata": {
        "colab": {
          "base_uri": "https://localhost:8080/"
        },
        "id": "cjdQRSQo2mFq",
        "outputId": "1fe9bc33-65d6-47d0-cb5c-b4352f02f9d7"
      },
      "source": [
        "cv = cross_val_score(estimator=log_reg_model,\n",
        "                     X=X,\n",
        "                     y=y,\n",
        "                     cv=10,\n",
        "                    )\n",
        "\n",
        "print('Model Scores : ', cv, sep = '\\n')"
      ],
      "execution_count": null,
      "outputs": [
        {
          "output_type": "stream",
          "text": [
            "Model Scores : \n",
            "[0.77777778 0.79775281 0.75280899 0.83146067 0.78651685 0.7752809\n",
            " 0.78651685 0.78651685 0.80898876 0.82022472]\n"
          ],
          "name": "stdout"
        }
      ]
    },
    {
      "cell_type": "code",
      "metadata": {
        "colab": {
          "base_uri": "https://localhost:8080/"
        },
        "id": "yzerTGtD2n7p",
        "outputId": "d0adce9c-15a6-4ac1-b622-8d3b40b729fa"
      },
      "source": [
        "from sklearn.model_selection import cross_val_predict\n",
        "\n",
        "y_pred = cross_val_predict(estimator=log_reg_model,\n",
        "                           X=X,\n",
        "                           y=y,\n",
        "                           cv=10,\n",
        "                          )\n",
        "print(y_pred[0:10])"
      ],
      "execution_count": null,
      "outputs": [
        {
          "output_type": "stream",
          "text": [
            "[0 1 1 1 0 0 0 0 1 1]\n"
          ],
          "name": "stdout"
        }
      ]
    },
    {
      "cell_type": "markdown",
      "metadata": {
        "id": "1sgFLyFm2qyw"
      },
      "source": [
        "# 2. Hyperparameter Tuning"
      ]
    },
    {
      "cell_type": "code",
      "metadata": {
        "colab": {
          "base_uri": "https://localhost:8080/"
        },
        "id": "FPByiKGz2qBI",
        "outputId": "b09207d9-f81c-4f73-bd13-3999f045fa15"
      },
      "source": [
        "log_reg = LogisticRegression()\n",
        "\n",
        "print(log_reg.get_params())"
      ],
      "execution_count": null,
      "outputs": [
        {
          "output_type": "stream",
          "text": [
            "{'C': 1.0, 'class_weight': None, 'dual': False, 'fit_intercept': True, 'intercept_scaling': 1, 'l1_ratio': None, 'max_iter': 100, 'multi_class': 'auto', 'n_jobs': None, 'penalty': 'l2', 'random_state': None, 'solver': 'lbfgs', 'tol': 0.0001, 'verbose': 0, 'warm_start': False}\n"
          ],
          "name": "stdout"
        }
      ]
    },
    {
      "cell_type": "markdown",
      "metadata": {
        "id": "ClMJr10d3MFw"
      },
      "source": [
        "## 2.1. Grid Search"
      ]
    },
    {
      "cell_type": "code",
      "metadata": {
        "id": "HqJgY_pE2t_I"
      },
      "source": [
        "parameters = {\"C\": [10 ** x for x in range (-5, 5, 1)],\n",
        "              \"penalty\": ['l1', 'l2']\n",
        "             }"
      ],
      "execution_count": null,
      "outputs": []
    },
    {
      "cell_type": "code",
      "metadata": {
        "colab": {
          "base_uri": "https://localhost:8080/"
        },
        "id": "euyX4ppB2vsg",
        "outputId": "f8c8e431-b2fd-4c18-b4ef-7542a27bce2c"
      },
      "source": [
        "from sklearn.model_selection import GridSearchCV\n",
        "\n",
        "grid_cv = GridSearchCV(estimator=log_reg,\n",
        "                       param_grid = parameters,\n",
        "                       cv = 10\n",
        "                      )\n",
        "\n",
        "grid_cv.fit(X, y)"
      ],
      "execution_count": null,
      "outputs": [
        {
          "output_type": "execute_result",
          "data": {
            "text/plain": [
              "GridSearchCV(cv=10, error_score=nan,\n",
              "             estimator=LogisticRegression(C=1.0, class_weight=None, dual=False,\n",
              "                                          fit_intercept=True,\n",
              "                                          intercept_scaling=1, l1_ratio=None,\n",
              "                                          max_iter=100, multi_class='auto',\n",
              "                                          n_jobs=None, penalty='l2',\n",
              "                                          random_state=None, solver='lbfgs',\n",
              "                                          tol=0.0001, verbose=0,\n",
              "                                          warm_start=False),\n",
              "             iid='deprecated', n_jobs=None,\n",
              "             param_grid={'C': [1e-05, 0.0001, 0.001, 0.01, 0.1, 1, 10, 100,\n",
              "                               1000, 10000],\n",
              "                         'penalty': ['l1', 'l2']},\n",
              "             pre_dispatch='2*n_jobs', refit=True, return_train_score=False,\n",
              "             scoring=None, verbose=0)"
            ]
          },
          "metadata": {
            "tags": []
          },
          "execution_count": 26
        }
      ]
    },
    {
      "cell_type": "code",
      "metadata": {
        "colab": {
          "base_uri": "https://localhost:8080/"
        },
        "id": "mQbZZtUS2xNA",
        "outputId": "34ef21d8-f799-4108-d2ac-1d947e155257"
      },
      "source": [
        "print(\"Best Parameters : \", grid_cv.best_params_)\n",
        "print(\"Best Score      : \", grid_cv.best_score_)"
      ],
      "execution_count": null,
      "outputs": [
        {
          "output_type": "stream",
          "text": [
            "Best Parameters :  {'C': 0.1, 'penalty': 'l2'}\n",
            "Best Score      :  0.7946566791510612\n"
          ],
          "name": "stdout"
        }
      ]
    },
    {
      "cell_type": "code",
      "metadata": {
        "colab": {
          "base_uri": "https://localhost:8080/",
          "height": 663
        },
        "id": "p1ZySFX42zIR",
        "outputId": "f622ecfa-a612-49b8-9a14-708394775643"
      },
      "source": [
        "import pandas as pd\n",
        "\n",
        "results = grid_cv.cv_results_\n",
        "\n",
        "df = pd.DataFrame(results)\n",
        "display(df.head().iloc[:,:6])\n",
        "df.info()"
      ],
      "execution_count": null,
      "outputs": [
        {
          "output_type": "display_data",
          "data": {
            "text/html": [
              "<div>\n",
              "<style scoped>\n",
              "    .dataframe tbody tr th:only-of-type {\n",
              "        vertical-align: middle;\n",
              "    }\n",
              "\n",
              "    .dataframe tbody tr th {\n",
              "        vertical-align: top;\n",
              "    }\n",
              "\n",
              "    .dataframe thead th {\n",
              "        text-align: right;\n",
              "    }\n",
              "</style>\n",
              "<table border=\"1\" class=\"dataframe\">\n",
              "  <thead>\n",
              "    <tr style=\"text-align: right;\">\n",
              "      <th></th>\n",
              "      <th>mean_fit_time</th>\n",
              "      <th>std_fit_time</th>\n",
              "      <th>mean_score_time</th>\n",
              "      <th>std_score_time</th>\n",
              "      <th>param_C</th>\n",
              "      <th>param_penalty</th>\n",
              "    </tr>\n",
              "  </thead>\n",
              "  <tbody>\n",
              "    <tr>\n",
              "      <th>0</th>\n",
              "      <td>0.001711</td>\n",
              "      <td>0.000786</td>\n",
              "      <td>0.000000</td>\n",
              "      <td>0.000000</td>\n",
              "      <td>1e-05</td>\n",
              "      <td>l1</td>\n",
              "    </tr>\n",
              "    <tr>\n",
              "      <th>1</th>\n",
              "      <td>0.009484</td>\n",
              "      <td>0.002040</td>\n",
              "      <td>0.001401</td>\n",
              "      <td>0.000235</td>\n",
              "      <td>1e-05</td>\n",
              "      <td>l2</td>\n",
              "    </tr>\n",
              "    <tr>\n",
              "      <th>2</th>\n",
              "      <td>0.000878</td>\n",
              "      <td>0.000141</td>\n",
              "      <td>0.000000</td>\n",
              "      <td>0.000000</td>\n",
              "      <td>0.0001</td>\n",
              "      <td>l1</td>\n",
              "    </tr>\n",
              "    <tr>\n",
              "      <th>3</th>\n",
              "      <td>0.013382</td>\n",
              "      <td>0.005797</td>\n",
              "      <td>0.001528</td>\n",
              "      <td>0.000396</td>\n",
              "      <td>0.0001</td>\n",
              "      <td>l2</td>\n",
              "    </tr>\n",
              "    <tr>\n",
              "      <th>4</th>\n",
              "      <td>0.000914</td>\n",
              "      <td>0.000155</td>\n",
              "      <td>0.000000</td>\n",
              "      <td>0.000000</td>\n",
              "      <td>0.001</td>\n",
              "      <td>l1</td>\n",
              "    </tr>\n",
              "  </tbody>\n",
              "</table>\n",
              "</div>"
            ],
            "text/plain": [
              "   mean_fit_time  std_fit_time  ...  param_C  param_penalty\n",
              "0       0.001711      0.000786  ...    1e-05             l1\n",
              "1       0.009484      0.002040  ...    1e-05             l2\n",
              "2       0.000878      0.000141  ...   0.0001             l1\n",
              "3       0.013382      0.005797  ...   0.0001             l2\n",
              "4       0.000914      0.000155  ...    0.001             l1\n",
              "\n",
              "[5 rows x 6 columns]"
            ]
          },
          "metadata": {
            "tags": []
          }
        },
        {
          "output_type": "stream",
          "text": [
            "<class 'pandas.core.frame.DataFrame'>\n",
            "RangeIndex: 20 entries, 0 to 19\n",
            "Data columns (total 20 columns):\n",
            " #   Column             Non-Null Count  Dtype  \n",
            "---  ------             --------------  -----  \n",
            " 0   mean_fit_time      20 non-null     float64\n",
            " 1   std_fit_time       20 non-null     float64\n",
            " 2   mean_score_time    20 non-null     float64\n",
            " 3   std_score_time     20 non-null     float64\n",
            " 4   param_C            20 non-null     object \n",
            " 5   param_penalty      20 non-null     object \n",
            " 6   params             20 non-null     object \n",
            " 7   split0_test_score  10 non-null     float64\n",
            " 8   split1_test_score  10 non-null     float64\n",
            " 9   split2_test_score  10 non-null     float64\n",
            " 10  split3_test_score  10 non-null     float64\n",
            " 11  split4_test_score  10 non-null     float64\n",
            " 12  split5_test_score  10 non-null     float64\n",
            " 13  split6_test_score  10 non-null     float64\n",
            " 14  split7_test_score  10 non-null     float64\n",
            " 15  split8_test_score  10 non-null     float64\n",
            " 16  split9_test_score  10 non-null     float64\n",
            " 17  mean_test_score    10 non-null     float64\n",
            " 18  std_test_score     10 non-null     float64\n",
            " 19  rank_test_score    20 non-null     int32  \n",
            "dtypes: float64(16), int32(1), object(3)\n",
            "memory usage: 3.2+ KB\n"
          ],
          "name": "stdout"
        }
      ]
    },
    {
      "cell_type": "code",
      "metadata": {
        "colab": {
          "base_uri": "https://localhost:8080/",
          "height": 204
        },
        "id": "wBtWWpxQ24Wx",
        "outputId": "9a825a41-0698-4aaf-f1a8-bea9bfc8d17b"
      },
      "source": [
        "df = df[['param_penalty','param_C', 'mean_test_score']]\n",
        "df = df.sort_values(by='mean_test_score', ascending = False)\n",
        "df.head()"
      ],
      "execution_count": null,
      "outputs": [
        {
          "output_type": "execute_result",
          "data": {
            "text/html": [
              "<div>\n",
              "<style scoped>\n",
              "    .dataframe tbody tr th:only-of-type {\n",
              "        vertical-align: middle;\n",
              "    }\n",
              "\n",
              "    .dataframe tbody tr th {\n",
              "        vertical-align: top;\n",
              "    }\n",
              "\n",
              "    .dataframe thead th {\n",
              "        text-align: right;\n",
              "    }\n",
              "</style>\n",
              "<table border=\"1\" class=\"dataframe\">\n",
              "  <thead>\n",
              "    <tr style=\"text-align: right;\">\n",
              "      <th></th>\n",
              "      <th>param_penalty</th>\n",
              "      <th>param_C</th>\n",
              "      <th>mean_test_score</th>\n",
              "    </tr>\n",
              "  </thead>\n",
              "  <tbody>\n",
              "    <tr>\n",
              "      <th>9</th>\n",
              "      <td>l2</td>\n",
              "      <td>0.1</td>\n",
              "      <td>0.794657</td>\n",
              "    </tr>\n",
              "    <tr>\n",
              "      <th>11</th>\n",
              "      <td>l2</td>\n",
              "      <td>1</td>\n",
              "      <td>0.792385</td>\n",
              "    </tr>\n",
              "    <tr>\n",
              "      <th>13</th>\n",
              "      <td>l2</td>\n",
              "      <td>10</td>\n",
              "      <td>0.792372</td>\n",
              "    </tr>\n",
              "    <tr>\n",
              "      <th>15</th>\n",
              "      <td>l2</td>\n",
              "      <td>100</td>\n",
              "      <td>0.792372</td>\n",
              "    </tr>\n",
              "    <tr>\n",
              "      <th>17</th>\n",
              "      <td>l2</td>\n",
              "      <td>1000</td>\n",
              "      <td>0.791248</td>\n",
              "    </tr>\n",
              "  </tbody>\n",
              "</table>\n",
              "</div>"
            ],
            "text/plain": [
              "   param_penalty param_C  mean_test_score\n",
              "9             l2     0.1         0.794657\n",
              "11            l2       1         0.792385\n",
              "13            l2      10         0.792372\n",
              "15            l2     100         0.792372\n",
              "17            l2    1000         0.791248"
            ]
          },
          "metadata": {
            "tags": []
          },
          "execution_count": 29
        }
      ]
    },
    {
      "cell_type": "code",
      "metadata": {
        "id": "F57H4Fwl26cB"
      },
      "source": [
        ""
      ],
      "execution_count": null,
      "outputs": []
    },
    {
      "cell_type": "markdown",
      "metadata": {
        "id": "vkNmIU9T3ULS"
      },
      "source": [
        "## 2.2. Random Search"
      ]
    },
    {
      "cell_type": "code",
      "metadata": {
        "id": "kDO65drR3WBD"
      },
      "source": [
        "parameters = {\"C\": [10 ** x for x in range (-5, 5, 1)],\n",
        "              \"penalty\": ['l1', 'l2']\n",
        "             }\n"
      ],
      "execution_count": null,
      "outputs": []
    },
    {
      "cell_type": "code",
      "metadata": {
        "colab": {
          "base_uri": "https://localhost:8080/"
        },
        "id": "VckOB1lP3XJx",
        "outputId": "ed878684-7488-4929-d6a2-49dc26ac04ce"
      },
      "source": [
        "from sklearn.model_selection import RandomizedSearchCV\n",
        "\n",
        "rs_cv = RandomizedSearchCV(estimator=log_reg,\n",
        "                           param_distributions = parameters,\n",
        "                           cv = 10,\n",
        "                           n_iter = 10,\n",
        "                           random_state = 111,\n",
        "                           scoring = 'precision'\n",
        "                      )\n",
        "\n",
        "rs_cv.fit(X, y)"
      ],
      "execution_count": null,
      "outputs": [
        {
          "output_type": "execute_result",
          "data": {
            "text/plain": [
              "RandomizedSearchCV(cv=10, error_score=nan,\n",
              "                   estimator=LogisticRegression(C=1.0, class_weight=None,\n",
              "                                                dual=False, fit_intercept=True,\n",
              "                                                intercept_scaling=1,\n",
              "                                                l1_ratio=None, max_iter=100,\n",
              "                                                multi_class='auto', n_jobs=None,\n",
              "                                                penalty='l2', random_state=None,\n",
              "                                                solver='lbfgs', tol=0.0001,\n",
              "                                                verbose=0, warm_start=False),\n",
              "                   iid='deprecated', n_iter=10, n_jobs=None,\n",
              "                   param_distributions={'C': [1e-05, 0.0001, 0.001, 0.01, 0.1,\n",
              "                                              1, 10, 100, 1000, 10000],\n",
              "                                        'penalty': ['l1', 'l2']},\n",
              "                   pre_dispatch='2*n_jobs', random_state=111, refit=True,\n",
              "                   return_train_score=False, scoring='precision', verbose=0)"
            ]
          },
          "metadata": {
            "tags": []
          },
          "execution_count": 31
        }
      ]
    },
    {
      "cell_type": "code",
      "metadata": {
        "colab": {
          "base_uri": "https://localhost:8080/"
        },
        "id": "1UpzdTyV3YQp",
        "outputId": "38321e4a-469e-48c6-d0de-961e59a39cba"
      },
      "source": [
        "print(\"Best parameters      : \", rs_cv.best_params_, \"\\n\")\n",
        "print(\"Best precision value : \", rs_cv.best_score_)"
      ],
      "execution_count": null,
      "outputs": [
        {
          "output_type": "stream",
          "text": [
            "Best parameters      :  {'penalty': 'l2', 'C': 0.001} \n",
            "\n",
            "Best precision value :  0.7565770486823118\n"
          ],
          "name": "stdout"
        }
      ]
    },
    {
      "cell_type": "code",
      "metadata": {
        "colab": {
          "base_uri": "https://localhost:8080/",
          "height": 204
        },
        "id": "0BXWW2CQ3Z_B",
        "outputId": "c3f85f6d-8ebd-44c8-c2ed-a38c7f8a5c67"
      },
      "source": [
        "results_rs = rs_cv.cv_results_\n",
        "\n",
        "df_rs = pd.DataFrame(results_rs)\n",
        "df_rs = df_rs[['param_penalty','param_C', 'mean_test_score']]\n",
        "df_rs = df_rs.sort_values(by='mean_test_score', ascending = False)\n",
        "\n",
        "df_rs.head()"
      ],
      "execution_count": null,
      "outputs": [
        {
          "output_type": "execute_result",
          "data": {
            "text/html": [
              "<div>\n",
              "<style scoped>\n",
              "    .dataframe tbody tr th:only-of-type {\n",
              "        vertical-align: middle;\n",
              "    }\n",
              "\n",
              "    .dataframe tbody tr th {\n",
              "        vertical-align: top;\n",
              "    }\n",
              "\n",
              "    .dataframe thead th {\n",
              "        text-align: right;\n",
              "    }\n",
              "</style>\n",
              "<table border=\"1\" class=\"dataframe\">\n",
              "  <thead>\n",
              "    <tr style=\"text-align: right;\">\n",
              "      <th></th>\n",
              "      <th>param_penalty</th>\n",
              "      <th>param_C</th>\n",
              "      <th>mean_test_score</th>\n",
              "    </tr>\n",
              "  </thead>\n",
              "  <tbody>\n",
              "    <tr>\n",
              "      <th>1</th>\n",
              "      <td>l2</td>\n",
              "      <td>0.001</td>\n",
              "      <td>0.756577</td>\n",
              "    </tr>\n",
              "    <tr>\n",
              "      <th>3</th>\n",
              "      <td>l2</td>\n",
              "      <td>1</td>\n",
              "      <td>0.746696</td>\n",
              "    </tr>\n",
              "    <tr>\n",
              "      <th>2</th>\n",
              "      <td>l2</td>\n",
              "      <td>10</td>\n",
              "      <td>0.742952</td>\n",
              "    </tr>\n",
              "    <tr>\n",
              "      <th>5</th>\n",
              "      <td>l2</td>\n",
              "      <td>1000</td>\n",
              "      <td>0.741509</td>\n",
              "    </tr>\n",
              "    <tr>\n",
              "      <th>0</th>\n",
              "      <td>l2</td>\n",
              "      <td>0.0001</td>\n",
              "      <td>0.658892</td>\n",
              "    </tr>\n",
              "  </tbody>\n",
              "</table>\n",
              "</div>"
            ],
            "text/plain": [
              "  param_penalty param_C  mean_test_score\n",
              "1            l2   0.001         0.756577\n",
              "3            l2       1         0.746696\n",
              "2            l2      10         0.742952\n",
              "5            l2    1000         0.741509\n",
              "0            l2  0.0001         0.658892"
            ]
          },
          "metadata": {
            "tags": []
          },
          "execution_count": 33
        }
      ]
    },
    {
      "cell_type": "code",
      "metadata": {
        "id": "N8t0xE9X3beB"
      },
      "source": [
        ""
      ],
      "execution_count": null,
      "outputs": []
    }
  ]
}